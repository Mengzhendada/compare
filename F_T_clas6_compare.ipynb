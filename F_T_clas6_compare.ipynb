{
 "cells": [
  {
   "cell_type": "code",
   "execution_count": 23,
   "id": "66ecd289",
   "metadata": {},
   "outputs": [],
   "source": [
    "import pandas as pd\n",
    "import numpy as np\n",
    "import matplotlib.pyplot as plt\n",
    "import math"
   ]
  },
  {
   "cell_type": "code",
   "execution_count": 24,
   "id": "e0c28915",
   "metadata": {},
   "outputs": [
    {
     "data": {
      "text/html": [
       "<div>\n",
       "<style scoped>\n",
       "    .dataframe tbody tr th:only-of-type {\n",
       "        vertical-align: middle;\n",
       "    }\n",
       "\n",
       "    .dataframe tbody tr th {\n",
       "        vertical-align: top;\n",
       "    }\n",
       "\n",
       "    .dataframe thead th {\n",
       "        text-align: right;\n",
       "    }\n",
       "</style>\n",
       "<table border=\"1\" class=\"dataframe\">\n",
       "  <thead>\n",
       "    <tr style=\"text-align: right;\">\n",
       "      <th></th>\n",
       "      <th>rc_type</th>\n",
       "      <th>xs_type</th>\n",
       "      <th>rs</th>\n",
       "      <th>x</th>\n",
       "      <th>z</th>\n",
       "      <th>Q</th>\n",
       "      <th>qT_Q</th>\n",
       "      <th>xs</th>\n",
       "      <th>xs_err</th>\n",
       "    </tr>\n",
       "  </thead>\n",
       "  <tbody>\n",
       "    <tr>\n",
       "      <th>0</th>\n",
       "      <td>rc</td>\n",
       "      <td>unpol</td>\n",
       "      <td>3.25</td>\n",
       "      <td>0.3025</td>\n",
       "      <td>0.2</td>\n",
       "      <td>1.54</td>\n",
       "      <td>1.510700</td>\n",
       "      <td>0.000954</td>\n",
       "      <td>3.238968e-08</td>\n",
       "    </tr>\n",
       "    <tr>\n",
       "      <th>1</th>\n",
       "      <td>rc</td>\n",
       "      <td>unpol</td>\n",
       "      <td>3.25</td>\n",
       "      <td>0.3025</td>\n",
       "      <td>0.2</td>\n",
       "      <td>1.54</td>\n",
       "      <td>1.007133</td>\n",
       "      <td>0.002129</td>\n",
       "      <td>9.053538e-08</td>\n",
       "    </tr>\n",
       "    <tr>\n",
       "      <th>2</th>\n",
       "      <td>rc</td>\n",
       "      <td>unpol</td>\n",
       "      <td>3.25</td>\n",
       "      <td>0.3025</td>\n",
       "      <td>0.2</td>\n",
       "      <td>1.54</td>\n",
       "      <td>0.755350</td>\n",
       "      <td>0.002821</td>\n",
       "      <td>8.728114e-08</td>\n",
       "    </tr>\n",
       "    <tr>\n",
       "      <th>3</th>\n",
       "      <td>rc</td>\n",
       "      <td>unpol</td>\n",
       "      <td>3.25</td>\n",
       "      <td>0.3025</td>\n",
       "      <td>0.2</td>\n",
       "      <td>1.54</td>\n",
       "      <td>0.604280</td>\n",
       "      <td>0.003213</td>\n",
       "      <td>7.246642e-08</td>\n",
       "    </tr>\n",
       "    <tr>\n",
       "      <th>4</th>\n",
       "      <td>rc</td>\n",
       "      <td>unpol</td>\n",
       "      <td>3.25</td>\n",
       "      <td>0.3025</td>\n",
       "      <td>0.2</td>\n",
       "      <td>1.54</td>\n",
       "      <td>0.503567</td>\n",
       "      <td>0.003450</td>\n",
       "      <td>6.090756e-08</td>\n",
       "    </tr>\n",
       "  </tbody>\n",
       "</table>\n",
       "</div>"
      ],
      "text/plain": [
       "  rc_type xs_type    rs       x    z     Q      qT_Q        xs        xs_err\n",
       "0      rc   unpol  3.25  0.3025  0.2  1.54  1.510700  0.000954  3.238968e-08\n",
       "1      rc   unpol  3.25  0.3025  0.2  1.54  1.007133  0.002129  9.053538e-08\n",
       "2      rc   unpol  3.25  0.3025  0.2  1.54  0.755350  0.002821  8.728114e-08\n",
       "3      rc   unpol  3.25  0.3025  0.2  1.54  0.604280  0.003213  7.246642e-08\n",
       "4      rc   unpol  3.25  0.3025  0.2  1.54  0.503567  0.003450  6.090756e-08"
      ]
     },
     "execution_count": 24,
     "metadata": {},
     "output_type": "execute_result"
    }
   ],
   "source": [
    "df_factorized = pd.read_csv('clas6/CLAS6_factorized.txt')\n",
    "df_factorized.head()"
   ]
  },
  {
   "cell_type": "code",
   "execution_count": 25,
   "id": "bcf58e72",
   "metadata": {},
   "outputs": [
    {
     "name": "stdout",
     "output_type": "stream",
     "text": [
      "0.2 1.5107 born 36    0.000994\n",
      "Name: xs, dtype: float64 rc 0    0.000954\n",
      "Name: xs, dtype: float64\n",
      "0.3 1.007133 born 43    0.000567\n",
      "Name: xs, dtype: float64 rc 7    0.000533\n",
      "Name: xs, dtype: float64\n",
      "0.4 0.75535 born 50    0.000328\n",
      "Name: xs, dtype: float64 rc 14    0.000304\n",
      "Name: xs, dtype: float64\n",
      "0.5 0.60428 born 57    0.000193\n",
      "Name: xs, dtype: float64 rc 21    0.000176\n",
      "Name: xs, dtype: float64\n",
      "0.6 0.503567 born 64    0.000115\n",
      "Name: xs, dtype: float64 rc 28    0.000103\n",
      "Name: xs, dtype: float64\n",
      "0.7 0.431629 born 71    0.000067\n",
      "Name: xs, dtype: float64 rc 35    0.000058\n",
      "Name: xs, dtype: float64\n"
     ]
    },
    {
     "name": "stderr",
     "output_type": "stream",
     "text": [
      "/var/folders/ll/8_2_l77j4yl2zjb6stl8d9b00000gn/T/ipykernel_81932/1186678803.py:7: UserWarning: Boolean Series key will be reindexed to match DataFrame index.\n",
      "  xs_born_factorized =  df_factorized[df_factorized['rc_type']=='born'][df_factorized['Q']==1.540000][df_factorized['z']==i_z][df_factorized['x']==0.302500][df_factorized['qT_Q']==qT_Q]['xs']\n",
      "/var/folders/ll/8_2_l77j4yl2zjb6stl8d9b00000gn/T/ipykernel_81932/1186678803.py:8: UserWarning: Boolean Series key will be reindexed to match DataFrame index.\n",
      "  xs_rc_factorized =  df_factorized[df_factorized['rc_type']=='rc'][df_factorized['Q']==1.540000][df_factorized['z']==i_z][df_factorized['x']==0.302500][df_factorized['qT_Q']==qT_Q]['xs']\n"
     ]
    },
    {
     "data": {
      "text/plain": [
       "Text(0.5, 0, 'z')"
      ]
     },
     "execution_count": 25,
     "metadata": {},
     "output_type": "execute_result"
    },
    {
     "data": {
      "image/png": "[encoded data removed]",
      "text/plain": [
       "<Figure size 432x288 with 1 Axes>"
      ]
     },
     "metadata": {
      "needs_background": "light"
     },
     "output_type": "display_data"
    }
   ],
   "source": [
    "zs_factorized = df_factorized[df_factorized['Q']==1.540000][df_factorized['x']==0.302500]['z'].unique()\n",
    "xs_born_factorizeds =[]\n",
    "xs_rc_factorizeds=[]\n",
    "for i_z in zs_factorized:\n",
    "    qT_Q = round(0.30214/i_z,6)\n",
    "    \n",
    "    xs_born_factorized =  df_factorized[df_factorized['rc_type']=='born'][df_factorized['Q']==1.540000][df_factorized['z']==i_z][df_factorized['x']==0.302500][df_factorized['qT_Q']==qT_Q]['xs']\n",
    "    xs_rc_factorized =  df_factorized[df_factorized['rc_type']=='rc'][df_factorized['Q']==1.540000][df_factorized['z']==i_z][df_factorized['x']==0.302500][df_factorized['qT_Q']==qT_Q]['xs']\n",
    "    print(i_z,qT_Q,'born',xs_born_factorized,'rc',xs_rc_factorized)\n",
    "    xs_born_factorizeds.append(xs_born_factorized)\n",
    "    xs_rc_factorizeds.append(xs_rc_factorized)\n",
    "plt.plot(zs_factorized,xs_born_factorizeds,'-',label='Born xs Factorized')\n",
    "plt.plot(zs_factorized,xs_rc_factorizeds,'-',label='RC xs Factorized')\n",
    "plt.legend()\n",
    "plt.xlabel('z',fontsize=20)"
   ]
  },
  {
   "cell_type": "code",
   "execution_count": 26,
   "id": "efb39947",
   "metadata": {},
   "outputs": [
    {
     "data": {
      "text/html": [
       "<div>\n",
       "<style scoped>\n",
       "    .dataframe tbody tr th:only-of-type {\n",
       "        vertical-align: middle;\n",
       "    }\n",
       "\n",
       "    .dataframe tbody tr th {\n",
       "        vertical-align: top;\n",
       "    }\n",
       "\n",
       "    .dataframe thead th {\n",
       "        text-align: right;\n",
       "    }\n",
       "</style>\n",
       "<table border=\"1\" class=\"dataframe\">\n",
       "  <thead>\n",
       "    <tr style=\"text-align: right;\">\n",
       "      <th></th>\n",
       "      <th>z</th>\n",
       "      <th>yield</th>\n",
       "    </tr>\n",
       "  </thead>\n",
       "  <tbody>\n",
       "    <tr>\n",
       "      <th>0</th>\n",
       "      <td>0.005</td>\n",
       "      <td>0.0</td>\n",
       "    </tr>\n",
       "    <tr>\n",
       "      <th>1</th>\n",
       "      <td>0.015</td>\n",
       "      <td>0.0</td>\n",
       "    </tr>\n",
       "    <tr>\n",
       "      <th>2</th>\n",
       "      <td>0.025</td>\n",
       "      <td>0.0</td>\n",
       "    </tr>\n",
       "    <tr>\n",
       "      <th>3</th>\n",
       "      <td>0.035</td>\n",
       "      <td>0.0</td>\n",
       "    </tr>\n",
       "    <tr>\n",
       "      <th>4</th>\n",
       "      <td>0.045</td>\n",
       "      <td>0.0</td>\n",
       "    </tr>\n",
       "  </tbody>\n",
       "</table>\n",
       "</div>"
      ],
      "text/plain": [
       "       z  yield\n",
       "0  0.005    0.0\n",
       "1  0.015    0.0\n",
       "2  0.025    0.0\n",
       "3  0.035    0.0\n",
       "4  0.045    0.0"
      ]
     },
     "execution_count": 26,
     "metadata": {},
     "output_type": "execute_result"
    }
   ],
   "source": [
    "df_traditional = pd.read_csv('clas6/out_clas6_born.txt',delim_whitespace=True,skiprows=[0])\n",
    "df_traditional.head()\n",
    "\n"
   ]
  },
  {
   "cell_type": "code",
   "execution_count": 27,
   "id": "673c86e8",
   "metadata": {
    "scrolled": true
   },
   "outputs": [
    {
     "data": {
      "text/html": [
       "<div>\n",
       "<style scoped>\n",
       "    .dataframe tbody tr th:only-of-type {\n",
       "        vertical-align: middle;\n",
       "    }\n",
       "\n",
       "    .dataframe tbody tr th {\n",
       "        vertical-align: top;\n",
       "    }\n",
       "\n",
       "    .dataframe thead th {\n",
       "        text-align: right;\n",
       "    }\n",
       "</style>\n",
       "<table border=\"1\" class=\"dataframe\">\n",
       "  <thead>\n",
       "    <tr style=\"text-align: right;\">\n",
       "      <th></th>\n",
       "      <th>z</th>\n",
       "      <th>yield</th>\n",
       "    </tr>\n",
       "  </thead>\n",
       "  <tbody>\n",
       "    <tr>\n",
       "      <th>0</th>\n",
       "      <td>0.005</td>\n",
       "      <td>0.0</td>\n",
       "    </tr>\n",
       "    <tr>\n",
       "      <th>1</th>\n",
       "      <td>0.015</td>\n",
       "      <td>0.0</td>\n",
       "    </tr>\n",
       "    <tr>\n",
       "      <th>2</th>\n",
       "      <td>0.025</td>\n",
       "      <td>0.0</td>\n",
       "    </tr>\n",
       "    <tr>\n",
       "      <th>3</th>\n",
       "      <td>0.035</td>\n",
       "      <td>0.0</td>\n",
       "    </tr>\n",
       "    <tr>\n",
       "      <th>4</th>\n",
       "      <td>0.045</td>\n",
       "      <td>0.0</td>\n",
       "    </tr>\n",
       "  </tbody>\n",
       "</table>\n",
       "</div>"
      ],
      "text/plain": [
       "       z  yield\n",
       "0  0.005    0.0\n",
       "1  0.015    0.0\n",
       "2  0.025    0.0\n",
       "3  0.035    0.0\n",
       "4  0.045    0.0"
      ]
     },
     "execution_count": 27,
     "metadata": {},
     "output_type": "execute_result"
    }
   ],
   "source": [
    "df_traditional_rc = pd.read_csv('clas6/out_clas6_rc.txt',delim_whitespace=True,skiprows=[0])\n",
    "df_traditional_rc.head()"
   ]
  },
  {
   "cell_type": "code",
   "execution_count": 28,
   "id": "44b2926b",
   "metadata": {},
   "outputs": [
    {
     "name": "stdout",
     "output_type": "stream",
     "text": [
      "1.2397168327094004\n"
     ]
    },
    {
     "data": {
      "image/png": "[encoded data removed]",
      "text/plain": [
       "<Figure size 432x288 with 1 Axes>"
      ]
     },
     "metadata": {
      "needs_background": "light"
     },
     "output_type": "display_data"
    }
   ],
   "source": [
    "\n",
    "Factor_born_z = 1000/(2.56819*(2.66-2.23)*(0.32-0.28)*(0.2809-0.1681)*(-2.44+3.141592)*(0.4-0.36))\n",
    "Factor_rc_z = Factor_born_z\n",
    "#Factor = 5.1782e10/(2099*2*3.14)\n",
    "#Factor = 1/5.1782e10\n",
    "zs_traditional = df_traditional['z']\n",
    "xs_born_traditional =  df_traditional['yield']\n",
    "\n",
    "zs_rc_traditional = df_traditional_rc['z']\n",
    "xs_rc_traditional =  df_traditional_rc['yield']\n",
    "\n",
    "plt.plot(zs_traditional,np.asarray(xs_born_traditional)*Factor_born_z,'-',label='Born xs traditional')\n",
    "plt.plot(zs_rc_traditional,np.asarray(xs_rc_traditional)*Factor_rc_z,'-',label='RC xs traditional')\n",
    "plt.legend()\n",
    "plt.xlabel('z',fontsize=20)\n",
    "print(df_traditional_rc['yield'].sum()*Factor_rc_z)\n",
    "\n",
    "#plt.plot(zs_factorized,xs_born_factorized,'-',label='Born xs Factorized')\n",
    "#plt.plot(zs_factorized,xs_rc_factorized,'-',label='RC xs Factorized')\n",
    "\n",
    "\n"
   ]
  },
  {
   "cell_type": "code",
   "execution_count": 35,
   "id": "70bc5d24",
   "metadata": {},
   "outputs": [
    {
     "data": {
      "text/plain": [
       "Text(0.5, 0, 'z')"
      ]
     },
     "execution_count": 35,
     "metadata": {},
     "output_type": "execute_result"
    },
    {
     "data": {
      "image/png": "[encoded data removed]",
      "text/plain": [
       "<Figure size 432x288 with 1 Axes>"
      ]
     },
     "metadata": {
      "needs_background": "light"
     },
     "output_type": "display_data"
    }
   ],
   "source": [
    "plt.plot(zs_traditional,np.asarray(xs_born_traditional)*Factor_born_z,'-',label='Born xs traditional')\n",
    "plt.plot(zs_factorized,((1000)/(2.56819*18))*np.asarray(xs_born_factorizeds),'-',label='Born xs Factorized')\n",
    "\n",
    "#plt.xlim(0.3,0.7)\n",
    "#plt.ylim(0,0.001)\n",
    "plt.legend()\n",
    "plt.xlabel('z',fontsize=20)"
   ]
  },
  {
   "cell_type": "code",
   "execution_count": null,
   "id": "8120f215",
   "metadata": {},
   "outputs": [],
   "source": [
    "z = np.linspace(0.1,0.7,7)\n",
    "print(z)\n",
    "qT_Q = 0.30214/z\n",
    "print(qT_Q)"
   ]
  },
  {
   "cell_type": "code",
   "execution_count": 94,
   "id": "d2bc2597",
   "metadata": {},
   "outputs": [
    {
     "name": "stdout",
     "output_type": "stream",
     "text": [
      "[0.   0.04 0.08 0.12 0.16 0.2  0.24 0.28 0.32 0.36 0.4  0.44 0.48 0.52\n",
      " 0.56 0.6  0.64 0.68 0.72 0.76 0.8  0.84 0.88 0.92 0.96 1.  ]\n"
     ]
    }
   ],
   "source": [
    "x = np.linspace(0,1,26)\n",
    "print(x)"
   ]
  },
  {
   "cell_type": "code",
   "execution_count": 100,
   "id": "ea27a472",
   "metadata": {},
   "outputs": [
    {
     "name": "stdout",
     "output_type": "stream",
     "text": [
      "[0.1468 0.1753 0.2051 0.2362 0.2686 0.3025 0.3379 0.3748 0.4134 0.4537\n",
      " 0.4958 0.5397 0.5855 0.6334 0.6834 0.7355 0.79   0.8469 0.9063]\n",
      "19\n"
     ]
    }
   ],
   "source": [
    "clas6_data = pd.read_csv('clas6/CLAS6.txt', delim_whitespace=True)\n",
    "print(clas6_data['x'].unique())\n",
    "print(len(clas6_data['x'].unique()))\n",
    "\n"
   ]
  },
  {
   "cell_type": "code",
   "execution_count": 104,
   "id": "2e39a1dc",
   "metadata": {
    "scrolled": false
   },
   "outputs": [
    {
     "name": "stdout",
     "output_type": "stream",
     "text": [
      "0.1468  diff  0.1468\n",
      "0.1753  diff  0.0285\n",
      "0.2051  diff  0.0298\n",
      "0.2362  diff  0.0311\n",
      "0.2686  diff  0.0324\n",
      "0.3025  diff  0.0339\n",
      "0.3379  diff  0.0354\n",
      "0.3748  diff  0.0369\n",
      "0.4134  diff  0.0386\n",
      "0.4537  diff  0.0403\n",
      "0.4958  diff  0.0421\n",
      "0.5397  diff  0.0439\n",
      "0.5855  diff  0.0458\n",
      "0.6334  diff  0.0479\n",
      "0.6834  diff  0.05\n",
      "0.7355  diff  0.0521\n",
      "0.79  diff  0.0545\n",
      "0.8469  diff  0.0569\n",
      "0.9063  diff  0.0594\n"
     ]
    }
   ],
   "source": [
    "xs = clas6_data['x'].unique()\n",
    "x_old = 0\n",
    "for i_x in xs:\n",
    "    print(i_x,' diff ',round(i_x-x_old,5))\n",
    "    x_old=i_x"
   ]
  },
  {
   "cell_type": "code",
   "execution_count": 103,
   "id": "c8c24097",
   "metadata": {
    "scrolled": true
   },
   "outputs": [
    {
     "name": "stdout",
     "output_type": "stream",
     "text": [
      "0.0682  diff  0.0682\n",
      "0.0933  diff  0.025099999999999997\n",
      "0.1194  diff  0.026100000000000012\n",
      "0.1468  diff  0.027400000000000008\n",
      "0.1753  diff  0.028499999999999998\n",
      "0.2051  diff  0.029799999999999993\n",
      "0.2362  diff  0.03109999999999999\n",
      "0.2686  diff  0.03240000000000001\n",
      "0.3025  diff  0.033899999999999986\n",
      "0.3379  diff  0.03539999999999999\n",
      "0.3748  diff  0.036900000000000044\n",
      "0.4134  diff  0.03859999999999997\n",
      "0.4537  diff  0.0403\n",
      "0.4958  diff  0.042100000000000026\n",
      "0.5397  diff  0.04389999999999994\n",
      "0.5855  diff  0.04580000000000006\n",
      "0.6334  diff  0.04789999999999994\n",
      "0.6834  diff  0.050000000000000044\n",
      "0.7355  diff  0.052100000000000035\n",
      "0.79  diff  0.05449999999999999\n",
      "0.8469  diff  0.05689999999999995\n",
      "0.9063  diff  0.05940000000000001\n"
     ]
    }
   ],
   "source": [
    "xs = clas6_data['z'].unique()\n",
    "x_old = 0\n",
    "for i_x in xs:\n",
    "    print(i_x,' diff ',i_x-x_old)\n",
    "    x_old=i_x"
   ]
  },
  {
   "cell_type": "code",
   "execution_count": 105,
   "id": "35d3b734",
   "metadata": {},
   "outputs": [
    {
     "name": "stdout",
     "output_type": "stream",
     "text": [
      "[0.0682 0.0933 0.1194 0.1468 0.1753 0.2051 0.2362 0.2686 0.3025 0.3379\n",
      " 0.3748 0.4134 0.4537 0.4958 0.5397 0.5855 0.6334 0.6834 0.7355 0.79\n",
      " 0.8469 0.9063]\n"
     ]
    }
   ],
   "source": [
    "xs = clas6_data['z'].unique()\n",
    "print(xs)"
   ]
  },
  {
   "cell_type": "code",
   "execution_count": 110,
   "id": "2cf47ad2",
   "metadata": {},
   "outputs": [
    {
     "data": {
      "text/plain": [
       "[<matplotlib.lines.Line2D at 0x1483c8460>]"
      ]
     },
     "execution_count": 110,
     "metadata": {},
     "output_type": "execute_result"
    },
    {
     "data": {
      "image/png": "[encoded data removed]",
      "text/plain": [
       "<Figure size 432x288 with 1 Axes>"
      ]
     },
     "metadata": {
      "needs_background": "light"
     },
     "output_type": "display_data"
    }
   ],
   "source": [
    "clas6_data['z'].unique()\n",
    "z_axis = np.linspace(0,10,22)\n",
    "plt.plot(z_axis,(clas6_data['z'].unique()))"
   ]
  },
  {
   "cell_type": "code",
   "execution_count": 69,
   "id": "67a34a89",
   "metadata": {},
   "outputs": [
    {
     "data": {
      "text/plain": [
       "array([0.0049, 0.0259, 0.0655, 0.129 , 0.2165, 0.3402, 0.5074, 0.7427,\n",
       "       1.0741, 1.554 ])"
      ]
     },
     "execution_count": 69,
     "metadata": {},
     "output_type": "execute_result"
    }
   ],
   "source": [
    "clas6_data['pT2'].unique()"
   ]
  },
  {
   "cell_type": "code",
   "execution_count": null,
   "id": "7da765de",
   "metadata": {},
   "outputs": [],
   "source": []
  },
  {
   "cell_type": "code",
   "execution_count": null,
   "id": "c44b6ee0",
   "metadata": {},
   "outputs": [],
   "source": []
  }
 ],
 "metadata": {
  "kernelspec": {
   "display_name": "Python 3 (ipykernel)",
   "language": "python",
   "name": "python3"
  },
  "language_info": {
   "codemirror_mode": {
    "name": "ipython",
    "version": 3
   },
   "file_extension": ".py",
   "mimetype": "text/x-python",
   "name": "python",
   "nbconvert_exporter": "python",
   "pygments_lexer": "ipython3",
   "version": "3.9.6"
  }
 },
 "nbformat": 4,
 "nbformat_minor": 5
}
