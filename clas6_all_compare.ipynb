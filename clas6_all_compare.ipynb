{
 "cells": [
  {
   "cell_type": "code",
   "execution_count": 1,
   "id": "0593603b",
   "metadata": {},
   "outputs": [],
   "source": [
    "import pandas as pd\n",
    "import numpy as np\n",
    "import matplotlib.pyplot as plt\n",
    "import math"
   ]
  },
  {
   "cell_type": "code",
   "execution_count": 2,
   "id": "c9479776",
   "metadata": {},
   "outputs": [
    {
     "data": {
      "text/html": [
       "<div>\n",
       "<style scoped>\n",
       "    .dataframe tbody tr th:only-of-type {\n",
       "        vertical-align: middle;\n",
       "    }\n",
       "\n",
       "    .dataframe tbody tr th {\n",
       "        vertical-align: top;\n",
       "    }\n",
       "\n",
       "    .dataframe thead th {\n",
       "        text-align: right;\n",
       "    }\n",
       "</style>\n",
       "<table border=\"1\" class=\"dataframe\">\n",
       "  <thead>\n",
       "    <tr style=\"text-align: right;\">\n",
       "      <th></th>\n",
       "      <th>Q2</th>\n",
       "      <th>x</th>\n",
       "      <th>z</th>\n",
       "      <th>pT2</th>\n",
       "      <th>phi</th>\n",
       "      <th>data_xs</th>\n",
       "      <th>data_xs_err</th>\n",
       "      <th>data_xs_sys</th>\n",
       "      <th>data_xs_RC</th>\n",
       "      <th>tra_bnxs</th>\n",
       "      <th>...</th>\n",
       "      <th>1.033800E-02</th>\n",
       "      <th>3.383000E-03</th>\n",
       "      <th>2.880000E-02</th>\n",
       "      <th>1.143700E+00</th>\n",
       "      <th>0.000000E+00</th>\n",
       "      <th>0.000000E+00.1</th>\n",
       "      <th>0.000000E+00.2</th>\n",
       "      <th>0.000000E+00.3</th>\n",
       "      <th>0.000000E+00.4</th>\n",
       "      <th>0.000000E+00.5</th>\n",
       "    </tr>\n",
       "  </thead>\n",
       "  <tbody>\n",
       "    <tr>\n",
       "      <th>0</th>\n",
       "      <td>1.49</td>\n",
       "      <td>0.1468</td>\n",
       "      <td>0.0682</td>\n",
       "      <td>0.0049</td>\n",
       "      <td>190.0</td>\n",
       "      <td>0.010447</td>\n",
       "      <td>0.003276</td>\n",
       "      <td>0.029105</td>\n",
       "      <td>1.1437</td>\n",
       "      <td>0.000513</td>\n",
       "      <td>...</td>\n",
       "      <td>NaN</td>\n",
       "      <td>NaN</td>\n",
       "      <td>NaN</td>\n",
       "      <td>NaN</td>\n",
       "      <td>NaN</td>\n",
       "      <td>NaN</td>\n",
       "      <td>NaN</td>\n",
       "      <td>NaN</td>\n",
       "      <td>NaN</td>\n",
       "      <td>NaN</td>\n",
       "    </tr>\n",
       "    <tr>\n",
       "      <th>1</th>\n",
       "      <td>1.49</td>\n",
       "      <td>0.1468</td>\n",
       "      <td>0.0682</td>\n",
       "      <td>0.0259</td>\n",
       "      <td>10.0</td>\n",
       "      <td>0.007477</td>\n",
       "      <td>0.000581</td>\n",
       "      <td>0.000945</td>\n",
       "      <td>1.0944</td>\n",
       "      <td>0.000466</td>\n",
       "      <td>...</td>\n",
       "      <td>NaN</td>\n",
       "      <td>NaN</td>\n",
       "      <td>NaN</td>\n",
       "      <td>NaN</td>\n",
       "      <td>NaN</td>\n",
       "      <td>NaN</td>\n",
       "      <td>NaN</td>\n",
       "      <td>NaN</td>\n",
       "      <td>NaN</td>\n",
       "      <td>NaN</td>\n",
       "    </tr>\n",
       "    <tr>\n",
       "      <th>2</th>\n",
       "      <td>1.49</td>\n",
       "      <td>0.1468</td>\n",
       "      <td>0.0682</td>\n",
       "      <td>0.0259</td>\n",
       "      <td>30.0</td>\n",
       "      <td>0.007098</td>\n",
       "      <td>0.001826</td>\n",
       "      <td>0.000896</td>\n",
       "      <td>1.1008</td>\n",
       "      <td>0.000461</td>\n",
       "      <td>...</td>\n",
       "      <td>NaN</td>\n",
       "      <td>NaN</td>\n",
       "      <td>NaN</td>\n",
       "      <td>NaN</td>\n",
       "      <td>NaN</td>\n",
       "      <td>NaN</td>\n",
       "      <td>NaN</td>\n",
       "      <td>NaN</td>\n",
       "      <td>NaN</td>\n",
       "      <td>NaN</td>\n",
       "    </tr>\n",
       "    <tr>\n",
       "      <th>3</th>\n",
       "      <td>1.49</td>\n",
       "      <td>0.1468</td>\n",
       "      <td>0.0682</td>\n",
       "      <td>0.0259</td>\n",
       "      <td>50.0</td>\n",
       "      <td>0.006618</td>\n",
       "      <td>0.000392</td>\n",
       "      <td>0.000835</td>\n",
       "      <td>1.1139</td>\n",
       "      <td>0.000458</td>\n",
       "      <td>...</td>\n",
       "      <td>NaN</td>\n",
       "      <td>NaN</td>\n",
       "      <td>NaN</td>\n",
       "      <td>NaN</td>\n",
       "      <td>NaN</td>\n",
       "      <td>NaN</td>\n",
       "      <td>NaN</td>\n",
       "      <td>NaN</td>\n",
       "      <td>NaN</td>\n",
       "      <td>NaN</td>\n",
       "    </tr>\n",
       "    <tr>\n",
       "      <th>4</th>\n",
       "      <td>1.49</td>\n",
       "      <td>0.1468</td>\n",
       "      <td>0.0682</td>\n",
       "      <td>0.0259</td>\n",
       "      <td>70.0</td>\n",
       "      <td>0.006758</td>\n",
       "      <td>0.000644</td>\n",
       "      <td>0.000852</td>\n",
       "      <td>1.1340</td>\n",
       "      <td>0.000459</td>\n",
       "      <td>...</td>\n",
       "      <td>NaN</td>\n",
       "      <td>NaN</td>\n",
       "      <td>NaN</td>\n",
       "      <td>NaN</td>\n",
       "      <td>NaN</td>\n",
       "      <td>NaN</td>\n",
       "      <td>NaN</td>\n",
       "      <td>NaN</td>\n",
       "      <td>NaN</td>\n",
       "      <td>NaN</td>\n",
       "    </tr>\n",
       "  </tbody>\n",
       "</table>\n",
       "<p>5 rows × 29 columns</p>\n",
       "</div>"
      ],
      "text/plain": [
       "     Q2       x       z     pT2    phi   data_xs  data_xs_err  data_xs_sys  \\\n",
       "0  1.49  0.1468  0.0682  0.0049  190.0  0.010447     0.003276     0.029105   \n",
       "1  1.49  0.1468  0.0682  0.0259   10.0  0.007477     0.000581     0.000945   \n",
       "2  1.49  0.1468  0.0682  0.0259   30.0  0.007098     0.001826     0.000896   \n",
       "3  1.49  0.1468  0.0682  0.0259   50.0  0.006618     0.000392     0.000835   \n",
       "4  1.49  0.1468  0.0682  0.0259   70.0  0.006758     0.000644     0.000852   \n",
       "\n",
       "   data_xs_RC  tra_bnxs  ...  1.033800E-02  3.383000E-03  2.880000E-02  \\\n",
       "0      1.1437  0.000513  ...           NaN           NaN           NaN   \n",
       "1      1.0944  0.000466  ...           NaN           NaN           NaN   \n",
       "2      1.1008  0.000461  ...           NaN           NaN           NaN   \n",
       "3      1.1139  0.000458  ...           NaN           NaN           NaN   \n",
       "4      1.1340  0.000459  ...           NaN           NaN           NaN   \n",
       "\n",
       "   1.143700E+00  0.000000E+00  0.000000E+00.1  0.000000E+00.2  0.000000E+00.3  \\\n",
       "0           NaN           NaN             NaN             NaN             NaN   \n",
       "1           NaN           NaN             NaN             NaN             NaN   \n",
       "2           NaN           NaN             NaN             NaN             NaN   \n",
       "3           NaN           NaN             NaN             NaN             NaN   \n",
       "4           NaN           NaN             NaN             NaN             NaN   \n",
       "\n",
       "   0.000000E+00.4  0.000000E+00.5  \n",
       "0             NaN             NaN  \n",
       "1             NaN             NaN  \n",
       "2             NaN             NaN  \n",
       "3             NaN             NaN  \n",
       "4             NaN             NaN  \n",
       "\n",
       "[5 rows x 29 columns]"
      ]
     },
     "execution_count": 2,
     "metadata": {},
     "output_type": "execute_result"
    }
   ],
   "source": [
    "clas6_all = pd.read_csv('clas6/clas6_all.txt')\n",
    "clas6_all.head()"
   ]
  },
  {
   "cell_type": "code",
   "execution_count": 3,
   "id": "4ad9c9b3",
   "metadata": {},
   "outputs": [
    {
     "name": "stdout",
     "output_type": "stream",
     "text": [
      "Q2 [1.49 1.74 2.02 2.37 2.93 3.42 4.1  4.85 5.72 6.61]\n",
      "x [0.1468 0.1753 0.2051 0.2362 0.2686 0.3025 0.3379 0.3748 0.4134 0.4537\n",
      " 0.4958 0.5397 0.5855 0.6334 0.6834 0.7355 0.79   0.8469 0.9063]\n",
      "z [0.0682 0.0933 0.1194 0.1468 0.1753 0.2051 0.2362 0.2686 0.3025 0.3379\n",
      " 0.3748 0.4134 0.4537 0.4958 0.5397 0.5855 0.6334 0.6834 0.7355 0.79\n",
      " 0.8469 0.9063]\n",
      "pT2 [0.0049 0.0259 0.0655 0.129  0.2165 0.3402 0.5074 0.7427 1.0741 1.554 ]\n"
     ]
    }
   ],
   "source": [
    "print('Q2',clas6_all['Q2'].unique())\n",
    "print('x',clas6_all['x'].unique())\n",
    "print('z',clas6_all['z'].unique())\n",
    "print('pT2',clas6_all['pT2'].unique())"
   ]
  },
  {
   "cell_type": "code",
   "execution_count": 4,
   "id": "831a5ebd",
   "metadata": {},
   "outputs": [
    {
     "name": "stdout",
     "output_type": "stream",
     "text": [
      "Q2 len  10  x len  19  z len  22  pT2 len  10  phi len  18\n"
     ]
    }
   ],
   "source": [
    "Q2_list=clas6_all['Q2'].unique()\n",
    "x_list=clas6_all['x'].unique()\n",
    "z_list=clas6_all['z'].unique()\n",
    "pT2_list=clas6_all['pT2'].unique()\n",
    "phi_list=clas6_all['phi'].unique()\n",
    "print('Q2 len ',len(Q2_list),' x len ',len(x_list),' z len ',len(z_list),' pT2 len ',len(pT2_list),' phi len ',len(phi_list))\n"
   ]
  },
  {
   "cell_type": "code",
   "execution_count": 5,
   "id": "e2174ae1",
   "metadata": {},
   "outputs": [],
   "source": [
    "i_Q2,i_x,i_z,i_pT2,i_phi = (5,9,11,5,9)\n"
   ]
  },
  {
   "cell_type": "code",
   "execution_count": 6,
   "id": "704334dc",
   "metadata": {},
   "outputs": [
    {
     "name": "stdout",
     "output_type": "stream",
     "text": [
      "Q2: 3.42  x: 0.4537  z: 0.4134  pT2: 0.3402  phi: 170.0\n"
     ]
    }
   ],
   "source": [
    "print('Q2:',Q2_list[i_Q2],' x:',x_list[i_x],' z:',z_list[i_z],' pT2:',pT2_list[i_pT2],' phi:',phi_list[i_phi])"
   ]
  },
  {
   "cell_type": "code",
   "execution_count": 9,
   "id": "9c5e63cf",
   "metadata": {},
   "outputs": [
    {
     "name": "stderr",
     "output_type": "stream",
     "text": [
      "<ipython-input-9-751571c99dbb>:4: UserWarning: Boolean Series key will be reindexed to match DataFrame index.\n",
      "  df_z = clas6_all[clas6_all['Q2']==Q2_list[i_Q2]][clas6_all['x']==x_list[i_x]][clas6_all['pT2']==pT2_list[i_pT2]][clas6_all['phi']==phi_list[i_phi]]\n",
      "<ipython-input-9-751571c99dbb>:4: UserWarning: Boolean Series key will be reindexed to match DataFrame index.\n",
      "  df_z = clas6_all[clas6_all['Q2']==Q2_list[i_Q2]][clas6_all['x']==x_list[i_x]][clas6_all['pT2']==pT2_list[i_pT2]][clas6_all['phi']==phi_list[i_phi]]\n",
      "<ipython-input-9-751571c99dbb>:4: UserWarning: Boolean Series key will be reindexed to match DataFrame index.\n",
      "  df_z = clas6_all[clas6_all['Q2']==Q2_list[i_Q2]][clas6_all['x']==x_list[i_x]][clas6_all['pT2']==pT2_list[i_pT2]][clas6_all['phi']==phi_list[i_phi]]\n"
     ]
    },
    {
     "data": {
      "text/plain": [
       "<matplotlib.legend.Legend at 0x7fba9acbdd60>"
      ]
     },
     "execution_count": 9,
     "metadata": {},
     "output_type": "execute_result"
    },
    {
     "data": {
      "image/png": "[encoded data removed]",
      "text/plain": [
       "<Figure size 432x288 with 1 Axes>"
      ]
     },
     "metadata": {
      "needs_background": "light"
     },
     "output_type": "display_data"
    }
   ],
   "source": [
    "#plot as a function of z\n",
    "fig = plt.figure()\n",
    "ax = fig.add_subplot()\n",
    "df_z = clas6_all[clas6_all['Q2']==Q2_list[i_Q2]][clas6_all['x']==x_list[i_x]][clas6_all['pT2']==pT2_list[i_pT2]][clas6_all['phi']==phi_list[i_phi]]\n",
    "zs = df_z['z'].to_list()\n",
    "data_xs = df_z['data_xs']\n",
    "data_xs_err = df_z['data_xs_err']\n",
    "data_xs_sys = df_z['data_xs_sys']\n",
    "data_xs_RC = df_z['data_xs_RC']\n",
    "tra_bn = df_z['tra_bnxs']\n",
    "tra_rc = df_z['tra_rcxs']\n",
    "fac_bn = df_z['Fac_bnxs']\n",
    "fac_rc = df_z['Fac_rcxs']\n",
    "for i_z in zs:\n",
    "    xs = df_z[df_z['z']==i_z]['data_xs'].values[0]\n",
    "    xs_stat_err = df_z[df_z['z']==i_z]['data_xs_err'].values[0]\n",
    "    #print(xs)\n",
    "    ax.plot([i_z,i_z],[xs-xs_stat_err,xs+xs_stat_err],color='blue',marker='_')\n",
    "plt.plot(zs,data_xs,'bo',label='data')\n",
    "plt.plot(zs,tra_bn,color='red',label='tra bn')\n",
    "plt.plot(zs,tra_rc,color='red',linestyle=':',label='tra rc')\n",
    "plt.plot(zs,0.2*2*5.75*0.938*fac_bn/(2*3.1415),color='magenta',label='fac bn')\n",
    "plt.plot(zs,0.2*2*5.75*0.938*fac_rc/(2*3.1415),color='magenta',linestyle=':',label='fac rc')\n",
    "plt.legend()"
   ]
  },
  {
   "cell_type": "code",
   "execution_count": null,
   "id": "1c7fe320",
   "metadata": {},
   "outputs": [],
   "source": []
  }
 ],
 "metadata": {
  "kernelspec": {
   "display_name": "Python 3",
   "language": "python",
   "name": "python3"
  },
  "language_info": {
   "codemirror_mode": {
    "name": "ipython",
    "version": 3
   },
   "file_extension": ".py",
   "mimetype": "text/x-python",
   "name": "python",
   "nbconvert_exporter": "python",
   "pygments_lexer": "ipython3",
   "version": "3.8.5"
  }
 },
 "nbformat": 4,
 "nbformat_minor": 5
}
