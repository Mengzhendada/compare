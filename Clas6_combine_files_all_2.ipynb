{
 "cells": [
  {
   "cell_type": "code",
   "execution_count": null,
   "id": "6e3af4e8-e200-4f6e-ba90-563eb572f87c",
   "metadata": {
    "tags": []
   },
   "outputs": [],
   "source": [
    "import pandas as pd\n",
    "import numpy as np\n",
    "import matplotlib.pyplot as plt\n",
    "import math"
   ]
  },
  {
   "cell_type": "code",
   "execution_count": null,
   "id": "3332cca0-219a-435b-acdf-d7201b617f00",
   "metadata": {
    "tags": []
   },
   "outputs": [],
   "source": [
    "def get_value(values):\n",
    "    if len(values)>1:\n",
    "        print('more than 1 value!')\n",
    "        return -1\n",
    "    elif len(values)==0:\n",
    "        return 0\n",
    "    else:\n",
    "        return values[0]"
   ]
  },
  {
   "cell_type": "code",
   "execution_count": null,
   "id": "7741a6b3-b495-45a8-bdb3-a76e10e070e3",
   "metadata": {
    "tags": []
   },
   "outputs": [],
   "source": [
    "clas6_data = pd.read_csv('clas6/CLAS6.txt', delim_whitespace=True)\n",
    "clas6_data.head()"
   ]
  },
  {
   "cell_type": "code",
   "execution_count": null,
   "id": "f5ce5454-3a67-4e65-8e77-495fa3ab44e5",
   "metadata": {
    "tags": []
   },
   "outputs": [],
   "source": [
    "clas6_tra = pd.read_csv('clas6/clas6_Tra_unpol_all.txt',delim_whitespace=True)\n",
    "clas6_tra.columns=['SF_Set_Index','Eb','beam_pol','target_pol','x','y','z','ph_t_sq','phih','phi_s','k0','bn','amm','nrad_ir','rad_f','rad_f_err','nrad','nrad_err','rad','rad_err','nrad_rad','nrad_rad_err']\n",
    "clas6_tra.head()"
   ]
  },
  {
   "cell_type": "code",
   "execution_count": null,
   "id": "27e52335-e229-4e8c-9819-8a3ea47ade95",
   "metadata": {
    "tags": []
   },
   "outputs": [],
   "source": [
    "clas6_fac_bn = pd.read_csv('clas6/clas6_Fac_bn_unpol_all.txt',delim_whitespace=True)\n",
    "clas6_fac_bn.columns=['x','z','Q','qT_Q','xs','xs_err']\n",
    "clas6_fac_bn.head()"
   ]
  },
  {
   "cell_type": "code",
   "execution_count": null,
   "id": "63092009-bbd8-41ba-9af0-7db01124d076",
   "metadata": {
    "tags": []
   },
   "outputs": [],
   "source": [
    "clas6_fac_rc = pd.read_csv('clas6/clas6_Fac_rc_unpol_all.txt',delim_whitespace=True)\n",
    "clas6_fac_rc.columns=['x','z','Q','qT_Q','xs','xs_err']\n",
    "clas6_fac_rc.head()"
   ]
  },
  {
   "cell_type": "code",
   "execution_count": null,
   "id": "b4786106-b9da-4eef-b69e-5888b52a7e96",
   "metadata": {
    "tags": []
   },
   "outputs": [],
   "source": [
    "M_P = 0.9382720813\n",
    "beam_energy = 5.75\n",
    "sqrt_s = math.sqrt(2*M_P*beam_energy)"
   ]
  },
  {
   "cell_type": "code",
   "execution_count": null,
   "id": "53d1d46b-ae53-4b33-8bf5-fa782977eba0",
   "metadata": {},
   "outputs": [],
   "source": [
    "#To combine data, fac, and tra results\n",
    "file = open('clas6/clas6_all.txt','w')\n",
    "file.write('Q2,x,z,pT2,phi,data_xs,data_xs_err,data_xs_sys,data_xs_RC,tra_bnxs,tra_rcxs,tra_rcxs_err,Fac_bnxs,Fac_rcxs,Fac_rcxs_err\\n')\n",
    "for i,row in clas6_data.iterrows():\n",
    "    #for tra\n",
    "    Eb = beam_energy\n",
    "    beam_pol ='U'\n",
    "    target_pol = 'U'\n",
    "    x = row['x']\n",
    "    Q2 = (row['Q2'])\n",
    "    s = 2*Eb*M_P\n",
    "    y = round(Q2/(s*x),6)\n",
    "    z = row['z']\n",
    "    pT2 = row['pT2']\n",
    "    ph_t_sq = row['pT2']\n",
    "    phih=round((row['phi']-180)*math.pi/180,6)\n",
    "    #for fac\n",
    "    Q = round(math.sqrt(row['Q2']),6)\n",
    "    qT_Q = round(math.sqrt(row['pT2'])/z/Q,6)\n",
    "    \n",
    "    xs_data = row['ds_dxdQ2dzdpT2dphi']*2.5/1000\n",
    "    bnxs_tra = get_value(clas6_tra[(clas6_tra['x']==x)&(clas6_tra['y']==y)&(clas6_tra['z']==z)&(clas6_tra['ph_t_sq']==ph_t_sq)&(clas6_tra['phih']==phih)]['bn'].values)\n",
    "    bnxs_fac = 1/(2*math.pi)*get_value(clas6_fac_bn[(clas6_fac_bn['x']==x)&(clas6_fac_bn['z']==z)&(clas6_fac_bn['Q']==Q)&(clas6_fac_bn['qT_Q']==qT_Q)]['xs'].values)\n",
    "    #print('data',xs_data)\n",
    "    #print('tra',bnxs_tra)\n",
    "    #print('fac',bnxs_fac)\n",
    "    xs_data_err = row['stat_err']*2.5/1000\n",
    "    xs_data_sys_err = row['sys_err']*2.5/1000\n",
    "    xs_data_rc = row['rad_cor']\n",
    "    rcxs_tra = get_value(clas6_tra[(clas6_tra['x']==x)&(clas6_tra['y']==y)&(clas6_tra['z']==z)&(clas6_tra['ph_t_sq']==ph_t_sq)&(clas6_tra['phih']==phih)]['rad'].values)\n",
    "    rcxs_tra_err = get_value(clas6_tra[(clas6_tra['x']==x)&(clas6_tra['y']==y)&(clas6_tra['z']==z)&(clas6_tra['ph_t_sq']==ph_t_sq)&(clas6_tra['phih']==phih)]['rad_err'].values)\n",
    "    rcxs_fac = 1/(2*math.pi)*get_value(clas6_fac_rc[(clas6_fac_rc['x']==x)&(clas6_fac_rc['z']==z)&(clas6_fac_rc['Q']==Q)&(clas6_fac_rc['qT_Q']==qT_Q)]['xs'].values)\n",
    "    rcxs_fac_err = 1/(2*math.pi)*get_value(clas6_fac_rc[(clas6_fac_rc['x']==x)&(clas6_fac_rc['z']==z)&(clas6_fac_rc['Q']==Q)&(clas6_fac_rc['qT_Q']==qT_Q)]['xs_err'].values)\n",
    "    print('xs_data_err',xs_data_err,'xs_data_sys_err',xs_data_sys_err,'xs_data_rc',xs_data_rc)\n",
    "    print('rcxs_tra',rcxs_tra,'rcxs_tra_err',rcxs_tra_err,'rcxs_fac',rcxs_fac,'rcxs_fac_err',rcxs_fac_err)\n",
    "    file.write('%f,%f,%f,%f,%f,%E,%E,%E,%E,%E,%E,%E,%E,%E,%E\\n'%(Q2,x,z,pT2,phih,xs_data,xs_data_err,xs_data_sys_err,xs_data_rc,bnxs_tra,rcxs_tra,rcxs_tra_err,bnxs_fac,rcxs_fac,rcxs_fac_err))\n",
    "\n"
   ]
  },
  {
   "cell_type": "code",
   "execution_count": null,
   "id": "c4697887-03ed-4bbe-af5f-5b67d920e42e",
   "metadata": {},
   "outputs": [],
   "source": []
  }
 ],
 "metadata": {
  "kernelspec": {
   "display_name": "Python 3 (ipykernel)",
   "language": "python",
   "name": "python3"
  },
  "language_info": {
   "codemirror_mode": {
    "name": "ipython",
    "version": 3
   },
   "file_extension": ".py",
   "mimetype": "text/x-python",
   "name": "python",
   "nbconvert_exporter": "python",
   "pygments_lexer": "ipython3",
   "version": "3.10.10"
  }
 },
 "nbformat": 4,
 "nbformat_minor": 5
}
