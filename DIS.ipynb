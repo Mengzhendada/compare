{
 "cells": [
  {
   "cell_type": "code",
   "execution_count": 1,
   "id": "835f424d",
   "metadata": {},
   "outputs": [],
   "source": [
    "import os, sys\n",
    "import matplotlib.pyplot as plt\n",
    "import scipy.fftpack as sf\n",
    "import scipy.linalg as sl\n",
    "import numpy as np"
   ]
  },
  {
   "cell_type": "code",
   "execution_count": 3,
   "id": "26976f45",
   "metadata": {},
   "outputs": [
    {
     "ename": "ModuleNotFoundError",
     "evalue": "No module named 'f1f221'",
     "output_type": "error",
     "traceback": [
      "\u001b[0;31m---------------------------------------------------------------------------\u001b[0m",
      "\u001b[0;31mModuleNotFoundError\u001b[0m                       Traceback (most recent call last)",
      "Cell \u001b[0;32mIn[3], line 2\u001b[0m\n\u001b[1;32m      1\u001b[0m sys\u001b[38;5;241m.\u001b[39mpath\u001b[38;5;241m.\u001b[39minsert(\u001b[38;5;241m1\u001b[39m,\u001b[38;5;124m'\u001b[39m\u001b[38;5;124m/Users/sj400/Duke/compare/DIS\u001b[39m\u001b[38;5;124m'\u001b[39m)\n\u001b[0;32m----> 2\u001b[0m \u001b[38;5;28;01mimport\u001b[39;00m \u001b[38;5;21;01mf1f221\u001b[39;00m\n",
      "\u001b[0;31mModuleNotFoundError\u001b[0m: No module named 'f1f221'"
     ]
    }
   ],
   "source": [
    "sys.path.insert(1,'/Users/sj400/Duke/compare/DIS')\n",
    "import f1f221"
   ]
  },
  {
   "cell_type": "code",
   "execution_count": 4,
   "id": "97500c4b",
   "metadata": {},
   "outputs": [
    {
     "data": {
      "text/plain": [
       "['/Users/sj400/Duke/compare',\n",
       " '/Users/sj400/Duke/compare/DIS',\n",
       " '/Users/sj400/Duke/compare/DIS',\n",
       " '/opt/homebrew/Cellar/root/6.26.06_2/lib/root',\n",
       " '',\n",
       " '/opt/homebrew/Cellar/lhapdf/6.5.3/lib/python3.10/site-packages',\n",
       " '/Users/sj400/miniconda3/lib/python310.zip',\n",
       " '/Users/sj400/miniconda3/lib/python3.10',\n",
       " '/Users/sj400/miniconda3/lib/python3.10/lib-dynload',\n",
       " '/Users/sj400/miniconda3/lib/python3.10/site-packages']"
      ]
     },
     "execution_count": 4,
     "metadata": {},
     "output_type": "execute_result"
    }
   ],
   "source": [
    "sys.path"
   ]
  },
  {
   "cell_type": "code",
   "execution_count": null,
   "id": "fc529b28",
   "metadata": {},
   "outputs": [],
   "source": []
  }
 ],
 "metadata": {
  "kernelspec": {
   "display_name": "Python 3 (ipykernel)",
   "language": "python",
   "name": "python3"
  },
  "language_info": {
   "codemirror_mode": {
    "name": "ipython",
    "version": 3
   },
   "file_extension": ".py",
   "mimetype": "text/x-python",
   "name": "python",
   "nbconvert_exporter": "python",
   "pygments_lexer": "ipython3",
   "version": "3.10.10"
  }
 },
 "nbformat": 4,
 "nbformat_minor": 5
}
