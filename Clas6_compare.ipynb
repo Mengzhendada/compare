{
 "cells": [
  {
   "cell_type": "code",
   "execution_count": 59,
   "id": "1aff808d",
   "metadata": {},
   "outputs": [],
   "source": [
    "import pandas as pd\n",
    "import numpy as np\n",
    "import matplotlib.pyplot as plt\n",
    "import math"
   ]
  },
  {
   "cell_type": "code",
   "execution_count": 60,
   "id": "1d058709",
   "metadata": {},
   "outputs": [
    {
     "data": {
      "text/html": [
       "<div>\n",
       "<style scoped>\n",
       "    .dataframe tbody tr th:only-of-type {\n",
       "        vertical-align: middle;\n",
       "    }\n",
       "\n",
       "    .dataframe tbody tr th {\n",
       "        vertical-align: top;\n",
       "    }\n",
       "\n",
       "    .dataframe thead th {\n",
       "        text-align: right;\n",
       "    }\n",
       "</style>\n",
       "<table border=\"1\" class=\"dataframe\">\n",
       "  <thead>\n",
       "    <tr style=\"text-align: right;\">\n",
       "      <th></th>\n",
       "      <th>rc_type</th>\n",
       "      <th>xs_type</th>\n",
       "      <th>rs</th>\n",
       "      <th>x</th>\n",
       "      <th>z</th>\n",
       "      <th>Q</th>\n",
       "      <th>qT_Q</th>\n",
       "      <th>xs</th>\n",
       "      <th>xs_err</th>\n",
       "    </tr>\n",
       "  </thead>\n",
       "  <tbody>\n",
       "    <tr>\n",
       "      <th>0</th>\n",
       "      <td>rc</td>\n",
       "      <td>unpol</td>\n",
       "      <td>3.25</td>\n",
       "      <td>0.3025</td>\n",
       "      <td>0.2</td>\n",
       "      <td>1.54</td>\n",
       "      <td>1.510700</td>\n",
       "      <td>0.000954</td>\n",
       "      <td>3.238968e-08</td>\n",
       "    </tr>\n",
       "    <tr>\n",
       "      <th>1</th>\n",
       "      <td>rc</td>\n",
       "      <td>unpol</td>\n",
       "      <td>3.25</td>\n",
       "      <td>0.3025</td>\n",
       "      <td>0.2</td>\n",
       "      <td>1.54</td>\n",
       "      <td>1.007133</td>\n",
       "      <td>0.002129</td>\n",
       "      <td>9.053538e-08</td>\n",
       "    </tr>\n",
       "    <tr>\n",
       "      <th>2</th>\n",
       "      <td>rc</td>\n",
       "      <td>unpol</td>\n",
       "      <td>3.25</td>\n",
       "      <td>0.3025</td>\n",
       "      <td>0.2</td>\n",
       "      <td>1.54</td>\n",
       "      <td>0.755350</td>\n",
       "      <td>0.002821</td>\n",
       "      <td>8.728114e-08</td>\n",
       "    </tr>\n",
       "    <tr>\n",
       "      <th>3</th>\n",
       "      <td>rc</td>\n",
       "      <td>unpol</td>\n",
       "      <td>3.25</td>\n",
       "      <td>0.3025</td>\n",
       "      <td>0.2</td>\n",
       "      <td>1.54</td>\n",
       "      <td>0.604280</td>\n",
       "      <td>0.003213</td>\n",
       "      <td>7.246642e-08</td>\n",
       "    </tr>\n",
       "    <tr>\n",
       "      <th>4</th>\n",
       "      <td>rc</td>\n",
       "      <td>unpol</td>\n",
       "      <td>3.25</td>\n",
       "      <td>0.3025</td>\n",
       "      <td>0.2</td>\n",
       "      <td>1.54</td>\n",
       "      <td>0.503567</td>\n",
       "      <td>0.003450</td>\n",
       "      <td>6.090756e-08</td>\n",
       "    </tr>\n",
       "  </tbody>\n",
       "</table>\n",
       "</div>"
      ],
      "text/plain": [
       "  rc_type xs_type    rs       x    z     Q      qT_Q        xs        xs_err\n",
       "0      rc   unpol  3.25  0.3025  0.2  1.54  1.510700  0.000954  3.238968e-08\n",
       "1      rc   unpol  3.25  0.3025  0.2  1.54  1.007133  0.002129  9.053538e-08\n",
       "2      rc   unpol  3.25  0.3025  0.2  1.54  0.755350  0.002821  8.728114e-08\n",
       "3      rc   unpol  3.25  0.3025  0.2  1.54  0.604280  0.003213  7.246642e-08\n",
       "4      rc   unpol  3.25  0.3025  0.2  1.54  0.503567  0.003450  6.090756e-08"
      ]
     },
     "execution_count": 60,
     "metadata": {},
     "output_type": "execute_result"
    }
   ],
   "source": [
    "df_factorized = pd.read_csv('clas6/CLAS6_factorized.txt')\n",
    "df_factorized.head()\n"
   ]
  },
  {
   "cell_type": "code",
   "execution_count": 61,
   "id": "1fbbfb3a",
   "metadata": {},
   "outputs": [
    {
     "name": "stdout",
     "output_type": "stream",
     "text": [
      "0.2 1.5107 born 36    0.000994\n",
      "Name: xs, dtype: float64 rc 0    0.000954\n",
      "Name: xs, dtype: float64\n",
      "0.3 1.007133 born 43    0.000567\n",
      "Name: xs, dtype: float64 rc 7    0.000533\n",
      "Name: xs, dtype: float64\n",
      "0.4 0.75535 born 50    0.000328\n",
      "Name: xs, dtype: float64 rc 14    0.000304\n",
      "Name: xs, dtype: float64\n",
      "0.5 0.60428 born 57    0.000193\n",
      "Name: xs, dtype: float64 rc 21    0.000176\n",
      "Name: xs, dtype: float64\n",
      "0.6 0.503567 born 64    0.000115\n",
      "Name: xs, dtype: float64 rc 28    0.000103\n",
      "Name: xs, dtype: float64\n",
      "0.7 0.431629 born 71    0.000067\n",
      "Name: xs, dtype: float64 rc 35    0.000058\n",
      "Name: xs, dtype: float64\n"
     ]
    },
    {
     "name": "stderr",
     "output_type": "stream",
     "text": [
      "/var/folders/ll/8_2_l77j4yl2zjb6stl8d9b00000gn/T/ipykernel_72471/1174823652.py:7: UserWarning: Boolean Series key will be reindexed to match DataFrame index.\n",
      "  xs_born_factorized =  df_factorized[df_factorized['rc_type']=='born'][df_factorized['Q']==1.540000][df_factorized['z']==i_z][df_factorized['x']==0.302500][df_factorized['qT_Q']==qT_Q]['xs']\n",
      "/var/folders/ll/8_2_l77j4yl2zjb6stl8d9b00000gn/T/ipykernel_72471/1174823652.py:8: UserWarning: Boolean Series key will be reindexed to match DataFrame index.\n",
      "  xs_rc_factorized =  df_factorized[df_factorized['rc_type']=='rc'][df_factorized['Q']==1.540000][df_factorized['z']==i_z][df_factorized['x']==0.302500][df_factorized['qT_Q']==qT_Q]['xs']\n"
     ]
    },
    {
     "data": {
      "text/plain": [
       "Text(0.5, 0, 'z')"
      ]
     },
     "execution_count": 61,
     "metadata": {},
     "output_type": "execute_result"
    },
    {
     "data": {
      "image/png": "[encoded data removed]",
      "text/plain": [
       "<Figure size 432x288 with 1 Axes>"
      ]
     },
     "metadata": {
      "needs_background": "light"
     },
     "output_type": "display_data"
    }
   ],
   "source": [
    "\n",
    "zs_factorized = df_factorized[df_factorized['Q']==1.540000][df_factorized['x']==0.302500]['z'].unique()\n",
    "xs_born_factorizeds =[]\n",
    "xs_rc_factorizeds=[]\n",
    "for i_z in zs_factorized:\n",
    "    qT_Q = round(0.30214/i_z,6)\n",
    "    \n",
    "    xs_born_factorized =  df_factorized[df_factorized['rc_type']=='born'][df_factorized['Q']==1.540000][df_factorized['z']==i_z][df_factorized['x']==0.302500][df_factorized['qT_Q']==qT_Q]['xs']\n",
    "    xs_rc_factorized =  df_factorized[df_factorized['rc_type']=='rc'][df_factorized['Q']==1.540000][df_factorized['z']==i_z][df_factorized['x']==0.302500][df_factorized['qT_Q']==qT_Q]['xs']\n",
    "    print(i_z,qT_Q,'born',xs_born_factorized,'rc',xs_rc_factorized)\n",
    "    xs_born_factorizeds.append(xs_born_factorized)\n",
    "    xs_rc_factorizeds.append(xs_rc_factorized)\n",
    "plt.plot(zs_factorized,xs_born_factorizeds,'-',label='Born xs Factorized')\n",
    "plt.plot(zs_factorized,xs_rc_factorizeds,'-',label='RC xs Factorized')\n",
    "plt.legend()\n",
    "plt.xlabel('z',fontsize=20)"
   ]
  },
  {
   "cell_type": "code",
   "execution_count": 62,
   "id": "60019284",
   "metadata": {
    "scrolled": true
   },
   "outputs": [
    {
     "data": {
      "text/html": [
       "<div>\n",
       "<style scoped>\n",
       "    .dataframe tbody tr th:only-of-type {\n",
       "        vertical-align: middle;\n",
       "    }\n",
       "\n",
       "    .dataframe tbody tr th {\n",
       "        vertical-align: top;\n",
       "    }\n",
       "\n",
       "    .dataframe thead th {\n",
       "        text-align: right;\n",
       "    }\n",
       "</style>\n",
       "<table border=\"1\" class=\"dataframe\">\n",
       "  <thead>\n",
       "    <tr style=\"text-align: right;\">\n",
       "      <th></th>\n",
       "      <th>z</th>\n",
       "      <th>yield</th>\n",
       "    </tr>\n",
       "  </thead>\n",
       "  <tbody>\n",
       "    <tr>\n",
       "      <th>0</th>\n",
       "      <td>0.005</td>\n",
       "      <td>0.0</td>\n",
       "    </tr>\n",
       "    <tr>\n",
       "      <th>1</th>\n",
       "      <td>0.015</td>\n",
       "      <td>0.0</td>\n",
       "    </tr>\n",
       "    <tr>\n",
       "      <th>2</th>\n",
       "      <td>0.025</td>\n",
       "      <td>0.0</td>\n",
       "    </tr>\n",
       "    <tr>\n",
       "      <th>3</th>\n",
       "      <td>0.035</td>\n",
       "      <td>0.0</td>\n",
       "    </tr>\n",
       "    <tr>\n",
       "      <th>4</th>\n",
       "      <td>0.045</td>\n",
       "      <td>0.0</td>\n",
       "    </tr>\n",
       "  </tbody>\n",
       "</table>\n",
       "</div>"
      ],
      "text/plain": [
       "       z  yield\n",
       "0  0.005    0.0\n",
       "1  0.015    0.0\n",
       "2  0.025    0.0\n",
       "3  0.035    0.0\n",
       "4  0.045    0.0"
      ]
     },
     "execution_count": 62,
     "metadata": {},
     "output_type": "execute_result"
    }
   ],
   "source": [
    "\n",
    "\n",
    "df_traditional = pd.read_csv('clas6/out_clas6_born.txt',delim_whitespace=True,skiprows=[0])\n",
    "df_traditional.head()\n",
    "\n"
   ]
  },
  {
   "cell_type": "code",
   "execution_count": 63,
   "id": "284b1251",
   "metadata": {},
   "outputs": [
    {
     "data": {
      "text/html": [
       "<div>\n",
       "<style scoped>\n",
       "    .dataframe tbody tr th:only-of-type {\n",
       "        vertical-align: middle;\n",
       "    }\n",
       "\n",
       "    .dataframe tbody tr th {\n",
       "        vertical-align: top;\n",
       "    }\n",
       "\n",
       "    .dataframe thead th {\n",
       "        text-align: right;\n",
       "    }\n",
       "</style>\n",
       "<table border=\"1\" class=\"dataframe\">\n",
       "  <thead>\n",
       "    <tr style=\"text-align: right;\">\n",
       "      <th></th>\n",
       "      <th>z</th>\n",
       "      <th>yield</th>\n",
       "    </tr>\n",
       "  </thead>\n",
       "  <tbody>\n",
       "    <tr>\n",
       "      <th>0</th>\n",
       "      <td>0.005</td>\n",
       "      <td>0.0</td>\n",
       "    </tr>\n",
       "    <tr>\n",
       "      <th>1</th>\n",
       "      <td>0.015</td>\n",
       "      <td>0.0</td>\n",
       "    </tr>\n",
       "    <tr>\n",
       "      <th>2</th>\n",
       "      <td>0.025</td>\n",
       "      <td>0.0</td>\n",
       "    </tr>\n",
       "    <tr>\n",
       "      <th>3</th>\n",
       "      <td>0.035</td>\n",
       "      <td>0.0</td>\n",
       "    </tr>\n",
       "    <tr>\n",
       "      <th>4</th>\n",
       "      <td>0.045</td>\n",
       "      <td>0.0</td>\n",
       "    </tr>\n",
       "  </tbody>\n",
       "</table>\n",
       "</div>"
      ],
      "text/plain": [
       "       z  yield\n",
       "0  0.005    0.0\n",
       "1  0.015    0.0\n",
       "2  0.025    0.0\n",
       "3  0.035    0.0\n",
       "4  0.045    0.0"
      ]
     },
     "execution_count": 63,
     "metadata": {},
     "output_type": "execute_result"
    }
   ],
   "source": [
    "df_traditional_rc = pd.read_csv('clas6/out_clas6_rc.txt',delim_whitespace=True,skiprows=[0])\n",
    "df_traditional_rc.head()"
   ]
  },
  {
   "cell_type": "code",
   "execution_count": 76,
   "id": "f51aacab",
   "metadata": {
    "scrolled": false
   },
   "outputs": [
    {
     "data": {
      "image/png": "[encoded data removed]",
      "text/plain": [
       "<Figure size 432x288 with 1 Axes>"
      ]
     },
     "metadata": {
      "needs_background": "light"
     },
     "output_type": "display_data"
    }
   ],
   "source": [
    "#Factor = 1e6*13448\n",
    "\n",
    "#1000/(2.56819*(2.66-2.23)*(0.32-0.28)*(0.2809-0.1681)*(0.4-0.36)*(-2.44+3.141592))\n",
    "#Q2,x,pt2,z,phi\n",
    "#Factor_born_z = 1000/(2.56819*(2.66-2.23)*(0.32-0.28)*(0.2809-0.1681)*(-2.44+3.141592)*(0.4-0.36)*2)\n",
    "Factor_born_z = 1000/(2.56819*(2.66-2.23)*(0.3379-0.3025)*(0.2809-0.1681)*(-2.44+3.141592)*(0.4134-0.3748)*2)\n",
    "#Factor_born_z = 1000/(2.56819*(2.66-2.23)*(0.3379-0.3025)*(0.2809-0.1681)*(0.4134-0.3748)*math.pi)\n",
    "Factor_rc_z = Factor_born_z\n",
    "#Factor = 5.1782e10/(2099*2*3.14)\n",
    "#Factor = 1/5.1782e10\n",
    "zs_traditional = df_traditional['z']\n",
    "xs_born_traditional =  df_traditional['yield']\n",
    "\n",
    "zs_rc_traditional = df_traditional_rc['z']\n",
    "xs_rc_traditional =  df_traditional_rc['yield']\n",
    "\n",
    "plt.plot(zs_traditional,np.asarray(xs_born_traditional),'-',label='Born xs traditional')\n",
    "plt.plot(zs_rc_traditional,np.asarray(xs_rc_traditional),'-',label='RC xs traditional')\n",
    "#plt.plot(zs_traditional,np.asarray(xs_born_traditional)*Factor_born_z,'-',label='Born xs traditional')\n",
    "#plt.plot(zs_rc_traditional,np.asarray(xs_rc_traditional)*Factor_rc_z,'-',label='RC xs traditional')\n",
    "\n",
    "\n",
    "plt.legend()\n",
    "plt.xlabel('z',fontsize=20)\n",
    "#print(df_traditional_rc['yield'].sum()*Factor_rc_z)\n",
    "\n",
    "#plt.plot(zs_factorized,xs_born_factorized,'-',label='Born xs Factorized')\n",
    "#plt.plot(zs_factorized,xs_rc_factorized,'-',label='RC xs Factorized')\n",
    "\n",
    "plt.savefig('clas6/traditional_z.pdf')\n",
    "\n"
   ]
  },
  {
   "cell_type": "code",
   "execution_count": 77,
   "id": "bdd070ba",
   "metadata": {},
   "outputs": [
    {
     "name": "stderr",
     "output_type": "stream",
     "text": [
      "/var/folders/ll/8_2_l77j4yl2zjb6stl8d9b00000gn/T/ipykernel_72471/1606507228.py:1: RuntimeWarning: divide by zero encountered in true_divide\n",
      "  plt.plot(zs_traditional,np.asarray(xs_born_traditional)*Factor_born_z/(np.asarray(xs_rc_traditional)*Factor_rc_z),'bo',label='Born/RC')\n",
      "/var/folders/ll/8_2_l77j4yl2zjb6stl8d9b00000gn/T/ipykernel_72471/1606507228.py:1: RuntimeWarning: invalid value encountered in true_divide\n",
      "  plt.plot(zs_traditional,np.asarray(xs_born_traditional)*Factor_born_z/(np.asarray(xs_rc_traditional)*Factor_rc_z),'bo',label='Born/RC')\n"
     ]
    },
    {
     "data": {
      "text/plain": [
       "<matplotlib.legend.Legend at 0x15bbd99a0>"
      ]
     },
     "execution_count": 77,
     "metadata": {},
     "output_type": "execute_result"
    },
    {
     "data": {
      "image/png": "[encoded data removed]",
      "text/plain": [
       "<Figure size 432x288 with 1 Axes>"
      ]
     },
     "metadata": {
      "needs_background": "light"
     },
     "output_type": "display_data"
    }
   ],
   "source": [
    "plt.plot(zs_traditional,np.asarray(xs_born_traditional)*Factor_born_z/(np.asarray(xs_rc_traditional)*Factor_rc_z),'bo',label='Born/RC')\n",
    "plt.xlabel('z')\n",
    "plt.legend()\n"
   ]
  },
  {
   "cell_type": "code",
   "execution_count": 78,
   "id": "91ce5627",
   "metadata": {},
   "outputs": [
    {
     "data": {
      "text/plain": [
       "Text(0.5, 0, 'z')"
      ]
     },
     "execution_count": 78,
     "metadata": {},
     "output_type": "execute_result"
    },
    {
     "data": {
      "image/png": "[encoded data removed]",
      "text/plain": [
       "<Figure size 432x288 with 1 Axes>"
      ]
     },
     "metadata": {
      "needs_background": "light"
     },
     "output_type": "display_data"
    }
   ],
   "source": [
    "plt.plot(zs_traditional,np.asarray(xs_born_traditional),'-',label='Born xs traditional')\n",
    "plt.plot(zs_factorized,np.asarray(xs_born_factorizeds),'-',label='Born xs Factorized')\n",
    "\n",
    "#plt.xlim(0.3,0.7)\n",
    "#plt.ylim(0,0.001)\n",
    "plt.legend()\n",
    "plt.xlabel('z',fontsize=20)"
   ]
  },
  {
   "cell_type": "code",
   "execution_count": 79,
   "id": "e5434ba7",
   "metadata": {
    "scrolled": true
   },
   "outputs": [
    {
     "data": {
      "text/plain": [
       "array([0.1468, 0.1753, 0.2051, 0.2362, 0.2686, 0.3025, 0.3379, 0.3748,\n",
       "       0.4134, 0.4537, 0.4958, 0.5397, 0.5855, 0.6334, 0.6834, 0.7355,\n",
       "       0.79  , 0.8469, 0.9063])"
      ]
     },
     "execution_count": 79,
     "metadata": {},
     "output_type": "execute_result"
    }
   ],
   "source": [
    "clas6_data = pd.read_csv('clas6/CLAS6.txt', delim_whitespace=True)\n",
    "clas6_data['x'].unique()"
   ]
  },
  {
   "cell_type": "code",
   "execution_count": 80,
   "id": "0d2592a1",
   "metadata": {
    "scrolled": true
   },
   "outputs": [
    {
     "name": "stderr",
     "output_type": "stream",
     "text": [
      "/var/folders/ll/8_2_l77j4yl2zjb6stl8d9b00000gn/T/ipykernel_72471/1425309737.py:3: UserWarning: Boolean Series key will be reindexed to match DataFrame index.\n",
      "  df1=clas6_data[clas6_data['Q2']==2.37][clas6_data['x']==0.3025][clas6_data['pT2']==0.2165]\n"
     ]
    },
    {
     "data": {
      "text/html": [
       "<div>\n",
       "<style scoped>\n",
       "    .dataframe tbody tr th:only-of-type {\n",
       "        vertical-align: middle;\n",
       "    }\n",
       "\n",
       "    .dataframe tbody tr th {\n",
       "        vertical-align: top;\n",
       "    }\n",
       "\n",
       "    .dataframe thead th {\n",
       "        text-align: right;\n",
       "    }\n",
       "</style>\n",
       "<table border=\"1\" class=\"dataframe\">\n",
       "  <thead>\n",
       "    <tr style=\"text-align: right;\">\n",
       "      <th></th>\n",
       "      <th>Q2</th>\n",
       "      <th>x</th>\n",
       "      <th>z</th>\n",
       "      <th>pT2</th>\n",
       "      <th>phi</th>\n",
       "      <th>ds_dxdQ2dzdpT2dphi</th>\n",
       "      <th>stat_err</th>\n",
       "      <th>sys_err</th>\n",
       "      <th>rad_cor</th>\n",
       "    </tr>\n",
       "  </thead>\n",
       "  <tbody>\n",
       "    <tr>\n",
       "      <th>42366</th>\n",
       "      <td>2.37</td>\n",
       "      <td>0.3025</td>\n",
       "      <td>0.1194</td>\n",
       "      <td>0.2165</td>\n",
       "      <td>10.0</td>\n",
       "      <td>0.013950</td>\n",
       "      <td>0.000587</td>\n",
       "      <td>0.002209</td>\n",
       "      <td>0.9696</td>\n",
       "    </tr>\n",
       "    <tr>\n",
       "      <th>42367</th>\n",
       "      <td>2.37</td>\n",
       "      <td>0.3025</td>\n",
       "      <td>0.1194</td>\n",
       "      <td>0.2165</td>\n",
       "      <td>30.0</td>\n",
       "      <td>0.012558</td>\n",
       "      <td>0.000671</td>\n",
       "      <td>0.001987</td>\n",
       "      <td>0.9720</td>\n",
       "    </tr>\n",
       "    <tr>\n",
       "      <th>42368</th>\n",
       "      <td>2.37</td>\n",
       "      <td>0.3025</td>\n",
       "      <td>0.1194</td>\n",
       "      <td>0.2165</td>\n",
       "      <td>50.0</td>\n",
       "      <td>0.012321</td>\n",
       "      <td>0.000531</td>\n",
       "      <td>0.001949</td>\n",
       "      <td>0.9772</td>\n",
       "    </tr>\n",
       "    <tr>\n",
       "      <th>42369</th>\n",
       "      <td>2.37</td>\n",
       "      <td>0.3025</td>\n",
       "      <td>0.1194</td>\n",
       "      <td>0.2165</td>\n",
       "      <td>70.0</td>\n",
       "      <td>0.012308</td>\n",
       "      <td>0.000579</td>\n",
       "      <td>0.001947</td>\n",
       "      <td>0.9862</td>\n",
       "    </tr>\n",
       "    <tr>\n",
       "      <th>42370</th>\n",
       "      <td>2.37</td>\n",
       "      <td>0.3025</td>\n",
       "      <td>0.1194</td>\n",
       "      <td>0.2165</td>\n",
       "      <td>90.0</td>\n",
       "      <td>0.014383</td>\n",
       "      <td>0.000733</td>\n",
       "      <td>0.002275</td>\n",
       "      <td>1.0001</td>\n",
       "    </tr>\n",
       "    <tr>\n",
       "      <th>...</th>\n",
       "      <td>...</td>\n",
       "      <td>...</td>\n",
       "      <td>...</td>\n",
       "      <td>...</td>\n",
       "      <td>...</td>\n",
       "      <td>...</td>\n",
       "      <td>...</td>\n",
       "      <td>...</td>\n",
       "      <td>...</td>\n",
       "    </tr>\n",
       "    <tr>\n",
       "      <th>44447</th>\n",
       "      <td>2.37</td>\n",
       "      <td>0.3025</td>\n",
       "      <td>0.8469</td>\n",
       "      <td>0.2165</td>\n",
       "      <td>170.0</td>\n",
       "      <td>0.000304</td>\n",
       "      <td>0.000186</td>\n",
       "      <td>0.000171</td>\n",
       "      <td>1.0405</td>\n",
       "    </tr>\n",
       "    <tr>\n",
       "      <th>44448</th>\n",
       "      <td>2.37</td>\n",
       "      <td>0.3025</td>\n",
       "      <td>0.8469</td>\n",
       "      <td>0.2165</td>\n",
       "      <td>190.0</td>\n",
       "      <td>0.000533</td>\n",
       "      <td>0.000427</td>\n",
       "      <td>0.000300</td>\n",
       "      <td>1.0405</td>\n",
       "    </tr>\n",
       "    <tr>\n",
       "      <th>44449</th>\n",
       "      <td>2.37</td>\n",
       "      <td>0.3025</td>\n",
       "      <td>0.8469</td>\n",
       "      <td>0.2165</td>\n",
       "      <td>210.0</td>\n",
       "      <td>0.002555</td>\n",
       "      <td>0.002857</td>\n",
       "      <td>0.001438</td>\n",
       "      <td>1.0397</td>\n",
       "    </tr>\n",
       "    <tr>\n",
       "      <th>44450</th>\n",
       "      <td>2.37</td>\n",
       "      <td>0.3025</td>\n",
       "      <td>0.8469</td>\n",
       "      <td>0.2165</td>\n",
       "      <td>230.0</td>\n",
       "      <td>0.000581</td>\n",
       "      <td>0.000486</td>\n",
       "      <td>0.000327</td>\n",
       "      <td>1.0342</td>\n",
       "    </tr>\n",
       "    <tr>\n",
       "      <th>44451</th>\n",
       "      <td>2.37</td>\n",
       "      <td>0.3025</td>\n",
       "      <td>0.8469</td>\n",
       "      <td>0.2165</td>\n",
       "      <td>270.0</td>\n",
       "      <td>0.004601</td>\n",
       "      <td>0.004200</td>\n",
       "      <td>0.002590</td>\n",
       "      <td>1.0009</td>\n",
       "    </tr>\n",
       "  </tbody>\n",
       "</table>\n",
       "<p>300 rows × 9 columns</p>\n",
       "</div>"
      ],
      "text/plain": [
       "         Q2       x       z     pT2    phi  ds_dxdQ2dzdpT2dphi  stat_err  \\\n",
       "42366  2.37  0.3025  0.1194  0.2165   10.0            0.013950  0.000587   \n",
       "42367  2.37  0.3025  0.1194  0.2165   30.0            0.012558  0.000671   \n",
       "42368  2.37  0.3025  0.1194  0.2165   50.0            0.012321  0.000531   \n",
       "42369  2.37  0.3025  0.1194  0.2165   70.0            0.012308  0.000579   \n",
       "42370  2.37  0.3025  0.1194  0.2165   90.0            0.014383  0.000733   \n",
       "...     ...     ...     ...     ...    ...                 ...       ...   \n",
       "44447  2.37  0.3025  0.8469  0.2165  170.0            0.000304  0.000186   \n",
       "44448  2.37  0.3025  0.8469  0.2165  190.0            0.000533  0.000427   \n",
       "44449  2.37  0.3025  0.8469  0.2165  210.0            0.002555  0.002857   \n",
       "44450  2.37  0.3025  0.8469  0.2165  230.0            0.000581  0.000486   \n",
       "44451  2.37  0.3025  0.8469  0.2165  270.0            0.004601  0.004200   \n",
       "\n",
       "        sys_err  rad_cor  \n",
       "42366  0.002209   0.9696  \n",
       "42367  0.001987   0.9720  \n",
       "42368  0.001949   0.9772  \n",
       "42369  0.001947   0.9862  \n",
       "42370  0.002275   1.0001  \n",
       "...         ...      ...  \n",
       "44447  0.000171   1.0405  \n",
       "44448  0.000300   1.0405  \n",
       "44449  0.001438   1.0397  \n",
       "44450  0.000327   1.0342  \n",
       "44451  0.002590   1.0009  \n",
       "\n",
       "[300 rows x 9 columns]"
      ]
     },
     "execution_count": 80,
     "metadata": {},
     "output_type": "execute_result"
    }
   ],
   "source": [
    "#For Q2=2.4,x=0.3,z =0.37,pt2=0.22, this part is for z from 0.1 to 1\n",
    "#The accurate value is Q2=2.37, x = 0.3025\n",
    "df1=clas6_data[clas6_data['Q2']==2.37][clas6_data['x']==0.3025][clas6_data['pT2']==0.2165]\n",
    "df1"
   ]
  },
  {
   "cell_type": "code",
   "execution_count": 81,
   "id": "6149ea93",
   "metadata": {
    "scrolled": true
   },
   "outputs": [
    {
     "name": "stdout",
     "output_type": "stream",
     "text": [
      "[0.1194, 0.1468, 0.1753, 0.2051, 0.2362, 0.2686, 0.3025, 0.3379, 0.3748, 0.4134, 0.4537, 0.4958, 0.5397, 0.5855, 0.6334, 0.6834, 0.7355, 0.79, 0.8469]\n",
      "[0.014099277777777777, 0.015230555555555553, 0.016806666666666668, 0.016694499999999998, 0.01566861111111111, 0.013706611111111112, 0.0119118, 0.01032851666666667, 0.008382177777777777, 0.0071001875, 0.0051145875, 0.0039298642857142855, 0.0031960285714285716, 0.0023337785714285715, 0.0017639071428571429, 0.0020078714285714284, 0.001472295, 0.001158965, 0.0015797275]\n",
      "[0.00223039 0.00184622 0.00207421 0.00207981 0.00191223 0.00164589\n",
      " 0.00142116 0.00122737 0.0009977  0.00085408 0.00062965 0.00049418\n",
      " 0.00041677 0.00031146 0.00031333 0.00031536 0.00034875 0.00030167\n",
      " 0.00088921]\n"
     ]
    },
    {
     "name": "stderr",
     "output_type": "stream",
     "text": [
      "/var/folders/ll/8_2_l77j4yl2zjb6stl8d9b00000gn/T/ipykernel_72471/6228610.py:41: UserWarning: marker is redundantly defined by the 'marker' keyword argument and the fmt string \"o\" (-> marker='o'). The keyword argument will take precedence.\n",
      "  plt.plot(zs_axis,xs_before_axis,'o',marker = 'v',color='red',label='No correction')\n"
     ]
    },
    {
     "data": {
      "image/png": "[encoded data removed]",
      "text/plain": [
       "<Figure size 432x288 with 1 Axes>"
      ]
     },
     "metadata": {
      "needs_background": "light"
     },
     "output_type": "display_data"
    }
   ],
   "source": [
    "\n",
    "zs = df1['z'].unique()\n",
    "#print(zs)\n",
    "zs_axis=[]\n",
    "xs_axis=[]\n",
    "xs_before_axis=[]\n",
    "xs_stat_err_axis=[]\n",
    "xs_sys_err_axis=[]\n",
    "fig = plt.figure()\n",
    "ax = fig.add_subplot()\n",
    "for i_z in zs:\n",
    "    #print(i_z)\n",
    "    #print(df1[df1['z']==i_z])#['ds_dxdQ2dzdpT2dphi'])\n",
    "    xs_phi=[]\n",
    "    xs_before_phi=[]\n",
    "    df1_z = df1[df1['z']==i_z]\n",
    "    for i_phi in df1_z['phi'].to_list():\n",
    "        #print(i_phi)\n",
    "        #print(df1_z[df1_z['phi']==i_phi]['ds_dxdQ2dzdpT2dphi'])\n",
    "        xs = np.mean(df1_z[df1_z['phi']==i_phi]['ds_dxdQ2dzdpT2dphi'])\n",
    "        rc = np.mean(df1_z[df1_z['phi']==i_phi]['rad_cor'])\n",
    "        #print(xs,rc)\n",
    "        xs_before=(xs/rc)\n",
    "        xs_phi.append(xs)\n",
    "        xs_before_phi.append(xs_before)\n",
    "    #print(xs_before)\n",
    "    xs = np.mean(xs_phi)\n",
    "    xs_before =np.mean(xs_before_phi)\n",
    "    xs_stat_err = np.mean(df1[df1['z']==i_z]['stat_err'])\n",
    "    xs_sys_err = np.mean(df1[df1['z']==i_z]['sys_err'])\n",
    "    zs_axis.append(i_z)\n",
    "    xs_axis.append(xs)\n",
    "    xs_before_axis.append(xs_before)\n",
    "    xs_stat_err_axis.append(xs_stat_err)\n",
    "    xs_sys_err_axis.append(xs_sys_err)\n",
    "    ax.plot([i_z,i_z],[xs-xs_stat_err,xs+xs_stat_err],color='blue',marker='_')\n",
    "print(zs_axis)\n",
    "print(xs_axis)\n",
    "print(np.asarray(xs_sys_err_axis))\n",
    "ax.fill_between(zs_axis,np.asarray(xs_axis)-np.asarray(xs_sys_err_axis),np.asarray(xs_axis)+np.asarray(xs_sys_err_axis),color='blue',alpha=0.25,linewidth=0,label='sys err')\n",
    "plt.plot(zs_axis,xs_axis,'o',color='blue',label='CLAS6 Data')\n",
    "plt.plot(zs_axis,xs_before_axis,'o',marker = 'v',color='red',label='No correction')\n",
    "plt.xlabel('z',fontsize=20)\n",
    "\n",
    "\n",
    "plt.plot(zs_traditional,np.asarray(xs_born_traditional)*Factor_born_z,'-',label='Born xs traditional')\n",
    "plt.plot(zs_rc_traditional,np.asarray(xs_rc_traditional)*Factor_rc_z,'-',label='RC xs traditional')\n",
    "#plt.plot(zs_factorized,((1000*(-2.44+3.141592))/(2.56819*2*(2*math.pi)))*np.asarray(xs_rc_factorizeds),'-',label='Factorized')\n",
    "plt.plot(zs_factorized,((1000)/(2.56819*(2*math.pi**2)))*np.asarray(xs_rc_factorizeds),'-',label='Factorized')\n",
    "#plt.xlim(0.3,0.7)\n",
    "#plt.ylim(0,0.02)\n",
    "plt.legend()\n",
    "\n",
    "plt.savefig('clas6/compare_z.pdf')"
   ]
  },
  {
   "cell_type": "code",
   "execution_count": 12,
   "id": "cfd083e1",
   "metadata": {
    "scrolled": true
   },
   "outputs": [
    {
     "name": "stderr",
     "output_type": "stream",
     "text": [
      "/var/folders/ll/8_2_l77j4yl2zjb6stl8d9b00000gn/T/ipykernel_72471/4191473674.py:27: UserWarning: marker is redundantly defined by the 'marker' keyword argument and the fmt string \"o\" (-> marker='o'). The keyword argument will take precedence.\n",
      "  plt.plot(zs_axis,xs_before_axis,'o',marker = 'v',color='red',label='No correction')\n"
     ]
    },
    {
     "data": {
      "image/png": "[encoded data removed]",
      "text/plain": [
       "<Figure size 432x288 with 1 Axes>"
      ]
     },
     "metadata": {
      "needs_background": "light"
     },
     "output_type": "display_data"
    }
   ],
   "source": [
    "\n",
    "zs = df1['z'].unique()\n",
    "zs_axis=[]\n",
    "xs_axis=[]\n",
    "xs_before_axis=[]\n",
    "xs_stat_err_axis=[]\n",
    "xs_sys_err_axis=[]\n",
    "fig = plt.figure()\n",
    "ax = fig.add_subplot()\n",
    "for i_z in zs:\n",
    "    #print(i_z)\n",
    "    #print(df1[df1['z']==i_z])#['ds_dxdQ2dzdpT2dphi'])\n",
    "    xs = np.mean(df1[df1['z']==i_z]['ds_dxdQ2dzdpT2dphi'])\n",
    "    rc = np.mean(df1[df1['z']==i_z]['rad_cor'])\n",
    "    xs_before=(xs/rc)\n",
    "    #print(xs)\n",
    "    xs_stat_err = np.mean(df1[df1['z']==i_z]['stat_err'])\n",
    "    xs_sys_err = np.mean(df1[df1['z']==i_z]['sys_err'])\n",
    "    zs_axis.append(i_z)\n",
    "    xs_axis.append(xs)\n",
    "    xs_before_axis.append(xs_before)\n",
    "    xs_stat_err_axis.append(xs_stat_err)\n",
    "    xs_sys_err_axis.append(xs_sys_err)\n",
    "    ax.plot([i_z,i_z],[xs-xs_stat_err,xs+xs_stat_err],color='blue',marker='_')\n",
    "\n",
    "ax.fill_between(zs_axis,np.asarray(xs_axis)-np.asarray(xs_sys_err_axis),np.asarray(xs_axis)+np.asarray(xs_sys_err_axis),color='blue',alpha=0.25,linewidth=0,label='sys err')\n",
    "plt.plot(zs_axis,xs_axis,'o',color='blue',label='CLAS6 Data')\n",
    "plt.plot(zs_axis,xs_before_axis,'o',marker = 'v',color='red',label='No correction')\n",
    "plt.xlabel('z',fontsize=20)\n",
    "\n",
    "\n",
    "plt.plot(zs_traditional,np.asarray(xs_born_traditional)*Factor_born_z,'-',label='Born xs traditional')\n",
    "plt.plot(zs_rc_traditional,np.asarray(xs_rc_traditional)*Factor_rc_z,'-',label='RC xs traditional')\n",
    "#plt.plot(zs_factorized,2*xs_rc_factorized,'-',label='2*Factorized')\n",
    "#plt.xlim(0.3,0.7)\n",
    "#plt.ylim(0,0.02)\n",
    "plt.legend()\n",
    "\n",
    "plt.savefig('clas6/compare_z_20.pdf')"
   ]
  },
  {
   "cell_type": "code",
   "execution_count": 13,
   "id": "62851f92",
   "metadata": {
    "scrolled": false
   },
   "outputs": [
    {
     "name": "stdout",
     "output_type": "stream",
     "text": [
      "2.7763018e-09\n"
     ]
    },
    {
     "data": {
      "image/png": "[encoded data removed]",
      "text/plain": [
       "<Figure size 432x288 with 1 Axes>"
      ]
     },
     "metadata": {
      "needs_background": "light"
     },
     "output_type": "display_data"
    }
   ],
   "source": [
    "\n",
    "Factor_born_Q2 =1000/(2.56819*(0.32-0.28)*(0.2809-0.1681)*(0.4-0.36)*(-2.44+3.141592))\n",
    "Factor_rc_Q2 = Factor_born_Q2\n",
    "df_born_Q2_traditional=pd.read_csv('clas6/out_clas6_born_Q2.txt',delim_whitespace=True,skiprows=[0])\n",
    "df_born_Q2_traditional.head()\n",
    "df_rc_Q2_traditional=pd.read_csv('clas6/out_clas6_rc_Q2.txt',delim_whitespace=True,skiprows=[0])\n",
    "df_rc_Q2_traditional.head()\n",
    "\n",
    "Q2s_born_traditional = df_born_Q2_traditional['Q2']\n",
    "xss_Q2_born_traditional = df_born_Q2_traditional['yield']\n",
    "Q2s_rc_traditional = df_rc_Q2_traditional['Q2']\n",
    "xss_Q2_rc_traditional = df_rc_Q2_traditional['yield']\n",
    "\n",
    "plt.plot(Q2s_born_traditional,xss_Q2_born_traditional,label = 'born')\n",
    "plt.plot(Q2s_rc_traditional,xss_Q2_rc_traditional,label = 'rc')\n",
    "plt.legend()\n",
    "print(df_rc_Q2_traditional['yield'].sum())"
   ]
  },
  {
   "cell_type": "code",
   "execution_count": 14,
   "id": "a3feeb26",
   "metadata": {
    "scrolled": true
   },
   "outputs": [
    {
     "name": "stderr",
     "output_type": "stream",
     "text": [
      "/var/folders/ll/8_2_l77j4yl2zjb6stl8d9b00000gn/T/ipykernel_72471/3283783684.py:3: UserWarning: Boolean Series key will be reindexed to match DataFrame index.\n",
      "  df_Q2=clas6_data[clas6_data['z']==0.3748][clas6_data['x']==0.3025][clas6_data['pT2']==0.2165][clas6_data['phi']==10]\n"
     ]
    },
    {
     "data": {
      "text/html": [
       "<div>\n",
       "<style scoped>\n",
       "    .dataframe tbody tr th:only-of-type {\n",
       "        vertical-align: middle;\n",
       "    }\n",
       "\n",
       "    .dataframe tbody tr th {\n",
       "        vertical-align: top;\n",
       "    }\n",
       "\n",
       "    .dataframe thead th {\n",
       "        text-align: right;\n",
       "    }\n",
       "</style>\n",
       "<table border=\"1\" class=\"dataframe\">\n",
       "  <thead>\n",
       "    <tr style=\"text-align: right;\">\n",
       "      <th></th>\n",
       "      <th>Q2</th>\n",
       "      <th>x</th>\n",
       "      <th>z</th>\n",
       "      <th>pT2</th>\n",
       "      <th>phi</th>\n",
       "      <th>ds_dxdQ2dzdpT2dphi</th>\n",
       "      <th>stat_err</th>\n",
       "      <th>sys_err</th>\n",
       "      <th>rad_cor</th>\n",
       "    </tr>\n",
       "  </thead>\n",
       "  <tbody>\n",
       "    <tr>\n",
       "      <th>12803</th>\n",
       "      <td>1.74</td>\n",
       "      <td>0.3025</td>\n",
       "      <td>0.3748</td>\n",
       "      <td>0.2165</td>\n",
       "      <td>10.0</td>\n",
       "      <td>0.015876</td>\n",
       "      <td>0.008506</td>\n",
       "      <td>0.002292</td>\n",
       "      <td>0.9227</td>\n",
       "    </tr>\n",
       "    <tr>\n",
       "      <th>26990</th>\n",
       "      <td>2.02</td>\n",
       "      <td>0.3025</td>\n",
       "      <td>0.3748</td>\n",
       "      <td>0.2165</td>\n",
       "      <td>10.0</td>\n",
       "      <td>0.008056</td>\n",
       "      <td>0.003790</td>\n",
       "      <td>0.001017</td>\n",
       "      <td>0.9335</td>\n",
       "    </tr>\n",
       "    <tr>\n",
       "      <th>43262</th>\n",
       "      <td>2.37</td>\n",
       "      <td>0.3025</td>\n",
       "      <td>0.3748</td>\n",
       "      <td>0.2165</td>\n",
       "      <td>10.0</td>\n",
       "      <td>0.008034</td>\n",
       "      <td>0.002235</td>\n",
       "      <td>0.000957</td>\n",
       "      <td>0.9483</td>\n",
       "    </tr>\n",
       "    <tr>\n",
       "      <th>57639</th>\n",
       "      <td>2.93</td>\n",
       "      <td>0.3025</td>\n",
       "      <td>0.3748</td>\n",
       "      <td>0.2165</td>\n",
       "      <td>10.0</td>\n",
       "      <td>0.005654</td>\n",
       "      <td>0.001360</td>\n",
       "      <td>0.000677</td>\n",
       "      <td>0.9770</td>\n",
       "    </tr>\n",
       "  </tbody>\n",
       "</table>\n",
       "</div>"
      ],
      "text/plain": [
       "         Q2       x       z     pT2   phi  ds_dxdQ2dzdpT2dphi  stat_err  \\\n",
       "12803  1.74  0.3025  0.3748  0.2165  10.0            0.015876  0.008506   \n",
       "26990  2.02  0.3025  0.3748  0.2165  10.0            0.008056  0.003790   \n",
       "43262  2.37  0.3025  0.3748  0.2165  10.0            0.008034  0.002235   \n",
       "57639  2.93  0.3025  0.3748  0.2165  10.0            0.005654  0.001360   \n",
       "\n",
       "        sys_err  rad_cor  \n",
       "12803  0.002292   0.9227  \n",
       "26990  0.001017   0.9335  \n",
       "43262  0.000957   0.9483  \n",
       "57639  0.000677   0.9770  "
      ]
     },
     "execution_count": 14,
     "metadata": {},
     "output_type": "execute_result"
    }
   ],
   "source": [
    "#For Q2=2.4,x=0.3,z =0.37,pt2=0.22, this part is for Q2 from 1.6 to 3.2\n",
    "#The accurate value is Q2=2.37, x = 0.3025,z = 0.3748\n",
    "df_Q2=clas6_data[clas6_data['z']==0.3748][clas6_data['x']==0.3025][clas6_data['pT2']==0.2165][clas6_data['phi']==10]\n",
    "df_Q2\n"
   ]
  },
  {
   "cell_type": "code",
   "execution_count": 15,
   "id": "10a49a2d",
   "metadata": {
    "scrolled": true
   },
   "outputs": [
    {
     "name": "stderr",
     "output_type": "stream",
     "text": [
      "/var/folders/ll/8_2_l77j4yl2zjb6stl8d9b00000gn/T/ipykernel_72471/2526305188.py:27: UserWarning: marker is redundantly defined by the 'marker' keyword argument and the fmt string \"o\" (-> marker='o'). The keyword argument will take precedence.\n",
      "  plt.plot(Q2s_axis,xs_before_axis,'o',marker = 'v',color='red',label='No correction')\n"
     ]
    },
    {
     "data": {
      "image/png": "[encoded data removed]",
      "text/plain": [
       "<Figure size 432x288 with 1 Axes>"
      ]
     },
     "metadata": {
      "needs_background": "light"
     },
     "output_type": "display_data"
    }
   ],
   "source": [
    "\n",
    "Q2s = df_Q2['Q2'].unique()\n",
    "Q2s_axis=[]\n",
    "xs_axis=[]\n",
    "xs_before_axis=[]\n",
    "xs_stat_err_axis=[]\n",
    "xs_sys_err_axis=[]\n",
    "fig = plt.figure()\n",
    "ax = fig.add_subplot()\n",
    "for i_Q2 in Q2s:\n",
    "    \n",
    "    \n",
    "    xs = np.mean(df_Q2[df_Q2['Q2']==i_Q2]['ds_dxdQ2dzdpT2dphi'])\n",
    "    rc = np.mean(df_Q2[df_Q2['Q2']==i_Q2]['rad_cor'])       \n",
    "    xs_before = xs/rc\n",
    "\n",
    "    xs_stat_err = np.mean(df_Q2[df_Q2['Q2']==i_Q2]['stat_err'])\n",
    "    xs_sys_err = np.mean(df_Q2[df_Q2['Q2']==i_Q2]['sys_err'])\n",
    "    Q2s_axis.append(i_Q2)\n",
    "    xs_axis.append(xs)\n",
    "    xs_before_axis.append(xs_before)\n",
    "    xs_stat_err_axis.append(xs_stat_err)\n",
    "    xs_sys_err_axis.append(xs_sys_err)\n",
    "    ax.plot([i_Q2,i_Q2],[xs-xs_stat_err,xs+xs_stat_err],color='blue',marker='_')\n",
    "\n",
    "ax.fill_between(Q2s_axis,np.asarray(xs_axis)-np.asarray(xs_sys_err_axis),np.asarray(xs_axis)+np.asarray(xs_sys_err_axis),color='blue',alpha=0.25,linewidth=0,label='sys err')\n",
    "plt.plot(Q2s_axis,xs_axis,'o',color='blue',label='CLAS6 Data')\n",
    "plt.plot(Q2s_axis,xs_before_axis,'o',marker = 'v',color='red',label='No correction')\n",
    "plt.xlabel('Q2',fontsize=20)\n",
    "\n",
    "\n",
    "plt.plot(Q2s_born_traditional,np.asarray(xss_Q2_born_traditional)*Factor_born_Q2,'-',label='Born xs traditional')\n",
    "plt.plot(Q2s_rc_traditional,np.asarray(xss_Q2_rc_traditional)*Factor_rc_Q2,'-',label='RC xs traditional')\n",
    "#plt.plot(Q2s_factorized,xs_rc_factorized,'-',label='Factorized')\n",
    "plt.xlim(1.6,3.3)\n",
    "#plt.ylim(0,0.02)\n",
    "plt.legend()\n",
    "\n",
    "plt.savefig('clas6/compare_Q2.pdf')"
   ]
  },
  {
   "cell_type": "code",
   "execution_count": 16,
   "id": "b8fbdbc3",
   "metadata": {
    "scrolled": true
   },
   "outputs": [
    {
     "data": {
      "text/plain": [
       "<matplotlib.legend.Legend at 0x12f48d8b0>"
      ]
     },
     "execution_count": 16,
     "metadata": {},
     "output_type": "execute_result"
    },
    {
     "data": {
      "image/png": "[encoded data removed]",
      "text/plain": [
       "<Figure size 432x288 with 1 Axes>"
      ]
     },
     "metadata": {
      "needs_background": "light"
     },
     "output_type": "display_data"
    }
   ],
   "source": [
    "\n",
    "\n",
    "Factor_born_pT2 = 1000/(2.56819*(2.66-2.23)*(0.32-0.28)*(0.2809-0.1681)*(-2.44+3.141592)*(0.4-0.36))\n",
    "Factor_rc_pT2 = Factor_born_pT2\n",
    "df_born_pT2_traditional=pd.read_csv('clas6/out_clas6_born_pT2.txt',delim_whitespace=True,skiprows=[0])\n",
    "df_born_pT2_traditional.head()\n",
    "df_rc_pT2_traditional=pd.read_csv('clas6/out_clas6_rc_pT2.txt',delim_whitespace=True,skiprows=[0])\n",
    "df_rc_pT2_traditional.head()\n",
    "\n",
    "pT2s_born_traditional = df_born_pT2_traditional['pT2']\n",
    "xss_pT2_born_traditional = df_born_pT2_traditional['yield']\n",
    "pT2s_rc_traditional = df_rc_pT2_traditional['pT2']\n",
    "xss_pT2_rc_traditional = df_rc_pT2_traditional['yield']\n",
    "\n",
    "plt.plot(pT2s_born_traditional,xss_pT2_born_traditional,label = 'born')\n",
    "plt.plot(pT2s_rc_traditional,xss_pT2_rc_traditional,label = 'rc')\n",
    "plt.legend()"
   ]
  },
  {
   "cell_type": "code",
   "execution_count": 17,
   "id": "dfe6ab72",
   "metadata": {
    "scrolled": true
   },
   "outputs": [
    {
     "name": "stderr",
     "output_type": "stream",
     "text": [
      "/var/folders/ll/8_2_l77j4yl2zjb6stl8d9b00000gn/T/ipykernel_72471/3435505329.py:3: UserWarning: Boolean Series key will be reindexed to match DataFrame index.\n",
      "  df_pT2=clas6_data[clas6_data['z']==0.3748][clas6_data['x']==0.3025][clas6_data['Q2']==2.37][clas6_data['phi']==10]\n"
     ]
    },
    {
     "data": {
      "text/html": [
       "<div>\n",
       "<style scoped>\n",
       "    .dataframe tbody tr th:only-of-type {\n",
       "        vertical-align: middle;\n",
       "    }\n",
       "\n",
       "    .dataframe tbody tr th {\n",
       "        vertical-align: top;\n",
       "    }\n",
       "\n",
       "    .dataframe thead th {\n",
       "        text-align: right;\n",
       "    }\n",
       "</style>\n",
       "<table border=\"1\" class=\"dataframe\">\n",
       "  <thead>\n",
       "    <tr style=\"text-align: right;\">\n",
       "      <th></th>\n",
       "      <th>Q2</th>\n",
       "      <th>x</th>\n",
       "      <th>z</th>\n",
       "      <th>pT2</th>\n",
       "      <th>phi</th>\n",
       "      <th>ds_dxdQ2dzdpT2dphi</th>\n",
       "      <th>stat_err</th>\n",
       "      <th>sys_err</th>\n",
       "      <th>rad_cor</th>\n",
       "    </tr>\n",
       "  </thead>\n",
       "  <tbody>\n",
       "    <tr>\n",
       "      <th>43204</th>\n",
       "      <td>2.37</td>\n",
       "      <td>0.3025</td>\n",
       "      <td>0.3748</td>\n",
       "      <td>0.0049</td>\n",
       "      <td>10.0</td>\n",
       "      <td>0.017539</td>\n",
       "      <td>0.006962</td>\n",
       "      <td>0.002361</td>\n",
       "      <td>0.9819</td>\n",
       "    </tr>\n",
       "    <tr>\n",
       "      <th>43262</th>\n",
       "      <td>2.37</td>\n",
       "      <td>0.3025</td>\n",
       "      <td>0.3748</td>\n",
       "      <td>0.2165</td>\n",
       "      <td>10.0</td>\n",
       "      <td>0.008034</td>\n",
       "      <td>0.002235</td>\n",
       "      <td>0.000957</td>\n",
       "      <td>0.9483</td>\n",
       "    </tr>\n",
       "    <tr>\n",
       "      <th>43280</th>\n",
       "      <td>2.37</td>\n",
       "      <td>0.3025</td>\n",
       "      <td>0.3748</td>\n",
       "      <td>0.3402</td>\n",
       "      <td>10.0</td>\n",
       "      <td>0.003871</td>\n",
       "      <td>0.000383</td>\n",
       "      <td>0.000467</td>\n",
       "      <td>0.9413</td>\n",
       "    </tr>\n",
       "    <tr>\n",
       "      <th>43298</th>\n",
       "      <td>2.37</td>\n",
       "      <td>0.3025</td>\n",
       "      <td>0.3748</td>\n",
       "      <td>0.5074</td>\n",
       "      <td>10.0</td>\n",
       "      <td>0.001013</td>\n",
       "      <td>0.000112</td>\n",
       "      <td>0.000123</td>\n",
       "      <td>0.9339</td>\n",
       "    </tr>\n",
       "    <tr>\n",
       "      <th>43316</th>\n",
       "      <td>2.37</td>\n",
       "      <td>0.3025</td>\n",
       "      <td>0.3748</td>\n",
       "      <td>0.7427</td>\n",
       "      <td>10.0</td>\n",
       "      <td>0.000277</td>\n",
       "      <td>0.000043</td>\n",
       "      <td>0.000035</td>\n",
       "      <td>0.9236</td>\n",
       "    </tr>\n",
       "  </tbody>\n",
       "</table>\n",
       "</div>"
      ],
      "text/plain": [
       "         Q2       x       z     pT2   phi  ds_dxdQ2dzdpT2dphi  stat_err  \\\n",
       "43204  2.37  0.3025  0.3748  0.0049  10.0            0.017539  0.006962   \n",
       "43262  2.37  0.3025  0.3748  0.2165  10.0            0.008034  0.002235   \n",
       "43280  2.37  0.3025  0.3748  0.3402  10.0            0.003871  0.000383   \n",
       "43298  2.37  0.3025  0.3748  0.5074  10.0            0.001013  0.000112   \n",
       "43316  2.37  0.3025  0.3748  0.7427  10.0            0.000277  0.000043   \n",
       "\n",
       "        sys_err  rad_cor  \n",
       "43204  0.002361   0.9819  \n",
       "43262  0.000957   0.9483  \n",
       "43280  0.000467   0.9413  \n",
       "43298  0.000123   0.9339  \n",
       "43316  0.000035   0.9236  "
      ]
     },
     "execution_count": 17,
     "metadata": {},
     "output_type": "execute_result"
    }
   ],
   "source": [
    "#For Q2=2.4,x=0.3,z =0.37,pt2=0.22, this part is for Q2 from 1.6 to 3.2\n",
    "#The accurate value is Q2=2.37, x = 0.3025,z = 0.3748\n",
    "df_pT2=clas6_data[clas6_data['z']==0.3748][clas6_data['x']==0.3025][clas6_data['Q2']==2.37][clas6_data['phi']==10]\n",
    "df_pT2\n"
   ]
  },
  {
   "cell_type": "code",
   "execution_count": 18,
   "id": "b0064643",
   "metadata": {
    "scrolled": true
   },
   "outputs": [
    {
     "name": "stderr",
     "output_type": "stream",
     "text": [
      "/var/folders/ll/8_2_l77j4yl2zjb6stl8d9b00000gn/T/ipykernel_72471/3809138499.py:25: UserWarning: marker is redundantly defined by the 'marker' keyword argument and the fmt string \"o\" (-> marker='o'). The keyword argument will take precedence.\n",
      "  plt.plot(pT2s_axis,xs_before_axis,'o',marker = 'v',color='red',label='No correction')\n"
     ]
    },
    {
     "data": {
      "image/png": "[encoded data removed]",
      "text/plain": [
       "<Figure size 432x288 with 1 Axes>"
      ]
     },
     "metadata": {
      "needs_background": "light"
     },
     "output_type": "display_data"
    }
   ],
   "source": [
    "\n",
    "pT2s = df_pT2['pT2'].unique()\n",
    "pT2s_axis=[]\n",
    "xs_axis=[]\n",
    "xs_before_axis=[]\n",
    "xs_stat_err_axis=[]\n",
    "xs_sys_err_axis=[]\n",
    "fig = plt.figure()\n",
    "ax = fig.add_subplot()\n",
    "for i_pT2 in pT2s: \n",
    "    xs = np.mean(df_pT2[df_pT2['pT2']==i_pT2]['ds_dxdQ2dzdpT2dphi'])\n",
    "    rc = np.mean(df_pT2[df_pT2['pT2']==i_pT2]['rad_cor'])\n",
    "    xs_before = xs/rc\n",
    "    #print(xs)\n",
    "    xs_stat_err = np.mean(df_pT2[df_pT2['pT2']==i_pT2]['stat_err'])\n",
    "    xs_sys_err = np.mean(df_pT2[df_pT2['pT2']==i_pT2]['sys_err'])\n",
    "    pT2s_axis.append(i_pT2)\n",
    "    xs_axis.append(xs)\n",
    "    xs_before_axis.append(xs_before)\n",
    "    xs_stat_err_axis.append(xs_stat_err)\n",
    "    xs_sys_err_axis.append(xs_sys_err)\n",
    "    ax.plot([i_pT2,i_pT2],[xs-xs_stat_err,xs+xs_stat_err],color='blue',marker='_')\n",
    "\n",
    "ax.fill_between(pT2s_axis,np.asarray(xs_axis)-np.asarray(xs_sys_err_axis),np.asarray(xs_axis)+np.asarray(xs_sys_err_axis),color='blue',alpha=0.25,linewidth=0,label='sys err')\n",
    "plt.plot(pT2s_axis,xs_axis,'o',color='blue',label='CLAS6 Data')\n",
    "plt.plot(pT2s_axis,xs_before_axis,'o',marker = 'v',color='red',label='No correction')\n",
    "plt.xlabel('pT2',fontsize=20)\n",
    "\n",
    "\n",
    "plt.plot(pT2s_born_traditional,np.asarray(xss_pT2_born_traditional)*Factor_born_pT2,'-',label='Born xs traditional')\n",
    "plt.plot(pT2s_rc_traditional,np.asarray(xss_pT2_rc_traditional)*Factor_rc_pT2,'-',label='RC xs traditional')\n",
    "#plt.plot(pT2s_factorized,xs_rc_factorized,'-',label='Factorized')\n",
    "plt.xlim(0,1.2)\n",
    "#plt.ylim(0,0.02)\n",
    "plt.legend()\n",
    "\n",
    "plt.savefig('clas6/compare_pT2.pdf')"
   ]
  },
  {
   "cell_type": "code",
   "execution_count": 19,
   "id": "8472ed20",
   "metadata": {
    "scrolled": true
   },
   "outputs": [
    {
     "data": {
      "text/plain": [
       "<matplotlib.legend.Legend at 0x12f818880>"
      ]
     },
     "execution_count": 19,
     "metadata": {},
     "output_type": "execute_result"
    },
    {
     "data": {
      "image/png": "[encoded data removed]",
      "text/plain": [
       "<Figure size 432x288 with 1 Axes>"
      ]
     },
     "metadata": {
      "needs_background": "light"
     },
     "output_type": "display_data"
    }
   ],
   "source": [
    "\n",
    "Factor_born_phi = 1000/(2.56819*(2.66-2.23)*(0.32-0.28)*(0.2809-0.1681)*(-2.44+3.141592)*(0.4-0.36))\n",
    "Factor_rc_phi = Factor_born_phi\n",
    "df_born_phi_traditional=pd.read_csv('clas6/out_clas6_born_phi.txt',delim_whitespace=True,skiprows=[0])\n",
    "df_born_phi_traditional.head()\n",
    "df_rc_phi_traditional=pd.read_csv('clas6/out_clas6_rc_phi.txt',delim_whitespace=True,skiprows=[0])\n",
    "df_rc_phi_traditional.head()\n",
    "\n",
    "phis_born_traditional = df_born_phi_traditional['phi']\n",
    "xss_phi_born_traditional = df_born_phi_traditional['yield']\n",
    "phis_rc_traditional = df_rc_phi_traditional['phi']\n",
    "xss_phi_rc_traditional = df_rc_phi_traditional['yield']\n",
    "\n",
    "plt.plot(phis_born_traditional,xss_phi_born_traditional,label = 'born')\n",
    "plt.plot(phis_rc_traditional,xss_phi_rc_traditional,label = 'rc')\n",
    "plt.legend()"
   ]
  },
  {
   "cell_type": "code",
   "execution_count": 20,
   "id": "faf0aa25",
   "metadata": {
    "scrolled": true
   },
   "outputs": [
    {
     "name": "stderr",
     "output_type": "stream",
     "text": [
      "/var/folders/ll/8_2_l77j4yl2zjb6stl8d9b00000gn/T/ipykernel_72471/3454688585.py:3: UserWarning: Boolean Series key will be reindexed to match DataFrame index.\n",
      "  df_phi=clas6_data[clas6_data['z']==0.3748][clas6_data['x']==0.3025][clas6_data['Q2']==2.37][clas6_data['pT2']==0.2165]\n"
     ]
    },
    {
     "data": {
      "text/html": [
       "<div>\n",
       "<style scoped>\n",
       "    .dataframe tbody tr th:only-of-type {\n",
       "        vertical-align: middle;\n",
       "    }\n",
       "\n",
       "    .dataframe tbody tr th {\n",
       "        vertical-align: top;\n",
       "    }\n",
       "\n",
       "    .dataframe thead th {\n",
       "        text-align: right;\n",
       "    }\n",
       "</style>\n",
       "<table border=\"1\" class=\"dataframe\">\n",
       "  <thead>\n",
       "    <tr style=\"text-align: right;\">\n",
       "      <th></th>\n",
       "      <th>Q2</th>\n",
       "      <th>x</th>\n",
       "      <th>z</th>\n",
       "      <th>pT2</th>\n",
       "      <th>phi</th>\n",
       "      <th>ds_dxdQ2dzdpT2dphi</th>\n",
       "      <th>stat_err</th>\n",
       "      <th>sys_err</th>\n",
       "      <th>rad_cor</th>\n",
       "    </tr>\n",
       "  </thead>\n",
       "  <tbody>\n",
       "    <tr>\n",
       "      <th>43262</th>\n",
       "      <td>2.37</td>\n",
       "      <td>0.3025</td>\n",
       "      <td>0.3748</td>\n",
       "      <td>0.2165</td>\n",
       "      <td>10.0</td>\n",
       "      <td>0.008034</td>\n",
       "      <td>0.002235</td>\n",
       "      <td>0.000957</td>\n",
       "      <td>0.9483</td>\n",
       "    </tr>\n",
       "    <tr>\n",
       "      <th>43263</th>\n",
       "      <td>2.37</td>\n",
       "      <td>0.3025</td>\n",
       "      <td>0.3748</td>\n",
       "      <td>0.2165</td>\n",
       "      <td>30.0</td>\n",
       "      <td>0.008323</td>\n",
       "      <td>0.000506</td>\n",
       "      <td>0.000991</td>\n",
       "      <td>0.9523</td>\n",
       "    </tr>\n",
       "    <tr>\n",
       "      <th>43264</th>\n",
       "      <td>2.37</td>\n",
       "      <td>0.3025</td>\n",
       "      <td>0.3748</td>\n",
       "      <td>0.2165</td>\n",
       "      <td>50.0</td>\n",
       "      <td>0.008241</td>\n",
       "      <td>0.000657</td>\n",
       "      <td>0.000981</td>\n",
       "      <td>0.9602</td>\n",
       "    </tr>\n",
       "    <tr>\n",
       "      <th>43265</th>\n",
       "      <td>2.37</td>\n",
       "      <td>0.3025</td>\n",
       "      <td>0.3748</td>\n",
       "      <td>0.2165</td>\n",
       "      <td>70.0</td>\n",
       "      <td>0.008909</td>\n",
       "      <td>0.000401</td>\n",
       "      <td>0.001060</td>\n",
       "      <td>0.9723</td>\n",
       "    </tr>\n",
       "    <tr>\n",
       "      <th>43266</th>\n",
       "      <td>2.37</td>\n",
       "      <td>0.3025</td>\n",
       "      <td>0.3748</td>\n",
       "      <td>0.2165</td>\n",
       "      <td>90.0</td>\n",
       "      <td>0.008734</td>\n",
       "      <td>0.000260</td>\n",
       "      <td>0.001039</td>\n",
       "      <td>0.9884</td>\n",
       "    </tr>\n",
       "    <tr>\n",
       "      <th>43267</th>\n",
       "      <td>2.37</td>\n",
       "      <td>0.3025</td>\n",
       "      <td>0.3748</td>\n",
       "      <td>0.2165</td>\n",
       "      <td>110.0</td>\n",
       "      <td>0.008689</td>\n",
       "      <td>0.000295</td>\n",
       "      <td>0.001034</td>\n",
       "      <td>1.0096</td>\n",
       "    </tr>\n",
       "    <tr>\n",
       "      <th>43268</th>\n",
       "      <td>2.37</td>\n",
       "      <td>0.3025</td>\n",
       "      <td>0.3748</td>\n",
       "      <td>0.2165</td>\n",
       "      <td>130.0</td>\n",
       "      <td>0.008214</td>\n",
       "      <td>0.000397</td>\n",
       "      <td>0.000977</td>\n",
       "      <td>1.0350</td>\n",
       "    </tr>\n",
       "    <tr>\n",
       "      <th>43269</th>\n",
       "      <td>2.37</td>\n",
       "      <td>0.3025</td>\n",
       "      <td>0.3748</td>\n",
       "      <td>0.2165</td>\n",
       "      <td>150.0</td>\n",
       "      <td>0.008501</td>\n",
       "      <td>0.000322</td>\n",
       "      <td>0.001012</td>\n",
       "      <td>1.0538</td>\n",
       "    </tr>\n",
       "    <tr>\n",
       "      <th>43270</th>\n",
       "      <td>2.37</td>\n",
       "      <td>0.3025</td>\n",
       "      <td>0.3748</td>\n",
       "      <td>0.2165</td>\n",
       "      <td>170.0</td>\n",
       "      <td>0.008402</td>\n",
       "      <td>0.000237</td>\n",
       "      <td>0.001000</td>\n",
       "      <td>1.0588</td>\n",
       "    </tr>\n",
       "    <tr>\n",
       "      <th>43271</th>\n",
       "      <td>2.37</td>\n",
       "      <td>0.3025</td>\n",
       "      <td>0.3748</td>\n",
       "      <td>0.2165</td>\n",
       "      <td>190.0</td>\n",
       "      <td>0.008054</td>\n",
       "      <td>0.000230</td>\n",
       "      <td>0.000958</td>\n",
       "      <td>1.0588</td>\n",
       "    </tr>\n",
       "    <tr>\n",
       "      <th>43272</th>\n",
       "      <td>2.37</td>\n",
       "      <td>0.3025</td>\n",
       "      <td>0.3748</td>\n",
       "      <td>0.2165</td>\n",
       "      <td>210.0</td>\n",
       "      <td>0.008623</td>\n",
       "      <td>0.000325</td>\n",
       "      <td>0.001026</td>\n",
       "      <td>1.0538</td>\n",
       "    </tr>\n",
       "    <tr>\n",
       "      <th>43273</th>\n",
       "      <td>2.37</td>\n",
       "      <td>0.3025</td>\n",
       "      <td>0.3748</td>\n",
       "      <td>0.2165</td>\n",
       "      <td>230.0</td>\n",
       "      <td>0.008604</td>\n",
       "      <td>0.000415</td>\n",
       "      <td>0.001024</td>\n",
       "      <td>1.0350</td>\n",
       "    </tr>\n",
       "    <tr>\n",
       "      <th>43274</th>\n",
       "      <td>2.37</td>\n",
       "      <td>0.3025</td>\n",
       "      <td>0.3748</td>\n",
       "      <td>0.2165</td>\n",
       "      <td>250.0</td>\n",
       "      <td>0.008494</td>\n",
       "      <td>0.000290</td>\n",
       "      <td>0.001011</td>\n",
       "      <td>1.0096</td>\n",
       "    </tr>\n",
       "    <tr>\n",
       "      <th>43275</th>\n",
       "      <td>2.37</td>\n",
       "      <td>0.3025</td>\n",
       "      <td>0.3748</td>\n",
       "      <td>0.2165</td>\n",
       "      <td>270.0</td>\n",
       "      <td>0.008451</td>\n",
       "      <td>0.000256</td>\n",
       "      <td>0.001006</td>\n",
       "      <td>0.9884</td>\n",
       "    </tr>\n",
       "    <tr>\n",
       "      <th>43276</th>\n",
       "      <td>2.37</td>\n",
       "      <td>0.3025</td>\n",
       "      <td>0.3748</td>\n",
       "      <td>0.2165</td>\n",
       "      <td>290.0</td>\n",
       "      <td>0.007946</td>\n",
       "      <td>0.000377</td>\n",
       "      <td>0.000946</td>\n",
       "      <td>0.9723</td>\n",
       "    </tr>\n",
       "    <tr>\n",
       "      <th>43277</th>\n",
       "      <td>2.37</td>\n",
       "      <td>0.3025</td>\n",
       "      <td>0.3748</td>\n",
       "      <td>0.2165</td>\n",
       "      <td>310.0</td>\n",
       "      <td>0.007681</td>\n",
       "      <td>0.000629</td>\n",
       "      <td>0.000914</td>\n",
       "      <td>0.9602</td>\n",
       "    </tr>\n",
       "    <tr>\n",
       "      <th>43278</th>\n",
       "      <td>2.37</td>\n",
       "      <td>0.3025</td>\n",
       "      <td>0.3748</td>\n",
       "      <td>0.2165</td>\n",
       "      <td>330.0</td>\n",
       "      <td>0.008008</td>\n",
       "      <td>0.000496</td>\n",
       "      <td>0.000954</td>\n",
       "      <td>0.9523</td>\n",
       "    </tr>\n",
       "    <tr>\n",
       "      <th>43279</th>\n",
       "      <td>2.37</td>\n",
       "      <td>0.3025</td>\n",
       "      <td>0.3748</td>\n",
       "      <td>0.2165</td>\n",
       "      <td>350.0</td>\n",
       "      <td>0.008972</td>\n",
       "      <td>0.002517</td>\n",
       "      <td>0.001069</td>\n",
       "      <td>0.9483</td>\n",
       "    </tr>\n",
       "  </tbody>\n",
       "</table>\n",
       "</div>"
      ],
      "text/plain": [
       "         Q2       x       z     pT2    phi  ds_dxdQ2dzdpT2dphi  stat_err  \\\n",
       "43262  2.37  0.3025  0.3748  0.2165   10.0            0.008034  0.002235   \n",
       "43263  2.37  0.3025  0.3748  0.2165   30.0            0.008323  0.000506   \n",
       "43264  2.37  0.3025  0.3748  0.2165   50.0            0.008241  0.000657   \n",
       "43265  2.37  0.3025  0.3748  0.2165   70.0            0.008909  0.000401   \n",
       "43266  2.37  0.3025  0.3748  0.2165   90.0            0.008734  0.000260   \n",
       "43267  2.37  0.3025  0.3748  0.2165  110.0            0.008689  0.000295   \n",
       "43268  2.37  0.3025  0.3748  0.2165  130.0            0.008214  0.000397   \n",
       "43269  2.37  0.3025  0.3748  0.2165  150.0            0.008501  0.000322   \n",
       "43270  2.37  0.3025  0.3748  0.2165  170.0            0.008402  0.000237   \n",
       "43271  2.37  0.3025  0.3748  0.2165  190.0            0.008054  0.000230   \n",
       "43272  2.37  0.3025  0.3748  0.2165  210.0            0.008623  0.000325   \n",
       "43273  2.37  0.3025  0.3748  0.2165  230.0            0.008604  0.000415   \n",
       "43274  2.37  0.3025  0.3748  0.2165  250.0            0.008494  0.000290   \n",
       "43275  2.37  0.3025  0.3748  0.2165  270.0            0.008451  0.000256   \n",
       "43276  2.37  0.3025  0.3748  0.2165  290.0            0.007946  0.000377   \n",
       "43277  2.37  0.3025  0.3748  0.2165  310.0            0.007681  0.000629   \n",
       "43278  2.37  0.3025  0.3748  0.2165  330.0            0.008008  0.000496   \n",
       "43279  2.37  0.3025  0.3748  0.2165  350.0            0.008972  0.002517   \n",
       "\n",
       "        sys_err  rad_cor  \n",
       "43262  0.000957   0.9483  \n",
       "43263  0.000991   0.9523  \n",
       "43264  0.000981   0.9602  \n",
       "43265  0.001060   0.9723  \n",
       "43266  0.001039   0.9884  \n",
       "43267  0.001034   1.0096  \n",
       "43268  0.000977   1.0350  \n",
       "43269  0.001012   1.0538  \n",
       "43270  0.001000   1.0588  \n",
       "43271  0.000958   1.0588  \n",
       "43272  0.001026   1.0538  \n",
       "43273  0.001024   1.0350  \n",
       "43274  0.001011   1.0096  \n",
       "43275  0.001006   0.9884  \n",
       "43276  0.000946   0.9723  \n",
       "43277  0.000914   0.9602  \n",
       "43278  0.000954   0.9523  \n",
       "43279  0.001069   0.9483  "
      ]
     },
     "execution_count": 20,
     "metadata": {},
     "output_type": "execute_result"
    }
   ],
   "source": [
    "#For Q2=2.4,x=0.3,z =0.37,pt2=0.22, this part is for Q2 from 1.6 to 3.2\n",
    "#The accurate value is Q2=2.37, x = 0.3025,z = 0.3748\n",
    "df_phi=clas6_data[clas6_data['z']==0.3748][clas6_data['x']==0.3025][clas6_data['Q2']==2.37][clas6_data['pT2']==0.2165]\n",
    "df_phi\n"
   ]
  },
  {
   "cell_type": "code",
   "execution_count": 27,
   "id": "04757cf2",
   "metadata": {
    "scrolled": true
   },
   "outputs": [
    {
     "name": "stdout",
     "output_type": "stream",
     "text": [
      "[ 10.  30.  50.  70.  90. 110. 130. 150. 170. 190. 210. 230. 250. 270.\n",
      " 290. 310. 330. 350.]\n"
     ]
    },
    {
     "name": "stderr",
     "output_type": "stream",
     "text": [
      "/var/folders/ll/8_2_l77j4yl2zjb6stl8d9b00000gn/T/ipykernel_72471/3341190151.py:28: UserWarning: marker is redundantly defined by the 'marker' keyword argument and the fmt string \"o\" (-> marker='o'). The keyword argument will take precedence.\n",
      "  plt.plot(phis_axis,xs_before_axis,'o',marker = 'v',color='red',label='No correction')\n"
     ]
    },
    {
     "data": {
      "image/png": "[encoded data removed]",
      "text/plain": [
       "<Figure size 432x288 with 1 Axes>"
      ]
     },
     "metadata": {
      "needs_background": "light"
     },
     "output_type": "display_data"
    }
   ],
   "source": [
    "\n",
    "phis = df_phi['phi'].unique()\n",
    "print(phis)\n",
    "phis_axis=[]\n",
    "xs_axis=[]\n",
    "xs_before_axis=[]\n",
    "xs_stat_err_axis=[]\n",
    "xs_sys_err_axis=[]\n",
    "fig = plt.figure()\n",
    "ax = fig.add_subplot()\n",
    "for i_phi in phis:\n",
    "    xs = df_phi[df_phi['phi']==i_phi]['ds_dxdQ2dzdpT2dphi']/(np.pi)\n",
    "    rc = df_phi[df_phi['phi']==i_phi]['rad_cor']\n",
    "    xs_before = xs/rc\n",
    "    #print(xs_before)\n",
    "    #print(xs)\n",
    "    xs_stat_err = df_phi[df_phi['phi']==i_phi]['stat_err']\n",
    "    xs_sys_err = df_phi[df_phi['phi']==i_phi]['sys_err']\n",
    "    phis_axis.append(i_phi)\n",
    "    xs_axis.append(xs)\n",
    "    xs_before_axis.append(xs_before)\n",
    "    xs_stat_err_axis.append(xs_stat_err)\n",
    "    xs_sys_err_axis.append(xs_sys_err)\n",
    "    ax.plot([i_phi,i_phi],[xs-xs_stat_err,xs+xs_stat_err],color='blue',marker='_')\n",
    "\n",
    "    \n",
    "#ax.fill_between(phis_axis,np.asarray(xs_axis)-np.asarray(xs_sys_err_axis),np.asarray(xs_axis)+np.asarray(xs_sys_err_axis),color='blue',alpha=0.25,linewidth=0,label='sys err')\n",
    "plt.plot(phis_axis,xs_axis,'o',color='blue',label='CLAS6 Data')\n",
    "plt.plot(phis_axis,xs_before_axis,'o',marker = 'v',color='red',label='No correction')\n",
    "plt.xlabel('phi',fontsize=20)\n",
    "\n",
    "\n",
    "plt.plot((np.asarray(phis_born_traditional)+3.14)*180/3.14,np.asarray(xss_phi_born_traditional)*Factor_born_phi,'-',label='Born xs traditional')\n",
    "plt.plot((np.asarray(phis_rc_traditional)+3.14)*180/3.14,np.asarray(xss_phi_rc_traditional)*Factor_rc_phi,'-',label='RC xs traditional')\n",
    "#plt.plot(phis_factorized,xs_rc_factorized,'-',label='Factorized')\n",
    "#plt.xlim(-3.2,3.2)\n",
    "#plt.ylim(0,0.02)\n",
    "plt.legend()\n",
    "\n",
    "plt.savefig('clas6/compare_phi.pdf')"
   ]
  },
  {
   "cell_type": "code",
   "execution_count": null,
   "id": "18e299a8",
   "metadata": {},
   "outputs": [],
   "source": []
  },
  {
   "cell_type": "code",
   "execution_count": null,
   "id": "e05cab21",
   "metadata": {
    "scrolled": true
   },
   "outputs": [],
   "source": [
    "\n",
    "\n",
    "Factor_born_x = 1000/(2.56819*(2.66-2.23)*(0.32-0.28)*(0.2809-0.1681)*(-2.44+3.141592)*(0.4-0.36))\n",
    "Factor_rc_x = Factor_born_x\n",
    "df_born_xb_traditional=pd.read_csv('clas6/out_clas6_born_x.txt',delim_whitespace=True,skiprows=[0])\n",
    "df_born_xb_traditional.head()\n",
    "df_rc_xb_traditional=pd.read_csv('clas6/out_clas6_rc_x.txt',delim_whitespace=True,skiprows=[0])\n",
    "df_rc_xb_traditional.head()\n",
    "\n",
    "xbs_born_traditional = df_born_xb_traditional['x']\n",
    "xss_xb_born_traditional = df_born_xb_traditional['yield']\n",
    "xbs_rc_traditional = df_rc_xb_traditional['x']\n",
    "xss_xb_rc_traditional = df_rc_xb_traditional['yield']\n",
    "\n",
    "plt.plot(xbs_born_traditional,xss_xb_born_traditional,label = 'born')\n",
    "plt.plot(xbs_rc_traditional,xss_xb_rc_traditional,label = 'rc')\n",
    "plt.legend()"
   ]
  },
  {
   "cell_type": "code",
   "execution_count": null,
   "id": "03711a8d",
   "metadata": {
    "scrolled": false
   },
   "outputs": [],
   "source": [
    "#For x=2.4,x=0.3,z =0.37,pt2=0.22, this part is for x from 1.6 to 3.2\n",
    "#The accurate value is Q2=2.37, x = 0.3025,z = 0.3748\n",
    "df_x=clas6_data[clas6_data['z']==0.3748][clas6_data['Q2']==2.37][clas6_data['pT2']==0.2165][clas6_data['phi']==10]\n",
    "df_x\n"
   ]
  },
  {
   "cell_type": "code",
   "execution_count": null,
   "id": "c18d59d1",
   "metadata": {
    "scrolled": true
   },
   "outputs": [],
   "source": [
    "\n",
    "xbs = df_x['x'].unique()\n",
    "print(xbs)\n",
    "xbs_axis=[]\n",
    "xs_axis=[]\n",
    "xs_before_axis=[]\n",
    "xs_stat_err_axis=[]\n",
    "xs_sys_err_axis=[]\n",
    "fig = plt.figure()\n",
    "ax = fig.add_subplot()\n",
    "for i_xb in xbs:\n",
    "    xs = np.mean(df_x[df_x['x']==i_xb]['ds_dxdQ2dzdpT2dphi'])\n",
    "    rc = np.mean(df_x[df_x['x']==i_xb]['rad_cor'])\n",
    "    xs_before=(xs/rc)\n",
    "    xs_stat_err = np.mean(df_x[df_x['x']==i_xb]['stat_err'])\n",
    "    xs_sys_err = np.mean(df_x[df_x['x']==i_xb]['sys_err'])\n",
    "    xbs_axis.append(i_xb)\n",
    "    xs_axis.append(xs)\n",
    "    xs_before_axis.append(xs_before)\n",
    "    xs_stat_err_axis.append(xs_stat_err)\n",
    "    xs_sys_err_axis.append(xs_sys_err)\n",
    "    ax.plot([i_xb,i_xb],[xs-xs_stat_err,xs+xs_stat_err],color='blue',marker='_')\n",
    "\n",
    "ax.fill_between(xbs_axis,np.asarray(xs_axis)-np.asarray(xs_sys_err_axis),np.asarray(xs_axis)+np.asarray(xs_sys_err_axis),color='blue',alpha=0.25,linewidth=0,label='sys err')\n",
    "plt.plot(xbs_axis,xs_axis,'o',color='blue',label='CLAS6 Data')\n",
    "plt.plot(xbs_axis,xs_before_axis,'o',marker = 'v',color='red',label='No correction')\n",
    "plt.xlabel('x',fontsize=20)\n",
    "\n",
    "\n",
    "plt.plot(xbs_born_traditional,np.asarray(xss_xb_born_traditional)*Factor_born_x,'-',label='Born xs traditional')\n",
    "plt.plot(xbs_rc_traditional,np.asarray(xss_xb_rc_traditional)*Factor_rc_x,'-',label='RC xs traditional')\n",
    "#plt.plot(xbs_factorized,xs_rc_factorized,'-',label='Factorized')\n",
    "plt.xlim(0.2,0.65)\n",
    "#plt.ylim(0,0.02)\n",
    "plt.legend()\n",
    "\n",
    "plt.savefig('clas6/compare_xb.pdf')"
   ]
  },
  {
   "cell_type": "code",
   "execution_count": null,
   "id": "faaf14a8",
   "metadata": {},
   "outputs": [],
   "source": []
  },
  {
   "cell_type": "code",
   "execution_count": null,
   "id": "7666e65e",
   "metadata": {},
   "outputs": [],
   "source": []
  }
 ],
 "metadata": {
  "kernelspec": {
   "display_name": "Python 3 (ipykernel)",
   "language": "python",
   "name": "python3"
  },
  "language_info": {
   "codemirror_mode": {
    "name": "ipython",
    "version": 3
   },
   "file_extension": ".py",
   "mimetype": "text/x-python",
   "name": "python",
   "nbconvert_exporter": "python",
   "pygments_lexer": "ipython3",
   "version": "3.9.13"
  }
 },
 "nbformat": 4,
 "nbformat_minor": 5
}
