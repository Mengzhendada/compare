{
 "cells": [
  {
   "cell_type": "code",
   "execution_count": 5,
   "id": "098291b7",
   "metadata": {},
   "outputs": [],
   "source": [
    "import numpy as np"
   ]
  },
  {
   "cell_type": "code",
   "execution_count": 6,
   "id": "3fa9986e",
   "metadata": {},
   "outputs": [],
   "source": [
    "me = 0.511e-3#mass of electron in GeV/c2\n",
    "c = 299 792 458 m / s\n",
    "Ebeam = 11#electron beam in GeV/c"
   ]
  },
  {
   "cell_type": "code",
   "execution_count": 7,
   "id": "a030b6f0",
   "metadata": {},
   "outputs": [],
   "source": [
    "def get_ve(Ebeam,me):\n",
    "    return np.sqrt(Ebeam**2/(me**2+Ebeam**2))"
   ]
  },
  {
   "cell_type": "code",
   "execution_count": 8,
   "id": "e3ba2f5a",
   "metadata": {},
   "outputs": [
    {
     "name": "stdout",
     "output_type": "stream",
     "text": [
      "0.9999999989209876\n"
     ]
    }
   ],
   "source": [
    "print(get_ve(Ebeam,me))"
   ]
  },
  {
   "cell_type": "code",
   "execution_count": null,
   "id": "9f577b58",
   "metadata": {},
   "outputs": [],
   "source": []
  }
 ],
 "metadata": {
  "kernelspec": {
   "display_name": "Python 3 (ipykernel)",
   "language": "python",
   "name": "python3"
  },
  "language_info": {
   "codemirror_mode": {
    "name": "ipython",
    "version": 3
   },
   "file_extension": ".py",
   "mimetype": "text/x-python",
   "name": "python",
   "nbconvert_exporter": "python",
   "pygments_lexer": "ipython3",
   "version": "3.10.10"
  }
 },
 "nbformat": 4,
 "nbformat_minor": 5
}
