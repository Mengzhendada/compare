{
 "cells": [
  {
   "cell_type": "code",
   "execution_count": 1,
   "id": "edec383f",
   "metadata": {},
   "outputs": [],
   "source": [
    "import pandas as pd\n",
    "import numpy as np\n",
    "import matplotlib.pyplot as plt\n",
    "import math"
   ]
  },
  {
   "cell_type": "code",
   "execution_count": 2,
   "id": "ac725b5e",
   "metadata": {},
   "outputs": [
    {
     "name": "stdout",
     "output_type": "stream",
     "text": [
      "3.141592653589793\n"
     ]
    }
   ],
   "source": [
    "PI = math.pi\n",
    "print(PI)\n",
    "z_cuts=[0.3,0.4,0.5,0.6]\n",
    "#z_cuts=[0.3,0.35,0.4,0.45]\n",
    "Q2_cuts=[1.5,2,2.5,3]\n",
    "#Q2_cuts=[2,2.5,3]\n",
    "#Q2_cuts=[3,4,5,6,8]\n",
    "#xbj_cuts=[0.4,0.6]\n",
    "#Q2_cuts=[3,4,5,6,8]\n",
    "xbj_cuts=[0.25,0.4,0.7]\n",
    "#PhT_cuts=[0.2,0.4]\n",
    "#phih_bins = [-3.14,-2.5,-2,-1.5,-1,-0.5,0,0.5,1,1.5,2,2.5,3.14]\n",
    "#phih_bins =[-PI,-4*PI/5,-3*PI/5,-2*PI/5,-PI/5,0,PI/5,2*PI/5,3*PI/5,4*PI/5,PI]\n",
    "phih_bins =[-PI,-0.9*PI,-0.8*PI,-0.7*PI,-0.6*PI,-0.5*PI,-0.4*PI,-0.3*PI,-0.2*PI,-0.1*PI,0,0.1*PI,0.2*PI,0.3*PI,0.4*PI,0.5*PI,0.6*PI,0.7*PI,0.8*PI,0.9*PI,PI]\n",
    "\n"
   ]
  },
  {
   "cell_type": "code",
   "execution_count": null,
   "id": "bf6485fb-99a8-4a44-841b-94dfb99b9628",
   "metadata": {},
   "outputs": [],
   "source": []
  },
  {
   "cell_type": "code",
   "execution_count": 3,
   "id": "11433b9d-2546-4d16-96aa-fbdc4c5b97d2",
   "metadata": {},
   "outputs": [],
   "source": [
    "#for low Q2 x2 only\n",
    "def Get_x_cuts_from_Q2(Q2l,Q2r):\n",
    "    #from Q2vs. x phase plots\n",
    "   \n",
    "    if Q2l==1.5 and Q2r==2:\n",
    "        return [0.25,0.32]\n",
    "    elif Q2l==2 and Q2r==2.5:\n",
    "        return [0.25,0.35]\n",
    "    elif Q2l==2.5 and Q2r==3:\n",
    "        return [0.25,0.4]\n",
    "    "
   ]
  },
  {
   "cell_type": "code",
   "execution_count": 4,
   "id": "1855aa0e-9445-4fb3-865c-7b9fec044eec",
   "metadata": {},
   "outputs": [],
   "source": [
    "#for model test\n",
    "#z_cuts=[0.3,0.4,0.5,0.6]\n",
    "#z_cuts=[0.3,0.35,0.4,0.45]\n",
    "#Q2_cuts=[1,2,3,4,5]\n",
    "#xbj_cuts=[0,0.7]\n",
    "#PhT_cuts=[0,0.4]\n",
    "#PhT_cuts=[0.2,0.4]\n",
    "#phih_bins =[-PI,-0.9*PI,-0.8*PI,-0.7*PI,-0.6*PI,-0.5*PI,-0.4*PI,-0.3*PI,-0.2*PI,-0.1*PI,0,0.1*PI,0.2*PI,0.3*PI,0.4*PI,0.5*PI,0.6*PI,0.7*PI,0.8*PI,0.9*PI,PI]\n",
    "PhT_bins = [0,0.2,0.4,0.6,0.8]\n",
    "file = open('../Unpol_proposal/Materials/Duane_test.csv','w')\n",
    "#file.write('i,Ebeam,x,phih,y,z,Q2,pT,obs,value,stat,systrel,systabs,target,hadron,Experiment\\n')\n",
    "i=0\n",
    "Ebeam = 11.0\n",
    "M_P = 0.938272\n",
    "for i_z in range(1,len(z_cuts)):\n",
    "    #print((z_cuts[i_z-1]+z_cuts[i_z])/2)\n",
    "    z = (z_cuts[i_z-1]+z_cuts[i_z])/2\n",
    "    for i_Q2 in range(1,len(Q2_cuts)):\n",
    "        Q2 = (Q2_cuts[i_Q2-1]+Q2_cuts[i_Q2])/2\n",
    "        xbj_cuts=Get_x_cuts_from_Q2(Q2_cuts[i_Q2-1],Q2_cuts[i_Q2])\n",
    "        for i_xbj in range(1,len(xbj_cuts)):\n",
    "            xbj = (xbj_cuts[i_xbj-1]+xbj_cuts[i_xbj])/2\n",
    "            #xbj=0.225\n",
    "            for i_PhT in range(1,len(PhT_bins)):\n",
    "                PhT = (PhT_bins[i_PhT-1]+PhT_bins[i_PhT])/2\n",
    "                for i_phi in range(1,len(phih_bins)):\n",
    "                    phi = (phih_bins[i_phi-1]+phih_bins[i_phi])/2\n",
    "                    s = 2*M_P*Ebeam\n",
    "                    y = Q2/s/xbj\n",
    "                    index = 0\n",
    "                    Eb=Ebeam\n",
    "                    beam_pol='U'\n",
    "                    target_pol='U'\n",
    "                    x=xbj\n",
    "                    ph_t_sq=PhT\n",
    "                    phih=phi\n",
    "                    phis=1\n",
    "                    k0=0.01\n",
    "                    file.write('%i,%f,%s,%s,%f,%f,%f,%f,%f,%f,%f\\n'%(index,Eb,beam_pol,target_pol,x,y,z,ph_t_sq,phih,phis,k0))    \n",
    "file.close()\n"
   ]
  },
  {
   "cell_type": "code",
   "execution_count": 43,
   "id": "a8d5f23e-7a1e-47f3-8007-fb92e88e9bd0",
   "metadata": {
    "tags": []
   },
   "outputs": [],
   "source": []
  },
  {
   "cell_type": "code",
   "execution_count": 44,
   "id": "1bd32928-f26b-4575-b341-f786cbfd592f",
   "metadata": {
    "tags": []
   },
   "outputs": [
    {
     "name": "stdout",
     "output_type": "stream",
     "text": [
      "8.06393140528314\n"
     ]
    }
   ],
   "source": []
  },
  {
   "cell_type": "code",
   "execution_count": 45,
   "id": "758d041a-656f-4a8e-ae58-0d61f524f325",
   "metadata": {
    "tags": []
   },
   "outputs": [
    {
     "name": "stdout",
     "output_type": "stream",
     "text": [
      "1.3812062186118708\n"
     ]
    }
   ],
   "source": []
  },
  {
   "cell_type": "code",
   "execution_count": 52,
   "id": "823415cd-60ba-4281-8043-09240d5f09d6",
   "metadata": {
    "tags": []
   },
   "outputs": [
    {
     "data": {
      "text/plain": [
       "Text(0, 0.5, '$Q^2$')"
      ]
     },
     "execution_count": 52,
     "metadata": {},
     "output_type": "execute_result"
    },
    {
     "data": {
      "image/png": "[encoded data removed]",
      "text/plain": [
       "<Figure size 640x480 with 1 Axes>"
      ]
     },
     "metadata": {},
     "output_type": "display_data"
    }
   ],
   "source": []
  },
  {
   "cell_type": "code",
   "execution_count": 17,
   "id": "ed8cab6b-1437-495a-be08-d93ba4d21665",
   "metadata": {
    "tags": []
   },
   "outputs": [
    {
     "name": "stdout",
     "output_type": "stream",
     "text": [
      "0.6729640510312781\n"
     ]
    }
   ],
   "source": []
  },
  {
   "cell_type": "code",
   "execution_count": null,
   "id": "2950879c-32fd-4d13-9378-de58491ed13f",
   "metadata": {},
   "outputs": [],
   "source": []
  }
 ],
 "metadata": {
  "kernelspec": {
   "display_name": "Python 3 (ipykernel)",
   "language": "python",
   "name": "python3"
  },
  "language_info": {
   "codemirror_mode": {
    "name": "ipython",
    "version": 3
   },
   "file_extension": ".py",
   "mimetype": "text/x-python",
   "name": "python",
   "nbconvert_exporter": "python",
   "pygments_lexer": "ipython3",
   "version": "3.10.10"
  }
 },
 "nbformat": 4,
 "nbformat_minor": 5
}
