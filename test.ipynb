{
 "cells": [
  {
   "cell_type": "code",
   "execution_count": 1,
   "id": "fbec2821-ffff-4f54-a1db-d432ab0b85a3",
   "metadata": {
    "tags": []
   },
   "outputs": [],
   "source": [
    "import numpy as np\n",
    "import matplotlib.pyplot as plt\n",
    "import math"
   ]
  },
  {
   "cell_type": "code",
   "execution_count": 2,
   "id": "47f4a2a2-0085-4771-89e7-353e809470b3",
   "metadata": {
    "tags": []
   },
   "outputs": [],
   "source": [
    "theta_half=4"
   ]
  },
  {
   "cell_type": "code",
   "execution_count": 3,
   "id": "2e913b41-595c-40dd-9026-51586647ef5b",
   "metadata": {
    "tags": []
   },
   "outputs": [
    {
     "name": "stdout",
     "output_type": "stream",
     "text": [
      "8.06393140528314\n"
     ]
    }
   ],
   "source": [
    "Ep=8.8/(1+(2*8.8/0.938232)*np.sin(theta_half*np.pi/180)**2)\n",
    "print(Ep)"
   ]
  },
  {
   "cell_type": "code",
   "execution_count": 4,
   "id": "91f9969b-1bcc-45e5-950f-0dcc1df7479c",
   "metadata": {
    "tags": []
   },
   "outputs": [
    {
     "name": "stdout",
     "output_type": "stream",
     "text": [
      "1.3812062186118708\n"
     ]
    }
   ],
   "source": [
    "Q2=4*8.8*8.0639314*np.sin(theta_half*np.pi/180)**2\n",
    "print(Q2)"
   ]
  },
  {
   "cell_type": "code",
   "execution_count": 29,
   "id": "713d5b7b-3af1-45e6-a9f4-4def8add3a61",
   "metadata": {
    "tags": []
   },
   "outputs": [
    {
     "data": {
      "image/png": "[encoded data removed]",
      "text/plain": [
       "<Figure size 640x480 with 1 Axes>"
      ]
     },
     "metadata": {},
     "output_type": "display_data"
    }
   ],
   "source": [
    "Ein=11\n",
    "for theta_half in range(4,90,1):\n",
    "    #print(theta_half)\n",
    "    Ep=Ein/(1+(2*Ein/0.938232)*np.sin(theta_half*np.pi/180)**2)\n",
    "    Q2=4*Ein*Ep*np.sin(theta_half*np.pi/180)**2\n",
    "    plt.plot(2*theta_half,Q2,'bo')\n",
    "plt.xlabel('theta')\n",
    "plt.ylabel(r'$Q^2$')\n",
    "plt.savefig('results/test.pdf')"
   ]
  },
  {
   "cell_type": "code",
   "execution_count": 9,
   "id": "d94d434a-2bd5-4397-be94-e8031a4f9a79",
   "metadata": {
    "tags": []
   },
   "outputs": [
    {
     "name": "stdout",
     "output_type": "stream",
     "text": [
      "4.0000000000000003e+37\n"
     ]
    }
   ],
   "source": [
    "L=1e36*40\n",
    "print(L)"
   ]
  },
  {
   "cell_type": "code",
   "execution_count": 10,
   "id": "d169388e-9185-407f-a219-93dd79907811",
   "metadata": {
    "tags": []
   },
   "outputs": [
    {
     "data": {
      "text/plain": [
       "0.8127"
      ]
     },
     "execution_count": 10,
     "metadata": {},
     "output_type": "execute_result"
    }
   ],
   "source": [
    "0.8127#mub/str at 8 degree dtheta = 0.1"
   ]
  },
  {
   "cell_type": "code",
   "execution_count": 11,
   "id": "8860e478-cb68-417e-937f-84ff27a0bebc",
   "metadata": {
    "tags": []
   },
   "outputs": [
    {
     "name": "stdout",
     "output_type": "stream",
     "text": [
      "3250.7999999999997\n"
     ]
    }
   ],
   "source": [
    "#rate = Luminosity * cross section\n",
    "xs = 0.8127*1e-34 #m2/str\n",
    "rate = L*xs\n",
    "print(rate)"
   ]
  },
  {
   "cell_type": "code",
   "execution_count": 19,
   "id": "65152df3-804d-4278-82ef-99c07679814f",
   "metadata": {
    "tags": []
   },
   "outputs": [
    {
     "name": "stdout",
     "output_type": "stream",
     "text": [
      "0.006624181202012019\n"
     ]
    }
   ],
   "source": [
    "alpha = 1/137\n",
    "Ein = 8.8\n",
    "Mp = 0.938\n",
    "theta = 8*np.pi/180\n",
    "xs_mott = (alpha**2*np.cos(theta/2)**2)/(4*Ein**2*np.sin(theta/2)**4)*1/(1+Ein/Mp*(2*np.sin(theta/2)**2))\n",
    "\n",
    "print(xs_mott)"
   ]
  },
  {
   "cell_type": "code",
   "execution_count": 20,
   "id": "069744a5-8e6a-43f9-a773-60cf1aa57b51",
   "metadata": {
    "tags": []
   },
   "outputs": [
    {
     "data": {
      "text/plain": [
       "0.001240183252"
      ]
     },
     "execution_count": 20,
     "metadata": {},
     "output_type": "execute_result"
    }
   ],
   "source": [
    "0.812702*0.001526"
   ]
  },
  {
   "cell_type": "code",
   "execution_count": 23,
   "id": "b408b3df-ecdd-45ad-bf39-f2fafd8db518",
   "metadata": {
    "tags": []
   },
   "outputs": [
    {
     "data": {
      "text/plain": [
       "0.0015262036393421585"
      ]
     },
     "execution_count": 23,
     "metadata": {},
     "output_type": "execute_result"
    }
   ],
   "source": [
    "2*np.pi*(np.cos(7.95/180*np.pi)-np.cos(8.05/180*np.pi))"
   ]
  },
  {
   "cell_type": "code",
   "execution_count": 32,
   "id": "4e538175-da0c-4490-89ad-bdd28c3fbe26",
   "metadata": {
    "tags": []
   },
   "outputs": [
    {
     "data": {
      "text/plain": [
       "0.5625"
      ]
     },
     "execution_count": 32,
     "metadata": {},
     "output_type": "execute_result"
    }
   ],
   "source": [
    "0.75**2"
   ]
  },
  {
   "cell_type": "code",
   "execution_count": 33,
   "id": "7c4b6631-0769-4b3b-9c67-0d406822d580",
   "metadata": {
    "tags": []
   },
   "outputs": [
    {
     "data": {
      "text/plain": [
       "0.600207379760618"
      ]
     },
     "execution_count": 33,
     "metadata": {},
     "output_type": "execute_result"
    }
   ],
   "source": [
    "3.7/(2*10.6*0.938*0.31)"
   ]
  },
  {
   "cell_type": "code",
   "execution_count": 1,
   "id": "a290c460-3726-43af-91bb-3843c3c047a5",
   "metadata": {
    "tags": []
   },
   "outputs": [],
   "source": [
    "import lhapdf"
   ]
  },
  {
   "cell_type": "code",
   "execution_count": 11,
   "id": "4076d8ca-a51d-4cef-a9a2-04dd2926eb4c",
   "metadata": {},
   "outputs": [
    {
     "name": "stdout",
     "output_type": "stream",
     "text": [
      "0,12,U,U,0.48,0.74015,0.375,0.0064,-3.10,1,0.01\n",
      "0,12,U,U,0.48,0.74015,0.375,0.0064,-3.00,1,0.01\n",
      "0,12,U,U,0.48,0.74015,0.375,0.0064,-2.90,1,0.01\n",
      "0,12,U,U,0.48,0.74015,0.375,0.0064,-2.80,1,0.01\n",
      "0,12,U,U,0.48,0.74015,0.375,0.0064,-2.70,1,0.01\n",
      "0,12,U,U,0.48,0.74015,0.375,0.0064,-2.60,1,0.01\n",
      "0,12,U,U,0.48,0.74015,0.375,0.0064,-2.50,1,0.01\n",
      "0,12,U,U,0.48,0.74015,0.375,0.0064,-2.40,1,0.01\n",
      "0,12,U,U,0.48,0.74015,0.375,0.0064,-2.30,1,0.01\n",
      "0,12,U,U,0.48,0.74015,0.375,0.0064,-2.20,1,0.01\n",
      "0,12,U,U,0.48,0.74015,0.375,0.0064,-2.10,1,0.01\n",
      "0,12,U,U,0.48,0.74015,0.375,0.0064,-2.00,1,0.01\n",
      "0,12,U,U,0.48,0.74015,0.375,0.0064,-1.90,1,0.01\n",
      "0,12,U,U,0.48,0.74015,0.375,0.0064,-1.80,1,0.01\n",
      "0,12,U,U,0.48,0.74015,0.375,0.0064,-1.70,1,0.01\n",
      "0,12,U,U,0.48,0.74015,0.375,0.0064,-1.60,1,0.01\n",
      "0,12,U,U,0.48,0.74015,0.375,0.0064,-1.50,1,0.01\n",
      "0,12,U,U,0.48,0.74015,0.375,0.0064,-1.40,1,0.01\n",
      "0,12,U,U,0.48,0.74015,0.375,0.0064,-1.30,1,0.01\n",
      "0,12,U,U,0.48,0.74015,0.375,0.0064,-1.20,1,0.01\n",
      "0,12,U,U,0.48,0.74015,0.375,0.0064,-1.10,1,0.01\n",
      "0,12,U,U,0.48,0.74015,0.375,0.0064,-1.00,1,0.01\n",
      "0,12,U,U,0.48,0.74015,0.375,0.0064,-0.90,1,0.01\n",
      "0,12,U,U,0.48,0.74015,0.375,0.0064,-0.80,1,0.01\n",
      "0,12,U,U,0.48,0.74015,0.375,0.0064,-0.70,1,0.01\n",
      "0,12,U,U,0.48,0.74015,0.375,0.0064,-0.60,1,0.01\n",
      "0,12,U,U,0.48,0.74015,0.375,0.0064,-0.50,1,0.01\n",
      "0,12,U,U,0.48,0.74015,0.375,0.0064,-0.40,1,0.01\n",
      "0,12,U,U,0.48,0.74015,0.375,0.0064,-0.30,1,0.01\n",
      "0,12,U,U,0.48,0.74015,0.375,0.0064,-0.20,1,0.01\n",
      "0,12,U,U,0.48,0.74015,0.375,0.0064,-0.10,1,0.01\n",
      "0,12,U,U,0.48,0.74015,0.375,0.0064,0.00,1,0.01\n",
      "0,12,U,U,0.48,0.74015,0.375,0.0064,0.10,1,0.01\n",
      "0,12,U,U,0.48,0.74015,0.375,0.0064,0.20,1,0.01\n",
      "0,12,U,U,0.48,0.74015,0.375,0.0064,0.30,1,0.01\n",
      "0,12,U,U,0.48,0.74015,0.375,0.0064,0.40,1,0.01\n",
      "0,12,U,U,0.48,0.74015,0.375,0.0064,0.50,1,0.01\n",
      "0,12,U,U,0.48,0.74015,0.375,0.0064,0.60,1,0.01\n",
      "0,12,U,U,0.48,0.74015,0.375,0.0064,0.70,1,0.01\n",
      "0,12,U,U,0.48,0.74015,0.375,0.0064,0.80,1,0.01\n",
      "0,12,U,U,0.48,0.74015,0.375,0.0064,0.90,1,0.01\n",
      "0,12,U,U,0.48,0.74015,0.375,0.0064,1.00,1,0.01\n",
      "0,12,U,U,0.48,0.74015,0.375,0.0064,1.10,1,0.01\n",
      "0,12,U,U,0.48,0.74015,0.375,0.0064,1.20,1,0.01\n",
      "0,12,U,U,0.48,0.74015,0.375,0.0064,1.30,1,0.01\n",
      "0,12,U,U,0.48,0.74015,0.375,0.0064,1.40,1,0.01\n",
      "0,12,U,U,0.48,0.74015,0.375,0.0064,1.50,1,0.01\n",
      "0,12,U,U,0.48,0.74015,0.375,0.0064,1.60,1,0.01\n",
      "0,12,U,U,0.48,0.74015,0.375,0.0064,1.70,1,0.01\n",
      "0,12,U,U,0.48,0.74015,0.375,0.0064,1.80,1,0.01\n",
      "0,12,U,U,0.48,0.74015,0.375,0.0064,1.90,1,0.01\n",
      "0,12,U,U,0.48,0.74015,0.375,0.0064,2.00,1,0.01\n",
      "0,12,U,U,0.48,0.74015,0.375,0.0064,2.10,1,0.01\n",
      "0,12,U,U,0.48,0.74015,0.375,0.0064,2.20,1,0.01\n",
      "0,12,U,U,0.48,0.74015,0.375,0.0064,2.30,1,0.01\n",
      "0,12,U,U,0.48,0.74015,0.375,0.0064,2.40,1,0.01\n",
      "0,12,U,U,0.48,0.74015,0.375,0.0064,2.50,1,0.01\n",
      "0,12,U,U,0.48,0.74015,0.375,0.0064,2.60,1,0.01\n",
      "0,12,U,U,0.48,0.74015,0.375,0.0064,2.70,1,0.01\n",
      "0,12,U,U,0.48,0.74015,0.375,0.0064,2.80,1,0.01\n",
      "0,12,U,U,0.48,0.74015,0.375,0.0064,2.90,1,0.01\n",
      "0,12,U,U,0.48,0.74015,0.375,0.0064,3.00,1,0.01\n",
      "0,12,U,U,0.48,0.74015,0.375,0.0064,3.10,1,0.01\n"
     ]
    }
   ],
   "source": [
    "for i in range(-31,32,1):\n",
    "    pt2 = 0+i*0.1\n",
    "    #print(0+i*0.1)\n",
    "    print('0,12,U,U,0.48,0.74015,0.375,0.0064,%.2f,1,0.01'%pt2)"
   ]
  },
  {
   "cell_type": "code",
   "execution_count": 16,
   "id": "85c23f2e",
   "metadata": {},
   "outputs": [
    {
     "data": {
      "text/html": [
       "<div>\n",
       "<style scoped>\n",
       "    .dataframe tbody tr th:only-of-type {\n",
       "        vertical-align: middle;\n",
       "    }\n",
       "\n",
       "    .dataframe tbody tr th {\n",
       "        vertical-align: top;\n",
       "    }\n",
       "\n",
       "    .dataframe thead th {\n",
       "        text-align: right;\n",
       "    }\n",
       "</style>\n",
       "<table border=\"1\" class=\"dataframe\">\n",
       "  <thead>\n",
       "    <tr style=\"text-align: right;\">\n",
       "      <th></th>\n",
       "      <th>sfset</th>\n",
       "      <th>Eb</th>\n",
       "      <th>Beam</th>\n",
       "      <th>Target</th>\n",
       "      <th>x</th>\n",
       "      <th>y</th>\n",
       "      <th>z</th>\n",
       "      <th>pt2</th>\n",
       "      <th>phih</th>\n",
       "      <th>phis</th>\n",
       "      <th>...</th>\n",
       "      <th>a</th>\n",
       "      <th>b</th>\n",
       "      <th>c</th>\n",
       "      <th>d</th>\n",
       "      <th>e</th>\n",
       "      <th>f</th>\n",
       "      <th>g</th>\n",
       "      <th>h</th>\n",
       "      <th>i</th>\n",
       "      <th>j</th>\n",
       "    </tr>\n",
       "  </thead>\n",
       "  <tbody>\n",
       "    <tr>\n",
       "      <th>0</th>\n",
       "      <td>0</td>\n",
       "      <td>12</td>\n",
       "      <td>U</td>\n",
       "      <td>U</td>\n",
       "      <td>0.48</td>\n",
       "      <td>0.74015</td>\n",
       "      <td>0.375</td>\n",
       "      <td>0.0064</td>\n",
       "      <td>-3.1</td>\n",
       "      <td>1</td>\n",
       "      <td>...</td>\n",
       "      <td>2.650621e-15</td>\n",
       "      <td>0.000001</td>\n",
       "      <td>-2.137000e-09</td>\n",
       "      <td>2.083677e-13</td>\n",
       "      <td>0.000001</td>\n",
       "      <td>2.083677e-13</td>\n",
       "      <td>4.872094e-07</td>\n",
       "      <td>1.654750e-10</td>\n",
       "      <td>0.000002</td>\n",
       "      <td>1.656834e-10</td>\n",
       "    </tr>\n",
       "    <tr>\n",
       "      <th>1</th>\n",
       "      <td>0</td>\n",
       "      <td>12</td>\n",
       "      <td>U</td>\n",
       "      <td>U</td>\n",
       "      <td>0.48</td>\n",
       "      <td>0.74015</td>\n",
       "      <td>0.375</td>\n",
       "      <td>0.0064</td>\n",
       "      <td>-3.0</td>\n",
       "      <td>1</td>\n",
       "      <td>...</td>\n",
       "      <td>2.650621e-15</td>\n",
       "      <td>0.000001</td>\n",
       "      <td>-2.138618e-09</td>\n",
       "      <td>2.074325e-13</td>\n",
       "      <td>0.000001</td>\n",
       "      <td>2.074325e-13</td>\n",
       "      <td>4.870079e-07</td>\n",
       "      <td>1.657934e-10</td>\n",
       "      <td>0.000002</td>\n",
       "      <td>1.660008e-10</td>\n",
       "    </tr>\n",
       "    <tr>\n",
       "      <th>2</th>\n",
       "      <td>0</td>\n",
       "      <td>12</td>\n",
       "      <td>U</td>\n",
       "      <td>U</td>\n",
       "      <td>0.48</td>\n",
       "      <td>0.74015</td>\n",
       "      <td>0.375</td>\n",
       "      <td>0.0064</td>\n",
       "      <td>-2.9</td>\n",
       "      <td>1</td>\n",
       "      <td>...</td>\n",
       "      <td>2.650621e-15</td>\n",
       "      <td>0.000001</td>\n",
       "      <td>-2.141981e-09</td>\n",
       "      <td>2.103678e-13</td>\n",
       "      <td>0.000001</td>\n",
       "      <td>2.103678e-13</td>\n",
       "      <td>4.865901e-07</td>\n",
       "      <td>1.673359e-10</td>\n",
       "      <td>0.000002</td>\n",
       "      <td>1.675463e-10</td>\n",
       "    </tr>\n",
       "    <tr>\n",
       "      <th>3</th>\n",
       "      <td>0</td>\n",
       "      <td>12</td>\n",
       "      <td>U</td>\n",
       "      <td>U</td>\n",
       "      <td>0.48</td>\n",
       "      <td>0.74015</td>\n",
       "      <td>0.375</td>\n",
       "      <td>0.0064</td>\n",
       "      <td>-2.8</td>\n",
       "      <td>1</td>\n",
       "      <td>...</td>\n",
       "      <td>2.650621e-15</td>\n",
       "      <td>0.000001</td>\n",
       "      <td>-2.147043e-09</td>\n",
       "      <td>2.135192e-13</td>\n",
       "      <td>0.000001</td>\n",
       "      <td>2.135192e-13</td>\n",
       "      <td>4.859621e-07</td>\n",
       "      <td>1.694806e-10</td>\n",
       "      <td>0.000002</td>\n",
       "      <td>1.696941e-10</td>\n",
       "    </tr>\n",
       "    <tr>\n",
       "      <th>4</th>\n",
       "      <td>0</td>\n",
       "      <td>12</td>\n",
       "      <td>U</td>\n",
       "      <td>U</td>\n",
       "      <td>0.48</td>\n",
       "      <td>0.74015</td>\n",
       "      <td>0.375</td>\n",
       "      <td>0.0064</td>\n",
       "      <td>-2.7</td>\n",
       "      <td>1</td>\n",
       "      <td>...</td>\n",
       "      <td>2.650621e-15</td>\n",
       "      <td>0.000001</td>\n",
       "      <td>-2.153735e-09</td>\n",
       "      <td>2.129156e-13</td>\n",
       "      <td>0.000001</td>\n",
       "      <td>2.129156e-13</td>\n",
       "      <td>4.851292e-07</td>\n",
       "      <td>1.705492e-10</td>\n",
       "      <td>0.000002</td>\n",
       "      <td>1.707621e-10</td>\n",
       "    </tr>\n",
       "  </tbody>\n",
       "</table>\n",
       "<p>5 rows × 22 columns</p>\n",
       "</div>"
      ],
      "text/plain": [
       "   sfset  Eb Beam Target     x        y      z     pt2  phih  phis  ...   \n",
       "0      0  12    U      U  0.48  0.74015  0.375  0.0064  -3.1     1  ...  \\\n",
       "1      0  12    U      U  0.48  0.74015  0.375  0.0064  -3.0     1  ...   \n",
       "2      0  12    U      U  0.48  0.74015  0.375  0.0064  -2.9     1  ...   \n",
       "3      0  12    U      U  0.48  0.74015  0.375  0.0064  -2.8     1  ...   \n",
       "4      0  12    U      U  0.48  0.74015  0.375  0.0064  -2.7     1  ...   \n",
       "\n",
       "              a         b             c             d         e             f   \n",
       "0  2.650621e-15  0.000001 -2.137000e-09  2.083677e-13  0.000001  2.083677e-13  \\\n",
       "1  2.650621e-15  0.000001 -2.138618e-09  2.074325e-13  0.000001  2.074325e-13   \n",
       "2  2.650621e-15  0.000001 -2.141981e-09  2.103678e-13  0.000001  2.103678e-13   \n",
       "3  2.650621e-15  0.000001 -2.147043e-09  2.135192e-13  0.000001  2.135192e-13   \n",
       "4  2.650621e-15  0.000001 -2.153735e-09  2.129156e-13  0.000001  2.129156e-13   \n",
       "\n",
       "              g             h         i             j  \n",
       "0  4.872094e-07  1.654750e-10  0.000002  1.656834e-10  \n",
       "1  4.870079e-07  1.657934e-10  0.000002  1.660008e-10  \n",
       "2  4.865901e-07  1.673359e-10  0.000002  1.675463e-10  \n",
       "3  4.859621e-07  1.694806e-10  0.000002  1.696941e-10  \n",
       "4  4.851292e-07  1.705492e-10  0.000002  1.707621e-10  \n",
       "\n",
       "[5 rows x 22 columns]"
      ]
     },
     "execution_count": 16,
     "metadata": {},
     "output_type": "execute_result"
    }
   ],
   "source": [
    "import pandas as pd\n",
    "df_jlab2=pd.read_csv('/Users/sj400/Duke/results/Tra-results/compare/JLab2.txt',delim_whitespace=True)\n",
    "df_jlab2.head()"
   ]
  },
  {
   "cell_type": "code",
   "execution_count": 26,
   "id": "09eef420",
   "metadata": {},
   "outputs": [
    {
     "name": "stdout",
     "output_type": "stream",
     "text": [
      "63\n",
      "1.8626231458487312e-06\n",
      "1.8622081657411096e-06\n",
      "1.8613438457872157e-06\n",
      "1.8600380694655057e-06\n",
      "1.858302775268206e-06\n",
      "1.8561538816039813e-06\n",
      "1.8536111843604568e-06\n",
      "1.850698225893102e-06\n",
      "1.8474421340870632e-06\n",
      "1.8438734301383165e-06\n",
      "1.8400258038318563e-06\n",
      "1.835935855363524e-06\n",
      "1.8316428031579813e-06\n",
      "1.8271881576714072e-06\n",
      "1.82261536182051e-06\n",
      "1.8179693994304008e-06\n",
      "1.81329637391865e-06\n",
      "1.8086430603030136e-06\n",
      "1.8040564345044036e-06\n",
      "1.7995831847811544e-06\n",
      "1.7952692109415422e-06\n",
      "1.7911591177054424e-06\n",
      "1.7872957091917943e-06\n",
      "1.7837194919683088e-06\n",
      "1.7804681943901704e-06\n",
      "1.7775763100575669e-06\n",
      "1.7750746731259962e-06\n",
      "1.7729900729036929e-06\n",
      "1.7713449146694067e-06\n",
      "1.770156932950511e-06\n",
      "1.7694389626321136e-06\n",
      "1.7691987722450449e-06\n",
      "1.7694389626321136e-06\n",
      "1.770156932950511e-06\n",
      "1.7713449146694067e-06\n",
      "1.7729900729036929e-06\n",
      "1.7750746731259962e-06\n",
      "1.7775763100575669e-06\n",
      "1.7804681943901704e-06\n",
      "1.7837194919683088e-06\n",
      "1.7872957091917943e-06\n",
      "1.7911591177054424e-06\n",
      "1.7952692109415422e-06\n",
      "1.7995831847811544e-06\n",
      "1.8040564345044036e-06\n",
      "1.8086430603030136e-06\n",
      "1.81329637391865e-06\n",
      "1.8179693994304008e-06\n",
      "1.82261536182051e-06\n",
      "1.8271881576714072e-06\n",
      "1.8316428031579813e-06\n",
      "1.835935855363524e-06\n",
      "1.8400258038318563e-06\n",
      "1.8438734301383165e-06\n",
      "1.8474421340870632e-06\n",
      "1.850698225893102e-06\n",
      "1.8536111843604568e-06\n",
      "1.8561538816039813e-06\n",
      "1.858302775268206e-06\n",
      "1.8600380694655057e-06\n",
      "1.8613438457872157e-06\n",
      "1.8622081657411096e-06\n",
      "1.8626231458487312e-06\n",
      "7.170404757596116e-05\n"
     ]
    }
   ],
   "source": [
    "df_jlab2['unpol_bn']\n",
    "len_unpol=len(df_jlab2['unpol_bn'])\n",
    "print(len_unpol)\n",
    "sum_unpol=0\n",
    "for unpol in df_jlab2['unpol_bn'].to_list():\n",
    "    print(unpol)\n",
    "    sum_unpol+=unpol\n",
    "print(sum_unpol*(2*3.1415)**2/len_unpol)"
   ]
  },
  {
   "cell_type": "code",
   "execution_count": null,
   "id": "d1dee3db",
   "metadata": {},
   "outputs": [],
   "source": []
  }
 ],
 "metadata": {
  "kernelspec": {
   "display_name": "Python 3 (ipykernel)",
   "language": "python",
   "name": "python3"
  },
  "language_info": {
   "codemirror_mode": {
    "name": "ipython",
    "version": 3
   },
   "file_extension": ".py",
   "mimetype": "text/x-python",
   "name": "python",
   "nbconvert_exporter": "python",
   "pygments_lexer": "ipython3",
   "version": "3.10.10"
  }
 },
 "nbformat": 4,
 "nbformat_minor": 5
}
