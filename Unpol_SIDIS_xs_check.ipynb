{
 "cells": [
  {
   "cell_type": "code",
   "execution_count": 1,
   "id": "edec383f",
   "metadata": {},
   "outputs": [],
   "source": [
    "import pandas as pd\n",
    "import numpy as np\n",
    "import matplotlib.pyplot as plt\n",
    "import math"
   ]
  },
  {
   "cell_type": "code",
   "execution_count": 2,
   "id": "ac725b5e",
   "metadata": {},
   "outputs": [
    {
     "name": "stdout",
     "output_type": "stream",
     "text": [
      "3.141592653589793\n"
     ]
    }
   ],
   "source": [
    "PI = math.pi\n",
    "print(PI)\n",
    "z_cuts=[0.3,0.4,0.5,0.6]\n",
    "#z_cuts=[0.3,0.35,0.4,0.45]\n",
    "#Q2_cuts=[1,1.5,2,2.5,3]\n",
    "#xbj_cuts=[0,0.25]\n",
    "Q2_cuts=[3,4,5,6,8]\n",
    "xbj_cuts=[0.25,0.4,0.7]\n",
    "#PhT_cuts=[0.2,0.4]\n",
    "#phih_bins = [-3.14,-2.5,-2,-1.5,-1,-0.5,0,0.5,1,1.5,2,2.5,3.14]\n",
    "#phih_bins =[-PI,-4*PI/5,-3*PI/5,-2*PI/5,-PI/5,0,PI/5,2*PI/5,3*PI/5,4*PI/5,PI]\n",
    "phih_bins =[-PI,-0.9*PI,-0.8*PI,-0.7*PI,-0.6*PI,-0.5*PI,-0.4*PI,-0.3*PI,-0.2*PI,-0.1*PI,0,0.1*PI,0.2*PI,0.3*PI,0.4*PI,0.5*PI,0.6*PI,0.7*PI,0.8*PI,0.9*PI,PI]\n",
    "\n"
   ]
  },
  {
   "cell_type": "code",
   "execution_count": 3,
   "id": "472bb69b",
   "metadata": {},
   "outputs": [],
   "source": [
    "#for model test\n",
    "#z_cuts=[0.3,0.4,0.5,0.6]\n",
    "#z_cuts=[0.3,0.35,0.4,0.45]\n",
    "#Q2_cuts=[1,2,3,4,5]\n",
    "#xbj_cuts=[0,0.7]\n",
    "#PhT_cuts=[0,0.4]\n",
    "#PhT_cuts=[0.2,0.4]\n",
    "#phih_bins =[-PI,-0.9*PI,-0.8*PI,-0.7*PI,-0.6*PI,-0.5*PI,-0.4*PI,-0.3*PI,-0.2*PI,-0.1*PI,0,0.1*PI,0.2*PI,0.3*PI,0.4*PI,0.5*PI,0.6*PI,0.7*PI,0.8*PI,0.9*PI,PI]\n",
    "PhT_bins = [0,0.2,0.4,0.6,0.8]\n",
    "file = open('../Unpol_proposal/Materials/test.csv','w')\n",
    "file.write('i,Ebeam,x,phih,y,z,Q2,pT,obs,value,stat,systrel,systabs,target,hadron,Experiment\\n')\n",
    "i=0\n",
    "Ebeam = 11.0\n",
    "M_P = 0.938272\n",
    "for i_z in range(1,len(z_cuts)):\n",
    "    #print((z_cuts[i_z-1]+z_cuts[i_z])/2)\n",
    "    z = (z_cuts[i_z-1]+z_cuts[i_z])/2\n",
    "    for i_Q2 in range(1,len(Q2_cuts)):\n",
    "        Q2 = (Q2_cuts[i_Q2-1]+Q2_cuts[i_Q2])/2\n",
    "        for i_xbj in range(1,len(xbj_cuts)):\n",
    "            xbj = (xbj_cuts[i_xbj-1]+xbj_cuts[i_xbj])/2\n",
    "            for i_PhT in range(1,len(PhT_bins)):\n",
    "                PhT = (PhT_bins[i_PhT-1]+PhT_bins[i_PhT])/2\n",
    "                for i_phi in range(1,len(phih_bins)):\n",
    "                    phi = (phih_bins[i_phi-1]+phih_bins[i_phi])/2\n",
    "                    s = 2*M_P*Ebeam\n",
    "                    y = Q2/s/xbj\n",
    "                    file.write('%i,%f,%f,%f,%f,%f,%f,%f,%s,%f,%f,%f,%f,%s,%s,%s\\n'%(i,Ebeam,xbj,phi,y,z,Q2,PhT,'FUUT',0.0,0.0001,0.0,0.0,'neutron','pi+','solid'))\n",
    "                    i=i+1\n",
    "    \n",
    "file.close()\n"
   ]
  },
  {
   "cell_type": "code",
   "execution_count": 5,
   "id": "1855aa0e-9445-4fb3-865c-7b9fec044eec",
   "metadata": {},
   "outputs": [],
   "source": [
    "#for model test\n",
    "#z_cuts=[0.3,0.4,0.5,0.6]\n",
    "#z_cuts=[0.3,0.35,0.4,0.45]\n",
    "#Q2_cuts=[1,2,3,4,5]\n",
    "#xbj_cuts=[0,0.7]\n",
    "#PhT_cuts=[0,0.4]\n",
    "#PhT_cuts=[0.2,0.4]\n",
    "#phih_bins =[-PI,-0.9*PI,-0.8*PI,-0.7*PI,-0.6*PI,-0.5*PI,-0.4*PI,-0.3*PI,-0.2*PI,-0.1*PI,0,0.1*PI,0.2*PI,0.3*PI,0.4*PI,0.5*PI,0.6*PI,0.7*PI,0.8*PI,0.9*PI,PI]\n",
    "PhT_bins = [0,0.2,0.4,0.6,0.8]\n",
    "file = open('../Unpol_proposal/Materials/Duane_test.csv','w')\n",
    "#file.write('i,Ebeam,x,phih,y,z,Q2,pT,obs,value,stat,systrel,systabs,target,hadron,Experiment\\n')\n",
    "i=0\n",
    "Ebeam = 11.0\n",
    "M_P = 0.938272\n",
    "for i_z in range(1,len(z_cuts)):\n",
    "    #print((z_cuts[i_z-1]+z_cuts[i_z])/2)\n",
    "    z = (z_cuts[i_z-1]+z_cuts[i_z])/2\n",
    "    for i_Q2 in range(1,len(Q2_cuts)):\n",
    "        Q2 = (Q2_cuts[i_Q2-1]+Q2_cuts[i_Q2])/2\n",
    "        for i_xbj in range(1,len(xbj_cuts)):\n",
    "            xbj = (xbj_cuts[i_xbj-1]+xbj_cuts[i_xbj])/2\n",
    "            for i_PhT in range(1,len(PhT_bins)):\n",
    "                PhT = (PhT_bins[i_PhT-1]+PhT_bins[i_PhT])/2\n",
    "                for i_phi in range(1,len(phih_bins)):\n",
    "                    phi = (phih_bins[i_phi-1]+phih_bins[i_phi])/2\n",
    "                    s = 2*M_P*Ebeam\n",
    "                    y = Q2/s/xbj\n",
    "                    index = 0\n",
    "                    Eb=Ebeam\n",
    "                    beam_pol='U'\n",
    "                    target_pol='U'\n",
    "                    x=xbj\n",
    "                    ph_t_sq=PhT\n",
    "                    phih=phi\n",
    "                    phis=1\n",
    "                    k0=0.01\n",
    "                    file.write('%i,%f,%s,%s,%f,%f,%f,%f,%f,%f,%f\\n'%(index,Eb,beam_pol,target_pol,x,y,z,ph_t_sq,phih,phis,k0))    \n",
    "file.close()\n"
   ]
  },
  {
   "cell_type": "code",
   "execution_count": null,
   "id": "4001440a",
   "metadata": {},
   "outputs": [],
   "source": [
    "df_1xs_zQ2xbjPhT = pd.read_csv('../Unpol_proposal/Materials/test_1xs.dat',delim_whitespace=True)\n",
    "df_1xs_zQ2xbjPhT.head()\n",
    "\n"
   ]
  },
  {
   "cell_type": "code",
   "execution_count": null,
   "id": "68535faf",
   "metadata": {},
   "outputs": [],
   "source": [
    "df_3xs_zQ2xbjPhT = pd.read_csv('../Unpol_proposal/Materials/test_3xs.dat',delim_whitespace=True)\n",
    "df_3xs_zQ2xbjPhT.head()"
   ]
  },
  {
   "cell_type": "code",
   "execution_count": null,
   "id": "a5abd792",
   "metadata": {
    "tags": []
   },
   "outputs": [],
   "source": [
    "df_1xs_zQ2=df_1xs_zQ2xbjPhT[df_1xs_zQ2xbjPhT['x']>xbj_cuts[0]][df_1xs_zQ2xbjPhT['x']<xbj_cuts[1]][df_1xs_zQ2xbjPhT['pT']>PhT_cuts[0]][df_1xs_zQ2xbjPhT['pT']<PhT_cuts[1]]\n",
    "df_3xs_zQ2=df_3xs_zQ2xbjPhT[df_3xs_zQ2xbjPhT['x']>xbj_cuts[0]][df_3xs_zQ2xbjPhT['x']<xbj_cuts[1]][df_3xs_zQ2xbjPhT['pT']>PhT_cuts[0]][df_3xs_zQ2xbjPhT['pT']<PhT_cuts[1]]"
   ]
  }
 ],
 "metadata": {
  "kernelspec": {
   "display_name": "Python 3 (ipykernel)",
   "language": "python",
   "name": "python3"
  },
  "language_info": {
   "codemirror_mode": {
    "name": "ipython",
    "version": 3
   },
   "file_extension": ".py",
   "mimetype": "text/x-python",
   "name": "python",
   "nbconvert_exporter": "python",
   "pygments_lexer": "ipython3",
   "version": "3.10.10"
  }
 },
 "nbformat": 4,
 "nbformat_minor": 5
}
