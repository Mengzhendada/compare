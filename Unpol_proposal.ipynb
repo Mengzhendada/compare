{
 "cells": [
  {
   "cell_type": "code",
   "execution_count": 1,
   "id": "46b6e2ac",
   "metadata": {},
   "outputs": [],
   "source": [
    "import pandas as pd\n",
    "import numpy as np\n",
    "import matplotlib.pyplot as plt\n",
    "import math"
   ]
  },
  {
   "cell_type": "code",
   "execution_count": 2,
   "id": "9bef54c6",
   "metadata": {},
   "outputs": [],
   "source": [
    "def Get_weighted_average(value,error):\n",
    "    sum_mean = 0\n",
    "    sum_sigma = 0\n",
    "    #print(value,error)\n",
    "    for i in range(len(value)):\n",
    "        #print(i,value[i],error[i])\n",
    "        sum_mean += value[i]/(error[i]*error[i])\n",
    "        sum_sigma += 1/(error[i]*error[i])\n",
    "    return sum_mean/sum_sigma,math.sqrt(1/sum_sigma)\n",
    "    "
   ]
  },
  {
   "cell_type": "code",
   "execution_count": 3,
   "id": "dae35881",
   "metadata": {
    "scrolled": true
   },
   "outputs": [
    {
     "data": {
      "text/html": [
       "<div>\n",
       "<style scoped>\n",
       "    .dataframe tbody tr th:only-of-type {\n",
       "        vertical-align: middle;\n",
       "    }\n",
       "\n",
       "    .dataframe tbody tr th {\n",
       "        vertical-align: top;\n",
       "    }\n",
       "\n",
       "    .dataframe thead th {\n",
       "        text-align: right;\n",
       "    }\n",
       "</style>\n",
       "<table border=\"1\" class=\"dataframe\">\n",
       "  <thead>\n",
       "    <tr style=\"text-align: right;\">\n",
       "      <th></th>\n",
       "      <th>i</th>\n",
       "      <th>Ebeam</th>\n",
       "      <th>x</th>\n",
       "      <th>phih</th>\n",
       "      <th>y</th>\n",
       "      <th>z</th>\n",
       "      <th>Q2</th>\n",
       "      <th>pT</th>\n",
       "      <th>obs</th>\n",
       "      <th>value</th>\n",
       "      <th>stat</th>\n",
       "      <th>systrel</th>\n",
       "      <th>systabs</th>\n",
       "      <th>target</th>\n",
       "      <th>hadron</th>\n",
       "      <th>Experiment</th>\n",
       "      <th>error</th>\n",
       "    </tr>\n",
       "  </thead>\n",
       "  <tbody>\n",
       "    <tr>\n",
       "      <th>0</th>\n",
       "      <td>0</td>\n",
       "      <td>11.0</td>\n",
       "      <td>0.096472</td>\n",
       "      <td>-2.836357</td>\n",
       "      <td>0.614065</td>\n",
       "      <td>0.322670</td>\n",
       "      <td>1.216999</td>\n",
       "      <td>0.155182</td>\n",
       "      <td>FUUT</td>\n",
       "      <td>0.177679</td>\n",
       "      <td>0.000445</td>\n",
       "      <td>0.0</td>\n",
       "      <td>0.0</td>\n",
       "      <td>neutron</td>\n",
       "      <td>pi+</td>\n",
       "      <td>solid</td>\n",
       "      <td>0.000445</td>\n",
       "    </tr>\n",
       "    <tr>\n",
       "      <th>1</th>\n",
       "      <td>1</td>\n",
       "      <td>11.0</td>\n",
       "      <td>0.132718</td>\n",
       "      <td>-2.826124</td>\n",
       "      <td>0.506522</td>\n",
       "      <td>0.323708</td>\n",
       "      <td>1.375384</td>\n",
       "      <td>0.126761</td>\n",
       "      <td>FUUT</td>\n",
       "      <td>0.165628</td>\n",
       "      <td>0.000474</td>\n",
       "      <td>0.0</td>\n",
       "      <td>0.0</td>\n",
       "      <td>neutron</td>\n",
       "      <td>pi+</td>\n",
       "      <td>solid</td>\n",
       "      <td>0.000474</td>\n",
       "    </tr>\n",
       "    <tr>\n",
       "      <th>2</th>\n",
       "      <td>2</td>\n",
       "      <td>11.0</td>\n",
       "      <td>0.105780</td>\n",
       "      <td>-2.227944</td>\n",
       "      <td>0.578290</td>\n",
       "      <td>0.322748</td>\n",
       "      <td>1.254335</td>\n",
       "      <td>0.152854</td>\n",
       "      <td>FUUT</td>\n",
       "      <td>0.175346</td>\n",
       "      <td>0.000445</td>\n",
       "      <td>0.0</td>\n",
       "      <td>0.0</td>\n",
       "      <td>neutron</td>\n",
       "      <td>pi+</td>\n",
       "      <td>solid</td>\n",
       "      <td>0.000445</td>\n",
       "    </tr>\n",
       "    <tr>\n",
       "      <th>3</th>\n",
       "      <td>3</td>\n",
       "      <td>11.0</td>\n",
       "      <td>0.145042</td>\n",
       "      <td>-2.191027</td>\n",
       "      <td>0.472163</td>\n",
       "      <td>0.323749</td>\n",
       "      <td>1.404268</td>\n",
       "      <td>0.126987</td>\n",
       "      <td>FUUT</td>\n",
       "      <td>0.164009</td>\n",
       "      <td>0.000576</td>\n",
       "      <td>0.0</td>\n",
       "      <td>0.0</td>\n",
       "      <td>neutron</td>\n",
       "      <td>pi+</td>\n",
       "      <td>solid</td>\n",
       "      <td>0.000576</td>\n",
       "    </tr>\n",
       "    <tr>\n",
       "      <th>4</th>\n",
       "      <td>4</td>\n",
       "      <td>11.0</td>\n",
       "      <td>0.134333</td>\n",
       "      <td>-1.539575</td>\n",
       "      <td>0.494297</td>\n",
       "      <td>0.323116</td>\n",
       "      <td>1.354022</td>\n",
       "      <td>0.140201</td>\n",
       "      <td>FUUT</td>\n",
       "      <td>0.168347</td>\n",
       "      <td>0.000448</td>\n",
       "      <td>0.0</td>\n",
       "      <td>0.0</td>\n",
       "      <td>neutron</td>\n",
       "      <td>pi+</td>\n",
       "      <td>solid</td>\n",
       "      <td>0.000448</td>\n",
       "    </tr>\n",
       "  </tbody>\n",
       "</table>\n",
       "</div>"
      ],
      "text/plain": [
       "   i  Ebeam         x      phih         y         z        Q2        pT   obs  \\\n",
       "0  0   11.0  0.096472 -2.836357  0.614065  0.322670  1.216999  0.155182  FUUT   \n",
       "1  1   11.0  0.132718 -2.826124  0.506522  0.323708  1.375384  0.126761  FUUT   \n",
       "2  2   11.0  0.105780 -2.227944  0.578290  0.322748  1.254335  0.152854  FUUT   \n",
       "3  3   11.0  0.145042 -2.191027  0.472163  0.323749  1.404268  0.126987  FUUT   \n",
       "4  4   11.0  0.134333 -1.539575  0.494297  0.323116  1.354022  0.140201  FUUT   \n",
       "\n",
       "      value      stat  systrel systabs   target hadron Experiment     error  \n",
       "0  0.177679  0.000445      0.0     0.0  neutron    pi+      solid  0.000445  \n",
       "1  0.165628  0.000474      0.0     0.0  neutron    pi+      solid  0.000474  \n",
       "2  0.175346  0.000445      0.0     0.0  neutron    pi+      solid  0.000445  \n",
       "3  0.164009  0.000576      0.0     0.0  neutron    pi+      solid  0.000576  \n",
       "4  0.168347  0.000448      0.0     0.0  neutron    pi+      solid  0.000448  "
      ]
     },
     "execution_count": 3,
     "metadata": {},
     "output_type": "execute_result"
    }
   ],
   "source": [
    "#df_1xs_zQ2xbjPhT = pd.read_csv('../Unpol_proposal/Materials/simenhanced_1xs.dat',delim_whitespace=True)\n",
    "df_1xs_zQ2xbjPhT = pd.read_csv('../Unpol_proposal/Materials/simenhanced_1xs_piminus.dat',delim_whitespace=True)\n",
    "df_1xs_zQ2xbjPhT.head()\n",
    "#print(np.sort(df_1xs_zQ2xbjPhT['phih'].unique()))"
   ]
  },
  {
   "cell_type": "code",
   "execution_count": 4,
   "id": "db35c55f",
   "metadata": {
    "scrolled": true
   },
   "outputs": [
    {
     "data": {
      "text/html": [
       "<div>\n",
       "<style scoped>\n",
       "    .dataframe tbody tr th:only-of-type {\n",
       "        vertical-align: middle;\n",
       "    }\n",
       "\n",
       "    .dataframe tbody tr th {\n",
       "        vertical-align: top;\n",
       "    }\n",
       "\n",
       "    .dataframe thead th {\n",
       "        text-align: right;\n",
       "    }\n",
       "</style>\n",
       "<table border=\"1\" class=\"dataframe\">\n",
       "  <thead>\n",
       "    <tr style=\"text-align: right;\">\n",
       "      <th></th>\n",
       "      <th>i</th>\n",
       "      <th>Ebeam</th>\n",
       "      <th>x</th>\n",
       "      <th>phih</th>\n",
       "      <th>y</th>\n",
       "      <th>z</th>\n",
       "      <th>Q2</th>\n",
       "      <th>pT</th>\n",
       "      <th>obs</th>\n",
       "      <th>value</th>\n",
       "      <th>stat</th>\n",
       "      <th>systrel</th>\n",
       "      <th>systabs</th>\n",
       "      <th>target</th>\n",
       "      <th>hadron</th>\n",
       "      <th>Experiment</th>\n",
       "      <th>error</th>\n",
       "    </tr>\n",
       "  </thead>\n",
       "  <tbody>\n",
       "    <tr>\n",
       "      <th>0</th>\n",
       "      <td>0</td>\n",
       "      <td>11.0</td>\n",
       "      <td>0.102125</td>\n",
       "      <td>-2.835110</td>\n",
       "      <td>0.596864</td>\n",
       "      <td>0.322694</td>\n",
       "      <td>1.247443</td>\n",
       "      <td>0.150639</td>\n",
       "      <td>FUUT</td>\n",
       "      <td>0.206512</td>\n",
       "      <td>0.000446</td>\n",
       "      <td>0.0</td>\n",
       "      <td>0.0</td>\n",
       "      <td>neutron</td>\n",
       "      <td>pi-</td>\n",
       "      <td>solid</td>\n",
       "      <td>0.000446</td>\n",
       "    </tr>\n",
       "    <tr>\n",
       "      <th>1</th>\n",
       "      <td>1</td>\n",
       "      <td>11.0</td>\n",
       "      <td>0.141151</td>\n",
       "      <td>-2.822497</td>\n",
       "      <td>0.482856</td>\n",
       "      <td>0.323828</td>\n",
       "      <td>1.398796</td>\n",
       "      <td>0.120309</td>\n",
       "      <td>FUUT</td>\n",
       "      <td>0.189329</td>\n",
       "      <td>0.000713</td>\n",
       "      <td>0.0</td>\n",
       "      <td>0.0</td>\n",
       "      <td>neutron</td>\n",
       "      <td>pi-</td>\n",
       "      <td>solid</td>\n",
       "      <td>0.000713</td>\n",
       "    </tr>\n",
       "    <tr>\n",
       "      <th>2</th>\n",
       "      <td>2</td>\n",
       "      <td>11.0</td>\n",
       "      <td>0.113003</td>\n",
       "      <td>-2.221387</td>\n",
       "      <td>0.558165</td>\n",
       "      <td>0.322769</td>\n",
       "      <td>1.285880</td>\n",
       "      <td>0.147973</td>\n",
       "      <td>FUUT</td>\n",
       "      <td>0.183530</td>\n",
       "      <td>0.000448</td>\n",
       "      <td>0.0</td>\n",
       "      <td>0.0</td>\n",
       "      <td>neutron</td>\n",
       "      <td>pi-</td>\n",
       "      <td>solid</td>\n",
       "      <td>0.000448</td>\n",
       "    </tr>\n",
       "    <tr>\n",
       "      <th>3</th>\n",
       "      <td>3</td>\n",
       "      <td>11.0</td>\n",
       "      <td>0.157946</td>\n",
       "      <td>-2.176220</td>\n",
       "      <td>0.441252</td>\n",
       "      <td>0.323837</td>\n",
       "      <td>1.433790</td>\n",
       "      <td>0.118678</td>\n",
       "      <td>FUUT</td>\n",
       "      <td>0.168965</td>\n",
       "      <td>0.001033</td>\n",
       "      <td>0.0</td>\n",
       "      <td>0.0</td>\n",
       "      <td>neutron</td>\n",
       "      <td>pi-</td>\n",
       "      <td>solid</td>\n",
       "      <td>0.001033</td>\n",
       "    </tr>\n",
       "    <tr>\n",
       "      <th>4</th>\n",
       "      <td>4</td>\n",
       "      <td>11.0</td>\n",
       "      <td>0.141717</td>\n",
       "      <td>-1.083965</td>\n",
       "      <td>0.477265</td>\n",
       "      <td>0.323357</td>\n",
       "      <td>1.374481</td>\n",
       "      <td>0.132410</td>\n",
       "      <td>FUUT</td>\n",
       "      <td>0.117242</td>\n",
       "      <td>0.000448</td>\n",
       "      <td>0.0</td>\n",
       "      <td>0.0</td>\n",
       "      <td>neutron</td>\n",
       "      <td>pi-</td>\n",
       "      <td>solid</td>\n",
       "      <td>0.000448</td>\n",
       "    </tr>\n",
       "  </tbody>\n",
       "</table>\n",
       "</div>"
      ],
      "text/plain": [
       "   i  Ebeam         x      phih         y         z        Q2        pT   obs  \\\n",
       "0  0   11.0  0.102125 -2.835110  0.596864  0.322694  1.247443  0.150639  FUUT   \n",
       "1  1   11.0  0.141151 -2.822497  0.482856  0.323828  1.398796  0.120309  FUUT   \n",
       "2  2   11.0  0.113003 -2.221387  0.558165  0.322769  1.285880  0.147973  FUUT   \n",
       "3  3   11.0  0.157946 -2.176220  0.441252  0.323837  1.433790  0.118678  FUUT   \n",
       "4  4   11.0  0.141717 -1.083965  0.477265  0.323357  1.374481  0.132410  FUUT   \n",
       "\n",
       "      value      stat  systrel systabs   target hadron Experiment     error  \n",
       "0  0.206512  0.000446      0.0     0.0  neutron    pi-      solid  0.000446  \n",
       "1  0.189329  0.000713      0.0     0.0  neutron    pi-      solid  0.000713  \n",
       "2  0.183530  0.000448      0.0     0.0  neutron    pi-      solid  0.000448  \n",
       "3  0.168965  0.001033      0.0     0.0  neutron    pi-      solid  0.001033  \n",
       "4  0.117242  0.000448      0.0     0.0  neutron    pi-      solid  0.000448  "
      ]
     },
     "execution_count": 4,
     "metadata": {},
     "output_type": "execute_result"
    }
   ],
   "source": [
    "#df_3xs_zQ2xbjPhT = pd.read_csv('../Unpol_proposal/Materials/simenhanced_3xs.dat',delim_whitespace=True)\n",
    "df_3xs_zQ2xbjPhT = pd.read_csv('../Unpol_proposal/Materials/simenhanced_3xs_piminus.dat',delim_whitespace=True)\n",
    "df_3xs_zQ2xbjPhT.head()"
   ]
  },
  {
   "cell_type": "code",
   "execution_count": 5,
   "id": "647ddbe4",
   "metadata": {
    "scrolled": true
   },
   "outputs": [
    {
     "name": "stdout",
     "output_type": "stream",
     "text": [
      "3.141592653589793\n"
     ]
    },
    {
     "name": "stderr",
     "output_type": "stream",
     "text": [
      "/var/folders/ll/8_2_l77j4yl2zjb6stl8d9b00000gn/T/ipykernel_2209/1322364650.py:11: UserWarning: Boolean Series key will be reindexed to match DataFrame index.\n",
      "  df_1xs_zQ2=df_1xs_zQ2xbjPhT[df_1xs_zQ2xbjPhT['x']>xbj_cuts[0]][df_1xs_zQ2xbjPhT['x']<xbj_cuts[1]][df_1xs_zQ2xbjPhT['pT']>PhT_cuts[0]][df_1xs_zQ2xbjPhT['pT']<PhT_cuts[1]]\n",
      "/var/folders/ll/8_2_l77j4yl2zjb6stl8d9b00000gn/T/ipykernel_2209/1322364650.py:12: UserWarning: Boolean Series key will be reindexed to match DataFrame index.\n",
      "  df_3xs_zQ2=df_3xs_zQ2xbjPhT[df_3xs_zQ2xbjPhT['x']>xbj_cuts[0]][df_3xs_zQ2xbjPhT['x']<xbj_cuts[1]][df_3xs_zQ2xbjPhT['pT']>PhT_cuts[0]][df_3xs_zQ2xbjPhT['pT']<PhT_cuts[1]]\n"
     ]
    }
   ],
   "source": [
    "PI = math.pi\n",
    "print(PI)\n",
    "z_cuts=[0.3,0.4,0.5,0.6]\n",
    "#z_cuts=[0.3,0.35,0.4,0.45]\n",
    "Q2_cuts=[1,2,3,4,5]\n",
    "xbj_cuts=[0,0.7]\n",
    "PhT_cuts=[0.0,0.2]\n",
    "#PhT_cuts=[0.2,0.4]\n",
    "#phih_bins = [-3.14,-2.5,-2,-1.5,-1,-0.5,0,0.5,1,1.5,2,2.5,3.14]\n",
    "phih_bins =[-PI,-4*PI/5,-3*PI/5,-2*PI/5,-PI/5,PI/5,2*PI/5,3*PI/5,4*PI/5,PI]\n",
    "df_1xs_zQ2=df_1xs_zQ2xbjPhT[df_1xs_zQ2xbjPhT['x']>xbj_cuts[0]][df_1xs_zQ2xbjPhT['x']<xbj_cuts[1]][df_1xs_zQ2xbjPhT['pT']>PhT_cuts[0]][df_1xs_zQ2xbjPhT['pT']<PhT_cuts[1]]\n",
    "df_3xs_zQ2=df_3xs_zQ2xbjPhT[df_3xs_zQ2xbjPhT['x']>xbj_cuts[0]][df_3xs_zQ2xbjPhT['x']<xbj_cuts[1]][df_3xs_zQ2xbjPhT['pT']>PhT_cuts[0]][df_3xs_zQ2xbjPhT['pT']<PhT_cuts[1]]"
   ]
  },
  {
   "cell_type": "code",
   "execution_count": 6,
   "id": "a584580b",
   "metadata": {},
   "outputs": [
    {
     "name": "stdout",
     "output_type": "stream",
     "text": [
      "59\n",
      "59\n"
     ]
    },
    {
     "name": "stderr",
     "output_type": "stream",
     "text": [
      "/var/folders/ll/8_2_l77j4yl2zjb6stl8d9b00000gn/T/ipykernel_2209/2668002078.py:1: UserWarning: Boolean Series key will be reindexed to match DataFrame index.\n",
      "  df_1xs_1_1 = df_1xs_zQ2[df_1xs_zQ2['z']>z_cuts[0]][df_1xs_zQ2['z']<z_cuts[1]][df_1xs_zQ2['Q2']>Q2_cuts[0]][df_1xs_zQ2['Q2']<Q2_cuts[1]]\n"
     ]
    }
   ],
   "source": [
    "df_1xs_1_1 = df_1xs_zQ2[df_1xs_zQ2['z']>z_cuts[0]][df_1xs_zQ2['z']<z_cuts[1]][df_1xs_zQ2['Q2']>Q2_cuts[0]][df_1xs_zQ2['Q2']<Q2_cuts[1]]\n",
    "print(len(df_1xs_1_1[df_1xs_1_1['Ebeam']==11.0]))\n",
    "print(len(df_1xs_1_1[df_1xs_1_1['Ebeam']==11.0]['phih'].unique()))"
   ]
  },
  {
   "cell_type": "code",
   "execution_count": 7,
   "id": "03421260",
   "metadata": {},
   "outputs": [
    {
     "name": "stdout",
     "output_type": "stream",
     "text": [
      "44\n",
      "44\n"
     ]
    },
    {
     "name": "stderr",
     "output_type": "stream",
     "text": [
      "/var/folders/ll/8_2_l77j4yl2zjb6stl8d9b00000gn/T/ipykernel_2209/1735272136.py:1: UserWarning: Boolean Series key will be reindexed to match DataFrame index.\n",
      "  df_3xs_1_1 = df_3xs_zQ2[df_3xs_zQ2['z']>z_cuts[0]][df_3xs_zQ2['z']<z_cuts[1]][df_3xs_zQ2['Q2']>Q2_cuts[0]][df_3xs_zQ2['Q2']<Q2_cuts[1]]\n"
     ]
    }
   ],
   "source": [
    "df_3xs_1_1 = df_3xs_zQ2[df_3xs_zQ2['z']>z_cuts[0]][df_3xs_zQ2['z']<z_cuts[1]][df_3xs_zQ2['Q2']>Q2_cuts[0]][df_3xs_zQ2['Q2']<Q2_cuts[1]]\n",
    "print(len(df_3xs_1_1[df_3xs_1_1['Ebeam']==11.0]))\n",
    "print(len(df_3xs_1_1[df_3xs_1_1['Ebeam']==11.0]['phih'].unique()))"
   ]
  },
  {
   "cell_type": "code",
   "execution_count": 8,
   "id": "e7518a7d",
   "metadata": {},
   "outputs": [
    {
     "name": "stdout",
     "output_type": "stream",
     "text": [
      "59\n",
      "59\n"
     ]
    },
    {
     "name": "stderr",
     "output_type": "stream",
     "text": [
      "/var/folders/ll/8_2_l77j4yl2zjb6stl8d9b00000gn/T/ipykernel_2209/187137021.py:1: UserWarning: Boolean Series key will be reindexed to match DataFrame index.\n",
      "  df_1xs_1_2 = df_1xs_zQ2[df_1xs_zQ2['z']>z_cuts[1]][df_1xs_zQ2['z']<z_cuts[2]][df_1xs_zQ2['Q2']>Q2_cuts[0]][df_1xs_zQ2['Q2']<Q2_cuts[1]]\n"
     ]
    }
   ],
   "source": [
    "df_1xs_1_2 = df_1xs_zQ2[df_1xs_zQ2['z']>z_cuts[1]][df_1xs_zQ2['z']<z_cuts[2]][df_1xs_zQ2['Q2']>Q2_cuts[0]][df_1xs_zQ2['Q2']<Q2_cuts[1]]\n",
    "print(len(df_1xs_1_1[df_1xs_1_1['Ebeam']==11.0]))\n",
    "print(len(df_1xs_1_1[df_1xs_1_1['Ebeam']==11.0]['phih'].unique()))"
   ]
  },
  {
   "cell_type": "code",
   "execution_count": 9,
   "id": "bd45ccde",
   "metadata": {},
   "outputs": [
    {
     "name": "stdout",
     "output_type": "stream",
     "text": [
      "44\n",
      "44\n"
     ]
    },
    {
     "name": "stderr",
     "output_type": "stream",
     "text": [
      "/var/folders/ll/8_2_l77j4yl2zjb6stl8d9b00000gn/T/ipykernel_2209/660959689.py:1: UserWarning: Boolean Series key will be reindexed to match DataFrame index.\n",
      "  df_3xs_1_2 = df_3xs_zQ2[df_3xs_zQ2['z']>z_cuts[1]][df_3xs_zQ2['z']<z_cuts[2]][df_3xs_zQ2['Q2']>Q2_cuts[0]][df_3xs_zQ2['Q2']<Q2_cuts[1]]\n"
     ]
    }
   ],
   "source": [
    "df_3xs_1_2 = df_3xs_zQ2[df_3xs_zQ2['z']>z_cuts[1]][df_3xs_zQ2['z']<z_cuts[2]][df_3xs_zQ2['Q2']>Q2_cuts[0]][df_3xs_zQ2['Q2']<Q2_cuts[1]]\n",
    "print(len(df_3xs_1_1[df_3xs_1_1['Ebeam']==11.0]))\n",
    "print(len(df_3xs_1_1[df_3xs_1_1['Ebeam']==11.0]['phih'].unique()))"
   ]
  },
  {
   "cell_type": "code",
   "execution_count": 10,
   "id": "640b0d75",
   "metadata": {},
   "outputs": [
    {
     "name": "stdout",
     "output_type": "stream",
     "text": [
      "59\n",
      "59\n"
     ]
    },
    {
     "name": "stderr",
     "output_type": "stream",
     "text": [
      "/var/folders/ll/8_2_l77j4yl2zjb6stl8d9b00000gn/T/ipykernel_2209/2016405503.py:1: UserWarning: Boolean Series key will be reindexed to match DataFrame index.\n",
      "  df_1xs_1_3 = df_1xs_zQ2[df_1xs_zQ2['z']>z_cuts[2]][df_1xs_zQ2['z']<z_cuts[3]][df_1xs_zQ2['Q2']>Q2_cuts[0]][df_1xs_zQ2['Q2']<Q2_cuts[1]]\n"
     ]
    }
   ],
   "source": [
    "df_1xs_1_3 = df_1xs_zQ2[df_1xs_zQ2['z']>z_cuts[2]][df_1xs_zQ2['z']<z_cuts[3]][df_1xs_zQ2['Q2']>Q2_cuts[0]][df_1xs_zQ2['Q2']<Q2_cuts[1]]\n",
    "print(len(df_1xs_1_1[df_1xs_1_1['Ebeam']==11.0]))\n",
    "print(len(df_1xs_1_1[df_1xs_1_1['Ebeam']==11.0]['phih'].unique()))"
   ]
  },
  {
   "cell_type": "code",
   "execution_count": 11,
   "id": "63ffe9ad",
   "metadata": {},
   "outputs": [
    {
     "name": "stdout",
     "output_type": "stream",
     "text": [
      "44\n",
      "44\n"
     ]
    },
    {
     "name": "stderr",
     "output_type": "stream",
     "text": [
      "/var/folders/ll/8_2_l77j4yl2zjb6stl8d9b00000gn/T/ipykernel_2209/2130574157.py:1: UserWarning: Boolean Series key will be reindexed to match DataFrame index.\n",
      "  df_3xs_1_3 = df_3xs_zQ2[df_3xs_zQ2['z']>z_cuts[2]][df_3xs_zQ2['z']<z_cuts[3]][df_3xs_zQ2['Q2']>Q2_cuts[0]][df_3xs_zQ2['Q2']<Q2_cuts[1]]\n"
     ]
    }
   ],
   "source": [
    "df_3xs_1_3 = df_3xs_zQ2[df_3xs_zQ2['z']>z_cuts[2]][df_3xs_zQ2['z']<z_cuts[3]][df_3xs_zQ2['Q2']>Q2_cuts[0]][df_3xs_zQ2['Q2']<Q2_cuts[1]]\n",
    "print(len(df_3xs_1_1[df_3xs_1_1['Ebeam']==11.0]))\n",
    "print(len(df_3xs_1_1[df_3xs_1_1['Ebeam']==11.0]['phih'].unique()))"
   ]
  },
  {
   "cell_type": "code",
   "execution_count": 12,
   "id": "b244be00",
   "metadata": {
    "scrolled": true
   },
   "outputs": [
    {
     "name": "stdout",
     "output_type": "stream",
     "text": [
      "59\n",
      "59\n"
     ]
    },
    {
     "name": "stderr",
     "output_type": "stream",
     "text": [
      "/var/folders/ll/8_2_l77j4yl2zjb6stl8d9b00000gn/T/ipykernel_2209/4258856607.py:1: UserWarning: Boolean Series key will be reindexed to match DataFrame index.\n",
      "  df_1xs_2_1 = df_1xs_zQ2[df_1xs_zQ2['z']>z_cuts[0]][df_1xs_zQ2['z']<z_cuts[1]][df_1xs_zQ2['Q2']>Q2_cuts[1]][df_1xs_zQ2['Q2']<Q2_cuts[2]]\n"
     ]
    }
   ],
   "source": [
    "df_1xs_2_1 = df_1xs_zQ2[df_1xs_zQ2['z']>z_cuts[0]][df_1xs_zQ2['z']<z_cuts[1]][df_1xs_zQ2['Q2']>Q2_cuts[1]][df_1xs_zQ2['Q2']<Q2_cuts[2]]\n",
    "print(len(df_1xs_1_1[df_1xs_1_1['Ebeam']==11.0]))\n",
    "print(len(df_1xs_1_1[df_1xs_1_1['Ebeam']==11.0]['phih'].unique()))"
   ]
  },
  {
   "cell_type": "code",
   "execution_count": 13,
   "id": "cdb0919f",
   "metadata": {
    "scrolled": true
   },
   "outputs": [
    {
     "name": "stdout",
     "output_type": "stream",
     "text": [
      "44\n",
      "44\n"
     ]
    },
    {
     "name": "stderr",
     "output_type": "stream",
     "text": [
      "/var/folders/ll/8_2_l77j4yl2zjb6stl8d9b00000gn/T/ipykernel_2209/38913910.py:1: UserWarning: Boolean Series key will be reindexed to match DataFrame index.\n",
      "  df_3xs_2_1 = df_3xs_zQ2[df_3xs_zQ2['z']>z_cuts[0]][df_3xs_zQ2['z']<z_cuts[1]][df_3xs_zQ2['Q2']>Q2_cuts[1]][df_3xs_zQ2['Q2']<Q2_cuts[2]]\n"
     ]
    }
   ],
   "source": [
    "df_3xs_2_1 = df_3xs_zQ2[df_3xs_zQ2['z']>z_cuts[0]][df_3xs_zQ2['z']<z_cuts[1]][df_3xs_zQ2['Q2']>Q2_cuts[1]][df_3xs_zQ2['Q2']<Q2_cuts[2]]\n",
    "print(len(df_3xs_1_1[df_3xs_1_1['Ebeam']==11.0]))\n",
    "print(len(df_3xs_1_1[df_3xs_1_1['Ebeam']==11.0]['phih'].unique()))"
   ]
  },
  {
   "cell_type": "code",
   "execution_count": 14,
   "id": "1026a51c",
   "metadata": {},
   "outputs": [
    {
     "name": "stdout",
     "output_type": "stream",
     "text": [
      "59\n",
      "59\n"
     ]
    },
    {
     "name": "stderr",
     "output_type": "stream",
     "text": [
      "/var/folders/ll/8_2_l77j4yl2zjb6stl8d9b00000gn/T/ipykernel_2209/957587887.py:1: UserWarning: Boolean Series key will be reindexed to match DataFrame index.\n",
      "  df_1xs_2_2 = df_1xs_zQ2[df_1xs_zQ2['z']>z_cuts[1]][df_1xs_zQ2['z']<z_cuts[2]][df_1xs_zQ2['Q2']>Q2_cuts[1]][df_1xs_zQ2['Q2']<Q2_cuts[2]]\n"
     ]
    }
   ],
   "source": [
    "df_1xs_2_2 = df_1xs_zQ2[df_1xs_zQ2['z']>z_cuts[1]][df_1xs_zQ2['z']<z_cuts[2]][df_1xs_zQ2['Q2']>Q2_cuts[1]][df_1xs_zQ2['Q2']<Q2_cuts[2]]\n",
    "print(len(df_1xs_1_1[df_1xs_1_1['Ebeam']==11.0]))\n",
    "print(len(df_1xs_1_1[df_1xs_1_1['Ebeam']==11.0]['phih'].unique()))"
   ]
  },
  {
   "cell_type": "code",
   "execution_count": 15,
   "id": "e64dc8df",
   "metadata": {},
   "outputs": [
    {
     "name": "stdout",
     "output_type": "stream",
     "text": [
      "44\n",
      "44\n"
     ]
    },
    {
     "name": "stderr",
     "output_type": "stream",
     "text": [
      "/var/folders/ll/8_2_l77j4yl2zjb6stl8d9b00000gn/T/ipykernel_2209/1303666535.py:1: UserWarning: Boolean Series key will be reindexed to match DataFrame index.\n",
      "  df_3xs_2_2 = df_3xs_zQ2[df_3xs_zQ2['z']>z_cuts[1]][df_3xs_zQ2['z']<z_cuts[2]][df_3xs_zQ2['Q2']>Q2_cuts[1]][df_3xs_zQ2['Q2']<Q2_cuts[2]]\n"
     ]
    }
   ],
   "source": [
    "df_3xs_2_2 = df_3xs_zQ2[df_3xs_zQ2['z']>z_cuts[1]][df_3xs_zQ2['z']<z_cuts[2]][df_3xs_zQ2['Q2']>Q2_cuts[1]][df_3xs_zQ2['Q2']<Q2_cuts[2]]\n",
    "print(len(df_3xs_1_1[df_3xs_1_1['Ebeam']==11.0]))\n",
    "print(len(df_3xs_1_1[df_3xs_1_1['Ebeam']==11.0]['phih'].unique()))"
   ]
  },
  {
   "cell_type": "code",
   "execution_count": 16,
   "id": "95a56d30",
   "metadata": {},
   "outputs": [
    {
     "name": "stdout",
     "output_type": "stream",
     "text": [
      "59\n",
      "59\n"
     ]
    },
    {
     "name": "stderr",
     "output_type": "stream",
     "text": [
      "/var/folders/ll/8_2_l77j4yl2zjb6stl8d9b00000gn/T/ipykernel_2209/614530096.py:1: UserWarning: Boolean Series key will be reindexed to match DataFrame index.\n",
      "  df_1xs_2_3 = df_1xs_zQ2[df_1xs_zQ2['z']>z_cuts[2]][df_1xs_zQ2['z']<z_cuts[3]][df_1xs_zQ2['Q2']>Q2_cuts[1]][df_1xs_zQ2['Q2']<Q2_cuts[2]]\n"
     ]
    }
   ],
   "source": [
    "df_1xs_2_3 = df_1xs_zQ2[df_1xs_zQ2['z']>z_cuts[2]][df_1xs_zQ2['z']<z_cuts[3]][df_1xs_zQ2['Q2']>Q2_cuts[1]][df_1xs_zQ2['Q2']<Q2_cuts[2]]\n",
    "print(len(df_1xs_1_1[df_1xs_1_1['Ebeam']==11.0]))\n",
    "print(len(df_1xs_1_1[df_1xs_1_1['Ebeam']==11.0]['phih'].unique()))"
   ]
  },
  {
   "cell_type": "code",
   "execution_count": 17,
   "id": "b31752c2",
   "metadata": {},
   "outputs": [
    {
     "name": "stdout",
     "output_type": "stream",
     "text": [
      "44\n",
      "44\n"
     ]
    },
    {
     "name": "stderr",
     "output_type": "stream",
     "text": [
      "/var/folders/ll/8_2_l77j4yl2zjb6stl8d9b00000gn/T/ipykernel_2209/2563255446.py:1: UserWarning: Boolean Series key will be reindexed to match DataFrame index.\n",
      "  df_3xs_2_3 = df_3xs_zQ2[df_3xs_zQ2['z']>z_cuts[2]][df_3xs_zQ2['z']<z_cuts[3]][df_3xs_zQ2['Q2']>Q2_cuts[1]][df_3xs_zQ2['Q2']<Q2_cuts[2]]\n"
     ]
    }
   ],
   "source": [
    "df_3xs_2_3 = df_3xs_zQ2[df_3xs_zQ2['z']>z_cuts[2]][df_3xs_zQ2['z']<z_cuts[3]][df_3xs_zQ2['Q2']>Q2_cuts[1]][df_3xs_zQ2['Q2']<Q2_cuts[2]]\n",
    "print(len(df_3xs_1_1[df_3xs_1_1['Ebeam']==11.0]))\n",
    "print(len(df_3xs_1_1[df_3xs_1_1['Ebeam']==11.0]['phih'].unique()))"
   ]
  },
  {
   "cell_type": "code",
   "execution_count": 18,
   "id": "7909fb0a",
   "metadata": {
    "scrolled": false
   },
   "outputs": [
    {
     "name": "stdout",
     "output_type": "stream",
     "text": [
      "59\n",
      "59\n"
     ]
    },
    {
     "name": "stderr",
     "output_type": "stream",
     "text": [
      "/var/folders/ll/8_2_l77j4yl2zjb6stl8d9b00000gn/T/ipykernel_2209/2105384112.py:1: UserWarning: Boolean Series key will be reindexed to match DataFrame index.\n",
      "  df_1xs_3_1 = df_1xs_zQ2[df_1xs_zQ2['z']>z_cuts[0]][df_1xs_zQ2['z']<z_cuts[1]][df_1xs_zQ2['Q2']>Q2_cuts[2]][df_1xs_zQ2['Q2']<Q2_cuts[3]]\n"
     ]
    }
   ],
   "source": [
    "df_1xs_3_1 = df_1xs_zQ2[df_1xs_zQ2['z']>z_cuts[0]][df_1xs_zQ2['z']<z_cuts[1]][df_1xs_zQ2['Q2']>Q2_cuts[2]][df_1xs_zQ2['Q2']<Q2_cuts[3]]\n",
    "print(len(df_1xs_1_1[df_1xs_1_1['Ebeam']==11.0]))\n",
    "print(len(df_1xs_1_1[df_1xs_1_1['Ebeam']==11.0]['phih'].unique()))"
   ]
  },
  {
   "cell_type": "code",
   "execution_count": 19,
   "id": "d210765d",
   "metadata": {
    "scrolled": false
   },
   "outputs": [
    {
     "name": "stdout",
     "output_type": "stream",
     "text": [
      "44\n",
      "44\n"
     ]
    },
    {
     "name": "stderr",
     "output_type": "stream",
     "text": [
      "/var/folders/ll/8_2_l77j4yl2zjb6stl8d9b00000gn/T/ipykernel_2209/3731236058.py:1: UserWarning: Boolean Series key will be reindexed to match DataFrame index.\n",
      "  df_3xs_3_1 = df_3xs_zQ2[df_3xs_zQ2['z']>z_cuts[0]][df_3xs_zQ2['z']<z_cuts[1]][df_3xs_zQ2['Q2']>Q2_cuts[2]][df_3xs_zQ2['Q2']<Q2_cuts[3]]\n"
     ]
    }
   ],
   "source": [
    "df_3xs_3_1 = df_3xs_zQ2[df_3xs_zQ2['z']>z_cuts[0]][df_3xs_zQ2['z']<z_cuts[1]][df_3xs_zQ2['Q2']>Q2_cuts[2]][df_3xs_zQ2['Q2']<Q2_cuts[3]]\n",
    "print(len(df_3xs_1_1[df_3xs_1_1['Ebeam']==11.0]))\n",
    "print(len(df_3xs_1_1[df_3xs_1_1['Ebeam']==11.0]['phih'].unique()))"
   ]
  },
  {
   "cell_type": "code",
   "execution_count": 20,
   "id": "23a33b67",
   "metadata": {
    "scrolled": true
   },
   "outputs": [
    {
     "name": "stdout",
     "output_type": "stream",
     "text": [
      "59\n",
      "59\n"
     ]
    },
    {
     "name": "stderr",
     "output_type": "stream",
     "text": [
      "/var/folders/ll/8_2_l77j4yl2zjb6stl8d9b00000gn/T/ipykernel_2209/2875546147.py:1: UserWarning: Boolean Series key will be reindexed to match DataFrame index.\n",
      "  df_1xs_3_2 = df_1xs_zQ2[df_1xs_zQ2['z']>z_cuts[1]][df_1xs_zQ2['z']<z_cuts[2]][df_1xs_zQ2['Q2']>Q2_cuts[2]][df_1xs_zQ2['Q2']<Q2_cuts[3]]\n"
     ]
    }
   ],
   "source": [
    "df_1xs_3_2 = df_1xs_zQ2[df_1xs_zQ2['z']>z_cuts[1]][df_1xs_zQ2['z']<z_cuts[2]][df_1xs_zQ2['Q2']>Q2_cuts[2]][df_1xs_zQ2['Q2']<Q2_cuts[3]]\n",
    "print(len(df_1xs_1_1[df_1xs_1_1['Ebeam']==11.0]))\n",
    "print(len(df_1xs_1_1[df_1xs_1_1['Ebeam']==11.0]['phih'].unique()))"
   ]
  },
  {
   "cell_type": "code",
   "execution_count": 21,
   "id": "292d2e45",
   "metadata": {
    "scrolled": true
   },
   "outputs": [
    {
     "name": "stdout",
     "output_type": "stream",
     "text": [
      "44\n",
      "44\n"
     ]
    },
    {
     "name": "stderr",
     "output_type": "stream",
     "text": [
      "/var/folders/ll/8_2_l77j4yl2zjb6stl8d9b00000gn/T/ipykernel_2209/4239354454.py:1: UserWarning: Boolean Series key will be reindexed to match DataFrame index.\n",
      "  df_3xs_3_2 = df_3xs_zQ2[df_3xs_zQ2['z']>z_cuts[1]][df_3xs_zQ2['z']<z_cuts[2]][df_3xs_zQ2['Q2']>Q2_cuts[2]][df_3xs_zQ2['Q2']<Q2_cuts[3]]\n"
     ]
    }
   ],
   "source": [
    "df_3xs_3_2 = df_3xs_zQ2[df_3xs_zQ2['z']>z_cuts[1]][df_3xs_zQ2['z']<z_cuts[2]][df_3xs_zQ2['Q2']>Q2_cuts[2]][df_3xs_zQ2['Q2']<Q2_cuts[3]]\n",
    "print(len(df_3xs_1_1[df_3xs_1_1['Ebeam']==11.0]))\n",
    "print(len(df_3xs_1_1[df_3xs_1_1['Ebeam']==11.0]['phih'].unique()))"
   ]
  },
  {
   "cell_type": "code",
   "execution_count": 22,
   "id": "b02cf740",
   "metadata": {
    "scrolled": true
   },
   "outputs": [
    {
     "name": "stderr",
     "output_type": "stream",
     "text": [
      "/var/folders/ll/8_2_l77j4yl2zjb6stl8d9b00000gn/T/ipykernel_2209/3204621015.py:1: UserWarning: Boolean Series key will be reindexed to match DataFrame index.\n",
      "  df_1xs_3_3 = df_1xs_zQ2[df_1xs_zQ2['z']>z_cuts[2]][df_1xs_zQ2['z']<z_cuts[3]][df_1xs_zQ2['Q2']>Q2_cuts[2]][df_1xs_zQ2['Q2']<Q2_cuts[3]]\n"
     ]
    },
    {
     "name": "stdout",
     "output_type": "stream",
     "text": [
      "59\n",
      "59\n"
     ]
    }
   ],
   "source": [
    "df_1xs_3_3 = df_1xs_zQ2[df_1xs_zQ2['z']>z_cuts[2]][df_1xs_zQ2['z']<z_cuts[3]][df_1xs_zQ2['Q2']>Q2_cuts[2]][df_1xs_zQ2['Q2']<Q2_cuts[3]]\n",
    "print(len(df_1xs_1_1[df_1xs_1_1['Ebeam']==11.0]))\n",
    "print(len(df_1xs_1_1[df_1xs_1_1['Ebeam']==11.0]['phih'].unique()))"
   ]
  },
  {
   "cell_type": "code",
   "execution_count": 23,
   "id": "c52abfa6",
   "metadata": {
    "scrolled": true
   },
   "outputs": [
    {
     "name": "stdout",
     "output_type": "stream",
     "text": [
      "44\n",
      "44\n"
     ]
    },
    {
     "name": "stderr",
     "output_type": "stream",
     "text": [
      "/var/folders/ll/8_2_l77j4yl2zjb6stl8d9b00000gn/T/ipykernel_2209/165647900.py:1: UserWarning: Boolean Series key will be reindexed to match DataFrame index.\n",
      "  df_3xs_3_3 = df_3xs_zQ2[df_3xs_zQ2['z']>z_cuts[2]][df_3xs_zQ2['z']<z_cuts[3]][df_3xs_zQ2['Q2']>Q2_cuts[2]][df_3xs_zQ2['Q2']<Q2_cuts[3]]\n"
     ]
    }
   ],
   "source": [
    "df_3xs_3_3 = df_3xs_zQ2[df_3xs_zQ2['z']>z_cuts[2]][df_3xs_zQ2['z']<z_cuts[3]][df_3xs_zQ2['Q2']>Q2_cuts[2]][df_3xs_zQ2['Q2']<Q2_cuts[3]]\n",
    "print(len(df_3xs_1_1[df_3xs_1_1['Ebeam']==11.0]))\n",
    "print(len(df_3xs_1_1[df_3xs_1_1['Ebeam']==11.0]['phih'].unique()))"
   ]
  },
  {
   "cell_type": "code",
   "execution_count": 24,
   "id": "3f150745",
   "metadata": {
    "scrolled": true
   },
   "outputs": [
    {
     "name": "stdout",
     "output_type": "stream",
     "text": [
      "59\n",
      "59\n"
     ]
    },
    {
     "name": "stderr",
     "output_type": "stream",
     "text": [
      "/var/folders/ll/8_2_l77j4yl2zjb6stl8d9b00000gn/T/ipykernel_2209/1080734928.py:1: UserWarning: Boolean Series key will be reindexed to match DataFrame index.\n",
      "  df_1xs_4_1 = df_1xs_zQ2[df_1xs_zQ2['z']>z_cuts[0]][df_1xs_zQ2['z']<z_cuts[1]][df_1xs_zQ2['Q2']>Q2_cuts[3]][df_1xs_zQ2['Q2']<Q2_cuts[4]]\n"
     ]
    }
   ],
   "source": [
    "df_1xs_4_1 = df_1xs_zQ2[df_1xs_zQ2['z']>z_cuts[0]][df_1xs_zQ2['z']<z_cuts[1]][df_1xs_zQ2['Q2']>Q2_cuts[3]][df_1xs_zQ2['Q2']<Q2_cuts[4]]\n",
    "print(len(df_1xs_1_1[df_1xs_1_1['Ebeam']==11.0]))\n",
    "print(len(df_1xs_1_1[df_1xs_1_1['Ebeam']==11.0]['phih'].unique()))"
   ]
  },
  {
   "cell_type": "code",
   "execution_count": 25,
   "id": "179a7c9a",
   "metadata": {
    "scrolled": true
   },
   "outputs": [
    {
     "name": "stderr",
     "output_type": "stream",
     "text": [
      "/var/folders/ll/8_2_l77j4yl2zjb6stl8d9b00000gn/T/ipykernel_2209/2895693434.py:1: UserWarning: Boolean Series key will be reindexed to match DataFrame index.\n",
      "  df_3xs_4_1 = df_3xs_zQ2[df_3xs_zQ2['z']>z_cuts[0]][df_3xs_zQ2['z']<z_cuts[1]][df_3xs_zQ2['Q2']>Q2_cuts[3]][df_3xs_zQ2['Q2']<Q2_cuts[4]]\n"
     ]
    },
    {
     "name": "stdout",
     "output_type": "stream",
     "text": [
      "44\n",
      "44\n"
     ]
    }
   ],
   "source": [
    "df_3xs_4_1 = df_3xs_zQ2[df_3xs_zQ2['z']>z_cuts[0]][df_3xs_zQ2['z']<z_cuts[1]][df_3xs_zQ2['Q2']>Q2_cuts[3]][df_3xs_zQ2['Q2']<Q2_cuts[4]]\n",
    "print(len(df_3xs_1_1[df_3xs_1_1['Ebeam']==11.0]))\n",
    "print(len(df_3xs_1_1[df_3xs_1_1['Ebeam']==11.0]['phih'].unique()))"
   ]
  },
  {
   "cell_type": "code",
   "execution_count": 26,
   "id": "120e1dbb",
   "metadata": {
    "scrolled": true
   },
   "outputs": [
    {
     "name": "stdout",
     "output_type": "stream",
     "text": [
      "59\n",
      "59\n"
     ]
    },
    {
     "name": "stderr",
     "output_type": "stream",
     "text": [
      "/var/folders/ll/8_2_l77j4yl2zjb6stl8d9b00000gn/T/ipykernel_2209/1416687606.py:1: UserWarning: Boolean Series key will be reindexed to match DataFrame index.\n",
      "  df_1xs_4_2 = df_1xs_zQ2[df_1xs_zQ2['z']>z_cuts[1]][df_1xs_zQ2['z']<z_cuts[2]][df_1xs_zQ2['Q2']>Q2_cuts[3]][df_1xs_zQ2['Q2']<Q2_cuts[4]]\n"
     ]
    }
   ],
   "source": [
    "df_1xs_4_2 = df_1xs_zQ2[df_1xs_zQ2['z']>z_cuts[1]][df_1xs_zQ2['z']<z_cuts[2]][df_1xs_zQ2['Q2']>Q2_cuts[3]][df_1xs_zQ2['Q2']<Q2_cuts[4]]\n",
    "print(len(df_1xs_1_1[df_1xs_1_1['Ebeam']==11.0]))\n",
    "print(len(df_1xs_1_1[df_1xs_1_1['Ebeam']==11.0]['phih'].unique()))"
   ]
  },
  {
   "cell_type": "code",
   "execution_count": 27,
   "id": "46f02075",
   "metadata": {
    "scrolled": true
   },
   "outputs": [
    {
     "name": "stdout",
     "output_type": "stream",
     "text": [
      "44\n",
      "44\n"
     ]
    },
    {
     "name": "stderr",
     "output_type": "stream",
     "text": [
      "/var/folders/ll/8_2_l77j4yl2zjb6stl8d9b00000gn/T/ipykernel_2209/2507560876.py:1: UserWarning: Boolean Series key will be reindexed to match DataFrame index.\n",
      "  df_3xs_4_2 = df_3xs_zQ2[df_3xs_zQ2['z']>z_cuts[1]][df_3xs_zQ2['z']<z_cuts[2]][df_3xs_zQ2['Q2']>Q2_cuts[3]][df_3xs_zQ2['Q2']<Q2_cuts[4]]\n"
     ]
    }
   ],
   "source": [
    "df_3xs_4_2 = df_3xs_zQ2[df_3xs_zQ2['z']>z_cuts[1]][df_3xs_zQ2['z']<z_cuts[2]][df_3xs_zQ2['Q2']>Q2_cuts[3]][df_3xs_zQ2['Q2']<Q2_cuts[4]]\n",
    "print(len(df_3xs_1_1[df_3xs_1_1['Ebeam']==11.0]))\n",
    "print(len(df_3xs_1_1[df_3xs_1_1['Ebeam']==11.0]['phih'].unique()))"
   ]
  },
  {
   "cell_type": "code",
   "execution_count": 28,
   "id": "bef948c4",
   "metadata": {
    "scrolled": true
   },
   "outputs": [
    {
     "name": "stderr",
     "output_type": "stream",
     "text": [
      "/var/folders/ll/8_2_l77j4yl2zjb6stl8d9b00000gn/T/ipykernel_2209/1020995793.py:1: UserWarning: Boolean Series key will be reindexed to match DataFrame index.\n",
      "  df_1xs_4_3 = df_1xs_zQ2[df_1xs_zQ2['z']>z_cuts[2]][df_1xs_zQ2['z']<z_cuts[3]][df_1xs_zQ2['Q2']>Q2_cuts[3]][df_1xs_zQ2['Q2']<Q2_cuts[4]]\n"
     ]
    },
    {
     "name": "stdout",
     "output_type": "stream",
     "text": [
      "59\n",
      "59\n"
     ]
    }
   ],
   "source": [
    "df_1xs_4_3 = df_1xs_zQ2[df_1xs_zQ2['z']>z_cuts[2]][df_1xs_zQ2['z']<z_cuts[3]][df_1xs_zQ2['Q2']>Q2_cuts[3]][df_1xs_zQ2['Q2']<Q2_cuts[4]]\n",
    "print(len(df_1xs_1_1[df_1xs_1_1['Ebeam']==11.0]))\n",
    "print(len(df_1xs_1_1[df_1xs_1_1['Ebeam']==11.0]['phih'].unique()))"
   ]
  },
  {
   "cell_type": "code",
   "execution_count": 29,
   "id": "a1157c4b",
   "metadata": {
    "scrolled": true
   },
   "outputs": [
    {
     "name": "stdout",
     "output_type": "stream",
     "text": [
      "44\n",
      "44\n"
     ]
    },
    {
     "name": "stderr",
     "output_type": "stream",
     "text": [
      "/var/folders/ll/8_2_l77j4yl2zjb6stl8d9b00000gn/T/ipykernel_2209/1849816026.py:1: UserWarning: Boolean Series key will be reindexed to match DataFrame index.\n",
      "  df_3xs_4_3 = df_3xs_zQ2[df_3xs_zQ2['z']>z_cuts[2]][df_3xs_zQ2['z']<z_cuts[3]][df_3xs_zQ2['Q2']>Q2_cuts[3]][df_3xs_zQ2['Q2']<Q2_cuts[4]]\n"
     ]
    }
   ],
   "source": [
    "df_3xs_4_3 = df_3xs_zQ2[df_3xs_zQ2['z']>z_cuts[2]][df_3xs_zQ2['z']<z_cuts[3]][df_3xs_zQ2['Q2']>Q2_cuts[3]][df_3xs_zQ2['Q2']<Q2_cuts[4]]\n",
    "print(len(df_3xs_1_1[df_3xs_1_1['Ebeam']==11.0]))\n",
    "print(len(df_3xs_1_1[df_3xs_1_1['Ebeam']==11.0]['phih'].unique()))"
   ]
  },
  {
   "cell_type": "code",
   "execution_count": 30,
   "id": "52c5f85c",
   "metadata": {},
   "outputs": [
    {
     "name": "stderr",
     "output_type": "stream",
     "text": [
      "/var/folders/ll/8_2_l77j4yl2zjb6stl8d9b00000gn/T/ipykernel_2209/2351864870.py:6: UserWarning: Boolean Series key will be reindexed to match DataFrame index.\n",
      "  Fuu_value = df_1xs_1_1[df_1xs_1_1['Ebeam']==11.0][df_1xs_1_1['phih']==i_phih_1_1]['value']\n",
      "/var/folders/ll/8_2_l77j4yl2zjb6stl8d9b00000gn/T/ipykernel_2209/2351864870.py:7: UserWarning: Boolean Series key will be reindexed to match DataFrame index.\n",
      "  Fuu_stat = df_1xs_1_1[df_1xs_1_1['Ebeam']==11.0][df_1xs_1_1['phih']==i_phih_1_1]['stat']\n",
      "/var/folders/ll/8_2_l77j4yl2zjb6stl8d9b00000gn/T/ipykernel_2209/2351864870.py:18: UserWarning: Boolean Series key will be reindexed to match DataFrame index.\n",
      "  Fuu_value = df_1xs_1_1[df_1xs_1_1['Ebeam']==8.8][df_1xs_1_1['phih']==i_phih_1_1_Eb2]['value']\n",
      "/var/folders/ll/8_2_l77j4yl2zjb6stl8d9b00000gn/T/ipykernel_2209/2351864870.py:19: UserWarning: Boolean Series key will be reindexed to match DataFrame index.\n",
      "  Fuu_stat = df_1xs_1_1[df_1xs_1_1['Ebeam']==8.8][df_1xs_1_1['phih']==i_phih_1_1_Eb2]['stat']\n"
     ]
    },
    {
     "data": {
      "image/png": "[encoded data removed]",
      "text/plain": [
       "<Figure size 432x288 with 1 Axes>"
      ]
     },
     "metadata": {
      "needs_background": "light"
     },
     "output_type": "display_data"
    }
   ],
   "source": [
    "fig = plt.figure()\n",
    "ax = fig.add_subplot()\n",
    "phih_1_1 = df_1xs_1_1[df_1xs_1_1['Ebeam']==11.0]['phih']\n",
    "Fuu_1_1 = df_1xs_1_1[df_1xs_1_1['Ebeam']==11.0]['value']\n",
    "for i_phih_1_1 in phih_1_1:\n",
    "    Fuu_value = df_1xs_1_1[df_1xs_1_1['Ebeam']==11.0][df_1xs_1_1['phih']==i_phih_1_1]['value']\n",
    "    Fuu_stat = df_1xs_1_1[df_1xs_1_1['Ebeam']==11.0][df_1xs_1_1['phih']==i_phih_1_1]['stat']\n",
    "    #Fuu_1_1_sys.append(df_1xs_1_1[df_1xs_1_1['Ebeam']==11.0][df_1xs_1_1['phih']==i_phih_1_1]['systabs'])\n",
    "    ax.plot([i_phih_1_1,i_phih_1_1],[Fuu_value-Fuu_stat,Fuu_value+Fuu_stat],color='blue',marker='_')\n",
    "plt.plot(phih_1_1,Fuu_1_1,'bo',label='Eb=11GeV')\n",
    "phih_1_1_sorted = df_1xs_1_1[df_1xs_1_1['Ebeam']==11.0].sort_values(by=['phih'])['phih']\n",
    "Fuu_1_1_sys = df_1xs_1_1[df_1xs_1_1['Ebeam']==11.0].sort_values(by=['phih'])['error']\n",
    "#ax.fill_between(phih_1_1_sorted,np.asarray(0.01)-np.asarray(Fuu_1_1_sys),np.asarray(0.01)+np.asarray(Fuu_1_1_sys),color='blue',alpha=0.25,linewidth=0,label='sys err')\n",
    "\n",
    "phih_1_1_Eb2 = df_1xs_1_1[df_1xs_1_1['Ebeam']==8.8]['phih']\n",
    "Fuu_1_1_Eb2 = df_1xs_1_1[df_1xs_1_1['Ebeam']==8.8]['value']\n",
    "for i_phih_1_1_Eb2 in phih_1_1_Eb2:\n",
    "    Fuu_value = df_1xs_1_1[df_1xs_1_1['Ebeam']==8.8][df_1xs_1_1['phih']==i_phih_1_1_Eb2]['value']\n",
    "    Fuu_stat = df_1xs_1_1[df_1xs_1_1['Ebeam']==8.8][df_1xs_1_1['phih']==i_phih_1_1_Eb2]['stat']\n",
    "    ax.plot([i_phih_1_1_Eb2,i_phih_1_1_Eb2],[Fuu_value-Fuu_stat,Fuu_value+Fuu_stat],color='blue',marker='_')\n",
    "plt.plot(phih_1_1_Eb2,Fuu_1_1_Eb2,'bo',label='Eb=8.8GeV')\n",
    "phih_1_1_Eb2_sorted = df_1xs_1_1[df_1xs_1_1['Ebeam']==8.8].sort_values(by=['phih'])['phih']\n",
    "Fuu_1_1_Eb2_sys = df_1xs_1_1[df_1xs_1_1['Ebeam']==8.8].sort_values(by=['phih'])['error']\n",
    "#ax.fill_between(phih_1_1_Eb2_sorted,np.asarray(0.01)-np.asarray(Fuu_1_1_Eb2_sys),np.asarray(0.01)+np.asarray(Fuu_1_1_Eb2_sys),color='blue',alpha=0.25,linewidth=0,label='sys err')\n",
    "\n",
    "plt.xlabel('$\\phi_h$')\n",
    "plt.ylabel('$F_{UU}$')\n",
    "plt.ylim(0.01,0.2)\n",
    "#plt.yscale('log')\n",
    "for i_phih in phih_bins:\n",
    "    plt.axvline(x=i_phih)\n",
    "plt.savefig('../Unpol_proposal/Materials/phi.pdf')\n"
   ]
  },
  {
   "cell_type": "code",
   "execution_count": 31,
   "id": "501b1cfd",
   "metadata": {},
   "outputs": [
    {
     "name": "stderr",
     "output_type": "stream",
     "text": [
      "/var/folders/ll/8_2_l77j4yl2zjb6stl8d9b00000gn/T/ipykernel_2209/517106690.py:6: UserWarning: Boolean Series key will be reindexed to match DataFrame index.\n",
      "  Fuu_value = df_3xs_1_1[df_3xs_1_1['Ebeam']==11.0][df_3xs_1_1['phih']==i_phih_1_1]['value']\n",
      "/var/folders/ll/8_2_l77j4yl2zjb6stl8d9b00000gn/T/ipykernel_2209/517106690.py:7: UserWarning: Boolean Series key will be reindexed to match DataFrame index.\n",
      "  Fuu_stat = df_3xs_1_1[df_3xs_1_1['Ebeam']==11.0][df_3xs_1_1['phih']==i_phih_1_1]['stat']\n",
      "/var/folders/ll/8_2_l77j4yl2zjb6stl8d9b00000gn/T/ipykernel_2209/517106690.py:18: UserWarning: Boolean Series key will be reindexed to match DataFrame index.\n",
      "  Fuu_value = df_3xs_1_1[df_3xs_1_1['Ebeam']==8.8][df_3xs_1_1['phih']==i_phih_1_1_Eb2]['value']\n",
      "/var/folders/ll/8_2_l77j4yl2zjb6stl8d9b00000gn/T/ipykernel_2209/517106690.py:19: UserWarning: Boolean Series key will be reindexed to match DataFrame index.\n",
      "  Fuu_stat = df_3xs_1_1[df_3xs_1_1['Ebeam']==8.8][df_3xs_1_1['phih']==i_phih_1_1_Eb2]['stat']\n"
     ]
    },
    {
     "data": {
      "image/png": "[encoded data removed]",
      "text/plain": [
       "<Figure size 432x288 with 1 Axes>"
      ]
     },
     "metadata": {
      "needs_background": "light"
     },
     "output_type": "display_data"
    }
   ],
   "source": [
    "fig = plt.figure()\n",
    "ax = fig.add_subplot()\n",
    "phih_1_1 = df_3xs_1_1[df_3xs_1_1['Ebeam']==11.0]['phih']\n",
    "Fuu_1_1 = df_3xs_1_1[df_3xs_1_1['Ebeam']==11.0]['value']\n",
    "for i_phih_1_1 in phih_1_1:\n",
    "    Fuu_value = df_3xs_1_1[df_3xs_1_1['Ebeam']==11.0][df_3xs_1_1['phih']==i_phih_1_1]['value']\n",
    "    Fuu_stat = df_3xs_1_1[df_3xs_1_1['Ebeam']==11.0][df_3xs_1_1['phih']==i_phih_1_1]['stat']\n",
    "    #Fuu_1_1_sys.append(df_3xs_1_1[df_3xs_1_1['Ebeam']==11.0][df_3xs_1_1['phih']==i_phih_1_1]['systabs'])\n",
    "    ax.plot([i_phih_1_1,i_phih_1_1],[Fuu_value-Fuu_stat,Fuu_value+Fuu_stat],color='red',marker='_')\n",
    "plt.plot(phih_1_1,Fuu_1_1,'ro',label='Eb=11GeV')\n",
    "phih_1_1_sorted = df_3xs_1_1[df_3xs_1_1['Ebeam']==11.0].sort_values(by=['phih'])['phih']\n",
    "Fuu_1_1_sys = df_3xs_1_1[df_3xs_1_1['Ebeam']==11.0].sort_values(by=['phih'])['error']\n",
    "#ax.fill_between(phih_1_1_sorted,np.asarray(0.01)-np.asarray(Fuu_1_1_sys),np.asarray(0.01)+np.asarray(Fuu_1_1_sys),color='blue',alpha=0.25,linewidth=0,label='sys err')\n",
    "\n",
    "phih_1_1_Eb2 = df_3xs_1_1[df_3xs_1_1['Ebeam']==8.8]['phih']\n",
    "Fuu_1_1_Eb2 = df_3xs_1_1[df_3xs_1_1['Ebeam']==8.8]['value']\n",
    "for i_phih_1_1_Eb2 in phih_1_1_Eb2:\n",
    "    Fuu_value = df_3xs_1_1[df_3xs_1_1['Ebeam']==8.8][df_3xs_1_1['phih']==i_phih_1_1_Eb2]['value']\n",
    "    Fuu_stat = df_3xs_1_1[df_3xs_1_1['Ebeam']==8.8][df_3xs_1_1['phih']==i_phih_1_1_Eb2]['stat']\n",
    "    ax.plot([i_phih_1_1_Eb2,i_phih_1_1_Eb2],[Fuu_value-Fuu_stat,Fuu_value+Fuu_stat],color='red',marker='_')\n",
    "plt.plot(phih_1_1_Eb2,Fuu_1_1_Eb2,'ro',label='Eb=8.8GeV')\n",
    "phih_1_1_Eb2_sorted = df_3xs_1_1[df_3xs_1_1['Ebeam']==8.8].sort_values(by=['phih'])['phih']\n",
    "Fuu_1_1_Eb2_sys = df_3xs_1_1[df_3xs_1_1['Ebeam']==8.8].sort_values(by=['phih'])['error']\n",
    "#ax.fill_between(phih_1_1_Eb2_sorted,np.asarray(0.01)-np.asarray(Fuu_1_1_Eb2_sys),np.asarray(0.01)+np.asarray(Fuu_1_1_Eb2_sys),color='blue',alpha=0.25,linewidth=0,label='sys err')\n",
    "\n",
    "plt.xlabel('$\\phi_h$')\n",
    "plt.ylabel('$F_{UU}$')\n",
    "plt.ylim(0.01,0.2)\n",
    "#plt.yscale('log')\n",
    "for i_phih in phih_bins:\n",
    "    plt.axvline(x=i_phih)\n",
    "plt.savefig('../Unpol_proposal/Materials/3xs_phi.pdf')\n"
   ]
  },
  {
   "cell_type": "code",
   "execution_count": 32,
   "id": "52c8f90f",
   "metadata": {
    "scrolled": true
   },
   "outputs": [
    {
     "name": "stdout",
     "output_type": "stream",
     "text": [
      "-3.141592653589793 -2.5132741228718345\n",
      "11\n",
      "-2.5132741228718345 -1.8849555921538759\n",
      "15\n",
      "-1.8849555921538759 -1.2566370614359172\n",
      "12\n",
      "-1.2566370614359172 -0.6283185307179586\n",
      "10\n",
      "-0.6283185307179586 0.6283185307179586\n",
      "10\n",
      "0.6283185307179586 1.2566370614359172\n",
      "9\n",
      "1.2566370614359172 1.8849555921538759\n",
      "12\n",
      "1.8849555921538759 2.5132741228718345\n",
      "14\n",
      "2.5132741228718345 3.141592653589793\n",
      "13\n"
     ]
    },
    {
     "name": "stderr",
     "output_type": "stream",
     "text": [
      "/var/folders/ll/8_2_l77j4yl2zjb6stl8d9b00000gn/T/ipykernel_2209/2676984387.py:10: UserWarning: Boolean Series key will be reindexed to match DataFrame index.\n",
      "  phih_1_1s = df_1xs_1_1[df_1xs_1_1['phih']>=i_phi_left][df_1xs_1_1['phih']<i_phi]['phih'].tolist()\n",
      "/var/folders/ll/8_2_l77j4yl2zjb6stl8d9b00000gn/T/ipykernel_2209/2676984387.py:11: UserWarning: Boolean Series key will be reindexed to match DataFrame index.\n",
      "  Fuu_1_1s = df_1xs_1_1[df_1xs_1_1['phih']>=i_phi_left][df_1xs_1_1['phih']<i_phi]['value'].tolist()\n",
      "/var/folders/ll/8_2_l77j4yl2zjb6stl8d9b00000gn/T/ipykernel_2209/2676984387.py:12: UserWarning: Boolean Series key will be reindexed to match DataFrame index.\n",
      "  Fuu_1_1_stats = df_1xs_1_1[df_1xs_1_1['phih']>=i_phi_left][df_1xs_1_1['phih']<i_phi]['stat'].tolist()\n"
     ]
    },
    {
     "data": {
      "text/plain": [
       "Text(0, 0.5, '$F_{UU}$')"
      ]
     },
     "execution_count": 32,
     "metadata": {},
     "output_type": "execute_result"
    },
    {
     "data": {
      "image/png": "[encoded data removed]",
      "text/plain": [
       "<Figure size 432x288 with 1 Axes>"
      ]
     },
     "metadata": {
      "needs_background": "light"
     },
     "output_type": "display_data"
    }
   ],
   "source": [
    "fig = plt.figure()\n",
    "ax = fig.add_subplot()\n",
    "phih_1_1=[]\n",
    "Fuu_1_1=[]\n",
    "Fuu_1_1_stat=[]\n",
    "Fuu_1_1_sys=[]\n",
    "i_phi_left = phih_bins[0]\n",
    "for i_phi in phih_bins[1:]:\n",
    "    print(i_phi_left,i_phi)\n",
    "    phih_1_1s = df_1xs_1_1[df_1xs_1_1['phih']>=i_phi_left][df_1xs_1_1['phih']<i_phi]['phih'].tolist()\n",
    "    Fuu_1_1s = df_1xs_1_1[df_1xs_1_1['phih']>=i_phi_left][df_1xs_1_1['phih']<i_phi]['value'].tolist()\n",
    "    Fuu_1_1_stats = df_1xs_1_1[df_1xs_1_1['phih']>=i_phi_left][df_1xs_1_1['phih']<i_phi]['stat'].tolist()\n",
    "    print(len(phih_1_1s))\n",
    "    \n",
    "    if len(phih_1_1s)>0:  \n",
    "        #print('phih',phih_1_1s)\n",
    "        #print('Fuu',Fuu_1_1s)\n",
    "        #print('Fuu_stat',Fuu_1_1_stats)\n",
    "        _Fuu_1_1 = Get_weighted_average(Fuu_1_1s,Fuu_1_1_stats)[0]\n",
    "        _Fuu_1_1_stat = Get_weighted_average(Fuu_1_1s,Fuu_1_1_stats)[1]\n",
    "        _phih_1_1= Get_weighted_average(phih_1_1s,Fuu_1_1_stats)[0]\n",
    "        #print('_Fuu_1_1',_Fuu_1_1)\n",
    "        #print('_phih',_phih_1_1)\n",
    "        #print('_Fuu_stat',_Fuu_1_1_stat)\n",
    "        Fuu_1_1.append(_Fuu_1_1)\n",
    "        phih_1_1.append(_phih_1_1)\n",
    "        Fuu_1_1_stat.append(_Fuu_1_1_stat)\n",
    "        Fuu_1_1_sys.append(0.05*_Fuu_1_1)\n",
    "        #print(Fuu_1_1,phih_1_1)\n",
    "        ax.plot([_phih_1_1,_phih_1_1],[_Fuu_1_1-_Fuu_1_1_stat,_Fuu_1_1+_Fuu_1_1_stat],color='blue',marker='_')\n",
    "    i_phi_left = i_phi\n",
    "    #print('phileft',i_phi_left)\n",
    "plt.plot(phih_1_1,Fuu_1_1,'bo')\n",
    "plt.xlabel('$\\phi_h$',fontsize=16)\n",
    "plt.ylabel('$F_{UU}$',fontsize=16)"
   ]
  },
  {
   "cell_type": "code",
   "execution_count": 33,
   "id": "5edcd85d",
   "metadata": {
    "scrolled": true
   },
   "outputs": [
    {
     "name": "stdout",
     "output_type": "stream",
     "text": [
      "-3.141592653589793 -2.5132741228718345\n",
      "4\n",
      "-2.5132741228718345 -1.8849555921538759\n",
      "9\n",
      "-1.8849555921538759 -1.2566370614359172\n",
      "6\n",
      "-1.2566370614359172 -0.6283185307179586\n",
      "5\n",
      "-0.6283185307179586 0.6283185307179586\n",
      "12\n",
      "0.6283185307179586 1.2566370614359172\n",
      "3\n",
      "1.2566370614359172 1.8849555921538759\n",
      "5\n",
      "1.8849555921538759 2.5132741228718345\n",
      "8\n",
      "2.5132741228718345 3.141592653589793\n"
     ]
    },
    {
     "name": "stderr",
     "output_type": "stream",
     "text": [
      "/var/folders/ll/8_2_l77j4yl2zjb6stl8d9b00000gn/T/ipykernel_2209/2196801831.py:10: UserWarning: Boolean Series key will be reindexed to match DataFrame index.\n",
      "  phih_1_2s = df_1xs_1_2[df_1xs_1_2['phih']>=i_phi_left][df_1xs_1_2['phih']<i_phi]['phih'].tolist()\n",
      "/var/folders/ll/8_2_l77j4yl2zjb6stl8d9b00000gn/T/ipykernel_2209/2196801831.py:11: UserWarning: Boolean Series key will be reindexed to match DataFrame index.\n",
      "  Fuu_1_2s = df_1xs_1_2[df_1xs_1_2['phih']>=i_phi_left][df_1xs_1_2['phih']<i_phi]['value'].tolist()\n",
      "/var/folders/ll/8_2_l77j4yl2zjb6stl8d9b00000gn/T/ipykernel_2209/2196801831.py:12: UserWarning: Boolean Series key will be reindexed to match DataFrame index.\n",
      "  Fuu_1_2_stats = df_1xs_1_2[df_1xs_1_2['phih']>=i_phi_left][df_1xs_1_2['phih']<i_phi]['stat'].tolist()\n"
     ]
    },
    {
     "name": "stdout",
     "output_type": "stream",
     "text": [
      "8\n"
     ]
    },
    {
     "data": {
      "text/plain": [
       "[<matplotlib.lines.Line2D at 0x1237b43d0>]"
      ]
     },
     "execution_count": 33,
     "metadata": {},
     "output_type": "execute_result"
    },
    {
     "data": {
      "image/png": "[encoded data removed]",
      "text/plain": [
       "<Figure size 432x288 with 1 Axes>"
      ]
     },
     "metadata": {
      "needs_background": "light"
     },
     "output_type": "display_data"
    }
   ],
   "source": [
    "fig = plt.figure()\n",
    "ax = fig.add_subplot()\n",
    "phih_1_2=[]\n",
    "Fuu_1_2=[]\n",
    "Fuu_1_2_stat=[]\n",
    "Fuu_1_2_sys=[]\n",
    "i_phi_left = phih_bins[0]\n",
    "for i_phi in phih_bins[1:]:\n",
    "    print(i_phi_left,i_phi)\n",
    "    phih_1_2s = df_1xs_1_2[df_1xs_1_2['phih']>=i_phi_left][df_1xs_1_2['phih']<i_phi]['phih'].tolist()\n",
    "    Fuu_1_2s = df_1xs_1_2[df_1xs_1_2['phih']>=i_phi_left][df_1xs_1_2['phih']<i_phi]['value'].tolist()\n",
    "    Fuu_1_2_stats = df_1xs_1_2[df_1xs_1_2['phih']>=i_phi_left][df_1xs_1_2['phih']<i_phi]['stat'].tolist()\n",
    "    print(len(phih_1_2s))\n",
    "    \n",
    "    if len(phih_1_2s)>0:  \n",
    "        #print('phih',phih_1_2s)\n",
    "        #print('Fuu',Fuu_1_2s)\n",
    "        #print('Fuu_stat',Fuu_1_2_stats)\n",
    "        _Fuu_1_2 = Get_weighted_average(Fuu_1_2s,Fuu_1_2_stats)[0]\n",
    "        _Fuu_1_2_stat = Get_weighted_average(Fuu_1_2s,Fuu_1_2_stats)[1]\n",
    "        _phih_1_2= Get_weighted_average(phih_1_2s,Fuu_1_2_stats)[0]\n",
    "        #print('_Fuu_1_2',_Fuu_1_2)\n",
    "        #print('_phih',_phih_1_2)\n",
    "        #print('_Fuu_stat',_Fuu_1_2_stat)\n",
    "        Fuu_1_2.append(_Fuu_1_2)\n",
    "        phih_1_2.append(_phih_1_2)\n",
    "        Fuu_1_2_stat.append(_Fuu_1_2_stat)\n",
    "        Fuu_1_2_sys.append(0.05*_Fuu_1_2)\n",
    "        #print(Fuu_1_2,phih_1_2)\n",
    "        ax.plot([_phih_1_2,_phih_1_2],[_Fuu_1_2-_Fuu_1_2_stat,_Fuu_1_2+_Fuu_1_2_stat],color='blue',marker='_')\n",
    "    i_phi_left = i_phi\n",
    "    #print('phileft',i_phi_left)\n",
    "plt.plot(phih_1_2,Fuu_1_2,'bo')"
   ]
  },
  {
   "cell_type": "code",
   "execution_count": 34,
   "id": "98d71ccb",
   "metadata": {
    "scrolled": true
   },
   "outputs": [
    {
     "name": "stdout",
     "output_type": "stream",
     "text": [
      "-3.141592653589793 -2.5132741228718345\n",
      "0\n",
      "-2.5132741228718345 -1.8849555921538759\n",
      "6\n",
      "-1.8849555921538759 -1.2566370614359172\n",
      "4\n",
      "-1.2566370614359172 -0.6283185307179586\n",
      "3\n",
      "-0.6283185307179586 0.6283185307179586\n",
      "7\n",
      "0.6283185307179586 1.2566370614359172\n",
      "2\n",
      "1.2566370614359172 1.8849555921538759\n",
      "3\n",
      "1.8849555921538759 2.5132741228718345\n",
      "8\n",
      "2.5132741228718345 3.141592653589793\n",
      "8\n"
     ]
    },
    {
     "name": "stderr",
     "output_type": "stream",
     "text": [
      "/var/folders/ll/8_2_l77j4yl2zjb6stl8d9b00000gn/T/ipykernel_2209/1881615235.py:10: UserWarning: Boolean Series key will be reindexed to match DataFrame index.\n",
      "  phih_1_3s = df_1xs_1_3[df_1xs_1_3['phih']>=i_phi_left][df_1xs_1_3['phih']<i_phi]['phih'].tolist()\n",
      "/var/folders/ll/8_2_l77j4yl2zjb6stl8d9b00000gn/T/ipykernel_2209/1881615235.py:11: UserWarning: Boolean Series key will be reindexed to match DataFrame index.\n",
      "  Fuu_1_3s = df_1xs_1_3[df_1xs_1_3['phih']>=i_phi_left][df_1xs_1_3['phih']<i_phi]['value'].tolist()\n",
      "/var/folders/ll/8_2_l77j4yl2zjb6stl8d9b00000gn/T/ipykernel_2209/1881615235.py:12: UserWarning: Boolean Series key will be reindexed to match DataFrame index.\n",
      "  Fuu_1_3_stats = df_1xs_1_3[df_1xs_1_3['phih']>=i_phi_left][df_1xs_1_3['phih']<i_phi]['stat'].tolist()\n"
     ]
    },
    {
     "data": {
      "text/plain": [
       "[<matplotlib.lines.Line2D at 0x12384d670>]"
      ]
     },
     "execution_count": 34,
     "metadata": {},
     "output_type": "execute_result"
    },
    {
     "data": {
      "image/png": "[encoded data removed]",
      "text/plain": [
       "<Figure size 432x288 with 1 Axes>"
      ]
     },
     "metadata": {
      "needs_background": "light"
     },
     "output_type": "display_data"
    }
   ],
   "source": [
    "fig = plt.figure()\n",
    "ax = fig.add_subplot()\n",
    "phih_1_3=[]\n",
    "Fuu_1_3=[]\n",
    "Fuu_1_3_stat=[]\n",
    "Fuu_1_3_sys=[]\n",
    "i_phi_left = phih_bins[0]\n",
    "for i_phi in phih_bins[1:]:\n",
    "    print(i_phi_left,i_phi)\n",
    "    phih_1_3s = df_1xs_1_3[df_1xs_1_3['phih']>=i_phi_left][df_1xs_1_3['phih']<i_phi]['phih'].tolist()\n",
    "    Fuu_1_3s = df_1xs_1_3[df_1xs_1_3['phih']>=i_phi_left][df_1xs_1_3['phih']<i_phi]['value'].tolist()\n",
    "    Fuu_1_3_stats = df_1xs_1_3[df_1xs_1_3['phih']>=i_phi_left][df_1xs_1_3['phih']<i_phi]['stat'].tolist()\n",
    "    print(len(phih_1_3s))\n",
    "    \n",
    "    if len(phih_1_3s)>0:  \n",
    "        #print('phih',phih_1_3s)\n",
    "        #print('Fuu',Fuu_1_3s)\n",
    "        #print('Fuu_stat',Fuu_1_3_stats)\n",
    "        _Fuu_1_3 = Get_weighted_average(Fuu_1_3s,Fuu_1_3_stats)[0]\n",
    "        _Fuu_1_3_stat = Get_weighted_average(Fuu_1_3s,Fuu_1_3_stats)[1]\n",
    "        _phih_1_3= Get_weighted_average(phih_1_3s,Fuu_1_3_stats)[0]\n",
    "        #print('_Fuu_1_3',_Fuu_1_3)\n",
    "        #print('_phih',_phih_1_3)\n",
    "        #print('_Fuu_stat',_Fuu_1_3_stat)\n",
    "        Fuu_1_3.append(_Fuu_1_3)\n",
    "        phih_1_3.append(_phih_1_3)\n",
    "        Fuu_1_3_stat.append(_Fuu_1_3_stat)\n",
    "        Fuu_1_3_sys.append(0.05*_Fuu_1_3)\n",
    "        #print(Fuu_1_3,phih_1_3)\n",
    "        ax.plot([_phih_1_3,_phih_1_3],[_Fuu_1_3-_Fuu_1_3_stat,_Fuu_1_3+_Fuu_1_3_stat],color='blue',marker='_')\n",
    "    i_phi_left = i_phi\n",
    "    #print('phileft',i_phi_left)\n",
    "plt.plot(phih_1_3,Fuu_1_3,'bo')"
   ]
  },
  {
   "cell_type": "code",
   "execution_count": 35,
   "id": "78c56c02",
   "metadata": {
    "scrolled": true
   },
   "outputs": [
    {
     "name": "stdout",
     "output_type": "stream",
     "text": [
      "-3.141592653589793 -2.5132741228718345\n",
      "5\n",
      "-2.5132741228718345 -1.8849555921538759\n",
      "7\n",
      "-1.8849555921538759 -1.2566370614359172\n",
      "9\n",
      "-1.2566370614359172 -0.6283185307179586\n",
      "9\n",
      "-0.6283185307179586 0.6283185307179586\n",
      "15\n",
      "0.6283185307179586 1.2566370614359172\n",
      "8\n",
      "1.2566370614359172 1.8849555921538759\n",
      "8\n",
      "1.8849555921538759 2.5132741228718345\n",
      "10\n",
      "2.5132741228718345 3.141592653589793\n",
      "10\n"
     ]
    },
    {
     "name": "stderr",
     "output_type": "stream",
     "text": [
      "/var/folders/ll/8_2_l77j4yl2zjb6stl8d9b00000gn/T/ipykernel_2209/2574330292.py:10: UserWarning: Boolean Series key will be reindexed to match DataFrame index.\n",
      "  phih_2_1s = df_1xs_2_1[df_1xs_2_1['phih']>=i_phi_left][df_1xs_2_1['phih']<i_phi]['phih'].tolist()\n",
      "/var/folders/ll/8_2_l77j4yl2zjb6stl8d9b00000gn/T/ipykernel_2209/2574330292.py:11: UserWarning: Boolean Series key will be reindexed to match DataFrame index.\n",
      "  Fuu_2_1s = df_1xs_2_1[df_1xs_2_1['phih']>=i_phi_left][df_1xs_2_1['phih']<i_phi]['value'].tolist()\n",
      "/var/folders/ll/8_2_l77j4yl2zjb6stl8d9b00000gn/T/ipykernel_2209/2574330292.py:12: UserWarning: Boolean Series key will be reindexed to match DataFrame index.\n",
      "  Fuu_2_1_stats = df_1xs_2_1[df_1xs_2_1['phih']>=i_phi_left][df_1xs_2_1['phih']<i_phi]['stat'].tolist()\n"
     ]
    },
    {
     "data": {
      "text/plain": [
       "[<matplotlib.lines.Line2D at 0x1238d1910>]"
      ]
     },
     "execution_count": 35,
     "metadata": {},
     "output_type": "execute_result"
    },
    {
     "data": {
      "image/png": "[encoded data removed]",
      "text/plain": [
       "<Figure size 432x288 with 1 Axes>"
      ]
     },
     "metadata": {
      "needs_background": "light"
     },
     "output_type": "display_data"
    }
   ],
   "source": [
    "fig = plt.figure()\n",
    "ax = fig.add_subplot()\n",
    "phih_2_1=[]\n",
    "Fuu_2_1=[]\n",
    "Fuu_2_1_stat=[]\n",
    "Fuu_2_1_sys=[]\n",
    "i_phi_left = phih_bins[0]\n",
    "for i_phi in phih_bins[1:]:\n",
    "    print(i_phi_left,i_phi)\n",
    "    phih_2_1s = df_1xs_2_1[df_1xs_2_1['phih']>=i_phi_left][df_1xs_2_1['phih']<i_phi]['phih'].tolist()\n",
    "    Fuu_2_1s = df_1xs_2_1[df_1xs_2_1['phih']>=i_phi_left][df_1xs_2_1['phih']<i_phi]['value'].tolist()\n",
    "    Fuu_2_1_stats = df_1xs_2_1[df_1xs_2_1['phih']>=i_phi_left][df_1xs_2_1['phih']<i_phi]['stat'].tolist()\n",
    "    print(len(phih_2_1s))\n",
    "    \n",
    "    if len(phih_2_1s)>0:  \n",
    "        #print('phih',phih_2_1s)\n",
    "        #print('Fuu',Fuu_2_1s)\n",
    "        #print('Fuu_stat',Fuu_2_1_stats)\n",
    "        _Fuu_2_1 = Get_weighted_average(Fuu_2_1s,Fuu_2_1_stats)[0]\n",
    "        _Fuu_2_1_stat = Get_weighted_average(Fuu_2_1s,Fuu_2_1_stats)[1]\n",
    "        _phih_2_1= Get_weighted_average(phih_2_1s,Fuu_2_1_stats)[0]\n",
    "        #print('_Fuu_2_1',_Fuu_2_1)\n",
    "        #print('_phih',_phih_2_1)\n",
    "        #print('_Fuu_stat',_Fuu_2_1_stat)\n",
    "        Fuu_2_1.append(_Fuu_2_1)\n",
    "        phih_2_1.append(_phih_2_1)\n",
    "        Fuu_2_1_stat.append(_Fuu_2_1_stat)\n",
    "        Fuu_2_1_sys.append(0.05*_Fuu_2_1)\n",
    "        #print(Fuu_2_1,phih_2_1)\n",
    "        ax.plot([_phih_2_1,_phih_2_1],[_Fuu_2_1-_Fuu_2_1_stat,_Fuu_2_1+_Fuu_2_1_stat],color='blue',marker='_')\n",
    "    i_phi_left = i_phi\n",
    "    #print('phileft',i_phi_left)\n",
    "plt.plot(phih_2_1,Fuu_2_1,'bo')"
   ]
  },
  {
   "cell_type": "code",
   "execution_count": 36,
   "id": "9f764588",
   "metadata": {
    "scrolled": true
   },
   "outputs": [
    {
     "name": "stdout",
     "output_type": "stream",
     "text": [
      "-3.141592653589793 -2.5132741228718345\n",
      "2\n",
      "-2.5132741228718345 -1.8849555921538759\n",
      "5\n",
      "-1.8849555921538759 -1.2566370614359172\n",
      "3\n",
      "-1.2566370614359172 -0.6283185307179586\n",
      "4\n",
      "-0.6283185307179586 0.6283185307179586\n",
      "12\n",
      "0.6283185307179586 1.2566370614359172\n",
      "5\n",
      "1.2566370614359172 1.8849555921538759\n",
      "4\n",
      "1.8849555921538759 2.5132741228718345\n",
      "7\n",
      "2.5132741228718345 3.141592653589793\n",
      "8\n"
     ]
    },
    {
     "name": "stderr",
     "output_type": "stream",
     "text": [
      "/var/folders/ll/8_2_l77j4yl2zjb6stl8d9b00000gn/T/ipykernel_2209/214969196.py:10: UserWarning: Boolean Series key will be reindexed to match DataFrame index.\n",
      "  phih_2_2s = df_1xs_2_2[df_1xs_2_2['phih']>=i_phi_left][df_1xs_2_2['phih']<i_phi]['phih'].tolist()\n",
      "/var/folders/ll/8_2_l77j4yl2zjb6stl8d9b00000gn/T/ipykernel_2209/214969196.py:11: UserWarning: Boolean Series key will be reindexed to match DataFrame index.\n",
      "  Fuu_2_2s = df_1xs_2_2[df_1xs_2_2['phih']>=i_phi_left][df_1xs_2_2['phih']<i_phi]['value'].tolist()\n",
      "/var/folders/ll/8_2_l77j4yl2zjb6stl8d9b00000gn/T/ipykernel_2209/214969196.py:12: UserWarning: Boolean Series key will be reindexed to match DataFrame index.\n",
      "  Fuu_2_2_stats = df_1xs_2_2[df_1xs_2_2['phih']>=i_phi_left][df_1xs_2_2['phih']<i_phi]['stat'].tolist()\n"
     ]
    },
    {
     "data": {
      "text/plain": [
       "[<matplotlib.lines.Line2D at 0x123957dc0>]"
      ]
     },
     "execution_count": 36,
     "metadata": {},
     "output_type": "execute_result"
    },
    {
     "data": {
      "image/png": "[encoded data removed]",
      "text/plain": [
       "<Figure size 432x288 with 1 Axes>"
      ]
     },
     "metadata": {
      "needs_background": "light"
     },
     "output_type": "display_data"
    }
   ],
   "source": [
    "fig = plt.figure()\n",
    "ax = fig.add_subplot()\n",
    "phih_2_2=[]\n",
    "Fuu_2_2=[]\n",
    "Fuu_2_2_stat=[]\n",
    "Fuu_2_2_sys=[]\n",
    "i_phi_left = phih_bins[0]\n",
    "for i_phi in phih_bins[1:]:\n",
    "    print(i_phi_left,i_phi)\n",
    "    phih_2_2s = df_1xs_2_2[df_1xs_2_2['phih']>=i_phi_left][df_1xs_2_2['phih']<i_phi]['phih'].tolist()\n",
    "    Fuu_2_2s = df_1xs_2_2[df_1xs_2_2['phih']>=i_phi_left][df_1xs_2_2['phih']<i_phi]['value'].tolist()\n",
    "    Fuu_2_2_stats = df_1xs_2_2[df_1xs_2_2['phih']>=i_phi_left][df_1xs_2_2['phih']<i_phi]['stat'].tolist()\n",
    "    print(len(phih_2_2s))\n",
    "    \n",
    "    if len(phih_2_2s)>0:  \n",
    "        #print('phih',phih_2_2s)\n",
    "        #print('Fuu',Fuu_2_2s)\n",
    "        #print('Fuu_stat',Fuu_2_2_stats)\n",
    "        _Fuu_2_2 = Get_weighted_average(Fuu_2_2s,Fuu_2_2_stats)[0]\n",
    "        _Fuu_2_2_stat = Get_weighted_average(Fuu_2_2s,Fuu_2_2_stats)[1]\n",
    "        _phih_2_2= Get_weighted_average(phih_2_2s,Fuu_2_2_stats)[0]\n",
    "        #print('_Fuu_2_2',_Fuu_2_2)\n",
    "        #print('_phih',_phih_2_2)\n",
    "        #print('_Fuu_stat',_Fuu_2_2_stat)\n",
    "        Fuu_2_2.append(_Fuu_2_2)\n",
    "        phih_2_2.append(_phih_2_2)\n",
    "        Fuu_2_2_stat.append(_Fuu_2_2_stat)\n",
    "        Fuu_2_2_sys.append(0.05*_Fuu_2_2)\n",
    "        #print(Fuu_2_2,phih_2_2)\n",
    "        ax.plot([_phih_2_2,_phih_2_2],[_Fuu_2_2-_Fuu_2_2_stat,_Fuu_2_2+_Fuu_2_2_stat],color='blue',marker='_')\n",
    "    i_phi_left = i_phi\n",
    "    #print('phileft',i_phi_left)\n",
    "plt.plot(phih_2_2,Fuu_2_2,'bo')"
   ]
  },
  {
   "cell_type": "code",
   "execution_count": 37,
   "id": "bb9a9314",
   "metadata": {
    "scrolled": true
   },
   "outputs": [
    {
     "name": "stdout",
     "output_type": "stream",
     "text": [
      "-3.141592653589793 -2.5132741228718345\n",
      "0\n",
      "-2.5132741228718345 -1.8849555921538759\n",
      "3\n",
      "-1.8849555921538759 -1.2566370614359172\n",
      "3\n",
      "-1.2566370614359172 -0.6283185307179586\n",
      "1\n",
      "-0.6283185307179586 0.6283185307179586\n",
      "8\n",
      "0.6283185307179586 1.2566370614359172\n",
      "3\n",
      "1.2566370614359172 1.8849555921538759\n",
      "1\n",
      "1.8849555921538759 2.5132741228718345\n",
      "6\n",
      "2.5132741228718345 3.141592653589793\n",
      "8\n"
     ]
    },
    {
     "name": "stderr",
     "output_type": "stream",
     "text": [
      "/var/folders/ll/8_2_l77j4yl2zjb6stl8d9b00000gn/T/ipykernel_2209/2044927340.py:10: UserWarning: Boolean Series key will be reindexed to match DataFrame index.\n",
      "  phih_2_3s = df_1xs_2_3[df_1xs_2_3['phih']>=i_phi_left][df_1xs_2_3['phih']<i_phi]['phih'].tolist()\n",
      "/var/folders/ll/8_2_l77j4yl2zjb6stl8d9b00000gn/T/ipykernel_2209/2044927340.py:11: UserWarning: Boolean Series key will be reindexed to match DataFrame index.\n",
      "  Fuu_2_3s = df_1xs_2_3[df_1xs_2_3['phih']>=i_phi_left][df_1xs_2_3['phih']<i_phi]['value'].tolist()\n",
      "/var/folders/ll/8_2_l77j4yl2zjb6stl8d9b00000gn/T/ipykernel_2209/2044927340.py:12: UserWarning: Boolean Series key will be reindexed to match DataFrame index.\n",
      "  Fuu_2_3_stats = df_1xs_2_3[df_1xs_2_3['phih']>=i_phi_left][df_1xs_2_3['phih']<i_phi]['stat'].tolist()\n"
     ]
    },
    {
     "data": {
      "text/plain": [
       "[<matplotlib.lines.Line2D at 0x1239e71c0>]"
      ]
     },
     "execution_count": 37,
     "metadata": {},
     "output_type": "execute_result"
    },
    {
     "data": {
      "image/png": "[encoded data removed]",
      "text/plain": [
       "<Figure size 432x288 with 1 Axes>"
      ]
     },
     "metadata": {
      "needs_background": "light"
     },
     "output_type": "display_data"
    }
   ],
   "source": [
    "fig = plt.figure()\n",
    "ax = fig.add_subplot()\n",
    "phih_2_3=[]\n",
    "Fuu_2_3=[]\n",
    "Fuu_2_3_stat=[]\n",
    "Fuu_2_3_sys=[]\n",
    "i_phi_left = phih_bins[0]\n",
    "for i_phi in phih_bins[1:]:\n",
    "    print(i_phi_left,i_phi)\n",
    "    phih_2_3s = df_1xs_2_3[df_1xs_2_3['phih']>=i_phi_left][df_1xs_2_3['phih']<i_phi]['phih'].tolist()\n",
    "    Fuu_2_3s = df_1xs_2_3[df_1xs_2_3['phih']>=i_phi_left][df_1xs_2_3['phih']<i_phi]['value'].tolist()\n",
    "    Fuu_2_3_stats = df_1xs_2_3[df_1xs_2_3['phih']>=i_phi_left][df_1xs_2_3['phih']<i_phi]['stat'].tolist()\n",
    "    print(len(phih_2_3s))\n",
    "    \n",
    "    if len(phih_2_3s)>0:  \n",
    "        #print('phih',phih_2_3s)\n",
    "        #print('Fuu',Fuu_2_3s)\n",
    "        #print('Fuu_stat',Fuu_2_3_stats)\n",
    "        _Fuu_2_3 = Get_weighted_average(Fuu_2_3s,Fuu_2_3_stats)[0]\n",
    "        _Fuu_2_3_stat = Get_weighted_average(Fuu_2_3s,Fuu_2_3_stats)[1]\n",
    "        _phih_2_3= Get_weighted_average(phih_2_3s,Fuu_2_3_stats)[0]\n",
    "        #print('_Fuu_2_3',_Fuu_2_3)\n",
    "        #print('_phih',_phih_2_3)\n",
    "        #print('_Fuu_stat',_Fuu_2_3_stat)\n",
    "        Fuu_2_3.append(_Fuu_2_3)\n",
    "        phih_2_3.append(_phih_2_3)\n",
    "        Fuu_2_3_stat.append(_Fuu_2_3_stat)\n",
    "        Fuu_2_3_sys.append(0.05*_Fuu_2_3)\n",
    "        #print(Fuu_2_3,phih_2_3)\n",
    "        ax.plot([_phih_2_3,_phih_2_3],[_Fuu_2_3-_Fuu_2_3_stat,_Fuu_2_3+_Fuu_2_3_stat],color='blue',marker='_')\n",
    "    i_phi_left = i_phi\n",
    "    #print('phileft',i_phi_left)\n",
    "plt.plot(phih_2_3,Fuu_2_3,'bo')"
   ]
  },
  {
   "cell_type": "code",
   "execution_count": 38,
   "id": "2dc860e2",
   "metadata": {
    "scrolled": true
   },
   "outputs": [
    {
     "name": "stdout",
     "output_type": "stream",
     "text": [
      "-3.141592653589793 -2.5132741228718345\n",
      "0\n",
      "-2.5132741228718345 -1.8849555921538759\n",
      "5\n",
      "-1.8849555921538759 -1.2566370614359172\n",
      "4\n",
      "-1.2566370614359172 -0.6283185307179586\n",
      "7\n",
      "-0.6283185307179586 0.6283185307179586\n",
      "10\n",
      "0.6283185307179586 1.2566370614359172\n"
     ]
    },
    {
     "name": "stderr",
     "output_type": "stream",
     "text": [
      "/var/folders/ll/8_2_l77j4yl2zjb6stl8d9b00000gn/T/ipykernel_2209/1993598030.py:10: UserWarning: Boolean Series key will be reindexed to match DataFrame index.\n",
      "  phih_3_1s = df_1xs_3_1[df_1xs_3_1['phih']>=i_phi_left][df_1xs_3_1['phih']<i_phi]['phih'].tolist()\n",
      "/var/folders/ll/8_2_l77j4yl2zjb6stl8d9b00000gn/T/ipykernel_2209/1993598030.py:11: UserWarning: Boolean Series key will be reindexed to match DataFrame index.\n",
      "  Fuu_3_1s = df_1xs_3_1[df_1xs_3_1['phih']>=i_phi_left][df_1xs_3_1['phih']<i_phi]['value'].tolist()\n",
      "/var/folders/ll/8_2_l77j4yl2zjb6stl8d9b00000gn/T/ipykernel_2209/1993598030.py:12: UserWarning: Boolean Series key will be reindexed to match DataFrame index.\n",
      "  Fuu_3_1_stats = df_1xs_3_1[df_1xs_3_1['phih']>=i_phi_left][df_1xs_3_1['phih']<i_phi]['stat'].tolist()\n"
     ]
    },
    {
     "name": "stdout",
     "output_type": "stream",
     "text": [
      "6\n",
      "1.2566370614359172 1.8849555921538759\n",
      "5\n",
      "1.8849555921538759 2.5132741228718345\n",
      "4\n",
      "2.5132741228718345 3.141592653589793\n",
      "4\n"
     ]
    },
    {
     "data": {
      "text/plain": [
       "[<matplotlib.lines.Line2D at 0x12361b940>]"
      ]
     },
     "execution_count": 38,
     "metadata": {},
     "output_type": "execute_result"
    },
    {
     "data": {
      "image/png": "[encoded data removed]",
      "text/plain": [
       "<Figure size 432x288 with 1 Axes>"
      ]
     },
     "metadata": {
      "needs_background": "light"
     },
     "output_type": "display_data"
    }
   ],
   "source": [
    "fig = plt.figure()\n",
    "ax = fig.add_subplot()\n",
    "phih_3_1=[]\n",
    "Fuu_3_1=[]\n",
    "Fuu_3_1_stat=[]\n",
    "Fuu_3_1_sys=[]\n",
    "i_phi_left = phih_bins[0]\n",
    "for i_phi in phih_bins[1:]:\n",
    "    print(i_phi_left,i_phi)\n",
    "    phih_3_1s = df_1xs_3_1[df_1xs_3_1['phih']>=i_phi_left][df_1xs_3_1['phih']<i_phi]['phih'].tolist()\n",
    "    Fuu_3_1s = df_1xs_3_1[df_1xs_3_1['phih']>=i_phi_left][df_1xs_3_1['phih']<i_phi]['value'].tolist()\n",
    "    Fuu_3_1_stats = df_1xs_3_1[df_1xs_3_1['phih']>=i_phi_left][df_1xs_3_1['phih']<i_phi]['stat'].tolist()\n",
    "    print(len(phih_3_1s))\n",
    "    \n",
    "    if len(phih_3_1s)>0:  \n",
    "        #print('phih',phih_3_1s)\n",
    "        #print('Fuu',Fuu_3_1s)\n",
    "        #print('Fuu_stat',Fuu_3_1_stats)\n",
    "        _Fuu_3_1 = Get_weighted_average(Fuu_3_1s,Fuu_3_1_stats)[0]\n",
    "        _Fuu_3_1_stat = Get_weighted_average(Fuu_3_1s,Fuu_3_1_stats)[1]\n",
    "        _phih_3_1= Get_weighted_average(phih_3_1s,Fuu_3_1_stats)[0]\n",
    "        #print('_Fuu_3_1',_Fuu_3_1)\n",
    "        #print('_phih',_phih_3_1)\n",
    "        #print('_Fuu_stat',_Fuu_3_1_stat)\n",
    "        Fuu_3_1.append(_Fuu_3_1)\n",
    "        phih_3_1.append(_phih_3_1)\n",
    "        Fuu_3_1_stat.append(_Fuu_3_1_stat)\n",
    "        Fuu_3_1_sys.append(0.05*_Fuu_3_1)\n",
    "        #print(Fuu_3_1,phih_3_1)\n",
    "        ax.plot([_phih_3_1,_phih_3_1],[_Fuu_3_1-_Fuu_3_1_stat,_Fuu_3_1+_Fuu_3_1_stat],color='blue',marker='_')\n",
    "    i_phi_left = i_phi\n",
    "    #print('phileft',i_phi_left)\n",
    "plt.plot(phih_3_1,Fuu_3_1,'bo')"
   ]
  },
  {
   "cell_type": "code",
   "execution_count": 39,
   "id": "32e520b0",
   "metadata": {
    "scrolled": true
   },
   "outputs": [
    {
     "name": "stdout",
     "output_type": "stream",
     "text": [
      "-3.141592653589793 -2.5132741228718345\n",
      "0\n",
      "-2.5132741228718345 -1.8849555921538759\n",
      "3\n",
      "-1.8849555921538759 -1.2566370614359172\n",
      "2\n",
      "-1.2566370614359172 -0.6283185307179586\n",
      "2\n",
      "-0.6283185307179586 0.6283185307179586\n",
      "7\n",
      "0.6283185307179586 1.2566370614359172\n",
      "2\n",
      "1.2566370614359172 1.8849555921538759\n",
      "2\n",
      "1.8849555921538759 2.5132741228718345\n",
      "4\n",
      "2.5132741228718345 3.141592653589793\n",
      "4\n"
     ]
    },
    {
     "name": "stderr",
     "output_type": "stream",
     "text": [
      "/var/folders/ll/8_2_l77j4yl2zjb6stl8d9b00000gn/T/ipykernel_2209/1822354880.py:10: UserWarning: Boolean Series key will be reindexed to match DataFrame index.\n",
      "  phih_3_2s = df_1xs_3_2[df_1xs_3_2['phih']>=i_phi_left][df_1xs_3_2['phih']<i_phi]['phih'].tolist()\n",
      "/var/folders/ll/8_2_l77j4yl2zjb6stl8d9b00000gn/T/ipykernel_2209/1822354880.py:11: UserWarning: Boolean Series key will be reindexed to match DataFrame index.\n",
      "  Fuu_3_2s = df_1xs_3_2[df_1xs_3_2['phih']>=i_phi_left][df_1xs_3_2['phih']<i_phi]['value'].tolist()\n",
      "/var/folders/ll/8_2_l77j4yl2zjb6stl8d9b00000gn/T/ipykernel_2209/1822354880.py:12: UserWarning: Boolean Series key will be reindexed to match DataFrame index.\n",
      "  Fuu_3_2_stats = df_1xs_3_2[df_1xs_3_2['phih']>=i_phi_left][df_1xs_3_2['phih']<i_phi]['stat'].tolist()\n"
     ]
    },
    {
     "data": {
      "text/plain": [
       "[<matplotlib.lines.Line2D at 0x1234e02e0>]"
      ]
     },
     "execution_count": 39,
     "metadata": {},
     "output_type": "execute_result"
    },
    {
     "data": {
      "image/png": "[encoded data removed]",
      "text/plain": [
       "<Figure size 432x288 with 1 Axes>"
      ]
     },
     "metadata": {
      "needs_background": "light"
     },
     "output_type": "display_data"
    }
   ],
   "source": [
    "fig = plt.figure()\n",
    "ax = fig.add_subplot()\n",
    "phih_3_2=[]\n",
    "Fuu_3_2=[]\n",
    "Fuu_3_2_stat=[]\n",
    "Fuu_3_2_sys=[]\n",
    "i_phi_left = phih_bins[0]\n",
    "for i_phi in phih_bins[1:]:\n",
    "    print(i_phi_left,i_phi)\n",
    "    phih_3_2s = df_1xs_3_2[df_1xs_3_2['phih']>=i_phi_left][df_1xs_3_2['phih']<i_phi]['phih'].tolist()\n",
    "    Fuu_3_2s = df_1xs_3_2[df_1xs_3_2['phih']>=i_phi_left][df_1xs_3_2['phih']<i_phi]['value'].tolist()\n",
    "    Fuu_3_2_stats = df_1xs_3_2[df_1xs_3_2['phih']>=i_phi_left][df_1xs_3_2['phih']<i_phi]['stat'].tolist()\n",
    "    print(len(phih_3_2s))\n",
    "    \n",
    "    if len(phih_3_2s)>0:  \n",
    "        #print('phih',phih_3_2s)\n",
    "        #print('Fuu',Fuu_3_2s)\n",
    "        #print('Fuu_stat',Fuu_3_2_stats)\n",
    "        _Fuu_3_2 = Get_weighted_average(Fuu_3_2s,Fuu_3_2_stats)[0]\n",
    "        _Fuu_3_2_stat = Get_weighted_average(Fuu_3_2s,Fuu_3_2_stats)[1]\n",
    "        _phih_3_2= Get_weighted_average(phih_3_2s,Fuu_3_2_stats)[0]\n",
    "        #print('_Fuu_3_2',_Fuu_3_2)\n",
    "        #print('_phih',_phih_3_2)\n",
    "        #print('_Fuu_stat',_Fuu_3_2_stat)\n",
    "        Fuu_3_2.append(_Fuu_3_2)\n",
    "        phih_3_2.append(_phih_3_2)\n",
    "        Fuu_3_2_stat.append(_Fuu_3_2_stat)\n",
    "        Fuu_3_2_sys.append(0.05*_Fuu_3_2)\n",
    "        #print(Fuu_3_2,phih_3_2)\n",
    "        ax.plot([_phih_3_2,_phih_3_2],[_Fuu_3_2-_Fuu_3_2_stat,_Fuu_3_2+_Fuu_3_2_stat],color='blue',marker='_')\n",
    "    i_phi_left = i_phi\n",
    "    #print('phileft',i_phi_left)\n",
    "plt.plot(phih_3_2,Fuu_3_2,'bo')"
   ]
  },
  {
   "cell_type": "code",
   "execution_count": 40,
   "id": "353e51d7",
   "metadata": {
    "scrolled": true
   },
   "outputs": [
    {
     "name": "stdout",
     "output_type": "stream",
     "text": [
      "-3.141592653589793 -2.5132741228718345\n",
      "0\n",
      "-2.5132741228718345 -1.8849555921538759\n",
      "1\n",
      "-1.8849555921538759 -1.2566370614359172\n",
      "2\n",
      "-1.2566370614359172 -0.6283185307179586\n",
      "1\n",
      "-0.6283185307179586 0.6283185307179586\n",
      "5\n",
      "0.6283185307179586 1.2566370614359172\n",
      "2\n",
      "1.2566370614359172 1.8849555921538759\n",
      "0\n",
      "1.8849555921538759 2.5132741228718345\n",
      "4\n",
      "2.5132741228718345 3.141592653589793\n",
      "4\n"
     ]
    },
    {
     "name": "stderr",
     "output_type": "stream",
     "text": [
      "/var/folders/ll/8_2_l77j4yl2zjb6stl8d9b00000gn/T/ipykernel_2209/3055309742.py:10: UserWarning: Boolean Series key will be reindexed to match DataFrame index.\n",
      "  phih_3_3s = df_1xs_3_3[df_1xs_3_3['phih']>=i_phi_left][df_1xs_3_3['phih']<i_phi]['phih'].tolist()\n",
      "/var/folders/ll/8_2_l77j4yl2zjb6stl8d9b00000gn/T/ipykernel_2209/3055309742.py:11: UserWarning: Boolean Series key will be reindexed to match DataFrame index.\n",
      "  Fuu_3_3s = df_1xs_3_3[df_1xs_3_3['phih']>=i_phi_left][df_1xs_3_3['phih']<i_phi]['value'].tolist()\n",
      "/var/folders/ll/8_2_l77j4yl2zjb6stl8d9b00000gn/T/ipykernel_2209/3055309742.py:12: UserWarning: Boolean Series key will be reindexed to match DataFrame index.\n",
      "  Fuu_3_3_stats = df_1xs_3_3[df_1xs_3_3['phih']>=i_phi_left][df_1xs_3_3['phih']<i_phi]['stat'].tolist()\n"
     ]
    },
    {
     "data": {
      "text/plain": [
       "[<matplotlib.lines.Line2D at 0x1232f20d0>]"
      ]
     },
     "execution_count": 40,
     "metadata": {},
     "output_type": "execute_result"
    },
    {
     "data": {
      "image/png": "[encoded data removed]",
      "text/plain": [
       "<Figure size 432x288 with 1 Axes>"
      ]
     },
     "metadata": {
      "needs_background": "light"
     },
     "output_type": "display_data"
    }
   ],
   "source": [
    "fig = plt.figure()\n",
    "ax = fig.add_subplot()\n",
    "phih_3_3=[]\n",
    "Fuu_3_3=[]\n",
    "Fuu_3_3_stat=[]\n",
    "Fuu_3_3_sys=[]\n",
    "i_phi_left = phih_bins[0]\n",
    "for i_phi in phih_bins[1:]:\n",
    "    print(i_phi_left,i_phi)\n",
    "    phih_3_3s = df_1xs_3_3[df_1xs_3_3['phih']>=i_phi_left][df_1xs_3_3['phih']<i_phi]['phih'].tolist()\n",
    "    Fuu_3_3s = df_1xs_3_3[df_1xs_3_3['phih']>=i_phi_left][df_1xs_3_3['phih']<i_phi]['value'].tolist()\n",
    "    Fuu_3_3_stats = df_1xs_3_3[df_1xs_3_3['phih']>=i_phi_left][df_1xs_3_3['phih']<i_phi]['stat'].tolist()\n",
    "    print(len(phih_3_3s))\n",
    "    \n",
    "    if len(phih_3_3s)>0:  \n",
    "        #print('phih',phih_3_3s)\n",
    "        #print('Fuu',Fuu_3_3s)\n",
    "        #print('Fuu_stat',Fuu_3_3_stats)\n",
    "        _Fuu_3_3 = Get_weighted_average(Fuu_3_3s,Fuu_3_3_stats)[0]\n",
    "        _Fuu_3_3_stat = Get_weighted_average(Fuu_3_3s,Fuu_3_3_stats)[1]\n",
    "        _phih_3_3= Get_weighted_average(phih_3_3s,Fuu_3_3_stats)[0]\n",
    "        #print('_Fuu_3_3',_Fuu_3_3)\n",
    "        #print('_phih',_phih_3_3)\n",
    "        #print('_Fuu_stat',_Fuu_3_3_stat)\n",
    "        Fuu_3_3.append(_Fuu_3_3)\n",
    "        phih_3_3.append(_phih_3_3)\n",
    "        Fuu_3_3_stat.append(_Fuu_3_3_stat)\n",
    "        Fuu_3_3_sys.append(0.05*_Fuu_3_3)\n",
    "        #print(Fuu_3_3,phih_3_3)\n",
    "        ax.plot([_phih_3_3,_phih_3_3],[_Fuu_3_3-_Fuu_3_3_stat,_Fuu_3_3+_Fuu_3_3_stat],color='blue',marker='_')\n",
    "    i_phi_left = i_phi\n",
    "    #print('phileft',i_phi_left)\n",
    "plt.plot(phih_3_3,Fuu_3_3,'bo')"
   ]
  },
  {
   "cell_type": "code",
   "execution_count": 41,
   "id": "5353444d",
   "metadata": {
    "scrolled": true
   },
   "outputs": [
    {
     "name": "stdout",
     "output_type": "stream",
     "text": [
      "-3.141592653589793 -2.5132741228718345\n",
      "2\n",
      "-2.5132741228718345 -1.8849555921538759\n",
      "2\n",
      "-1.8849555921538759 -1.2566370614359172\n",
      "3\n",
      "-1.2566370614359172 -0.6283185307179586\n",
      "3\n",
      "-0.6283185307179586 0.6283185307179586\n",
      "6\n",
      "0.6283185307179586 1.2566370614359172\n",
      "3\n",
      "1.2566370614359172 1.8849555921538759\n",
      "3\n",
      "1.8849555921538759 2.5132741228718345\n",
      "5\n",
      "2.5132741228718345 3.141592653589793\n",
      "4\n"
     ]
    },
    {
     "name": "stderr",
     "output_type": "stream",
     "text": [
      "/var/folders/ll/8_2_l77j4yl2zjb6stl8d9b00000gn/T/ipykernel_2209/498945591.py:10: UserWarning: Boolean Series key will be reindexed to match DataFrame index.\n",
      "  phih_4_1s = df_1xs_4_1[df_1xs_4_1['phih']>=i_phi_left][df_1xs_4_1['phih']<i_phi]['phih'].tolist()\n",
      "/var/folders/ll/8_2_l77j4yl2zjb6stl8d9b00000gn/T/ipykernel_2209/498945591.py:11: UserWarning: Boolean Series key will be reindexed to match DataFrame index.\n",
      "  Fuu_4_1s = df_1xs_4_1[df_1xs_4_1['phih']>=i_phi_left][df_1xs_4_1['phih']<i_phi]['value'].tolist()\n",
      "/var/folders/ll/8_2_l77j4yl2zjb6stl8d9b00000gn/T/ipykernel_2209/498945591.py:12: UserWarning: Boolean Series key will be reindexed to match DataFrame index.\n",
      "  Fuu_4_1_stats = df_1xs_4_1[df_1xs_4_1['phih']>=i_phi_left][df_1xs_4_1['phih']<i_phi]['stat'].tolist()\n"
     ]
    },
    {
     "data": {
      "text/plain": [
       "[<matplotlib.lines.Line2D at 0x12304da30>]"
      ]
     },
     "execution_count": 41,
     "metadata": {},
     "output_type": "execute_result"
    },
    {
     "data": {
      "image/png": "[encoded data removed]",
      "text/plain": [
       "<Figure size 432x288 with 1 Axes>"
      ]
     },
     "metadata": {
      "needs_background": "light"
     },
     "output_type": "display_data"
    }
   ],
   "source": [
    "fig = plt.figure()\n",
    "ax = fig.add_subplot()\n",
    "phih_4_1=[]\n",
    "Fuu_4_1=[]\n",
    "Fuu_4_1_stat=[]\n",
    "Fuu_4_1_sys=[]\n",
    "i_phi_left = phih_bins[0]\n",
    "for i_phi in phih_bins[1:]:\n",
    "    print(i_phi_left,i_phi)\n",
    "    phih_4_1s = df_1xs_4_1[df_1xs_4_1['phih']>=i_phi_left][df_1xs_4_1['phih']<i_phi]['phih'].tolist()\n",
    "    Fuu_4_1s = df_1xs_4_1[df_1xs_4_1['phih']>=i_phi_left][df_1xs_4_1['phih']<i_phi]['value'].tolist()\n",
    "    Fuu_4_1_stats = df_1xs_4_1[df_1xs_4_1['phih']>=i_phi_left][df_1xs_4_1['phih']<i_phi]['stat'].tolist()\n",
    "    print(len(phih_4_1s))\n",
    "    \n",
    "    if len(phih_4_1s)>0:  \n",
    "        #print('phih',phih_4_1s)\n",
    "        #print('Fuu',Fuu_4_1s)\n",
    "        #print('Fuu_stat',Fuu_4_1_stats)\n",
    "        _Fuu_4_1 = Get_weighted_average(Fuu_4_1s,Fuu_4_1_stats)[0]\n",
    "        _Fuu_4_1_stat = Get_weighted_average(Fuu_4_1s,Fuu_4_1_stats)[1]\n",
    "        _phih_4_1= Get_weighted_average(phih_4_1s,Fuu_4_1_stats)[0]\n",
    "        #print('_Fuu_4_1',_Fuu_4_1)\n",
    "        #print('_phih',_phih_4_1)\n",
    "        #print('_Fuu_stat',_Fuu_4_1_stat)\n",
    "        Fuu_4_1.append(_Fuu_4_1)\n",
    "        phih_4_1.append(_phih_4_1)\n",
    "        Fuu_4_1_stat.append(_Fuu_4_1_stat)\n",
    "        Fuu_4_1_sys.append(0.05*_Fuu_4_1)\n",
    "        #print(Fuu_4_1,phih_4_1)\n",
    "        ax.plot([_phih_4_1,_phih_4_1],[_Fuu_4_1-_Fuu_4_1_stat,_Fuu_4_1+_Fuu_4_1_stat],color='blue',marker='_')\n",
    "    i_phi_left = i_phi\n",
    "    #print('phileft',i_phi_left)\n",
    "plt.plot(phih_4_1,Fuu_4_1,'bo')"
   ]
  },
  {
   "cell_type": "code",
   "execution_count": 42,
   "id": "e95fd1ad",
   "metadata": {
    "scrolled": true
   },
   "outputs": [
    {
     "name": "stdout",
     "output_type": "stream",
     "text": [
      "-3.141592653589793 -2.5132741228718345\n",
      "0\n",
      "-2.5132741228718345 -1.8849555921538759\n",
      "3\n",
      "-1.8849555921538759 -1.2566370614359172\n",
      "1\n",
      "-1.2566370614359172 -0.6283185307179586\n",
      "0\n",
      "-0.6283185307179586 0.6283185307179586\n",
      "6\n",
      "0.6283185307179586 1.2566370614359172\n",
      "1\n",
      "1.2566370614359172 1.8849555921538759\n",
      "2\n",
      "1.8849555921538759 2.5132741228718345\n",
      "4\n",
      "2.5132741228718345 3.141592653589793\n",
      "4\n"
     ]
    },
    {
     "name": "stderr",
     "output_type": "stream",
     "text": [
      "/var/folders/ll/8_2_l77j4yl2zjb6stl8d9b00000gn/T/ipykernel_2209/248896220.py:10: UserWarning: Boolean Series key will be reindexed to match DataFrame index.\n",
      "  phih_4_2s = df_1xs_4_2[df_1xs_4_2['phih']>=i_phi_left][df_1xs_4_2['phih']<i_phi]['phih'].tolist()\n",
      "/var/folders/ll/8_2_l77j4yl2zjb6stl8d9b00000gn/T/ipykernel_2209/248896220.py:11: UserWarning: Boolean Series key will be reindexed to match DataFrame index.\n",
      "  Fuu_4_2s = df_1xs_4_2[df_1xs_4_2['phih']>=i_phi_left][df_1xs_4_2['phih']<i_phi]['value'].tolist()\n",
      "/var/folders/ll/8_2_l77j4yl2zjb6stl8d9b00000gn/T/ipykernel_2209/248896220.py:12: UserWarning: Boolean Series key will be reindexed to match DataFrame index.\n",
      "  Fuu_4_2_stats = df_1xs_4_2[df_1xs_4_2['phih']>=i_phi_left][df_1xs_4_2['phih']<i_phi]['stat'].tolist()\n"
     ]
    },
    {
     "data": {
      "text/plain": [
       "[<matplotlib.lines.Line2D at 0x123506610>]"
      ]
     },
     "execution_count": 42,
     "metadata": {},
     "output_type": "execute_result"
    },
    {
     "data": {
      "image/png": "[encoded data removed]",
      "text/plain": [
       "<Figure size 432x288 with 1 Axes>"
      ]
     },
     "metadata": {
      "needs_background": "light"
     },
     "output_type": "display_data"
    }
   ],
   "source": [
    "fig = plt.figure()\n",
    "ax = fig.add_subplot()\n",
    "phih_4_2=[]\n",
    "Fuu_4_2=[]\n",
    "Fuu_4_2_stat=[]\n",
    "Fuu_4_2_sys=[]\n",
    "i_phi_left = phih_bins[0]\n",
    "for i_phi in phih_bins[1:]:\n",
    "    print(i_phi_left,i_phi)\n",
    "    phih_4_2s = df_1xs_4_2[df_1xs_4_2['phih']>=i_phi_left][df_1xs_4_2['phih']<i_phi]['phih'].tolist()\n",
    "    Fuu_4_2s = df_1xs_4_2[df_1xs_4_2['phih']>=i_phi_left][df_1xs_4_2['phih']<i_phi]['value'].tolist()\n",
    "    Fuu_4_2_stats = df_1xs_4_2[df_1xs_4_2['phih']>=i_phi_left][df_1xs_4_2['phih']<i_phi]['stat'].tolist()\n",
    "    print(len(phih_4_2s))\n",
    "    \n",
    "    if len(phih_4_2s)>0:  \n",
    "        #print('phih',phih_4_2s)\n",
    "        #print('Fuu',Fuu_4_2s)\n",
    "        #print('Fuu_stat',Fuu_4_2_stats)\n",
    "        _Fuu_4_2 = Get_weighted_average(Fuu_4_2s,Fuu_4_2_stats)[0]\n",
    "        _Fuu_4_2_stat = Get_weighted_average(Fuu_4_2s,Fuu_4_2_stats)[1]\n",
    "        _phih_4_2= Get_weighted_average(phih_4_2s,Fuu_4_2_stats)[0]\n",
    "        #print('_Fuu_4_2',_Fuu_4_2)\n",
    "        #print('_phih',_phih_4_2)\n",
    "        #print('_Fuu_stat',_Fuu_4_2_stat)\n",
    "        Fuu_4_2.append(_Fuu_4_2)\n",
    "        phih_4_2.append(_phih_4_2)\n",
    "        Fuu_4_2_stat.append(_Fuu_4_2_stat)\n",
    "        Fuu_4_2_sys.append(0.05*_Fuu_4_2)\n",
    "        #print(Fuu_4_2,phih_4_2)\n",
    "        ax.plot([_phih_4_2,_phih_4_2],[_Fuu_4_2-_Fuu_4_2_stat,_Fuu_4_2+_Fuu_4_2_stat],color='blue',marker='_')\n",
    "    i_phi_left = i_phi\n",
    "    #print('phileft',i_phi_left)\n",
    "plt.plot(phih_4_2,Fuu_4_2,'bo')"
   ]
  },
  {
   "cell_type": "code",
   "execution_count": 43,
   "id": "2fab40b4",
   "metadata": {
    "scrolled": true
   },
   "outputs": [
    {
     "name": "stdout",
     "output_type": "stream",
     "text": [
      "-3.141592653589793 -2.5132741228718345\n",
      "0\n",
      "-2.5132741228718345 -1.8849555921538759\n",
      "0\n",
      "-1.8849555921538759 -1.2566370614359172\n",
      "2\n",
      "-1.2566370614359172 -0.6283185307179586\n",
      "1\n",
      "-0.6283185307179586 0.6283185307179586\n",
      "4\n",
      "0.6283185307179586 1.2566370614359172\n",
      "2\n",
      "1.2566370614359172 1.8849555921538759\n",
      "0\n",
      "1.8849555921538759 2.5132741228718345\n",
      "2\n",
      "2.5132741228718345 3.141592653589793\n",
      "4\n"
     ]
    },
    {
     "name": "stderr",
     "output_type": "stream",
     "text": [
      "/var/folders/ll/8_2_l77j4yl2zjb6stl8d9b00000gn/T/ipykernel_2209/3097405780.py:10: UserWarning: Boolean Series key will be reindexed to match DataFrame index.\n",
      "  phih_4_3s = df_1xs_4_3[df_1xs_4_3['phih']>=i_phi_left][df_1xs_4_3['phih']<i_phi]['phih'].tolist()\n",
      "/var/folders/ll/8_2_l77j4yl2zjb6stl8d9b00000gn/T/ipykernel_2209/3097405780.py:11: UserWarning: Boolean Series key will be reindexed to match DataFrame index.\n",
      "  Fuu_4_3s = df_1xs_4_3[df_1xs_4_3['phih']>=i_phi_left][df_1xs_4_3['phih']<i_phi]['value'].tolist()\n",
      "/var/folders/ll/8_2_l77j4yl2zjb6stl8d9b00000gn/T/ipykernel_2209/3097405780.py:12: UserWarning: Boolean Series key will be reindexed to match DataFrame index.\n",
      "  Fuu_4_3_stats = df_1xs_4_3[df_1xs_4_3['phih']>=i_phi_left][df_1xs_4_3['phih']<i_phi]['stat'].tolist()\n"
     ]
    },
    {
     "data": {
      "text/plain": [
       "[<matplotlib.lines.Line2D at 0x1232ff9a0>]"
      ]
     },
     "execution_count": 43,
     "metadata": {},
     "output_type": "execute_result"
    },
    {
     "data": {
      "image/png": "[encoded data removed]",
      "text/plain": [
       "<Figure size 432x288 with 1 Axes>"
      ]
     },
     "metadata": {
      "needs_background": "light"
     },
     "output_type": "display_data"
    }
   ],
   "source": [
    "fig = plt.figure()\n",
    "ax = fig.add_subplot()\n",
    "phih_4_3=[]\n",
    "Fuu_4_3=[]\n",
    "Fuu_4_3_stat=[]\n",
    "Fuu_4_3_sys=[]\n",
    "i_phi_left = phih_bins[0]\n",
    "for i_phi in phih_bins[1:]:\n",
    "    print(i_phi_left,i_phi)\n",
    "    phih_4_3s = df_1xs_4_3[df_1xs_4_3['phih']>=i_phi_left][df_1xs_4_3['phih']<i_phi]['phih'].tolist()\n",
    "    Fuu_4_3s = df_1xs_4_3[df_1xs_4_3['phih']>=i_phi_left][df_1xs_4_3['phih']<i_phi]['value'].tolist()\n",
    "    Fuu_4_3_stats = df_1xs_4_3[df_1xs_4_3['phih']>=i_phi_left][df_1xs_4_3['phih']<i_phi]['stat'].tolist()\n",
    "    print(len(phih_4_3s))\n",
    "    \n",
    "    if len(phih_4_3s)>0:  \n",
    "        #print('phih',phih_4_3s)\n",
    "        #print('Fuu',Fuu_4_3s)\n",
    "        #print('Fuu_stat',Fuu_4_3_stats)\n",
    "        _Fuu_4_3 = Get_weighted_average(Fuu_4_3s,Fuu_4_3_stats)[0]\n",
    "        _Fuu_4_3_stat = Get_weighted_average(Fuu_4_3s,Fuu_4_3_stats)[1]\n",
    "        _phih_4_3= Get_weighted_average(phih_4_3s,Fuu_4_3_stats)[0]\n",
    "        #print('_Fuu_4_3',_Fuu_4_3)\n",
    "        #print('_phih',_phih_4_3)\n",
    "        #print('_Fuu_stat',_Fuu_4_3_stat)\n",
    "        Fuu_4_3.append(_Fuu_4_3)\n",
    "        phih_4_3.append(_phih_4_3)\n",
    "        Fuu_4_3_stat.append(_Fuu_4_3_stat)\n",
    "        Fuu_4_3_sys.append(0.05*_Fuu_4_3)\n",
    "        #print(Fuu_4_3,phih_4_3)\n",
    "        ax.plot([_phih_4_3,_phih_4_3],[_Fuu_4_3-_Fuu_4_3_stat,_Fuu_4_3+_Fuu_4_3_stat],color='blue',marker='_')\n",
    "    i_phi_left = i_phi\n",
    "    #print('phileft',i_phi_left)\n",
    "plt.plot(phih_4_3,Fuu_4_3,'bo')"
   ]
  },
  {
   "cell_type": "code",
   "execution_count": 44,
   "id": "ac7881b8",
   "metadata": {
    "scrolled": true
   },
   "outputs": [
    {
     "name": "stdout",
     "output_type": "stream",
     "text": [
      "-3.141592653589793 -2.5132741228718345\n",
      "8\n",
      "-2.5132741228718345 -1.8849555921538759\n",
      "11\n",
      "-1.8849555921538759 -1.2566370614359172\n",
      "7\n",
      "-1.2566370614359172 -0.6283185307179586\n",
      "7\n",
      "-0.6283185307179586 0.6283185307179586\n",
      "11\n",
      "0.6283185307179586 1.2566370614359172\n",
      "6\n",
      "1.2566370614359172 1.8849555921538759\n",
      "6\n",
      "1.8849555921538759 2.5132741228718345\n",
      "11\n",
      "2.5132741228718345 3.141592653589793\n",
      "10\n"
     ]
    },
    {
     "name": "stderr",
     "output_type": "stream",
     "text": [
      "/var/folders/ll/8_2_l77j4yl2zjb6stl8d9b00000gn/T/ipykernel_2209/2416009529.py:10: UserWarning: Boolean Series key will be reindexed to match DataFrame index.\n",
      "  phih_1_1s = df_3xs_1_1[df_3xs_1_1['phih']>=i_phi_left][df_3xs_1_1['phih']<i_phi]['phih'].tolist()\n",
      "/var/folders/ll/8_2_l77j4yl2zjb6stl8d9b00000gn/T/ipykernel_2209/2416009529.py:11: UserWarning: Boolean Series key will be reindexed to match DataFrame index.\n",
      "  Fuu_1_1s = df_3xs_1_1[df_3xs_1_1['phih']>=i_phi_left][df_3xs_1_1['phih']<i_phi]['value'].tolist()\n",
      "/var/folders/ll/8_2_l77j4yl2zjb6stl8d9b00000gn/T/ipykernel_2209/2416009529.py:12: UserWarning: Boolean Series key will be reindexed to match DataFrame index.\n",
      "  Fuu_1_1_stats = df_3xs_1_1[df_3xs_1_1['phih']>=i_phi_left][df_3xs_1_1['phih']<i_phi]['stat'].tolist()\n"
     ]
    },
    {
     "data": {
      "text/plain": [
       "Text(0, 0.5, '$F_{UU}$')"
      ]
     },
     "execution_count": 44,
     "metadata": {},
     "output_type": "execute_result"
    },
    {
     "data": {
      "image/png": "[encoded data removed]",
      "text/plain": [
       "<Figure size 432x288 with 1 Axes>"
      ]
     },
     "metadata": {
      "needs_background": "light"
     },
     "output_type": "display_data"
    }
   ],
   "source": [
    "fig = plt.figure()\n",
    "ax = fig.add_subplot()\n",
    "phih_1_1_3xs=[]\n",
    "Fuu_1_1_3xs=[]\n",
    "Fuu_1_1_3xs_stat=[]\n",
    "Fuu_1_1_3xs_sys=[]\n",
    "i_phi_left = phih_bins[0]\n",
    "for i_phi in phih_bins[1:]:\n",
    "    print(i_phi_left,i_phi)\n",
    "    phih_1_1s = df_3xs_1_1[df_3xs_1_1['phih']>=i_phi_left][df_3xs_1_1['phih']<i_phi]['phih'].tolist()\n",
    "    Fuu_1_1s = df_3xs_1_1[df_3xs_1_1['phih']>=i_phi_left][df_3xs_1_1['phih']<i_phi]['value'].tolist()\n",
    "    Fuu_1_1_stats = df_3xs_1_1[df_3xs_1_1['phih']>=i_phi_left][df_3xs_1_1['phih']<i_phi]['stat'].tolist()\n",
    "    print(len(phih_1_1s))\n",
    "    \n",
    "    if len(phih_1_1s)>0:  \n",
    "        #print('phih',phih_1_1s)\n",
    "        #print('Fuu',Fuu_1_1s)\n",
    "        #print('Fuu_stat',Fuu_1_1_stats)\n",
    "        _Fuu_1_1 = Get_weighted_average(Fuu_1_1s,Fuu_1_1_stats)[0]\n",
    "        _Fuu_1_1_stat = Get_weighted_average(Fuu_1_1s,Fuu_1_1_stats)[1]\n",
    "        _phih_1_1= Get_weighted_average(phih_1_1s,Fuu_1_1_stats)[0]\n",
    "        #print('_Fuu_1_1',_Fuu_1_1)\n",
    "        #print('_phih',_phih_1_1)\n",
    "        #print('_Fuu_stat',_Fuu_1_1_stat)\n",
    "        Fuu_1_1_3xs.append(_Fuu_1_1)\n",
    "        phih_1_1_3xs.append(_phih_1_1)\n",
    "        Fuu_1_1_3xs_stat.append(_Fuu_1_1_stat)\n",
    "        Fuu_1_1_3xs_sys.append(0.05*_Fuu_1_1)\n",
    "        #print(Fuu_1_1,phih_1_1)\n",
    "        ax.plot([_phih_1_1,_phih_1_1],[_Fuu_1_1-_Fuu_1_1_stat,_Fuu_1_1+_Fuu_1_1_stat],color='red',marker='_')\n",
    "    i_phi_left = i_phi\n",
    "    #print('phileft',i_phi_left)\n",
    "plt.plot(phih_1_1_3xs,Fuu_1_1_3xs,'ro')\n",
    "plt.xlabel('$\\phi_h$',fontsize=16)\n",
    "plt.ylabel('$F_{UU}$',fontsize=16)"
   ]
  },
  {
   "cell_type": "code",
   "execution_count": 45,
   "id": "03051da5",
   "metadata": {
    "scrolled": true
   },
   "outputs": [
    {
     "name": "stdout",
     "output_type": "stream",
     "text": [
      "-3.141592653589793 -2.5132741228718345\n",
      "1\n",
      "-2.5132741228718345 -1.8849555921538759\n",
      "8\n",
      "-1.8849555921538759 -1.2566370614359172\n",
      "4\n",
      "-1.2566370614359172 -0.6283185307179586\n",
      "3\n",
      "-0.6283185307179586 0.6283185307179586\n",
      "10\n",
      "0.6283185307179586 1.2566370614359172\n",
      "2\n",
      "1.2566370614359172 1.8849555921538759\n",
      "4\n",
      "1.8849555921538759 2.5132741228718345\n",
      "7\n",
      "2.5132741228718345 3.141592653589793\n",
      "8\n"
     ]
    },
    {
     "name": "stderr",
     "output_type": "stream",
     "text": [
      "/var/folders/ll/8_2_l77j4yl2zjb6stl8d9b00000gn/T/ipykernel_2209/3323905154.py:10: UserWarning: Boolean Series key will be reindexed to match DataFrame index.\n",
      "  phih_1_2s = df_3xs_1_2[df_3xs_1_2['phih']>=i_phi_left][df_3xs_1_2['phih']<i_phi]['phih'].tolist()\n",
      "/var/folders/ll/8_2_l77j4yl2zjb6stl8d9b00000gn/T/ipykernel_2209/3323905154.py:11: UserWarning: Boolean Series key will be reindexed to match DataFrame index.\n",
      "  Fuu_1_2s = df_3xs_1_2[df_3xs_1_2['phih']>=i_phi_left][df_3xs_1_2['phih']<i_phi]['value'].tolist()\n",
      "/var/folders/ll/8_2_l77j4yl2zjb6stl8d9b00000gn/T/ipykernel_2209/3323905154.py:12: UserWarning: Boolean Series key will be reindexed to match DataFrame index.\n",
      "  Fuu_1_2_stats = df_3xs_1_2[df_3xs_1_2['phih']>=i_phi_left][df_3xs_1_2['phih']<i_phi]['stat'].tolist()\n"
     ]
    },
    {
     "data": {
      "text/plain": [
       "Text(0, 0.5, '$F_{UU}$')"
      ]
     },
     "execution_count": 45,
     "metadata": {},
     "output_type": "execute_result"
    },
    {
     "data": {
      "image/png": "[encoded data removed]",
      "text/plain": [
       "<Figure size 432x288 with 1 Axes>"
      ]
     },
     "metadata": {
      "needs_background": "light"
     },
     "output_type": "display_data"
    }
   ],
   "source": [
    "fig = plt.figure()\n",
    "ax = fig.add_subplot()\n",
    "phih_1_2_3xs=[]\n",
    "Fuu_1_2_3xs=[]\n",
    "Fuu_1_2_3xs_stat=[]\n",
    "Fuu_1_2_3xs_sys=[]\n",
    "i_phi_left = phih_bins[0]\n",
    "for i_phi in phih_bins[1:]:\n",
    "    print(i_phi_left,i_phi)\n",
    "    phih_1_2s = df_3xs_1_2[df_3xs_1_2['phih']>=i_phi_left][df_3xs_1_2['phih']<i_phi]['phih'].tolist()\n",
    "    Fuu_1_2s = df_3xs_1_2[df_3xs_1_2['phih']>=i_phi_left][df_3xs_1_2['phih']<i_phi]['value'].tolist()\n",
    "    Fuu_1_2_stats = df_3xs_1_2[df_3xs_1_2['phih']>=i_phi_left][df_3xs_1_2['phih']<i_phi]['stat'].tolist()\n",
    "    print(len(phih_1_2s))\n",
    "    \n",
    "    if len(phih_1_2s)>0:  \n",
    "        #print('phih',phih_1_2s)\n",
    "        #print('Fuu',Fuu_1_2s)\n",
    "        #print('Fuu_stat',Fuu_1_2_stats)\n",
    "        _Fuu_1_2 = Get_weighted_average(Fuu_1_2s,Fuu_1_2_stats)[0]\n",
    "        _Fuu_1_2_stat = Get_weighted_average(Fuu_1_2s,Fuu_1_2_stats)[1]\n",
    "        _phih_1_2= Get_weighted_average(phih_1_2s,Fuu_1_2_stats)[0]\n",
    "        #print('_Fuu_1_2',_Fuu_1_2)\n",
    "        #print('_phih',_phih_1_2)\n",
    "        #print('_Fuu_stat',_Fuu_1_2_stat)\n",
    "        Fuu_1_2_3xs.append(_Fuu_1_2)\n",
    "        phih_1_2_3xs.append(_phih_1_2)\n",
    "        Fuu_1_2_3xs_stat.append(_Fuu_1_2_stat)\n",
    "        Fuu_1_2_3xs_sys.append(0.05*_Fuu_1_2)\n",
    "        #print(Fuu_1_2,phih_1_2)\n",
    "        ax.plot([_phih_1_2,_phih_1_2],[_Fuu_1_2-_Fuu_1_2_stat,_Fuu_1_2+_Fuu_1_2_stat],color='red',marker='_')\n",
    "    i_phi_left = i_phi\n",
    "    #print('phileft',i_phi_left)\n",
    "plt.plot(phih_1_2_3xs,Fuu_1_2_3xs,'ro')\n",
    "plt.xlabel('$\\phi_h$',fontsize=16)\n",
    "plt.ylabel('$F_{UU}$',fontsize=16)"
   ]
  },
  {
   "cell_type": "code",
   "execution_count": 46,
   "id": "e5171401",
   "metadata": {
    "scrolled": true
   },
   "outputs": [
    {
     "name": "stdout",
     "output_type": "stream",
     "text": [
      "-3.141592653589793 -2.5132741228718345\n",
      "0\n",
      "-2.5132741228718345 -1.8849555921538759\n",
      "1\n",
      "-1.8849555921538759 -1.2566370614359172\n",
      "4\n",
      "-1.2566370614359172 -0.6283185307179586\n",
      "3\n",
      "-0.6283185307179586 0.6283185307179586\n",
      "4\n",
      "0.6283185307179586 1.2566370614359172\n",
      "2\n",
      "1.2566370614359172 1.8849555921538759\n",
      "2\n",
      "1.8849555921538759 2.5132741228718345\n",
      "7\n",
      "2.5132741228718345 3.141592653589793\n",
      "8\n"
     ]
    },
    {
     "name": "stderr",
     "output_type": "stream",
     "text": [
      "/var/folders/ll/8_2_l77j4yl2zjb6stl8d9b00000gn/T/ipykernel_2209/1337995097.py:10: UserWarning: Boolean Series key will be reindexed to match DataFrame index.\n",
      "  phih_1_3s = df_3xs_1_3[df_3xs_1_3['phih']>=i_phi_left][df_3xs_1_3['phih']<i_phi]['phih'].tolist()\n",
      "/var/folders/ll/8_2_l77j4yl2zjb6stl8d9b00000gn/T/ipykernel_2209/1337995097.py:11: UserWarning: Boolean Series key will be reindexed to match DataFrame index.\n",
      "  Fuu_1_3s = df_3xs_1_3[df_3xs_1_3['phih']>=i_phi_left][df_3xs_1_3['phih']<i_phi]['value'].tolist()\n",
      "/var/folders/ll/8_2_l77j4yl2zjb6stl8d9b00000gn/T/ipykernel_2209/1337995097.py:12: UserWarning: Boolean Series key will be reindexed to match DataFrame index.\n",
      "  Fuu_1_3_stats = df_3xs_1_3[df_3xs_1_3['phih']>=i_phi_left][df_3xs_1_3['phih']<i_phi]['stat'].tolist()\n"
     ]
    },
    {
     "data": {
      "text/plain": [
       "Text(0, 0.5, '$F_{UU}$')"
      ]
     },
     "execution_count": 46,
     "metadata": {},
     "output_type": "execute_result"
    },
    {
     "data": {
      "image/png": "[encoded data removed]",
      "text/plain": [
       "<Figure size 432x288 with 1 Axes>"
      ]
     },
     "metadata": {
      "needs_background": "light"
     },
     "output_type": "display_data"
    }
   ],
   "source": [
    "fig = plt.figure()\n",
    "ax = fig.add_subplot()\n",
    "phih_1_3_3xs=[]\n",
    "Fuu_1_3_3xs=[]\n",
    "Fuu_1_3_3xs_stat=[]\n",
    "Fuu_1_3_3xs_sys=[]\n",
    "i_phi_left = phih_bins[0]\n",
    "for i_phi in phih_bins[1:]:\n",
    "    print(i_phi_left,i_phi)\n",
    "    phih_1_3s = df_3xs_1_3[df_3xs_1_3['phih']>=i_phi_left][df_3xs_1_3['phih']<i_phi]['phih'].tolist()\n",
    "    Fuu_1_3s = df_3xs_1_3[df_3xs_1_3['phih']>=i_phi_left][df_3xs_1_3['phih']<i_phi]['value'].tolist()\n",
    "    Fuu_1_3_stats = df_3xs_1_3[df_3xs_1_3['phih']>=i_phi_left][df_3xs_1_3['phih']<i_phi]['stat'].tolist()\n",
    "    print(len(phih_1_3s))\n",
    "    \n",
    "    if len(phih_1_3s)>0:  \n",
    "        #print('phih',phih_1_3s)\n",
    "        #print('Fuu',Fuu_1_3s)\n",
    "        #print('Fuu_stat',Fuu_1_3_stats)\n",
    "        _Fuu_1_3 = Get_weighted_average(Fuu_1_3s,Fuu_1_3_stats)[0]\n",
    "        _Fuu_1_3_stat = Get_weighted_average(Fuu_1_3s,Fuu_1_3_stats)[1]\n",
    "        _phih_1_3= Get_weighted_average(phih_1_3s,Fuu_1_3_stats)[0]\n",
    "        #print('_Fuu_1_3',_Fuu_1_3)\n",
    "        #print('_phih',_phih_1_3)\n",
    "        #print('_Fuu_stat',_Fuu_1_3_stat)\n",
    "        Fuu_1_3_3xs.append(_Fuu_1_3)\n",
    "        phih_1_3_3xs.append(_phih_1_3)\n",
    "        Fuu_1_3_3xs_stat.append(_Fuu_1_3_stat)\n",
    "        Fuu_1_3_3xs_sys.append(0.05*_Fuu_1_3)\n",
    "        #print(Fuu_1_3,phih_1_3)\n",
    "        ax.plot([_phih_1_3,_phih_1_3],[_Fuu_1_3-_Fuu_1_3_stat,_Fuu_1_3+_Fuu_1_3_stat],color='red',marker='_')\n",
    "    i_phi_left = i_phi\n",
    "    #print('phileft',i_phi_left)\n",
    "plt.plot(phih_1_3_3xs,Fuu_1_3_3xs,'ro')\n",
    "plt.xlabel('$\\phi_h$',fontsize=16)\n",
    "plt.ylabel('$F_{UU}$',fontsize=16)"
   ]
  },
  {
   "cell_type": "code",
   "execution_count": 47,
   "id": "38fbeea3",
   "metadata": {
    "scrolled": true
   },
   "outputs": [
    {
     "name": "stdout",
     "output_type": "stream",
     "text": [
      "-3.141592653589793 -2.5132741228718345\n",
      "3\n",
      "-2.5132741228718345 -1.8849555921538759\n",
      "6\n",
      "-1.8849555921538759 -1.2566370614359172\n",
      "6\n",
      "-1.2566370614359172 -0.6283185307179586\n",
      "6\n",
      "-0.6283185307179586 0.6283185307179586\n",
      "11\n",
      "0.6283185307179586 1.2566370614359172\n",
      "7\n",
      "1.2566370614359172 1.8849555921538759\n",
      "5\n",
      "1.8849555921538759 2.5132741228718345\n",
      "9\n",
      "2.5132741228718345 3.141592653589793\n",
      "9\n"
     ]
    },
    {
     "name": "stderr",
     "output_type": "stream",
     "text": [
      "/var/folders/ll/8_2_l77j4yl2zjb6stl8d9b00000gn/T/ipykernel_2209/4038353995.py:10: UserWarning: Boolean Series key will be reindexed to match DataFrame index.\n",
      "  phih_2_1s = df_3xs_2_1[df_3xs_2_1['phih']>=i_phi_left][df_3xs_2_1['phih']<i_phi]['phih'].tolist()\n",
      "/var/folders/ll/8_2_l77j4yl2zjb6stl8d9b00000gn/T/ipykernel_2209/4038353995.py:11: UserWarning: Boolean Series key will be reindexed to match DataFrame index.\n",
      "  Fuu_2_1s = df_3xs_2_1[df_3xs_2_1['phih']>=i_phi_left][df_3xs_2_1['phih']<i_phi]['value'].tolist()\n",
      "/var/folders/ll/8_2_l77j4yl2zjb6stl8d9b00000gn/T/ipykernel_2209/4038353995.py:12: UserWarning: Boolean Series key will be reindexed to match DataFrame index.\n",
      "  Fuu_2_1_stats = df_3xs_2_1[df_3xs_2_1['phih']>=i_phi_left][df_3xs_2_1['phih']<i_phi]['stat'].tolist()\n"
     ]
    },
    {
     "data": {
      "text/plain": [
       "Text(0, 0.5, '$F_{UU}$')"
      ]
     },
     "execution_count": 47,
     "metadata": {},
     "output_type": "execute_result"
    },
    {
     "data": {
      "image/png": "[encoded data removed]",
      "text/plain": [
       "<Figure size 432x288 with 1 Axes>"
      ]
     },
     "metadata": {
      "needs_background": "light"
     },
     "output_type": "display_data"
    }
   ],
   "source": [
    "fig = plt.figure()\n",
    "ax = fig.add_subplot()\n",
    "phih_2_1_3xs=[]\n",
    "Fuu_2_1_3xs=[]\n",
    "Fuu_2_1_3xs_stat=[]\n",
    "Fuu_2_1_3xs_sys=[]\n",
    "i_phi_left = phih_bins[0]\n",
    "for i_phi in phih_bins[1:]:\n",
    "    print(i_phi_left,i_phi)\n",
    "    phih_2_1s = df_3xs_2_1[df_3xs_2_1['phih']>=i_phi_left][df_3xs_2_1['phih']<i_phi]['phih'].tolist()\n",
    "    Fuu_2_1s = df_3xs_2_1[df_3xs_2_1['phih']>=i_phi_left][df_3xs_2_1['phih']<i_phi]['value'].tolist()\n",
    "    Fuu_2_1_stats = df_3xs_2_1[df_3xs_2_1['phih']>=i_phi_left][df_3xs_2_1['phih']<i_phi]['stat'].tolist()\n",
    "    print(len(phih_2_1s))\n",
    "    \n",
    "    if len(phih_2_1s)>0:  \n",
    "        #print('phih',phih_2_1s)\n",
    "        #print('Fuu',Fuu_2_1s)\n",
    "        #print('Fuu_stat',Fuu_2_1_stats)\n",
    "        _Fuu_2_1 = Get_weighted_average(Fuu_2_1s,Fuu_2_1_stats)[0]\n",
    "        _Fuu_2_1_stat = Get_weighted_average(Fuu_2_1s,Fuu_2_1_stats)[1]\n",
    "        _phih_2_1= Get_weighted_average(phih_2_1s,Fuu_2_1_stats)[0]\n",
    "        #print('_Fuu_2_1',_Fuu_2_1)\n",
    "        #print('_phih',_phih_2_1)\n",
    "        #print('_Fuu_stat',_Fuu_2_1_stat)\n",
    "        Fuu_2_1_3xs.append(_Fuu_2_1)\n",
    "        phih_2_1_3xs.append(_phih_2_1)\n",
    "        Fuu_2_1_3xs_stat.append(_Fuu_2_1_stat)\n",
    "        Fuu_2_1_3xs_sys.append(0.05*_Fuu_2_1)\n",
    "        #print(Fuu_2_1,phih_2_1)\n",
    "        ax.plot([_phih_2_1,_phih_2_1],[_Fuu_2_1-_Fuu_2_1_stat,_Fuu_2_1+_Fuu_2_1_stat],color='red',marker='_')\n",
    "    i_phi_left = i_phi\n",
    "    #print('phileft',i_phi_left)\n",
    "plt.plot(phih_2_1_3xs,Fuu_2_1_3xs,'ro')\n",
    "plt.xlabel('$\\phi_h$',fontsize=16)\n",
    "plt.ylabel('$F_{UU}$',fontsize=16)"
   ]
  },
  {
   "cell_type": "code",
   "execution_count": 48,
   "id": "b49ea350",
   "metadata": {
    "scrolled": true
   },
   "outputs": [
    {
     "name": "stdout",
     "output_type": "stream",
     "text": [
      "-3.141592653589793 -2.5132741228718345\n",
      "1\n",
      "-2.5132741228718345 -1.8849555921538759\n",
      "3\n",
      "-1.8849555921538759 -1.2566370614359172\n",
      "3\n",
      "-1.2566370614359172 -0.6283185307179586\n",
      "2\n",
      "-0.6283185307179586 0.6283185307179586\n"
     ]
    },
    {
     "name": "stderr",
     "output_type": "stream",
     "text": [
      "/var/folders/ll/8_2_l77j4yl2zjb6stl8d9b00000gn/T/ipykernel_2209/1713755056.py:10: UserWarning: Boolean Series key will be reindexed to match DataFrame index.\n",
      "  phih_2_2s = df_3xs_2_2[df_3xs_2_2['phih']>=i_phi_left][df_3xs_2_2['phih']<i_phi]['phih'].tolist()\n",
      "/var/folders/ll/8_2_l77j4yl2zjb6stl8d9b00000gn/T/ipykernel_2209/1713755056.py:11: UserWarning: Boolean Series key will be reindexed to match DataFrame index.\n",
      "  Fuu_2_2s = df_3xs_2_2[df_3xs_2_2['phih']>=i_phi_left][df_3xs_2_2['phih']<i_phi]['value'].tolist()\n",
      "/var/folders/ll/8_2_l77j4yl2zjb6stl8d9b00000gn/T/ipykernel_2209/1713755056.py:12: UserWarning: Boolean Series key will be reindexed to match DataFrame index.\n",
      "  Fuu_2_2_stats = df_3xs_2_2[df_3xs_2_2['phih']>=i_phi_left][df_3xs_2_2['phih']<i_phi]['stat'].tolist()\n"
     ]
    },
    {
     "name": "stdout",
     "output_type": "stream",
     "text": [
      "11\n",
      "0.6283185307179586 1.2566370614359172\n",
      "2\n",
      "1.2566370614359172 1.8849555921538759\n",
      "2\n",
      "1.8849555921538759 2.5132741228718345\n",
      "7\n",
      "2.5132741228718345 3.141592653589793\n",
      "8\n"
     ]
    },
    {
     "data": {
      "text/plain": [
       "Text(0, 0.5, '$F_{UU}$')"
      ]
     },
     "execution_count": 48,
     "metadata": {},
     "output_type": "execute_result"
    },
    {
     "data": {
      "image/png": "[encoded data removed]",
      "text/plain": [
       "<Figure size 432x288 with 1 Axes>"
      ]
     },
     "metadata": {
      "needs_background": "light"
     },
     "output_type": "display_data"
    }
   ],
   "source": [
    "fig = plt.figure()\n",
    "ax = fig.add_subplot()\n",
    "phih_2_2_3xs=[]\n",
    "Fuu_2_2_3xs=[]\n",
    "Fuu_2_2_3xs_stat=[]\n",
    "Fuu_2_2_3xs_sys=[]\n",
    "i_phi_left = phih_bins[0]\n",
    "for i_phi in phih_bins[1:]:\n",
    "    print(i_phi_left,i_phi)\n",
    "    phih_2_2s = df_3xs_2_2[df_3xs_2_2['phih']>=i_phi_left][df_3xs_2_2['phih']<i_phi]['phih'].tolist()\n",
    "    Fuu_2_2s = df_3xs_2_2[df_3xs_2_2['phih']>=i_phi_left][df_3xs_2_2['phih']<i_phi]['value'].tolist()\n",
    "    Fuu_2_2_stats = df_3xs_2_2[df_3xs_2_2['phih']>=i_phi_left][df_3xs_2_2['phih']<i_phi]['stat'].tolist()\n",
    "    print(len(phih_2_2s))\n",
    "    \n",
    "    if len(phih_2_2s)>0:  \n",
    "        #print('phih',phih_2_2s)\n",
    "        #print('Fuu',Fuu_2_2s)\n",
    "        #print('Fuu_stat',Fuu_2_2_stats)\n",
    "        _Fuu_2_2 = Get_weighted_average(Fuu_2_2s,Fuu_2_2_stats)[0]\n",
    "        _Fuu_2_2_stat = Get_weighted_average(Fuu_2_2s,Fuu_2_2_stats)[1]\n",
    "        _phih_2_2= Get_weighted_average(phih_2_2s,Fuu_2_2_stats)[0]\n",
    "        #print('_Fuu_2_2',_Fuu_2_2)\n",
    "        #print('_phih',_phih_2_2)\n",
    "        #print('_Fuu_stat',_Fuu_2_2_stat)\n",
    "        Fuu_2_2_3xs.append(_Fuu_2_2)\n",
    "        phih_2_2_3xs.append(_phih_2_2)\n",
    "        Fuu_2_2_3xs_stat.append(_Fuu_2_2_stat)\n",
    "        Fuu_2_2_3xs_sys.append(0.05*_Fuu_2_2)\n",
    "        #print(Fuu_2_2,phih_2_2)\n",
    "        ax.plot([_phih_2_2,_phih_2_2],[_Fuu_2_2-_Fuu_2_2_stat,_Fuu_2_2+_Fuu_2_2_stat],color='red',marker='_')\n",
    "    i_phi_left = i_phi\n",
    "    #print('phileft',i_phi_left)\n",
    "plt.plot(phih_2_2_3xs,Fuu_2_2_3xs,'ro')\n",
    "plt.xlabel('$\\phi_h$',fontsize=16)\n",
    "plt.ylabel('$F_{UU}$',fontsize=16)"
   ]
  },
  {
   "cell_type": "code",
   "execution_count": 49,
   "id": "2b5acef4",
   "metadata": {
    "scrolled": true
   },
   "outputs": [
    {
     "name": "stdout",
     "output_type": "stream",
     "text": [
      "-3.141592653589793 -2.5132741228718345\n",
      "0\n",
      "-2.5132741228718345 -1.8849555921538759\n",
      "1\n",
      "-1.8849555921538759 -1.2566370614359172\n",
      "1\n",
      "-1.2566370614359172 -0.6283185307179586\n",
      "2\n",
      "-0.6283185307179586 0.6283185307179586\n",
      "7\n",
      "0.6283185307179586 1.2566370614359172\n",
      "1\n",
      "1.2566370614359172 1.8849555921538759\n",
      "2\n",
      "1.8849555921538759 2.5132741228718345\n",
      "5\n",
      "2.5132741228718345 3.141592653589793\n",
      "8\n"
     ]
    },
    {
     "name": "stderr",
     "output_type": "stream",
     "text": [
      "/var/folders/ll/8_2_l77j4yl2zjb6stl8d9b00000gn/T/ipykernel_2209/3775627754.py:10: UserWarning: Boolean Series key will be reindexed to match DataFrame index.\n",
      "  phih_2_3s = df_3xs_2_3[df_3xs_2_3['phih']>=i_phi_left][df_3xs_2_3['phih']<i_phi]['phih'].tolist()\n",
      "/var/folders/ll/8_2_l77j4yl2zjb6stl8d9b00000gn/T/ipykernel_2209/3775627754.py:11: UserWarning: Boolean Series key will be reindexed to match DataFrame index.\n",
      "  Fuu_2_3s = df_3xs_2_3[df_3xs_2_3['phih']>=i_phi_left][df_3xs_2_3['phih']<i_phi]['value'].tolist()\n",
      "/var/folders/ll/8_2_l77j4yl2zjb6stl8d9b00000gn/T/ipykernel_2209/3775627754.py:12: UserWarning: Boolean Series key will be reindexed to match DataFrame index.\n",
      "  Fuu_2_3_stats = df_3xs_2_3[df_3xs_2_3['phih']>=i_phi_left][df_3xs_2_3['phih']<i_phi]['stat'].tolist()\n"
     ]
    },
    {
     "data": {
      "text/plain": [
       "Text(0, 0.5, '$F_{UU}$')"
      ]
     },
     "execution_count": 49,
     "metadata": {},
     "output_type": "execute_result"
    },
    {
     "data": {
      "image/png": "[encoded data removed]",
      "text/plain": [
       "<Figure size 432x288 with 1 Axes>"
      ]
     },
     "metadata": {
      "needs_background": "light"
     },
     "output_type": "display_data"
    }
   ],
   "source": [
    "fig = plt.figure()\n",
    "ax = fig.add_subplot()\n",
    "phih_2_3_3xs=[]\n",
    "Fuu_2_3_3xs=[]\n",
    "Fuu_2_3_3xs_stat=[]\n",
    "Fuu_2_3_3xs_sys=[]\n",
    "i_phi_left = phih_bins[0]\n",
    "for i_phi in phih_bins[1:]:\n",
    "    print(i_phi_left,i_phi)\n",
    "    phih_2_3s = df_3xs_2_3[df_3xs_2_3['phih']>=i_phi_left][df_3xs_2_3['phih']<i_phi]['phih'].tolist()\n",
    "    Fuu_2_3s = df_3xs_2_3[df_3xs_2_3['phih']>=i_phi_left][df_3xs_2_3['phih']<i_phi]['value'].tolist()\n",
    "    Fuu_2_3_stats = df_3xs_2_3[df_3xs_2_3['phih']>=i_phi_left][df_3xs_2_3['phih']<i_phi]['stat'].tolist()\n",
    "    print(len(phih_2_3s))\n",
    "    \n",
    "    if len(phih_2_3s)>0:  \n",
    "        #print('phih',phih_2_3s)\n",
    "        #print('Fuu',Fuu_2_3s)\n",
    "        #print('Fuu_stat',Fuu_2_3_stats)\n",
    "        _Fuu_2_3 = Get_weighted_average(Fuu_2_3s,Fuu_2_3_stats)[0]\n",
    "        _Fuu_2_3_stat = Get_weighted_average(Fuu_2_3s,Fuu_2_3_stats)[1]\n",
    "        _phih_2_3= Get_weighted_average(phih_2_3s,Fuu_2_3_stats)[0]\n",
    "        #print('_Fuu_2_3',_Fuu_2_3)\n",
    "        #print('_phih',_phih_2_3)\n",
    "        #print('_Fuu_stat',_Fuu_2_3_stat)\n",
    "        Fuu_2_3_3xs.append(_Fuu_2_3)\n",
    "        phih_2_3_3xs.append(_phih_2_3)\n",
    "        Fuu_2_3_3xs_stat.append(_Fuu_2_3_stat)\n",
    "        Fuu_2_3_3xs_sys.append(0.05*_Fuu_2_3)\n",
    "        #print(Fuu_2_3,phih_2_3)\n",
    "        ax.plot([_phih_2_3,_phih_2_3],[_Fuu_2_3-_Fuu_2_3_stat,_Fuu_2_3+_Fuu_2_3_stat],color='red',marker='_')\n",
    "    i_phi_left = i_phi\n",
    "    #print('phileft',i_phi_left)\n",
    "plt.plot(phih_2_3_3xs,Fuu_2_3_3xs,'ro')\n",
    "plt.xlabel('$\\phi_h$',fontsize=16)\n",
    "plt.ylabel('$F_{UU}$',fontsize=16)"
   ]
  },
  {
   "cell_type": "code",
   "execution_count": 50,
   "id": "9a9e8d59",
   "metadata": {
    "scrolled": true
   },
   "outputs": [
    {
     "name": "stdout",
     "output_type": "stream",
     "text": [
      "-3.141592653589793 -2.5132741228718345\n",
      "0\n",
      "-2.5132741228718345 -1.8849555921538759\n",
      "4\n",
      "-1.8849555921538759 -1.2566370614359172\n",
      "3\n",
      "-1.2566370614359172 -0.6283185307179586\n",
      "3\n",
      "-0.6283185307179586 0.6283185307179586\n",
      "9\n",
      "0.6283185307179586 1.2566370614359172\n",
      "3\n",
      "1.2566370614359172 1.8849555921538759\n",
      "4\n",
      "1.8849555921538759 2.5132741228718345\n",
      "3\n",
      "2.5132741228718345 3.141592653589793\n",
      "4\n"
     ]
    },
    {
     "name": "stderr",
     "output_type": "stream",
     "text": [
      "/var/folders/ll/8_2_l77j4yl2zjb6stl8d9b00000gn/T/ipykernel_2209/2398233142.py:10: UserWarning: Boolean Series key will be reindexed to match DataFrame index.\n",
      "  phih_3_1s = df_3xs_3_1[df_3xs_3_1['phih']>=i_phi_left][df_3xs_3_1['phih']<i_phi]['phih'].tolist()\n",
      "/var/folders/ll/8_2_l77j4yl2zjb6stl8d9b00000gn/T/ipykernel_2209/2398233142.py:11: UserWarning: Boolean Series key will be reindexed to match DataFrame index.\n",
      "  Fuu_3_1s = df_3xs_3_1[df_3xs_3_1['phih']>=i_phi_left][df_3xs_3_1['phih']<i_phi]['value'].tolist()\n",
      "/var/folders/ll/8_2_l77j4yl2zjb6stl8d9b00000gn/T/ipykernel_2209/2398233142.py:12: UserWarning: Boolean Series key will be reindexed to match DataFrame index.\n",
      "  Fuu_3_1_stats = df_3xs_3_1[df_3xs_3_1['phih']>=i_phi_left][df_3xs_3_1['phih']<i_phi]['stat'].tolist()\n"
     ]
    },
    {
     "data": {
      "text/plain": [
       "Text(0, 0.5, '$F_{UU}$')"
      ]
     },
     "execution_count": 50,
     "metadata": {},
     "output_type": "execute_result"
    },
    {
     "data": {
      "image/png": "[encoded data removed]",
      "text/plain": [
       "<Figure size 432x288 with 1 Axes>"
      ]
     },
     "metadata": {
      "needs_background": "light"
     },
     "output_type": "display_data"
    }
   ],
   "source": [
    "fig = plt.figure()\n",
    "ax = fig.add_subplot()\n",
    "phih_3_1_3xs=[]\n",
    "Fuu_3_1_3xs=[]\n",
    "Fuu_3_1_3xs_stat=[]\n",
    "Fuu_3_1_3xs_sys=[]\n",
    "i_phi_left = phih_bins[0]\n",
    "for i_phi in phih_bins[1:]:\n",
    "    print(i_phi_left,i_phi)\n",
    "    phih_3_1s = df_3xs_3_1[df_3xs_3_1['phih']>=i_phi_left][df_3xs_3_1['phih']<i_phi]['phih'].tolist()\n",
    "    Fuu_3_1s = df_3xs_3_1[df_3xs_3_1['phih']>=i_phi_left][df_3xs_3_1['phih']<i_phi]['value'].tolist()\n",
    "    Fuu_3_1_stats = df_3xs_3_1[df_3xs_3_1['phih']>=i_phi_left][df_3xs_3_1['phih']<i_phi]['stat'].tolist()\n",
    "    print(len(phih_3_1s))\n",
    "    \n",
    "    if len(phih_3_1s)>0:  \n",
    "        #print('phih',phih_3_1s)\n",
    "        #print('Fuu',Fuu_3_1s)\n",
    "        #print('Fuu_stat',Fuu_3_1_stats)\n",
    "        _Fuu_3_1 = Get_weighted_average(Fuu_3_1s,Fuu_3_1_stats)[0]\n",
    "        _Fuu_3_1_stat = Get_weighted_average(Fuu_3_1s,Fuu_3_1_stats)[1]\n",
    "        _phih_3_1= Get_weighted_average(phih_3_1s,Fuu_3_1_stats)[0]\n",
    "        #print('_Fuu_3_1',_Fuu_3_1)\n",
    "        #print('_phih',_phih_3_1)\n",
    "        #print('_Fuu_stat',_Fuu_3_1_stat)\n",
    "        Fuu_3_1_3xs.append(_Fuu_3_1)\n",
    "        phih_3_1_3xs.append(_phih_3_1)\n",
    "        Fuu_3_1_3xs_stat.append(_Fuu_3_1_stat)\n",
    "        Fuu_3_1_3xs_sys.append(0.05*_Fuu_3_1)\n",
    "        #print(Fuu_3_1,phih_3_1)\n",
    "        ax.plot([_phih_3_1,_phih_3_1],[_Fuu_3_1-_Fuu_3_1_stat,_Fuu_3_1+_Fuu_3_1_stat],color='red',marker='_')\n",
    "    i_phi_left = i_phi\n",
    "    #print('phileft',i_phi_left)\n",
    "plt.plot(phih_3_1_3xs,Fuu_3_1_3xs,'ro')\n",
    "plt.xlabel('$\\phi_h$',fontsize=16)\n",
    "plt.ylabel('$F_{UU}$',fontsize=16)"
   ]
  },
  {
   "cell_type": "code",
   "execution_count": 51,
   "id": "c9d33e86",
   "metadata": {
    "scrolled": true
   },
   "outputs": [
    {
     "name": "stdout",
     "output_type": "stream",
     "text": [
      "-3.141592653589793 -2.5132741228718345\n",
      "0\n",
      "-2.5132741228718345 -1.8849555921538759\n",
      "1\n",
      "-1.8849555921538759 -1.2566370614359172\n",
      "2\n",
      "-1.2566370614359172 -0.6283185307179586\n",
      "2\n",
      "-0.6283185307179586 0.6283185307179586\n",
      "6\n",
      "0.6283185307179586 1.2566370614359172\n",
      "1\n",
      "1.2566370614359172 1.8849555921538759\n",
      "2\n",
      "1.8849555921538759 2.5132741228718345\n",
      "4\n",
      "2.5132741228718345 3.141592653589793\n",
      "4\n"
     ]
    },
    {
     "name": "stderr",
     "output_type": "stream",
     "text": [
      "/var/folders/ll/8_2_l77j4yl2zjb6stl8d9b00000gn/T/ipykernel_2209/2864230515.py:10: UserWarning: Boolean Series key will be reindexed to match DataFrame index.\n",
      "  phih_3_2s = df_3xs_3_2[df_3xs_3_2['phih']>=i_phi_left][df_3xs_3_2['phih']<i_phi]['phih'].tolist()\n",
      "/var/folders/ll/8_2_l77j4yl2zjb6stl8d9b00000gn/T/ipykernel_2209/2864230515.py:11: UserWarning: Boolean Series key will be reindexed to match DataFrame index.\n",
      "  Fuu_3_2s = df_3xs_3_2[df_3xs_3_2['phih']>=i_phi_left][df_3xs_3_2['phih']<i_phi]['value'].tolist()\n",
      "/var/folders/ll/8_2_l77j4yl2zjb6stl8d9b00000gn/T/ipykernel_2209/2864230515.py:12: UserWarning: Boolean Series key will be reindexed to match DataFrame index.\n",
      "  Fuu_3_2_stats = df_3xs_3_2[df_3xs_3_2['phih']>=i_phi_left][df_3xs_3_2['phih']<i_phi]['stat'].tolist()\n"
     ]
    },
    {
     "data": {
      "text/plain": [
       "Text(0, 0.5, '$F_{UU}$')"
      ]
     },
     "execution_count": 51,
     "metadata": {},
     "output_type": "execute_result"
    },
    {
     "data": {
      "image/png": "[encoded data removed]",
      "text/plain": [
       "<Figure size 432x288 with 1 Axes>"
      ]
     },
     "metadata": {
      "needs_background": "light"
     },
     "output_type": "display_data"
    }
   ],
   "source": [
    "fig = plt.figure()\n",
    "ax = fig.add_subplot()\n",
    "phih_3_2_3xs=[]\n",
    "Fuu_3_2_3xs=[]\n",
    "Fuu_3_2_3xs_stat=[]\n",
    "Fuu_3_2_3xs_sys=[]\n",
    "i_phi_left = phih_bins[0]\n",
    "for i_phi in phih_bins[1:]:\n",
    "    print(i_phi_left,i_phi)\n",
    "    phih_3_2s = df_3xs_3_2[df_3xs_3_2['phih']>=i_phi_left][df_3xs_3_2['phih']<i_phi]['phih'].tolist()\n",
    "    Fuu_3_2s = df_3xs_3_2[df_3xs_3_2['phih']>=i_phi_left][df_3xs_3_2['phih']<i_phi]['value'].tolist()\n",
    "    Fuu_3_2_stats = df_3xs_3_2[df_3xs_3_2['phih']>=i_phi_left][df_3xs_3_2['phih']<i_phi]['stat'].tolist()\n",
    "    print(len(phih_3_2s))\n",
    "    \n",
    "    if len(phih_3_2s)>0:  \n",
    "        #print('phih',phih_3_2s)\n",
    "        #print('Fuu',Fuu_3_2s)\n",
    "        #print('Fuu_stat',Fuu_3_2_stats)\n",
    "        _Fuu_3_2 = Get_weighted_average(Fuu_3_2s,Fuu_3_2_stats)[0]\n",
    "        _Fuu_3_2_stat = Get_weighted_average(Fuu_3_2s,Fuu_3_2_stats)[1]\n",
    "        _phih_3_2= Get_weighted_average(phih_3_2s,Fuu_3_2_stats)[0]\n",
    "        #print('_Fuu_3_2',_Fuu_3_2)\n",
    "        #print('_phih',_phih_3_2)\n",
    "        #print('_Fuu_stat',_Fuu_3_2_stat)\n",
    "        Fuu_3_2_3xs.append(_Fuu_3_2)\n",
    "        phih_3_2_3xs.append(_phih_3_2)\n",
    "        Fuu_3_2_3xs_stat.append(_Fuu_3_2_stat)\n",
    "        Fuu_3_2_3xs_sys.append(0.05*_Fuu_3_2)\n",
    "        #print(Fuu_3_2,phih_3_2)\n",
    "        ax.plot([_phih_3_2,_phih_3_2],[_Fuu_3_2-_Fuu_3_2_stat,_Fuu_3_2+_Fuu_3_2_stat],color='red',marker='_')\n",
    "    i_phi_left = i_phi\n",
    "    #print('phileft',i_phi_left)\n",
    "plt.plot(phih_3_2_3xs,Fuu_3_2_3xs,'ro')\n",
    "plt.xlabel('$\\phi_h$',fontsize=16)\n",
    "plt.ylabel('$F_{UU}$',fontsize=16)"
   ]
  },
  {
   "cell_type": "code",
   "execution_count": 52,
   "id": "efaa599c",
   "metadata": {
    "scrolled": true
   },
   "outputs": [
    {
     "name": "stdout",
     "output_type": "stream",
     "text": [
      "-3.141592653589793 -2.5132741228718345\n",
      "0\n",
      "-2.5132741228718345 -1.8849555921538759\n",
      "0\n",
      "-1.8849555921538759 -1.2566370614359172\n",
      "1\n",
      "-1.2566370614359172 -0.6283185307179586\n",
      "1\n",
      "-0.6283185307179586 0.6283185307179586\n",
      "4\n",
      "0.6283185307179586 1.2566370614359172\n",
      "1\n",
      "1.2566370614359172 1.8849555921538759\n",
      "1\n",
      "1.8849555921538759 2.5132741228718345\n",
      "2\n",
      "2.5132741228718345 3.141592653589793\n",
      "4\n"
     ]
    },
    {
     "name": "stderr",
     "output_type": "stream",
     "text": [
      "/var/folders/ll/8_2_l77j4yl2zjb6stl8d9b00000gn/T/ipykernel_2209/2223155627.py:10: UserWarning: Boolean Series key will be reindexed to match DataFrame index.\n",
      "  phih_3_3s = df_3xs_3_3[df_3xs_3_3['phih']>=i_phi_left][df_3xs_3_3['phih']<i_phi]['phih'].tolist()\n",
      "/var/folders/ll/8_2_l77j4yl2zjb6stl8d9b00000gn/T/ipykernel_2209/2223155627.py:11: UserWarning: Boolean Series key will be reindexed to match DataFrame index.\n",
      "  Fuu_3_3s = df_3xs_3_3[df_3xs_3_3['phih']>=i_phi_left][df_3xs_3_3['phih']<i_phi]['value'].tolist()\n",
      "/var/folders/ll/8_2_l77j4yl2zjb6stl8d9b00000gn/T/ipykernel_2209/2223155627.py:12: UserWarning: Boolean Series key will be reindexed to match DataFrame index.\n",
      "  Fuu_3_3_stats = df_3xs_3_3[df_3xs_3_3['phih']>=i_phi_left][df_3xs_3_3['phih']<i_phi]['stat'].tolist()\n"
     ]
    },
    {
     "data": {
      "text/plain": [
       "Text(0, 0.5, '$F_{UU}$')"
      ]
     },
     "execution_count": 52,
     "metadata": {},
     "output_type": "execute_result"
    },
    {
     "data": {
      "image/png": "[encoded data removed]",
      "text/plain": [
       "<Figure size 432x288 with 1 Axes>"
      ]
     },
     "metadata": {
      "needs_background": "light"
     },
     "output_type": "display_data"
    }
   ],
   "source": [
    "fig = plt.figure()\n",
    "ax = fig.add_subplot()\n",
    "phih_3_3_3xs=[]\n",
    "Fuu_3_3_3xs=[]\n",
    "Fuu_3_3_3xs_stat=[]\n",
    "Fuu_3_3_3xs_sys=[]\n",
    "i_phi_left = phih_bins[0]\n",
    "for i_phi in phih_bins[1:]:\n",
    "    print(i_phi_left,i_phi)\n",
    "    phih_3_3s = df_3xs_3_3[df_3xs_3_3['phih']>=i_phi_left][df_3xs_3_3['phih']<i_phi]['phih'].tolist()\n",
    "    Fuu_3_3s = df_3xs_3_3[df_3xs_3_3['phih']>=i_phi_left][df_3xs_3_3['phih']<i_phi]['value'].tolist()\n",
    "    Fuu_3_3_stats = df_3xs_3_3[df_3xs_3_3['phih']>=i_phi_left][df_3xs_3_3['phih']<i_phi]['stat'].tolist()\n",
    "    print(len(phih_3_3s))\n",
    "    \n",
    "    if len(phih_3_3s)>0:  \n",
    "        #print('phih',phih_3_3s)\n",
    "        #print('Fuu',Fuu_3_3s)\n",
    "        #print('Fuu_stat',Fuu_3_3_stats)\n",
    "        _Fuu_3_3 = Get_weighted_average(Fuu_3_3s,Fuu_3_3_stats)[0]\n",
    "        _Fuu_3_3_stat = Get_weighted_average(Fuu_3_3s,Fuu_3_3_stats)[1]\n",
    "        _phih_3_3= Get_weighted_average(phih_3_3s,Fuu_3_3_stats)[0]\n",
    "        #print('_Fuu_3_3',_Fuu_3_3)\n",
    "        #print('_phih',_phih_3_3)\n",
    "        #print('_Fuu_stat',_Fuu_3_3_stat)\n",
    "        Fuu_3_3_3xs.append(_Fuu_3_3)\n",
    "        phih_3_3_3xs.append(_phih_3_3)\n",
    "        Fuu_3_3_3xs_stat.append(_Fuu_3_3_stat)\n",
    "        Fuu_3_3_3xs_sys.append(0.05*_Fuu_3_3)\n",
    "        #print(Fuu_3_3,phih_3_3)\n",
    "        ax.plot([_phih_3_3,_phih_3_3],[_Fuu_3_3-_Fuu_3_3_stat,_Fuu_3_3+_Fuu_3_3_stat],color='red',marker='_')\n",
    "    i_phi_left = i_phi\n",
    "    #print('phileft',i_phi_left)\n",
    "plt.plot(phih_3_3_3xs,Fuu_3_3_3xs,'ro')\n",
    "plt.xlabel('$\\phi_h$',fontsize=16)\n",
    "plt.ylabel('$F_{UU}$',fontsize=16)"
   ]
  },
  {
   "cell_type": "code",
   "execution_count": 53,
   "id": "2f076b37",
   "metadata": {
    "scrolled": true
   },
   "outputs": [
    {
     "name": "stdout",
     "output_type": "stream",
     "text": [
      "-3.141592653589793 -2.5132741228718345\n",
      "0\n",
      "-2.5132741228718345 -1.8849555921538759\n",
      "4\n",
      "-1.8849555921538759 -1.2566370614359172\n",
      "1\n",
      "-1.2566370614359172 -0.6283185307179586\n",
      "1\n",
      "-0.6283185307179586 0.6283185307179586\n",
      "6\n",
      "0.6283185307179586 1.2566370614359172\n",
      "2\n",
      "1.2566370614359172 1.8849555921538759\n",
      "2\n",
      "1.8849555921538759 2.5132741228718345\n",
      "4\n",
      "2.5132741228718345 3.141592653589793\n",
      "4\n"
     ]
    },
    {
     "name": "stderr",
     "output_type": "stream",
     "text": [
      "/var/folders/ll/8_2_l77j4yl2zjb6stl8d9b00000gn/T/ipykernel_2209/1273165711.py:10: UserWarning: Boolean Series key will be reindexed to match DataFrame index.\n",
      "  phih_4_1s = df_3xs_4_1[df_3xs_4_1['phih']>=i_phi_left][df_3xs_4_1['phih']<i_phi]['phih'].tolist()\n",
      "/var/folders/ll/8_2_l77j4yl2zjb6stl8d9b00000gn/T/ipykernel_2209/1273165711.py:11: UserWarning: Boolean Series key will be reindexed to match DataFrame index.\n",
      "  Fuu_4_1s = df_3xs_4_1[df_3xs_4_1['phih']>=i_phi_left][df_3xs_4_1['phih']<i_phi]['value'].tolist()\n",
      "/var/folders/ll/8_2_l77j4yl2zjb6stl8d9b00000gn/T/ipykernel_2209/1273165711.py:12: UserWarning: Boolean Series key will be reindexed to match DataFrame index.\n",
      "  Fuu_4_1_stats = df_3xs_4_1[df_3xs_4_1['phih']>=i_phi_left][df_3xs_4_1['phih']<i_phi]['stat'].tolist()\n"
     ]
    },
    {
     "data": {
      "text/plain": [
       "Text(0, 0.5, '$F_{UU}$')"
      ]
     },
     "execution_count": 53,
     "metadata": {},
     "output_type": "execute_result"
    },
    {
     "data": {
      "image/png": "[encoded data removed]",
      "text/plain": [
       "<Figure size 432x288 with 1 Axes>"
      ]
     },
     "metadata": {
      "needs_background": "light"
     },
     "output_type": "display_data"
    }
   ],
   "source": [
    "fig = plt.figure()\n",
    "ax = fig.add_subplot()\n",
    "phih_4_1_3xs=[]\n",
    "Fuu_4_1_3xs=[]\n",
    "Fuu_4_1_3xs_stat=[]\n",
    "Fuu_4_1_3xs_sys=[]\n",
    "i_phi_left = phih_bins[0]\n",
    "for i_phi in phih_bins[1:]:\n",
    "    print(i_phi_left,i_phi)\n",
    "    phih_4_1s = df_3xs_4_1[df_3xs_4_1['phih']>=i_phi_left][df_3xs_4_1['phih']<i_phi]['phih'].tolist()\n",
    "    Fuu_4_1s = df_3xs_4_1[df_3xs_4_1['phih']>=i_phi_left][df_3xs_4_1['phih']<i_phi]['value'].tolist()\n",
    "    Fuu_4_1_stats = df_3xs_4_1[df_3xs_4_1['phih']>=i_phi_left][df_3xs_4_1['phih']<i_phi]['stat'].tolist()\n",
    "    print(len(phih_4_1s))\n",
    "    \n",
    "    if len(phih_4_1s)>0:  \n",
    "        #print('phih',phih_4_1s)\n",
    "        #print('Fuu',Fuu_4_1s)\n",
    "        #print('Fuu_stat',Fuu_4_1_stats)\n",
    "        _Fuu_4_1 = Get_weighted_average(Fuu_4_1s,Fuu_4_1_stats)[0]\n",
    "        _Fuu_4_1_stat = Get_weighted_average(Fuu_4_1s,Fuu_4_1_stats)[1]\n",
    "        _phih_4_1= Get_weighted_average(phih_4_1s,Fuu_4_1_stats)[0]\n",
    "        #print('_Fuu_4_1',_Fuu_4_1)\n",
    "        #print('_phih',_phih_4_1)\n",
    "        #print('_Fuu_stat',_Fuu_4_1_stat)\n",
    "        Fuu_4_1_3xs.append(_Fuu_4_1)\n",
    "        phih_4_1_3xs.append(_phih_4_1)\n",
    "        Fuu_4_1_3xs_stat.append(_Fuu_4_1_stat)\n",
    "        Fuu_4_1_3xs_sys.append(0.05*_Fuu_4_1)\n",
    "        #print(Fuu_4_1,phih_4_1)\n",
    "        ax.plot([_phih_4_1,_phih_4_1],[_Fuu_4_1-_Fuu_4_1_stat,_Fuu_4_1+_Fuu_4_1_stat],color='red',marker='_')\n",
    "    i_phi_left = i_phi\n",
    "    #print('phileft',i_phi_left)\n",
    "plt.plot(phih_4_1_3xs,Fuu_4_1_3xs,'ro')\n",
    "plt.xlabel('$\\phi_h$',fontsize=16)\n",
    "plt.ylabel('$F_{UU}$',fontsize=16)"
   ]
  },
  {
   "cell_type": "code",
   "execution_count": 54,
   "id": "f7840b73",
   "metadata": {},
   "outputs": [
    {
     "name": "stdout",
     "output_type": "stream",
     "text": [
      "-3.141592653589793 -2.5132741228718345\n",
      "0\n",
      "-2.5132741228718345 -1.8849555921538759\n",
      "1\n",
      "-1.8849555921538759 -1.2566370614359172\n",
      "2\n",
      "-1.2566370614359172 -0.6283185307179586\n",
      "0\n",
      "-0.6283185307179586 0.6283185307179586\n",
      "4\n",
      "0.6283185307179586 1.2566370614359172\n",
      "2\n",
      "1.2566370614359172 1.8849555921538759\n",
      "0\n",
      "1.8849555921538759 2.5132741228718345\n",
      "3\n",
      "2.5132741228718345 3.141592653589793\n",
      "4\n"
     ]
    },
    {
     "name": "stderr",
     "output_type": "stream",
     "text": [
      "/var/folders/ll/8_2_l77j4yl2zjb6stl8d9b00000gn/T/ipykernel_2209/2891966366.py:10: UserWarning: Boolean Series key will be reindexed to match DataFrame index.\n",
      "  phih_4_2s = df_3xs_4_2[df_3xs_4_2['phih']>=i_phi_left][df_3xs_4_2['phih']<i_phi]['phih'].tolist()\n",
      "/var/folders/ll/8_2_l77j4yl2zjb6stl8d9b00000gn/T/ipykernel_2209/2891966366.py:11: UserWarning: Boolean Series key will be reindexed to match DataFrame index.\n",
      "  Fuu_4_2s = df_3xs_4_2[df_3xs_4_2['phih']>=i_phi_left][df_3xs_4_2['phih']<i_phi]['value'].tolist()\n",
      "/var/folders/ll/8_2_l77j4yl2zjb6stl8d9b00000gn/T/ipykernel_2209/2891966366.py:12: UserWarning: Boolean Series key will be reindexed to match DataFrame index.\n",
      "  Fuu_4_2_stats = df_3xs_4_2[df_3xs_4_2['phih']>=i_phi_left][df_3xs_4_2['phih']<i_phi]['stat'].tolist()\n"
     ]
    },
    {
     "data": {
      "text/plain": [
       "Text(0, 0.5, '$F_{UU}$')"
      ]
     },
     "execution_count": 54,
     "metadata": {},
     "output_type": "execute_result"
    },
    {
     "data": {
      "image/png": "[encoded data removed]",
      "text/plain": [
       "<Figure size 432x288 with 1 Axes>"
      ]
     },
     "metadata": {
      "needs_background": "light"
     },
     "output_type": "display_data"
    }
   ],
   "source": [
    "fig = plt.figure()\n",
    "ax = fig.add_subplot()\n",
    "phih_4_2_3xs=[]\n",
    "Fuu_4_2_3xs=[]\n",
    "Fuu_4_2_3xs_stat=[]\n",
    "Fuu_4_2_3xs_sys=[]\n",
    "i_phi_left = phih_bins[0]\n",
    "for i_phi in phih_bins[1:]:\n",
    "    print(i_phi_left,i_phi)\n",
    "    phih_4_2s = df_3xs_4_2[df_3xs_4_2['phih']>=i_phi_left][df_3xs_4_2['phih']<i_phi]['phih'].tolist()\n",
    "    Fuu_4_2s = df_3xs_4_2[df_3xs_4_2['phih']>=i_phi_left][df_3xs_4_2['phih']<i_phi]['value'].tolist()\n",
    "    Fuu_4_2_stats = df_3xs_4_2[df_3xs_4_2['phih']>=i_phi_left][df_3xs_4_2['phih']<i_phi]['stat'].tolist()\n",
    "    print(len(phih_4_2s))\n",
    "    \n",
    "    if len(phih_4_2s)>0:  \n",
    "        #print('phih',phih_4_2s)\n",
    "        #print('Fuu',Fuu_4_2s)\n",
    "        #print('Fuu_stat',Fuu_4_2_stats)\n",
    "        _Fuu_4_2 = Get_weighted_average(Fuu_4_2s,Fuu_4_2_stats)[0]\n",
    "        _Fuu_4_2_stat = Get_weighted_average(Fuu_4_2s,Fuu_4_2_stats)[1]\n",
    "        _phih_4_2= Get_weighted_average(phih_4_2s,Fuu_4_2_stats)[0]\n",
    "        #print('_Fuu_4_2',_Fuu_4_2)\n",
    "        #print('_phih',_phih_4_2)\n",
    "        #print('_Fuu_stat',_Fuu_4_2_stat)\n",
    "        Fuu_4_2_3xs.append(_Fuu_4_2)\n",
    "        phih_4_2_3xs.append(_phih_4_2)\n",
    "        Fuu_4_2_3xs_stat.append(_Fuu_4_2_stat)\n",
    "        Fuu_4_2_3xs_sys.append(0.05*_Fuu_4_2)\n",
    "        #print(Fuu_4_2,phih_4_2)\n",
    "        ax.plot([_phih_4_2,_phih_4_2],[_Fuu_4_2-_Fuu_4_2_stat,_Fuu_4_2+_Fuu_4_2_stat],color='red',marker='_')\n",
    "    i_phi_left = i_phi\n",
    "    #print('phileft',i_phi_left)\n",
    "plt.plot(phih_4_2_3xs,Fuu_4_2_3xs,'ro')\n",
    "plt.xlabel('$\\phi_h$',fontsize=16)\n",
    "plt.ylabel('$F_{UU}$',fontsize=16)"
   ]
  },
  {
   "cell_type": "code",
   "execution_count": 55,
   "id": "6f492a96",
   "metadata": {
    "scrolled": true
   },
   "outputs": [
    {
     "name": "stdout",
     "output_type": "stream",
     "text": [
      "-3.141592653589793 -2.5132741228718345\n",
      "0\n",
      "-2.5132741228718345 -1.8849555921538759\n",
      "0\n",
      "-1.8849555921538759 -1.2566370614359172\n",
      "0\n",
      "-1.2566370614359172 -0.6283185307179586\n",
      "1\n",
      "-0.6283185307179586 0.6283185307179586\n",
      "4\n",
      "0.6283185307179586 1.2566370614359172\n",
      "0\n",
      "1.2566370614359172 1.8849555921538759\n",
      "0\n",
      "1.8849555921538759 2.5132741228718345\n",
      "2\n",
      "2.5132741228718345 3.141592653589793\n",
      "4\n"
     ]
    },
    {
     "name": "stderr",
     "output_type": "stream",
     "text": [
      "/var/folders/ll/8_2_l77j4yl2zjb6stl8d9b00000gn/T/ipykernel_2209/4210124316.py:10: UserWarning: Boolean Series key will be reindexed to match DataFrame index.\n",
      "  phih_4_3s = df_3xs_4_3[df_3xs_4_3['phih']>=i_phi_left][df_3xs_4_3['phih']<i_phi]['phih'].tolist()\n",
      "/var/folders/ll/8_2_l77j4yl2zjb6stl8d9b00000gn/T/ipykernel_2209/4210124316.py:11: UserWarning: Boolean Series key will be reindexed to match DataFrame index.\n",
      "  Fuu_4_3s = df_3xs_4_3[df_3xs_4_3['phih']>=i_phi_left][df_3xs_4_3['phih']<i_phi]['value'].tolist()\n",
      "/var/folders/ll/8_2_l77j4yl2zjb6stl8d9b00000gn/T/ipykernel_2209/4210124316.py:12: UserWarning: Boolean Series key will be reindexed to match DataFrame index.\n",
      "  Fuu_4_3_stats = df_3xs_4_3[df_3xs_4_3['phih']>=i_phi_left][df_3xs_4_3['phih']<i_phi]['stat'].tolist()\n"
     ]
    },
    {
     "data": {
      "text/plain": [
       "Text(0, 0.5, '$F_{UU}$')"
      ]
     },
     "execution_count": 55,
     "metadata": {},
     "output_type": "execute_result"
    },
    {
     "data": {
      "image/png": "[encoded data removed]",
      "text/plain": [
       "<Figure size 432x288 with 1 Axes>"
      ]
     },
     "metadata": {
      "needs_background": "light"
     },
     "output_type": "display_data"
    }
   ],
   "source": [
    "fig = plt.figure()\n",
    "ax = fig.add_subplot()\n",
    "phih_4_3_3xs=[]\n",
    "Fuu_4_3_3xs=[]\n",
    "Fuu_4_3_3xs_stat=[]\n",
    "Fuu_4_3_3xs_sys=[]\n",
    "i_phi_left = phih_bins[0]\n",
    "for i_phi in phih_bins[1:]:\n",
    "    print(i_phi_left,i_phi)\n",
    "    phih_4_3s = df_3xs_4_3[df_3xs_4_3['phih']>=i_phi_left][df_3xs_4_3['phih']<i_phi]['phih'].tolist()\n",
    "    Fuu_4_3s = df_3xs_4_3[df_3xs_4_3['phih']>=i_phi_left][df_3xs_4_3['phih']<i_phi]['value'].tolist()\n",
    "    Fuu_4_3_stats = df_3xs_4_3[df_3xs_4_3['phih']>=i_phi_left][df_3xs_4_3['phih']<i_phi]['stat'].tolist()\n",
    "    print(len(phih_4_3s))\n",
    "    \n",
    "    if len(phih_4_3s)>0:  \n",
    "        #print('phih',phih_4_3s)\n",
    "        #print('Fuu',Fuu_4_3s)\n",
    "        #print('Fuu_stat',Fuu_4_3_stats)\n",
    "        _Fuu_4_3 = Get_weighted_average(Fuu_4_3s,Fuu_4_3_stats)[0]\n",
    "        _Fuu_4_3_stat = Get_weighted_average(Fuu_4_3s,Fuu_4_3_stats)[1]\n",
    "        _phih_4_3= Get_weighted_average(phih_4_3s,Fuu_4_3_stats)[0]\n",
    "        #print('_Fuu_4_3',_Fuu_4_3)\n",
    "        #print('_phih',_phih_4_3)\n",
    "        #print('_Fuu_stat',_Fuu_4_3_stat)\n",
    "        Fuu_4_3_3xs.append(_Fuu_4_3)\n",
    "        phih_4_3_3xs.append(_phih_4_3)\n",
    "        Fuu_4_3_3xs_stat.append(_Fuu_4_3_stat)\n",
    "        Fuu_4_3_3xs_sys.append(0.05*_Fuu_4_3)\n",
    "        #print(Fuu_4_3,phih_4_3)\n",
    "        ax.plot([_phih_4_3,_phih_4_3],[_Fuu_4_3-_Fuu_4_3_stat,_Fuu_4_3+_Fuu_4_3_stat],color='red',marker='_')\n",
    "    i_phi_left = i_phi\n",
    "    #print('phileft',i_phi_left)\n",
    "plt.plot(phih_4_3_3xs,Fuu_4_3_3xs,'ro')\n",
    "plt.xlabel('$\\phi_h$',fontsize=16)\n",
    "plt.ylabel('$F_{UU}$',fontsize=16)"
   ]
  },
  {
   "cell_type": "code",
   "execution_count": 56,
   "id": "8f9bc060",
   "metadata": {
    "scrolled": true
   },
   "outputs": [
    {
     "data": {
      "image/png": "[encoded data removed]",
      "text/plain": [
       "<Figure size 720x576 with 12 Axes>"
      ]
     },
     "metadata": {
      "needs_background": "light"
     },
     "output_type": "display_data"
    }
   ],
   "source": [
    "fig, axs = plt.subplots(4,3,figsize=(10,8),sharey=True)\n",
    "fig.subplots_adjust(hspace=0)\n",
    "fig.subplots_adjust(wspace=0)\n",
    "plt.ylim(0.0002,0.99)\n",
    "plt.yscale('log')\n",
    "plt.xlabel('$\\phi_h(rad)$',fontsize=16)\n",
    "\n",
    "for i_1_1 in range(0,len(phih_1_1)):\n",
    "    _phih_1_1 = phih_1_1[i_1_1]\n",
    "    _Fuu_1_1 = Fuu_1_1[i_1_1]\n",
    "    _Fuu_1_1_stat = Fuu_1_1_stat[i_1_1]\n",
    "    axs[0][0].plot([_phih_1_1,_phih_1_1],[_Fuu_1_1-_Fuu_1_1_stat,_Fuu_1_1+_Fuu_1_1_stat],color='blue',marker='_')\n",
    "axs[0][0].plot(phih_1_1,Fuu_1_1,'bo')\n",
    "axs[0][0].fill_between(phih_1_1,np.asarray(0),np.asarray(0)+np.asarray(Fuu_1_1_sys),color='blue',hatch='\\\\\\\\\\\\\\\\',alpha=0.25,linewidth=0)\n",
    "axs[0][0].set_ylabel('$F_{UU}$',fontsize=16)\n",
    "for i_1_1_3xs in range(0,len(phih_1_1_3xs)):\n",
    "    _phih_1_1 = phih_1_1_3xs[i_1_1_3xs]\n",
    "    _Fuu_1_1 = Fuu_1_1_3xs[i_1_1_3xs]\n",
    "    _Fuu_1_1_stat = Fuu_1_1_3xs_stat[i_1_1_3xs]\n",
    "    axs[0][0].plot([_phih_1_1,_phih_1_1],[_Fuu_1_1-_Fuu_1_1_stat,_Fuu_1_1+_Fuu_1_1_stat],color='red',marker='_')\n",
    "axs[0][0].plot(phih_1_1_3xs,Fuu_1_1_3xs,'ro')\n",
    "axs[0][0].fill_between(phih_1_1_3xs,np.asarray(0),np.asarray(0)+np.asarray(Fuu_1_1_3xs_sys),color='red',hatch='\\\\\\\\\\\\\\\\',alpha=0.25,linewidth=0)\n",
    "for i_1_2 in range(0,len(phih_1_2)):\n",
    "    _phih_1_2 = phih_1_2[i_1_2]\n",
    "    _Fuu_1_2 = Fuu_1_2[i_1_2]\n",
    "    _Fuu_1_2_stat = Fuu_1_2_stat[i_1_2]\n",
    "    axs[0][1].plot([_phih_1_2,_phih_1_2],[_Fuu_1_2-_Fuu_1_2_stat,_Fuu_1_2+_Fuu_1_2_stat],color='blue',marker='_')\n",
    "axs[0][1].plot(phih_1_2,Fuu_1_2,'bo')\n",
    "axs[0][1].fill_between(phih_1_2,np.asarray(0),np.asarray(0)+np.asarray(Fuu_1_2_sys),color='blue',hatch='\\\\\\\\\\\\\\\\',alpha=0.25,linewidth=0)\n",
    "for i_1_2_3xs in range(0,len(phih_1_2_3xs)):\n",
    "    _phih_1_2 = phih_1_2_3xs[i_1_2_3xs]\n",
    "    _Fuu_1_2 = Fuu_1_2_3xs[i_1_2_3xs]\n",
    "    _Fuu_1_2_stat = Fuu_1_2_3xs_stat[i_1_2_3xs]\n",
    "    axs[0][1].plot([_phih_1_2,_phih_1_2],[_Fuu_1_2-_Fuu_1_2_stat,_Fuu_1_2+_Fuu_1_2_stat],color='red',marker='_')\n",
    "axs[0][1].plot(phih_1_2_3xs,Fuu_1_2_3xs,'ro')\n",
    "axs[0][1].fill_between(phih_1_2_3xs,np.asarray(0),np.asarray(0)+np.asarray(Fuu_1_2_3xs_sys),color='red',hatch='\\\\\\\\\\\\\\\\',alpha=0.25,linewidth=0)\n",
    "for i_1_3 in range(0,len(phih_1_3)):\n",
    "    _phih_1_3 = phih_1_3[i_1_3]\n",
    "    _Fuu_1_3 = Fuu_1_3[i_1_3]\n",
    "    _Fuu_1_3_stat = Fuu_1_3_stat[i_1_3]\n",
    "    axs[0][2].plot([_phih_1_3,_phih_1_3],[_Fuu_1_3-_Fuu_1_3_stat,_Fuu_1_3+_Fuu_1_3_stat],color='blue',marker='_')\n",
    "axs[0][2].plot(phih_1_3,Fuu_1_3,'bo')\n",
    "axs[0][2].fill_between(phih_1_3,np.asarray(0),np.asarray(0)+np.asarray(Fuu_1_3_sys),color='blue',hatch='\\\\\\\\\\\\\\\\',alpha=0.25,linewidth=0)\n",
    "for i_1_3_3xs in range(0,len(phih_1_3_3xs)):\n",
    "    _phih_1_3 = phih_1_3_3xs[i_1_3_3xs]\n",
    "    _Fuu_1_3 = Fuu_1_3_3xs[i_1_3_3xs]\n",
    "    _Fuu_1_3_stat = Fuu_1_3_3xs_stat[i_1_3_3xs]\n",
    "    axs[0][2].plot([_phih_1_3,_phih_1_3],[_Fuu_1_3-_Fuu_1_3_stat,_Fuu_1_3+_Fuu_1_3_stat],color='red',marker='_')\n",
    "axs[0][2].plot(phih_1_3_3xs,Fuu_1_3_3xs,'ro')\n",
    "axs[0][2].fill_between(phih_1_3_3xs,np.asarray(0),np.asarray(0)+np.asarray(Fuu_1_3_3xs_sys),color='red',hatch='\\\\\\\\\\\\\\\\',alpha=0.25,linewidth=0)\n",
    "for i_2_1 in range(0,len(phih_2_1)):\n",
    "    _phih_2_1 = phih_2_1[i_2_1]\n",
    "    _Fuu_2_1 = Fuu_2_1[i_2_1]\n",
    "    _Fuu_2_1_stat = Fuu_2_1_stat[i_2_1]\n",
    "    axs[1][0].plot([_phih_2_1,_phih_2_1],[_Fuu_2_1-_Fuu_2_1_stat,_Fuu_2_1+_Fuu_2_1_stat],color='blue',marker='_')\n",
    "axs[1][0].plot(phih_2_1,Fuu_2_1,'bo')\n",
    "axs[1][0].fill_between(phih_2_1,np.asarray(0),np.asarray(0)+np.asarray(Fuu_2_1_sys),color='blue',hatch='\\\\\\\\\\\\\\\\',alpha=0.25,linewidth=0)\n",
    "for i_2_1_3xs in range(0,len(phih_2_1_3xs)):\n",
    "    _phih_2_1 = phih_2_1_3xs[i_2_1_3xs]\n",
    "    _Fuu_2_1 = Fuu_2_1_3xs[i_2_1_3xs]\n",
    "    _Fuu_2_1_stat = Fuu_2_1_3xs_stat[i_2_1_3xs]\n",
    "    axs[1][0].plot([_phih_2_1,_phih_2_1],[_Fuu_2_1-_Fuu_2_1_stat,_Fuu_2_1+_Fuu_2_1_stat],color='red',marker='_')\n",
    "axs[1][0].plot(phih_2_1_3xs,Fuu_2_1_3xs,'ro')\n",
    "axs[1][0].fill_between(phih_2_1_3xs,np.asarray(0),np.asarray(0)+np.asarray(Fuu_2_1_3xs_sys),color='red',hatch='\\\\\\\\\\\\\\\\',alpha=0.25,linewidth=0)\n",
    "for i_2_2 in range(0,len(phih_2_2)):\n",
    "    _phih_2_2 = phih_2_2[i_2_2]\n",
    "    _Fuu_2_2 = Fuu_2_2[i_2_2]\n",
    "    _Fuu_2_2_stat = Fuu_2_2_stat[i_2_2]\n",
    "    axs[1][1].plot([_phih_2_2,_phih_2_2],[_Fuu_2_2-_Fuu_2_2_stat,_Fuu_2_2+_Fuu_2_2_stat],color='blue',marker='_')\n",
    "axs[1][1].plot(phih_2_2,Fuu_2_2,'bo')\n",
    "axs[1][1].fill_between(phih_2_2,np.asarray(0),np.asarray(0)+np.asarray(Fuu_2_2_sys),color='blue',hatch='\\\\\\\\\\\\\\\\',alpha=0.25,linewidth=0)\n",
    "for i_2_2_3xs in range(0,len(phih_2_2_3xs)):\n",
    "    _phih_2_2 = phih_2_2_3xs[i_2_2_3xs]\n",
    "    _Fuu_2_2 = Fuu_2_2_3xs[i_2_2_3xs]\n",
    "    _Fuu_2_2_stat = Fuu_2_2_3xs_stat[i_2_2_3xs]\n",
    "    axs[1][1].plot([_phih_2_2,_phih_2_2],[_Fuu_2_2-_Fuu_2_2_stat,_Fuu_2_2+_Fuu_2_2_stat],color='red',marker='_')\n",
    "axs[1][1].plot(phih_2_2_3xs,Fuu_2_2_3xs,'ro')\n",
    "axs[1][1].fill_between(phih_2_2_3xs,np.asarray(0),np.asarray(0)+np.asarray(Fuu_2_2_3xs_sys),color='red',hatch='\\\\\\\\\\\\\\\\',alpha=0.25,linewidth=0)\n",
    "for i_2_3 in range(0,len(phih_2_3)):\n",
    "    _phih_2_3 = phih_2_3[i_2_3]\n",
    "    _Fuu_2_3 = Fuu_2_3[i_2_3]\n",
    "    _Fuu_2_3_stat = Fuu_2_3_stat[i_2_3]\n",
    "    axs[1][2].plot([_phih_2_3,_phih_2_3],[_Fuu_2_3-_Fuu_2_3_stat,_Fuu_2_3+_Fuu_2_3_stat],color='blue',marker='_')\n",
    "axs[1][2].plot(phih_2_3,Fuu_2_3,'bo')\n",
    "axs[1][2].fill_between(phih_2_3,np.asarray(0),np.asarray(0)+np.asarray(Fuu_2_3_sys),color='blue',hatch='\\\\\\\\\\\\\\\\',alpha=0.25,linewidth=0)\n",
    "for i_2_3_3xs in range(0,len(phih_2_3_3xs)):\n",
    "    _phih_2_3 = phih_2_3_3xs[i_2_3_3xs]\n",
    "    _Fuu_2_3 = Fuu_2_3_3xs[i_2_3_3xs]\n",
    "    _Fuu_2_3_stat = Fuu_2_3_3xs_stat[i_2_3_3xs]\n",
    "    axs[1][2].plot([_phih_2_3,_phih_2_3],[_Fuu_2_3-_Fuu_2_3_stat,_Fuu_2_3+_Fuu_2_3_stat],color='red',marker='_')\n",
    "axs[1][2].plot(phih_2_3_3xs,Fuu_2_3_3xs,'ro')\n",
    "axs[1][2].fill_between(phih_2_3_3xs,np.asarray(0),np.asarray(0)+np.asarray(Fuu_2_3_3xs_sys),color='red',hatch='\\\\\\\\\\\\\\\\',alpha=0.25,linewidth=0)\n",
    "for i_3_1 in range(0,len(phih_3_1)):\n",
    "    _phih_3_1 = phih_3_1[i_3_1]\n",
    "    _Fuu_3_1 = Fuu_3_1[i_3_1]\n",
    "    _Fuu_3_1_stat = Fuu_3_1_stat[i_3_1]\n",
    "    axs[2][0].plot([_phih_3_1,_phih_3_1],[_Fuu_3_1-_Fuu_3_1_stat,_Fuu_3_1+_Fuu_3_1_stat],color='blue',marker='_')\n",
    "axs[2][0].plot(phih_3_1,Fuu_3_1,'bo')\n",
    "axs[2][0].fill_between(phih_3_1,np.asarray(0),np.asarray(0)+np.asarray(Fuu_3_1_sys),color='blue',hatch='\\\\\\\\\\\\\\\\',alpha=0.25,linewidth=0)\n",
    "for i_3_1_3xs in range(0,len(phih_3_1_3xs)):\n",
    "    _phih_3_1 = phih_3_1_3xs[i_3_1_3xs]\n",
    "    _Fuu_3_1 = Fuu_3_1_3xs[i_3_1_3xs]\n",
    "    _Fuu_3_1_stat = Fuu_3_1_3xs_stat[i_3_1_3xs]\n",
    "    axs[2][0].plot([_phih_3_1,_phih_3_1],[_Fuu_3_1-_Fuu_3_1_stat,_Fuu_3_1+_Fuu_3_1_stat],color='red',marker='_')\n",
    "axs[2][0].plot(phih_3_1_3xs,Fuu_3_1_3xs,'ro')\n",
    "axs[2][0].fill_between(phih_3_1_3xs,np.asarray(0),np.asarray(0)+np.asarray(Fuu_3_1_3xs_sys),color='red',hatch='\\\\\\\\\\\\\\\\',alpha=0.25,linewidth=0)\n",
    "for i_3_2 in range(0,len(phih_3_2)):\n",
    "    _phih_3_2 = phih_3_2[i_3_2]\n",
    "    _Fuu_3_2 = Fuu_3_2[i_3_2]\n",
    "    _Fuu_3_2_stat = Fuu_3_2_stat[i_3_2]\n",
    "    axs[2][1].plot([_phih_3_2,_phih_3_2],[_Fuu_3_2-_Fuu_3_2_stat,_Fuu_3_2+_Fuu_3_2_stat],color='blue',marker='_')\n",
    "axs[2][1].plot(phih_3_2,Fuu_3_2,'bo')\n",
    "axs[2][1].fill_between(phih_3_2,np.asarray(0),np.asarray(0)+np.asarray(Fuu_3_2_sys),color='blue',hatch='\\\\\\\\\\\\\\\\',alpha=0.25,linewidth=0)\n",
    "for i_3_2_3xs in range(0,len(phih_3_2_3xs)):\n",
    "    _phih_3_2 = phih_3_2_3xs[i_3_2_3xs]\n",
    "    _Fuu_3_2 = Fuu_3_2_3xs[i_3_2_3xs]\n",
    "    _Fuu_3_2_stat = Fuu_3_2_3xs_stat[i_3_2_3xs]\n",
    "    axs[2][1].plot([_phih_3_2,_phih_3_2],[_Fuu_3_2-_Fuu_3_2_stat,_Fuu_3_2+_Fuu_3_2_stat],color='red',marker='_')\n",
    "axs[2][1].plot(phih_3_2_3xs,Fuu_3_2_3xs,'ro')\n",
    "axs[2][1].fill_between(phih_3_2_3xs,np.asarray(0),np.asarray(0)+np.asarray(Fuu_3_2_3xs_sys),color='red',hatch='\\\\\\\\\\\\\\\\',alpha=0.25,linewidth=0)\n",
    "for i_3_3 in range(0,len(phih_3_3)):\n",
    "    _phih_3_3 = phih_3_3[i_3_3]\n",
    "    _Fuu_3_3 = Fuu_3_3[i_3_3]\n",
    "    _Fuu_3_3_stat = Fuu_3_3_stat[i_3_3]\n",
    "    axs[2][2].plot([_phih_3_3,_phih_3_3],[_Fuu_3_3-_Fuu_3_3_stat,_Fuu_3_3+_Fuu_3_3_stat],color='blue',marker='_')\n",
    "axs[2][2].plot(phih_3_3,Fuu_3_3,'bo')\n",
    "axs[2][2].fill_between(phih_3_3,np.asarray(0),np.asarray(0)+np.asarray(Fuu_3_3_sys),color='blue',hatch='\\\\\\\\\\\\\\\\',alpha=0.25,linewidth=0)\n",
    "for i_3_3_3xs in range(0,len(phih_3_3_3xs)):\n",
    "    _phih_3_3 = phih_3_3_3xs[i_3_3_3xs]\n",
    "    _Fuu_3_3 = Fuu_3_3_3xs[i_3_3_3xs]\n",
    "    _Fuu_3_3_stat = Fuu_3_3_3xs_stat[i_3_3_3xs]\n",
    "    axs[2][2].plot([_phih_3_3,_phih_3_3],[_Fuu_3_3-_Fuu_3_3_stat,_Fuu_3_3+_Fuu_3_3_stat],color='red',marker='_')\n",
    "axs[2][2].plot(phih_3_3_3xs,Fuu_3_3_3xs,'ro')\n",
    "axs[2][2].fill_between(phih_3_3_3xs,np.asarray(0),np.asarray(0)+np.asarray(Fuu_3_3_3xs_sys),color='red',hatch='\\\\\\\\\\\\\\\\',alpha=0.25,linewidth=0)\n",
    "for i_4_1 in range(0,len(phih_4_1)):\n",
    "    _phih_4_1 = phih_4_1[i_4_1]\n",
    "    _Fuu_4_1 = Fuu_4_1[i_4_1]\n",
    "    _Fuu_4_1_stat = Fuu_4_1_stat[i_4_1]\n",
    "    axs[3][0].plot([_phih_4_1,_phih_4_1],[_Fuu_4_1-_Fuu_4_1_stat,_Fuu_4_1+_Fuu_4_1_stat],color='blue',marker='_')\n",
    "axs[3][0].plot(phih_4_1,Fuu_4_1,'bo')\n",
    "axs[3][0].fill_between(phih_4_1,np.asarray(0),np.asarray(0)+np.asarray(Fuu_4_1_sys),color='blue',hatch='\\\\\\\\\\\\\\\\',alpha=0.25,linewidth=0)\n",
    "for i_4_1_3xs in range(0,len(phih_4_1_3xs)):\n",
    "    _phih_4_1 = phih_4_1_3xs[i_4_1_3xs]\n",
    "    _Fuu_4_1 = Fuu_4_1_3xs[i_4_1_3xs]\n",
    "    _Fuu_4_1_stat = Fuu_4_1_3xs_stat[i_4_1_3xs]\n",
    "    axs[3][0].plot([_phih_4_1,_phih_4_1],[_Fuu_4_1-_Fuu_4_1_stat,_Fuu_4_1+_Fuu_4_1_stat],color='red',marker='_')\n",
    "axs[3][0].plot(phih_4_1_3xs,Fuu_4_1_3xs,'ro')\n",
    "axs[3][0].fill_between(phih_4_1_3xs,np.asarray(0),np.asarray(0)+np.asarray(Fuu_4_1_3xs_sys),color='red',hatch='\\\\\\\\\\\\\\\\',alpha=0.25,linewidth=0)\n",
    "for i_4_2 in range(0,len(phih_4_2)):\n",
    "    _phih_4_2 = phih_4_2[i_4_2]\n",
    "    _Fuu_4_2 = Fuu_4_2[i_4_2]\n",
    "    _Fuu_4_2_stat = Fuu_4_2_stat[i_4_2]\n",
    "    axs[3][1].plot([_phih_4_2,_phih_4_2],[_Fuu_4_2-_Fuu_4_2_stat,_Fuu_4_2+_Fuu_4_2_stat],color='blue',marker='_')\n",
    "axs[3][1].plot(phih_4_2,Fuu_4_2,'bo')\n",
    "axs[3][1].fill_between(phih_4_2,np.asarray(0),np.asarray(0)+np.asarray(Fuu_4_2_sys),color='blue',hatch='\\\\\\\\\\\\\\\\',alpha=0.25,linewidth=0)\n",
    "for i_4_2_3xs in range(0,len(phih_4_2_3xs)):\n",
    "    _phih_4_2 = phih_4_2_3xs[i_4_2_3xs]\n",
    "    _Fuu_4_2 = Fuu_4_2_3xs[i_4_2_3xs]\n",
    "    _Fuu_4_2_stat = Fuu_4_2_3xs_stat[i_4_2_3xs]\n",
    "    axs[3][1].plot([_phih_4_2,_phih_4_2],[_Fuu_4_2-_Fuu_4_2_stat,_Fuu_4_2+_Fuu_4_2_stat],color='red',marker='_')\n",
    "axs[3][1].plot(phih_4_2_3xs,Fuu_4_2_3xs,'ro')\n",
    "axs[3][1].fill_between(phih_4_2_3xs,np.asarray(0),np.asarray(0)+np.asarray(Fuu_4_2_3xs_sys),color='red',hatch='\\\\\\\\\\\\\\\\',alpha=0.25,linewidth=0)\n",
    "for i_4_3 in range(0,len(phih_4_3)):\n",
    "    _phih_4_3 = phih_4_3[i_4_3]\n",
    "    _Fuu_4_3 = Fuu_4_3[i_4_3]\n",
    "    _Fuu_4_3_stat = Fuu_4_3_stat[i_4_3]\n",
    "    axs[3][2].plot([_phih_4_3,_phih_4_3],[_Fuu_4_3-_Fuu_4_3_stat,_Fuu_4_3+_Fuu_4_3_stat],color='blue',marker='_')\n",
    "axs[3][2].plot(phih_4_3,Fuu_4_3,'bo')\n",
    "axs[3][2].fill_between(phih_4_3,np.asarray(0),np.asarray(0)+np.asarray(Fuu_4_3_sys),color='blue',hatch='\\\\\\\\\\\\\\\\',alpha=0.25,linewidth=0)\n",
    "for i_4_3_3xs in range(0,len(phih_4_3_3xs)):\n",
    "    _phih_4_3 = phih_4_3_3xs[i_4_3_3xs]\n",
    "    _Fuu_4_3 = Fuu_4_3_3xs[i_4_3_3xs]\n",
    "    _Fuu_4_3_stat = Fuu_4_3_3xs_stat[i_4_3_3xs]\n",
    "    axs[3][2].plot([_phih_4_3,_phih_4_3],[_Fuu_4_3-_Fuu_4_3_stat,_Fuu_4_3+_Fuu_4_3_stat],color='red',marker='_')\n",
    "axs[3][2].plot(phih_4_3_3xs,Fuu_4_3_3xs,'ro')\n",
    "axs[3][2].fill_between(phih_4_3_3xs,np.asarray(0),np.asarray(0)+np.asarray(Fuu_4_3_3xs_sys),color='red',hatch='\\\\\\\\\\\\\\\\',alpha=0.25,linewidth=0)\n",
    "\n",
    "plt.savefig('../Unpol_proposal/Materials/Fuu_log.pdf')"
   ]
  },
  {
   "cell_type": "code",
   "execution_count": 58,
   "id": "4ddb4751",
   "metadata": {
    "scrolled": true
   },
   "outputs": [
    {
     "data": {
      "image/png": "[encoded data removed]",
      "text/plain": [
       "<Figure size 720x576 with 12 Axes>"
      ]
     },
     "metadata": {
      "needs_background": "light"
     },
     "output_type": "display_data"
    }
   ],
   "source": [
    "fig, axs = plt.subplots(4,3,figsize=(10,8))\n",
    "fig.subplots_adjust(hspace=0)\n",
    "fig.subplots_adjust(wspace=0)\n",
    "\n",
    "plt.xlabel('$\\phi_h(rad)$',fontsize=16)\n",
    "\n",
    "Y_first_max=0.18;Y_second_max=0.07;Y_third_max=0.024;Y_fourth_max = 0.012\n",
    "#Y_first_max=0.09;Y_second_max=0.04;Y_third_max=0.01;Y_fourth_max=0.006\n",
    "\n",
    "for i_1_1 in range(0,len(phih_1_1)):\n",
    "    _phih_1_1 = phih_1_1[i_1_1]\n",
    "    _Fuu_1_1 = Fuu_1_1[i_1_1]\n",
    "    _Fuu_1_1_stat = Fuu_1_1_stat[i_1_1]\n",
    "    axs[0][0].plot([_phih_1_1,_phih_1_1],[_Fuu_1_1-_Fuu_1_1_stat,_Fuu_1_1+_Fuu_1_1_stat],color='blue',marker='_')\n",
    "axs[0][0].plot(phih_1_1,Fuu_1_1,'bo')\n",
    "axs[0][0].fill_between(phih_1_1,np.asarray(0),np.asarray(0)+np.asarray(Fuu_1_1_sys),color='blue',hatch='\\\\\\\\\\\\\\\\',alpha=0.25,linewidth=0)\n",
    "axs[0][0].set_ylabel('$pi- Cross section$',fontsize=16)\n",
    "for i_1_1_3xs in range(0,len(phih_1_1_3xs)):\n",
    "    _phih_1_1 = phih_1_1_3xs[i_1_1_3xs]\n",
    "    _Fuu_1_1 = Fuu_1_1_3xs[i_1_1_3xs]\n",
    "    _Fuu_1_1_stat = Fuu_1_1_3xs_stat[i_1_1_3xs]\n",
    "    axs[0][0].plot([_phih_1_1,_phih_1_1],[_Fuu_1_1-_Fuu_1_1_stat,_Fuu_1_1+_Fuu_1_1_stat],color='red',marker='_')\n",
    "axs[0][0].plot(phih_1_1_3xs,Fuu_1_1_3xs,'ro')\n",
    "axs[0][0].fill_between(phih_1_1_3xs,np.asarray(0),np.asarray(0)+np.asarray(Fuu_1_1_3xs_sys),color='red',hatch='\\\\\\\\\\\\\\\\',alpha=0.25,linewidth=0)\n",
    "axs[0][0].set_ylim(0.0002,Y_first_max)\n",
    "#axs[0][0].tick_params(direction='in',labelbottom=False,labelleft=False)\n",
    "axs[0][0].text(0.5,0.9,r'${}<z_h<{}\\ \\  {}<Q^2<{}$'.format(z_cuts[0],z_cuts[1],Q2_cuts[0],Q2_cuts[1]), horizontalalignment='center', verticalalignment='center', transform=axs[0][0].transAxes)\n",
    "axs[0][0].text(0.5,0.8,r'${}<x_{{b}}<{}\\ \\  {}<P_{{hT}}<{}$'.format(xbj_cuts[0],xbj_cuts[1],PhT_cuts[0],PhT_cuts[1]), horizontalalignment='center', verticalalignment='center', transform=axs[0][0].transAxes)\n",
    "for i_1_2 in range(0,len(phih_1_2)):\n",
    "    _phih_1_2 = phih_1_2[i_1_2]\n",
    "    _Fuu_1_2 = Fuu_1_2[i_1_2]\n",
    "    _Fuu_1_2_stat = Fuu_1_2_stat[i_1_2]\n",
    "    axs[0][1].plot([_phih_1_2,_phih_1_2],[_Fuu_1_2-_Fuu_1_2_stat,_Fuu_1_2+_Fuu_1_2_stat],color='blue',marker='_')\n",
    "axs[0][1].plot(phih_1_2,Fuu_1_2,'bo')\n",
    "axs[0][1].fill_between(phih_1_2,np.asarray(0),np.asarray(0)+np.asarray(Fuu_1_2_sys),color='blue',hatch='\\\\\\\\\\\\\\\\',alpha=0.25,linewidth=0)\n",
    "for i_1_2_3xs in range(0,len(phih_1_2_3xs)):\n",
    "    _phih_1_2 = phih_1_2_3xs[i_1_2_3xs]\n",
    "    _Fuu_1_2 = Fuu_1_2_3xs[i_1_2_3xs]\n",
    "    _Fuu_1_2_stat = Fuu_1_2_3xs_stat[i_1_2_3xs]\n",
    "    axs[0][1].plot([_phih_1_2,_phih_1_2],[_Fuu_1_2-_Fuu_1_2_stat,_Fuu_1_2+_Fuu_1_2_stat],color='red',marker='_')\n",
    "axs[0][1].plot(phih_1_2_3xs,Fuu_1_2_3xs,'ro')\n",
    "axs[0][1].fill_between(phih_1_2_3xs,np.asarray(0),np.asarray(0)+np.asarray(Fuu_1_2_3xs_sys),color='red',hatch='\\\\\\\\\\\\\\\\',alpha=0.25,linewidth=0)\n",
    "axs[0][1].set_ylim(0.0002,Y_first_max)\n",
    "axs[0][1].tick_params(direction='in',labelbottom=False,labelleft=False)\n",
    "axs[0][1].text(0.5,0.9,r'${}<z_h<{}\\ \\ {}<Q^2<{}$'.format(z_cuts[1],z_cuts[2],Q2_cuts[0],Q2_cuts[1]), horizontalalignment='center', verticalalignment='center', transform=axs[0][1].transAxes)\n",
    "axs[0][1].text(0.5,0.8,r'${}<x_{{b}}<{}\\ \\ {}<P_{{hT}}<{}$'.format(xbj_cuts[0],xbj_cuts[1],PhT_cuts[0],PhT_cuts[1]), horizontalalignment='center', verticalalignment='center', transform=axs[0][1].transAxes)\n",
    "for i_1_3 in range(0,len(phih_1_3)):\n",
    "    _phih_1_3 = phih_1_3[i_1_3]\n",
    "    _Fuu_1_3 = Fuu_1_3[i_1_3]\n",
    "    _Fuu_1_3_stat = Fuu_1_3_stat[i_1_3]\n",
    "    axs[0][2].plot([_phih_1_3,_phih_1_3],[_Fuu_1_3-_Fuu_1_3_stat,_Fuu_1_3+_Fuu_1_3_stat],color='blue',marker='_')\n",
    "axs[0][2].plot(phih_1_3,Fuu_1_3,'bo')\n",
    "axs[0][2].fill_between(phih_1_3,np.asarray(0),np.asarray(0)+np.asarray(Fuu_1_3_sys),color='blue',hatch='\\\\\\\\\\\\\\\\',alpha=0.25,linewidth=0)\n",
    "for i_1_3_3xs in range(0,len(phih_1_3_3xs)):\n",
    "    _phih_1_3 = phih_1_3_3xs[i_1_3_3xs]\n",
    "    _Fuu_1_3 = Fuu_1_3_3xs[i_1_3_3xs]\n",
    "    _Fuu_1_3_stat = Fuu_1_3_3xs_stat[i_1_3_3xs]\n",
    "    axs[0][2].plot([_phih_1_3,_phih_1_3],[_Fuu_1_3-_Fuu_1_3_stat,_Fuu_1_3+_Fuu_1_3_stat],color='red',marker='_')\n",
    "axs[0][2].plot(phih_1_3_3xs,Fuu_1_3_3xs,'ro')\n",
    "axs[0][2].fill_between(phih_1_3_3xs,np.asarray(0),np.asarray(0)+np.asarray(Fuu_1_3_3xs_sys),color='red',hatch='\\\\\\\\\\\\\\\\',alpha=0.25,linewidth=0)\n",
    "axs[0][2].set_ylim(0.0002,Y_first_max)\n",
    "axs[0][2].tick_params(direction='in',labelbottom=False,labelleft=False)\n",
    "axs[0][2].text(0.5,0.9,r'${}<z_h<{}\\ \\   {}<Q^2<{}$'.format(z_cuts[2],z_cuts[3],Q2_cuts[0],Q2_cuts[1]), horizontalalignment='center', verticalalignment='center', transform=axs[0][2].transAxes)\n",
    "axs[0][2].text(0.5,0.8,r'${}<x_{{b}}<{}\\ \\  {}<P_{{hT}}<{}$'.format(xbj_cuts[0],xbj_cuts[1],PhT_cuts[0],PhT_cuts[1]), horizontalalignment='center', verticalalignment='center', transform=axs[0][2].transAxes)\n",
    "for i_2_1 in range(0,len(phih_2_1)):\n",
    "    _phih_2_1 = phih_2_1[i_2_1]\n",
    "    _Fuu_2_1 = Fuu_2_1[i_2_1]\n",
    "    _Fuu_2_1_stat = Fuu_2_1_stat[i_2_1]\n",
    "    axs[1][0].plot([_phih_2_1,_phih_2_1],[_Fuu_2_1-_Fuu_2_1_stat,_Fuu_2_1+_Fuu_2_1_stat],color='blue',marker='_')\n",
    "axs[1][0].plot(phih_2_1,Fuu_2_1,'bo')\n",
    "axs[1][0].fill_between(phih_2_1,np.asarray(0),np.asarray(0)+np.asarray(Fuu_2_1_sys),color='blue',hatch='\\\\\\\\\\\\\\\\',alpha=0.25,linewidth=0)\n",
    "for i_2_1_3xs in range(0,len(phih_2_1_3xs)):\n",
    "    _phih_2_1 = phih_2_1_3xs[i_2_1_3xs]\n",
    "    _Fuu_2_1 = Fuu_2_1_3xs[i_2_1_3xs]\n",
    "    _Fuu_2_1_stat = Fuu_2_1_3xs_stat[i_2_1_3xs]\n",
    "    axs[1][0].plot([_phih_2_1,_phih_2_1],[_Fuu_2_1-_Fuu_2_1_stat,_Fuu_2_1+_Fuu_2_1_stat],color='red',marker='_')\n",
    "axs[1][0].plot(phih_2_1_3xs,Fuu_2_1_3xs,'ro')\n",
    "axs[1][0].fill_between(phih_2_1_3xs,np.asarray(0),np.asarray(0)+np.asarray(Fuu_2_1_3xs_sys),color='red',hatch='\\\\\\\\\\\\\\\\',alpha=0.25,linewidth=0)\n",
    "axs[1][0].set_ylim(0.0002,Y_second_max)\n",
    "#axs[1][0].tick_params(direction='in',labelbottom=False,labelleft=False)\n",
    "axs[1][0].text(0.5,0.9,r'${}<z_h<{}\\ \\  {}<Q^2<{}$'.format(z_cuts[0],z_cuts[1],Q2_cuts[1],Q2_cuts[2]), horizontalalignment='center', verticalalignment='center', transform=axs[1][0].transAxes)\n",
    "axs[1][0].text(0.5,0.8,r'${}<x_{{b}}<{}\\ \\  {}<P_{{hT}}<{}$'.format(xbj_cuts[0],xbj_cuts[1],PhT_cuts[0],PhT_cuts[1]), horizontalalignment='center', verticalalignment='center', transform=axs[1][0].transAxes)\n",
    "for i_2_2 in range(0,len(phih_2_2)):\n",
    "    _phih_2_2 = phih_2_2[i_2_2]\n",
    "    _Fuu_2_2 = Fuu_2_2[i_2_2]\n",
    "    _Fuu_2_2_stat = Fuu_2_2_stat[i_2_2]\n",
    "    axs[1][1].plot([_phih_2_2,_phih_2_2],[_Fuu_2_2-_Fuu_2_2_stat,_Fuu_2_2+_Fuu_2_2_stat],color='blue',marker='_')\n",
    "axs[1][1].plot(phih_2_2,Fuu_2_2,'bo')\n",
    "axs[1][1].fill_between(phih_2_2,np.asarray(0),np.asarray(0)+np.asarray(Fuu_2_2_sys),color='blue',hatch='\\\\\\\\\\\\\\\\',alpha=0.25,linewidth=0)\n",
    "for i_2_2_3xs in range(0,len(phih_2_2_3xs)):\n",
    "    _phih_2_2 = phih_2_2_3xs[i_2_2_3xs]\n",
    "    _Fuu_2_2 = Fuu_2_2_3xs[i_2_2_3xs]\n",
    "    _Fuu_2_2_stat = Fuu_2_2_3xs_stat[i_2_2_3xs]\n",
    "    axs[1][1].plot([_phih_2_2,_phih_2_2],[_Fuu_2_2-_Fuu_2_2_stat,_Fuu_2_2+_Fuu_2_2_stat],color='red',marker='_')\n",
    "axs[1][1].plot(phih_2_2_3xs,Fuu_2_2_3xs,'ro')\n",
    "axs[1][1].fill_between(phih_2_2_3xs,np.asarray(0),np.asarray(0)+np.asarray(Fuu_2_2_3xs_sys),color='red',hatch='\\\\\\\\\\\\\\\\',alpha=0.25,linewidth=0)\n",
    "axs[1][1].set_ylim(0.0002,Y_second_max)\n",
    "axs[1][1].tick_params(direction='in',labelbottom=False,labelleft=False)\n",
    "axs[1][1].text(0.5,0.9,r'${}<z_h<{}\\ \\ {}<Q^2<{}$'.format(z_cuts[1],z_cuts[2],Q2_cuts[1],Q2_cuts[2]), horizontalalignment='center', verticalalignment='center', transform=axs[1][1].transAxes)\n",
    "axs[1][1].text(0.5,0.8,r'${}<x_{{b}}<{}\\ \\ {}<P_{{hT}}<{}$'.format(xbj_cuts[0],xbj_cuts[1],PhT_cuts[0],PhT_cuts[1]), horizontalalignment='center', verticalalignment='center', transform=axs[1][1].transAxes)\n",
    "for i_2_3 in range(0,len(phih_2_3)):\n",
    "    _phih_2_3 = phih_2_3[i_2_3]\n",
    "    _Fuu_2_3 = Fuu_2_3[i_2_3]\n",
    "    _Fuu_2_3_stat = Fuu_2_3_stat[i_2_3]\n",
    "    axs[1][2].plot([_phih_2_3,_phih_2_3],[_Fuu_2_3-_Fuu_2_3_stat,_Fuu_2_3+_Fuu_2_3_stat],color='blue',marker='_')\n",
    "axs[1][2].plot(phih_2_3,Fuu_2_3,'bo')\n",
    "axs[1][2].fill_between(phih_2_3,np.asarray(0),np.asarray(0)+np.asarray(Fuu_2_3_sys),color='blue',hatch='\\\\\\\\\\\\\\\\',alpha=0.25,linewidth=0)\n",
    "for i_2_3_3xs in range(0,len(phih_2_3_3xs)):\n",
    "    _phih_2_3 = phih_2_3_3xs[i_2_3_3xs]\n",
    "    _Fuu_2_3 = Fuu_2_3_3xs[i_2_3_3xs]\n",
    "    _Fuu_2_3_stat = Fuu_2_3_3xs_stat[i_2_3_3xs]\n",
    "    axs[1][2].plot([_phih_2_3,_phih_2_3],[_Fuu_2_3-_Fuu_2_3_stat,_Fuu_2_3+_Fuu_2_3_stat],color='red',marker='_')\n",
    "axs[1][2].plot(phih_2_3_3xs,Fuu_2_3_3xs,'ro')\n",
    "axs[1][2].fill_between(phih_2_3_3xs,np.asarray(0),np.asarray(0)+np.asarray(Fuu_2_3_3xs_sys),color='red',hatch='\\\\\\\\\\\\\\\\',alpha=0.25,linewidth=0)\n",
    "axs[1][2].set_ylim(0.0002,Y_second_max)\n",
    "axs[1][2].tick_params(direction='in',labelbottom=False,labelleft=False)\n",
    "axs[1][2].text(0.5,0.9,r'${}<z_h<{}\\ \\   {}<Q^2<{}$'.format(z_cuts[2],z_cuts[3],Q2_cuts[1],Q2_cuts[2]), horizontalalignment='center', verticalalignment='center', transform=axs[1][2].transAxes)\n",
    "axs[1][2].text(0.5,0.8,r'${}<x_{{b}}<{}\\ \\  {}<P_{{hT}}<{}$'.format(xbj_cuts[0],xbj_cuts[1],PhT_cuts[0],PhT_cuts[1]), horizontalalignment='center', verticalalignment='center', transform=axs[1][2].transAxes)\n",
    "for i_3_1 in range(0,len(phih_3_1)):\n",
    "    _phih_3_1 = phih_3_1[i_3_1]\n",
    "    _Fuu_3_1 = Fuu_3_1[i_3_1]\n",
    "    _Fuu_3_1_stat = Fuu_3_1_stat[i_3_1]\n",
    "    axs[2][0].plot([_phih_3_1,_phih_3_1],[_Fuu_3_1-_Fuu_3_1_stat,_Fuu_3_1+_Fuu_3_1_stat],color='blue',marker='_')\n",
    "axs[2][0].plot(phih_3_1,Fuu_3_1,'bo')\n",
    "axs[2][0].fill_between(phih_3_1,np.asarray(0),np.asarray(0)+np.asarray(Fuu_3_1_sys),color='blue',hatch='\\\\\\\\\\\\\\\\',alpha=0.25,linewidth=0)\n",
    "for i_3_1_3xs in range(0,len(phih_3_1_3xs)):\n",
    "    _phih_3_1 = phih_3_1_3xs[i_3_1_3xs]\n",
    "    _Fuu_3_1 = Fuu_3_1_3xs[i_3_1_3xs]\n",
    "    _Fuu_3_1_stat = Fuu_3_1_3xs_stat[i_3_1_3xs]\n",
    "    axs[2][0].plot([_phih_3_1,_phih_3_1],[_Fuu_3_1-_Fuu_3_1_stat,_Fuu_3_1+_Fuu_3_1_stat],color='red',marker='_')\n",
    "axs[2][0].plot(phih_3_1_3xs,Fuu_3_1_3xs,'ro')\n",
    "axs[2][0].fill_between(phih_3_1_3xs,np.asarray(0),np.asarray(0)+np.asarray(Fuu_3_1_3xs_sys),color='red',hatch='\\\\\\\\\\\\\\\\',alpha=0.25,linewidth=0)\n",
    "axs[2][0].set_ylim(0.0002,Y_third_max)\n",
    "#axs[1][0].tick_params(direction='in',labelbottom=False,labelleft=False)\n",
    "axs[2][0].text(0.5,0.9,r'${}<z_h<{}\\ \\  {}<Q^2<{}$'.format(z_cuts[0],z_cuts[1],Q2_cuts[2],Q2_cuts[3]), horizontalalignment='center', verticalalignment='center', transform=axs[2][0].transAxes)\n",
    "axs[2][0].text(0.5,0.8,r'${}<x_{{b}}<{}\\ \\  {}<P_{{hT}}<{}$'.format(xbj_cuts[0],xbj_cuts[1],PhT_cuts[0],PhT_cuts[1]), horizontalalignment='center', verticalalignment='center', transform=axs[2][0].transAxes)\n",
    "for i_3_2 in range(0,len(phih_3_2)):\n",
    "    _phih_3_2 = phih_3_2[i_3_2]\n",
    "    _Fuu_3_2 = Fuu_3_2[i_3_2]\n",
    "    _Fuu_3_2_stat = Fuu_3_2_stat[i_3_2]\n",
    "    axs[2][1].plot([_phih_3_2,_phih_3_2],[_Fuu_3_2-_Fuu_3_2_stat,_Fuu_3_2+_Fuu_3_2_stat],color='blue',marker='_')\n",
    "axs[2][1].plot(phih_3_2,Fuu_3_2,'bo')\n",
    "axs[2][1].fill_between(phih_3_2,np.asarray(0),np.asarray(0)+np.asarray(Fuu_3_2_sys),color='blue',hatch='\\\\\\\\\\\\\\\\',alpha=0.25,linewidth=0)\n",
    "for i_3_2_3xs in range(0,len(phih_3_2_3xs)):\n",
    "    _phih_3_2 = phih_3_2_3xs[i_3_2_3xs]\n",
    "    _Fuu_3_2 = Fuu_3_2_3xs[i_3_2_3xs]\n",
    "    _Fuu_3_2_stat = Fuu_3_2_3xs_stat[i_3_2_3xs]\n",
    "    axs[2][1].plot([_phih_3_2,_phih_3_2],[_Fuu_3_2-_Fuu_3_2_stat,_Fuu_3_2+_Fuu_3_2_stat],color='red',marker='_')\n",
    "axs[2][1].plot(phih_3_2_3xs,Fuu_3_2_3xs,'ro')\n",
    "axs[2][1].fill_between(phih_3_2_3xs,np.asarray(0),np.asarray(0)+np.asarray(Fuu_3_2_3xs_sys),color='red',hatch='\\\\\\\\\\\\\\\\',alpha=0.25,linewidth=0)\n",
    "axs[2][1].set_ylim(0.0002,Y_third_max)\n",
    "axs[2][1].tick_params(direction='in',labelbottom=False,labelleft=False)\n",
    "axs[2][1].text(0.5,0.9,r'${}<z_h<{}\\ \\ {}<Q^2<{}$'.format(z_cuts[1],z_cuts[2],Q2_cuts[2],Q2_cuts[3]), horizontalalignment='center', verticalalignment='center', transform=axs[2][1].transAxes)\n",
    "axs[2][1].text(0.5,0.8,r'${}<x_{{b}}<{}\\ \\ {}<P_{{hT}}<{}$'.format(xbj_cuts[0],xbj_cuts[1],PhT_cuts[0],PhT_cuts[1]), horizontalalignment='center', verticalalignment='center', transform=axs[2][1].transAxes)\n",
    "for i_3_3 in range(0,len(phih_3_3)):\n",
    "    _phih_3_3 = phih_3_3[i_3_3]\n",
    "    _Fuu_3_3 = Fuu_3_3[i_3_3]\n",
    "    _Fuu_3_3_stat = Fuu_3_3_stat[i_3_3]\n",
    "    axs[2][2].plot([_phih_3_3,_phih_3_3],[_Fuu_3_3-_Fuu_3_3_stat,_Fuu_3_3+_Fuu_3_3_stat],color='blue',marker='_')\n",
    "axs[2][2].plot(phih_3_3,Fuu_3_3,'bo')\n",
    "axs[2][2].fill_between(phih_3_3,np.asarray(0),np.asarray(0)+np.asarray(Fuu_3_3_sys),color='blue',hatch='\\\\\\\\\\\\\\\\',alpha=0.25,linewidth=0)\n",
    "for i_3_3_3xs in range(0,len(phih_3_3_3xs)):\n",
    "    _phih_3_3 = phih_3_3_3xs[i_3_3_3xs]\n",
    "    _Fuu_3_3 = Fuu_3_3_3xs[i_3_3_3xs]\n",
    "    _Fuu_3_3_stat = Fuu_3_3_3xs_stat[i_3_3_3xs]\n",
    "    axs[2][2].plot([_phih_3_3,_phih_3_3],[_Fuu_3_3-_Fuu_3_3_stat,_Fuu_3_3+_Fuu_3_3_stat],color='red',marker='_')\n",
    "axs[2][2].plot(phih_3_3_3xs,Fuu_3_3_3xs,'ro')\n",
    "axs[2][2].fill_between(phih_3_3_3xs,np.asarray(0),np.asarray(0)+np.asarray(Fuu_3_3_3xs_sys),color='red',hatch='\\\\\\\\\\\\\\\\',alpha=0.25,linewidth=0)\n",
    "axs[2][2].set_ylim(0.0002,Y_third_max)\n",
    "axs[2][2].tick_params(direction='in',labelbottom=False,labelleft=False)\n",
    "axs[2][2].text(0.5,0.9,r'${}<z_h<{}\\ \\   {}<Q^2<{}$'.format(z_cuts[2],z_cuts[3],Q2_cuts[2],Q2_cuts[3]), horizontalalignment='center', verticalalignment='center', transform=axs[2][2].transAxes)\n",
    "axs[2][2].text(0.5,0.8,r'${}<x_{{b}}<{}\\ \\  {}<P_{{hT}}<{}$'.format(xbj_cuts[0],xbj_cuts[1],PhT_cuts[0],PhT_cuts[1]), horizontalalignment='center', verticalalignment='center', transform=axs[2][2].transAxes)\n",
    "for i_4_1 in range(0,len(phih_4_1)):\n",
    "    _phih_4_1 = phih_4_1[i_4_1]\n",
    "    _Fuu_4_1 = Fuu_4_1[i_4_1]\n",
    "    _Fuu_4_1_stat = Fuu_4_1_stat[i_4_1]\n",
    "    axs[3][0].plot([_phih_4_1,_phih_4_1],[_Fuu_4_1-_Fuu_4_1_stat,_Fuu_4_1+_Fuu_4_1_stat],color='blue',marker='_')\n",
    "axs[3][0].plot(phih_4_1,Fuu_4_1,'bo')\n",
    "axs[3][0].fill_between(phih_4_1,np.asarray(0),np.asarray(0)+np.asarray(Fuu_4_1_sys),color='blue',hatch='\\\\\\\\\\\\\\\\',alpha=0.25,linewidth=0)\n",
    "for i_4_1_3xs in range(0,len(phih_4_1_3xs)):\n",
    "    _phih_4_1 = phih_4_1_3xs[i_4_1_3xs]\n",
    "    _Fuu_4_1 = Fuu_4_1_3xs[i_4_1_3xs]\n",
    "    _Fuu_4_1_stat = Fuu_4_1_3xs_stat[i_4_1_3xs]\n",
    "    axs[3][0].plot([_phih_4_1,_phih_4_1],[_Fuu_4_1-_Fuu_4_1_stat,_Fuu_4_1+_Fuu_4_1_stat],color='red',marker='_')\n",
    "axs[3][0].plot(phih_4_1_3xs,Fuu_4_1_3xs,'ro')\n",
    "axs[3][0].fill_between(phih_4_1_3xs,np.asarray(0),np.asarray(0)+np.asarray(Fuu_4_1_3xs_sys),color='red',hatch='\\\\\\\\\\\\\\\\',alpha=0.25,linewidth=0)\n",
    "axs[3][0].set_ylim(0.0002,Y_fourth_max)\n",
    "#axs[3][0].tick_params(direction='in',labelbottom=False,labelleft=False)\n",
    "axs[3][0].text(0.5,0.9,r'${}<z_h<{}\\ \\  {}<Q^2<{}$'.format(z_cuts[0],z_cuts[1],Q2_cuts[3],Q2_cuts[4]), horizontalalignment='center', verticalalignment='center', transform=axs[3][0].transAxes)\n",
    "axs[3][0].text(0.5,0.8,r'${}<x_{{b}}<{}\\ \\  {}<P_{{hT}}<{}$'.format(xbj_cuts[0],xbj_cuts[1],PhT_cuts[0],PhT_cuts[1]), horizontalalignment='center', verticalalignment='center', transform=axs[3][0].transAxes)\n",
    "for i_4_2 in range(0,len(phih_4_2)):\n",
    "    _phih_4_2 = phih_4_2[i_4_2]\n",
    "    _Fuu_4_2 = Fuu_4_2[i_4_2]\n",
    "    _Fuu_4_2_stat = Fuu_4_2_stat[i_4_2]\n",
    "    axs[3][1].plot([_phih_4_2,_phih_4_2],[_Fuu_4_2-_Fuu_4_2_stat,_Fuu_4_2+_Fuu_4_2_stat],color='blue',marker='_')\n",
    "axs[3][1].plot(phih_4_2,Fuu_4_2,'bo')\n",
    "axs[3][1].fill_between(phih_4_2,np.asarray(0),np.asarray(0)+np.asarray(Fuu_4_2_sys),color='blue',hatch='\\\\\\\\\\\\\\\\',alpha=0.25,linewidth=0)\n",
    "for i_4_2_3xs in range(0,len(phih_4_2_3xs)):\n",
    "    _phih_4_2 = phih_4_2_3xs[i_4_2_3xs]\n",
    "    _Fuu_4_2 = Fuu_4_2_3xs[i_4_2_3xs]\n",
    "    _Fuu_4_2_stat = Fuu_4_2_3xs_stat[i_4_2_3xs]\n",
    "    axs[3][1].plot([_phih_4_2,_phih_4_2],[_Fuu_4_2-_Fuu_4_2_stat,_Fuu_4_2+_Fuu_4_2_stat],color='red',marker='_')\n",
    "axs[3][1].plot(phih_4_2_3xs,Fuu_4_2_3xs,'ro')\n",
    "axs[3][1].fill_between(phih_4_2_3xs,np.asarray(0),np.asarray(0)+np.asarray(Fuu_4_2_3xs_sys),color='red',hatch='\\\\\\\\\\\\\\\\',alpha=0.25,linewidth=0)\n",
    "axs[3][1].set_ylim(0.0002,Y_fourth_max)\n",
    "axs[3][1].tick_params(direction='in',labelleft=False)\n",
    "axs[3][1].text(0.5,0.9,r'${}<z_h<{}\\ \\ {}<Q^2<{}$'.format(z_cuts[1],z_cuts[2],Q2_cuts[3],Q2_cuts[4]), horizontalalignment='center', verticalalignment='center', transform=axs[3][1].transAxes)\n",
    "axs[3][1].text(0.5,0.8,r'${}<x_{{b}}<{}\\ \\ {}<P_{{hT}}<{}$'.format(xbj_cuts[0],xbj_cuts[1],PhT_cuts[0],PhT_cuts[1]), horizontalalignment='center', verticalalignment='center', transform=axs[3][1].transAxes)\n",
    "for i_4_3 in range(0,len(phih_4_3)):\n",
    "    _phih_4_3 = phih_4_3[i_4_3]\n",
    "    _Fuu_4_3 = Fuu_4_3[i_4_3]\n",
    "    _Fuu_4_3_stat = Fuu_4_3_stat[i_4_3]\n",
    "    axs[3][2].plot([_phih_4_3,_phih_4_3],[_Fuu_4_3-_Fuu_4_3_stat,_Fuu_4_3+_Fuu_4_3_stat],color='blue',marker='_')\n",
    "axs[3][2].plot(phih_4_3,Fuu_4_3,'bo')\n",
    "axs[3][2].fill_between(phih_4_3,np.asarray(0),np.asarray(0)+np.asarray(Fuu_4_3_sys),color='blue',hatch='\\\\\\\\\\\\\\\\',alpha=0.25,linewidth=0)\n",
    "\n",
    "for i_4_3_3xs in range(0,len(phih_4_3_3xs)):\n",
    "    _phih_4_3 = phih_4_3_3xs[i_4_3_3xs]\n",
    "    _Fuu_4_3 = Fuu_4_3_3xs[i_4_3_3xs]\n",
    "    _Fuu_4_3_stat = Fuu_4_3_3xs_stat[i_4_3_3xs]\n",
    "    axs[3][2].plot([_phih_4_3,_phih_4_3],[_Fuu_4_3-_Fuu_4_3_stat,_Fuu_4_3+_Fuu_4_3_stat],color='red',marker='_')\n",
    "axs[3][2].plot(phih_4_3_3xs,Fuu_4_3_3xs,'ro')\n",
    "axs[3][2].fill_between(phih_4_3_3xs,np.asarray(0),np.asarray(0)+np.asarray(Fuu_4_3_3xs_sys),color='red',hatch='\\\\\\\\\\\\\\\\',alpha=0.25,linewidth=0)\n",
    "axs[3][2].set_ylim(0.0002,Y_fourth_max)\n",
    "axs[3][2].tick_params(direction='in',labelleft=False)\n",
    "axs[3][2].text(0.5,0.9,r'${}<z_h<{}\\ \\   {}<Q^2<{}$'.format(z_cuts[2],z_cuts[3],Q2_cuts[3],Q2_cuts[4]), horizontalalignment='center', verticalalignment='center', transform=axs[3][2].transAxes)\n",
    "axs[3][2].text(0.5,0.8,r'${}<x_{{b}}<{}\\ \\  {}<P_{{hT}}<{}$'.format(xbj_cuts[0],xbj_cuts[1],PhT_cuts[0],PhT_cuts[1]), horizontalalignment='center', verticalalignment='center', transform=axs[3][2].transAxes)\n",
    "\n",
    "#plt.show()\n",
    "plt.savefig('../Unpol_proposal/Materials/Fuu.pdf')"
   ]
  },
  {
   "cell_type": "code",
   "execution_count": null,
   "id": "12888d7f",
   "metadata": {},
   "outputs": [],
   "source": []
  },
  {
   "cell_type": "code",
   "execution_count": null,
   "id": "1e3ce6c9",
   "metadata": {},
   "outputs": [],
   "source": []
  }
 ],
 "metadata": {
  "kernelspec": {
   "display_name": "Python 3 (ipykernel)",
   "language": "python",
   "name": "python3"
  },
  "language_info": {
   "codemirror_mode": {
    "name": "ipython",
    "version": 3
   },
   "file_extension": ".py",
   "mimetype": "text/x-python",
   "name": "python",
   "nbconvert_exporter": "python",
   "pygments_lexer": "ipython3",
   "version": "3.9.13"
  }
 },
 "nbformat": 4,
 "nbformat_minor": 5
}
