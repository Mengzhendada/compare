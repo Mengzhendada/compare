{
 "cells": [
  {
   "cell_type": "code",
   "execution_count": 1,
   "id": "46b6e2ac",
   "metadata": {},
   "outputs": [],
   "source": [
    "import pandas as pd\n",
    "import numpy as np\n",
    "import matplotlib.pyplot as plt\n",
    "import math"
   ]
  },
  {
   "cell_type": "code",
   "execution_count": 2,
   "id": "9bef54c6",
   "metadata": {},
   "outputs": [],
   "source": [
    "def Get_weighted_average(value,error):\n",
    "    sum_mean = 0\n",
    "    sum_sigma = 0\n",
    "    #print(value,error)\n",
    "    for i in range(len(value)):\n",
    "        #print(i,value[i],error[i])\n",
    "        sum_mean += value[i]/(error[i]*error[i])\n",
    "        sum_sigma += 1/(error[i]*error[i])\n",
    "    return sum_mean/sum_sigma,math.sqrt(1/sum_sigma)\n",
    "    "
   ]
  },
  {
   "cell_type": "code",
   "execution_count": 3,
   "id": "dae35881",
   "metadata": {
    "scrolled": false
   },
   "outputs": [
    {
     "data": {
      "text/html": [
       "<div>\n",
       "<style scoped>\n",
       "    .dataframe tbody tr th:only-of-type {\n",
       "        vertical-align: middle;\n",
       "    }\n",
       "\n",
       "    .dataframe tbody tr th {\n",
       "        vertical-align: top;\n",
       "    }\n",
       "\n",
       "    .dataframe thead th {\n",
       "        text-align: right;\n",
       "    }\n",
       "</style>\n",
       "<table border=\"1\" class=\"dataframe\">\n",
       "  <thead>\n",
       "    <tr style=\"text-align: right;\">\n",
       "      <th></th>\n",
       "      <th>i</th>\n",
       "      <th>Ebeam</th>\n",
       "      <th>x</th>\n",
       "      <th>phih</th>\n",
       "      <th>y</th>\n",
       "      <th>z</th>\n",
       "      <th>Q2</th>\n",
       "      <th>pT</th>\n",
       "      <th>obs</th>\n",
       "      <th>value</th>\n",
       "      <th>stat</th>\n",
       "      <th>systrel</th>\n",
       "      <th>systabs</th>\n",
       "      <th>target</th>\n",
       "      <th>hadron</th>\n",
       "      <th>Experiment</th>\n",
       "      <th>error</th>\n",
       "    </tr>\n",
       "  </thead>\n",
       "  <tbody>\n",
       "    <tr>\n",
       "      <th>0</th>\n",
       "      <td>0</td>\n",
       "      <td>11.0</td>\n",
       "      <td>0.134698</td>\n",
       "      <td>1.518161</td>\n",
       "      <td>0.493396</td>\n",
       "      <td>0.323171</td>\n",
       "      <td>1.355247</td>\n",
       "      <td>0.138241</td>\n",
       "      <td>FUUT</td>\n",
       "      <td>0.168656</td>\n",
       "      <td>0.000444</td>\n",
       "      <td>0.0</td>\n",
       "      <td>0.0</td>\n",
       "      <td>neutron</td>\n",
       "      <td>pi+</td>\n",
       "      <td>solid</td>\n",
       "      <td>0.000444</td>\n",
       "    </tr>\n",
       "    <tr>\n",
       "      <th>1</th>\n",
       "      <td>1</td>\n",
       "      <td>11.0</td>\n",
       "      <td>0.177133</td>\n",
       "      <td>1.209490</td>\n",
       "      <td>0.401347</td>\n",
       "      <td>0.323962</td>\n",
       "      <td>1.465137</td>\n",
       "      <td>0.119567</td>\n",
       "      <td>FUUT</td>\n",
       "      <td>0.160027</td>\n",
       "      <td>0.000967</td>\n",
       "      <td>0.0</td>\n",
       "      <td>0.0</td>\n",
       "      <td>neutron</td>\n",
       "      <td>pi+</td>\n",
       "      <td>solid</td>\n",
       "      <td>0.000967</td>\n",
       "    </tr>\n",
       "    <tr>\n",
       "      <th>2</th>\n",
       "      <td>2</td>\n",
       "      <td>11.0</td>\n",
       "      <td>0.105914</td>\n",
       "      <td>2.228404</td>\n",
       "      <td>0.578336</td>\n",
       "      <td>0.322833</td>\n",
       "      <td>1.255922</td>\n",
       "      <td>0.152685</td>\n",
       "      <td>FUUT</td>\n",
       "      <td>0.174942</td>\n",
       "      <td>0.000447</td>\n",
       "      <td>0.0</td>\n",
       "      <td>0.0</td>\n",
       "      <td>neutron</td>\n",
       "      <td>pi+</td>\n",
       "      <td>solid</td>\n",
       "      <td>0.000447</td>\n",
       "    </tr>\n",
       "    <tr>\n",
       "      <th>3</th>\n",
       "      <td>3</td>\n",
       "      <td>11.0</td>\n",
       "      <td>0.145168</td>\n",
       "      <td>2.190432</td>\n",
       "      <td>0.471814</td>\n",
       "      <td>0.323730</td>\n",
       "      <td>1.404465</td>\n",
       "      <td>0.126804</td>\n",
       "      <td>FUUT</td>\n",
       "      <td>0.164076</td>\n",
       "      <td>0.000575</td>\n",
       "      <td>0.0</td>\n",
       "      <td>0.0</td>\n",
       "      <td>neutron</td>\n",
       "      <td>pi+</td>\n",
       "      <td>solid</td>\n",
       "      <td>0.000575</td>\n",
       "    </tr>\n",
       "    <tr>\n",
       "      <th>4</th>\n",
       "      <td>4</td>\n",
       "      <td>11.0</td>\n",
       "      <td>0.096622</td>\n",
       "      <td>2.836876</td>\n",
       "      <td>0.613510</td>\n",
       "      <td>0.322702</td>\n",
       "      <td>1.217748</td>\n",
       "      <td>0.154893</td>\n",
       "      <td>FUUT</td>\n",
       "      <td>0.177644</td>\n",
       "      <td>0.000446</td>\n",
       "      <td>0.0</td>\n",
       "      <td>0.0</td>\n",
       "      <td>neutron</td>\n",
       "      <td>pi+</td>\n",
       "      <td>solid</td>\n",
       "      <td>0.000446</td>\n",
       "    </tr>\n",
       "  </tbody>\n",
       "</table>\n",
       "</div>"
      ],
      "text/plain": [
       "   i  Ebeam         x      phih         y         z        Q2        pT   obs  \\\n",
       "0  0   11.0  0.134698  1.518161  0.493396  0.323171  1.355247  0.138241  FUUT   \n",
       "1  1   11.0  0.177133  1.209490  0.401347  0.323962  1.465137  0.119567  FUUT   \n",
       "2  2   11.0  0.105914  2.228404  0.578336  0.322833  1.255922  0.152685  FUUT   \n",
       "3  3   11.0  0.145168  2.190432  0.471814  0.323730  1.404465  0.126804  FUUT   \n",
       "4  4   11.0  0.096622  2.836876  0.613510  0.322702  1.217748  0.154893  FUUT   \n",
       "\n",
       "      value      stat  systrel  systabs   target hadron Experiment     error  \n",
       "0  0.168656  0.000444      0.0      0.0  neutron    pi+      solid  0.000444  \n",
       "1  0.160027  0.000967      0.0      0.0  neutron    pi+      solid  0.000967  \n",
       "2  0.174942  0.000447      0.0      0.0  neutron    pi+      solid  0.000447  \n",
       "3  0.164076  0.000575      0.0      0.0  neutron    pi+      solid  0.000575  \n",
       "4  0.177644  0.000446      0.0      0.0  neutron    pi+      solid  0.000446  "
      ]
     },
     "execution_count": 3,
     "metadata": {},
     "output_type": "execute_result"
    }
   ],
   "source": [
    "df_1xs_zQ2xbjPhT = pd.read_csv('../Unpol_proposal/Materials/simenhanced_1xs.dat',delim_whitespace=True)\n",
    "df_1xs_zQ2xbjPhT.head()\n",
    "#print(np.sort(df_1xs_zQ2xbjPhT['phih'].unique()))"
   ]
  },
  {
   "cell_type": "code",
   "execution_count": 4,
   "id": "db35c55f",
   "metadata": {
    "scrolled": true
   },
   "outputs": [
    {
     "data": {
      "text/html": [
       "<div>\n",
       "<style scoped>\n",
       "    .dataframe tbody tr th:only-of-type {\n",
       "        vertical-align: middle;\n",
       "    }\n",
       "\n",
       "    .dataframe tbody tr th {\n",
       "        vertical-align: top;\n",
       "    }\n",
       "\n",
       "    .dataframe thead th {\n",
       "        text-align: right;\n",
       "    }\n",
       "</style>\n",
       "<table border=\"1\" class=\"dataframe\">\n",
       "  <thead>\n",
       "    <tr style=\"text-align: right;\">\n",
       "      <th></th>\n",
       "      <th>i</th>\n",
       "      <th>Ebeam</th>\n",
       "      <th>x</th>\n",
       "      <th>phih</th>\n",
       "      <th>y</th>\n",
       "      <th>z</th>\n",
       "      <th>Q2</th>\n",
       "      <th>pT</th>\n",
       "      <th>obs</th>\n",
       "      <th>value</th>\n",
       "      <th>stat</th>\n",
       "      <th>systrel</th>\n",
       "      <th>systabs</th>\n",
       "      <th>target</th>\n",
       "      <th>hadron</th>\n",
       "      <th>Experiment</th>\n",
       "      <th>error</th>\n",
       "    </tr>\n",
       "  </thead>\n",
       "  <tbody>\n",
       "    <tr>\n",
       "      <th>0</th>\n",
       "      <td>0</td>\n",
       "      <td>11.0</td>\n",
       "      <td>0.134698</td>\n",
       "      <td>1.518161</td>\n",
       "      <td>0.493396</td>\n",
       "      <td>0.323171</td>\n",
       "      <td>1.355247</td>\n",
       "      <td>0.138241</td>\n",
       "      <td>FUUT</td>\n",
       "      <td>0.165037</td>\n",
       "      <td>0.000444</td>\n",
       "      <td>0.0</td>\n",
       "      <td>0.0</td>\n",
       "      <td>neutron</td>\n",
       "      <td>pi+</td>\n",
       "      <td>solid</td>\n",
       "      <td>0.000444</td>\n",
       "    </tr>\n",
       "    <tr>\n",
       "      <th>1</th>\n",
       "      <td>1</td>\n",
       "      <td>11.0</td>\n",
       "      <td>0.177133</td>\n",
       "      <td>1.209490</td>\n",
       "      <td>0.401347</td>\n",
       "      <td>0.323962</td>\n",
       "      <td>1.465137</td>\n",
       "      <td>0.119567</td>\n",
       "      <td>FUUT</td>\n",
       "      <td>0.139375</td>\n",
       "      <td>0.000967</td>\n",
       "      <td>0.0</td>\n",
       "      <td>0.0</td>\n",
       "      <td>neutron</td>\n",
       "      <td>pi+</td>\n",
       "      <td>solid</td>\n",
       "      <td>0.000967</td>\n",
       "    </tr>\n",
       "    <tr>\n",
       "      <th>2</th>\n",
       "      <td>2</td>\n",
       "      <td>11.0</td>\n",
       "      <td>0.105914</td>\n",
       "      <td>2.228404</td>\n",
       "      <td>0.578336</td>\n",
       "      <td>0.322833</td>\n",
       "      <td>1.255922</td>\n",
       "      <td>0.152685</td>\n",
       "      <td>FUUT</td>\n",
       "      <td>0.220643</td>\n",
       "      <td>0.000447</td>\n",
       "      <td>0.0</td>\n",
       "      <td>0.0</td>\n",
       "      <td>neutron</td>\n",
       "      <td>pi+</td>\n",
       "      <td>solid</td>\n",
       "      <td>0.000447</td>\n",
       "    </tr>\n",
       "    <tr>\n",
       "      <th>3</th>\n",
       "      <td>3</td>\n",
       "      <td>11.0</td>\n",
       "      <td>0.145168</td>\n",
       "      <td>2.190432</td>\n",
       "      <td>0.471814</td>\n",
       "      <td>0.323730</td>\n",
       "      <td>1.404465</td>\n",
       "      <td>0.126804</td>\n",
       "      <td>FUUT</td>\n",
       "      <td>0.199914</td>\n",
       "      <td>0.000575</td>\n",
       "      <td>0.0</td>\n",
       "      <td>0.0</td>\n",
       "      <td>neutron</td>\n",
       "      <td>pi+</td>\n",
       "      <td>solid</td>\n",
       "      <td>0.000575</td>\n",
       "    </tr>\n",
       "    <tr>\n",
       "      <th>4</th>\n",
       "      <td>4</td>\n",
       "      <td>11.0</td>\n",
       "      <td>0.096622</td>\n",
       "      <td>2.836876</td>\n",
       "      <td>0.613510</td>\n",
       "      <td>0.322702</td>\n",
       "      <td>1.217748</td>\n",
       "      <td>0.154893</td>\n",
       "      <td>FUUT</td>\n",
       "      <td>0.249018</td>\n",
       "      <td>0.000446</td>\n",
       "      <td>0.0</td>\n",
       "      <td>0.0</td>\n",
       "      <td>neutron</td>\n",
       "      <td>pi+</td>\n",
       "      <td>solid</td>\n",
       "      <td>0.000446</td>\n",
       "    </tr>\n",
       "  </tbody>\n",
       "</table>\n",
       "</div>"
      ],
      "text/plain": [
       "   i  Ebeam         x      phih         y         z        Q2        pT   obs  \\\n",
       "0  0   11.0  0.134698  1.518161  0.493396  0.323171  1.355247  0.138241  FUUT   \n",
       "1  1   11.0  0.177133  1.209490  0.401347  0.323962  1.465137  0.119567  FUUT   \n",
       "2  2   11.0  0.105914  2.228404  0.578336  0.322833  1.255922  0.152685  FUUT   \n",
       "3  3   11.0  0.145168  2.190432  0.471814  0.323730  1.404465  0.126804  FUUT   \n",
       "4  4   11.0  0.096622  2.836876  0.613510  0.322702  1.217748  0.154893  FUUT   \n",
       "\n",
       "      value      stat  systrel  systabs   target hadron Experiment     error  \n",
       "0  0.165037  0.000444      0.0      0.0  neutron    pi+      solid  0.000444  \n",
       "1  0.139375  0.000967      0.0      0.0  neutron    pi+      solid  0.000967  \n",
       "2  0.220643  0.000447      0.0      0.0  neutron    pi+      solid  0.000447  \n",
       "3  0.199914  0.000575      0.0      0.0  neutron    pi+      solid  0.000575  \n",
       "4  0.249018  0.000446      0.0      0.0  neutron    pi+      solid  0.000446  "
      ]
     },
     "execution_count": 4,
     "metadata": {},
     "output_type": "execute_result"
    }
   ],
   "source": [
    "df_3xs_zQ2xbjPhT = pd.read_csv('../Unpol_proposal/Materials/simenhanced_3xs.dat',delim_whitespace=True)\n",
    "df_3xs_zQ2xbjPhT.head()"
   ]
  },
  {
   "cell_type": "code",
   "execution_count": 5,
   "id": "647ddbe4",
   "metadata": {},
   "outputs": [],
   "source": [
    "z_cuts=[0.3,0.4,0.5,0.6]\n",
    "Q2_cuts=[1,2,3,4,5]\n",
    "xbj_cuts=[0,0.7]\n",
    "PhT_cuts=[0.05,0.35]\n",
    "phih_bins = [0.5,1,1.5,2,2.5,3]\n",
    "df_1xs_zQ2=df_1xs_zQ2xbjPhT[df_1xs_zQ2xbjPhT['x']>xbj_cuts[0]][df_1xs_zQ2xbjPhT['x']<xbj_cuts[1]][df_1xs_zQ2xbjPhT['pT']>PhT_cuts[0]][df_1xs_zQ2xbjPhT['pT']<PhT_cuts[1]]\n",
    "df_3xs_zQ2=df_3xs_zQ2xbjPhT[df_3xs_zQ2xbjPhT['x']>xbj_cuts[0]][df_3xs_zQ2xbjPhT['x']<xbj_cuts[1]][df_3xs_zQ2xbjPhT['pT']>PhT_cuts[0]][df_3xs_zQ2xbjPhT['pT']<PhT_cuts[1]]"
   ]
  },
  {
   "cell_type": "code",
   "execution_count": 6,
   "id": "a584580b",
   "metadata": {},
   "outputs": [
    {
     "name": "stdout",
     "output_type": "stream",
     "text": [
      "84\n",
      "84\n"
     ]
    },
    {
     "name": "stderr",
     "output_type": "stream",
     "text": [
      "/var/folders/ll/8_2_l77j4yl2zjb6stl8d9b00000gn/T/ipykernel_52895/2668002078.py:1: UserWarning: Boolean Series key will be reindexed to match DataFrame index.\n",
      "  df_1xs_1_1 = df_1xs_zQ2[df_1xs_zQ2['z']>z_cuts[0]][df_1xs_zQ2['z']<z_cuts[1]][df_1xs_zQ2['Q2']>Q2_cuts[0]][df_1xs_zQ2['Q2']<Q2_cuts[1]]\n"
     ]
    }
   ],
   "source": [
    "df_1xs_1_1 = df_1xs_zQ2[df_1xs_zQ2['z']>z_cuts[0]][df_1xs_zQ2['z']<z_cuts[1]][df_1xs_zQ2['Q2']>Q2_cuts[0]][df_1xs_zQ2['Q2']<Q2_cuts[1]]\n",
    "print(len(df_1xs_1_1[df_1xs_1_1['Ebeam']==11.0]))\n",
    "print(len(df_1xs_1_1[df_1xs_1_1['Ebeam']==11.0]['phih'].unique()))"
   ]
  },
  {
   "cell_type": "code",
   "execution_count": 7,
   "id": "03421260",
   "metadata": {},
   "outputs": [
    {
     "name": "stdout",
     "output_type": "stream",
     "text": [
      "84\n",
      "84\n"
     ]
    },
    {
     "name": "stderr",
     "output_type": "stream",
     "text": [
      "/var/folders/ll/8_2_l77j4yl2zjb6stl8d9b00000gn/T/ipykernel_52895/1735272136.py:1: UserWarning: Boolean Series key will be reindexed to match DataFrame index.\n",
      "  df_3xs_1_1 = df_3xs_zQ2[df_3xs_zQ2['z']>z_cuts[0]][df_3xs_zQ2['z']<z_cuts[1]][df_3xs_zQ2['Q2']>Q2_cuts[0]][df_3xs_zQ2['Q2']<Q2_cuts[1]]\n"
     ]
    }
   ],
   "source": [
    "df_3xs_1_1 = df_3xs_zQ2[df_3xs_zQ2['z']>z_cuts[0]][df_3xs_zQ2['z']<z_cuts[1]][df_3xs_zQ2['Q2']>Q2_cuts[0]][df_3xs_zQ2['Q2']<Q2_cuts[1]]\n",
    "print(len(df_3xs_1_1[df_3xs_1_1['Ebeam']==11.0]))\n",
    "print(len(df_3xs_1_1[df_3xs_1_1['Ebeam']==11.0]['phih'].unique()))"
   ]
  },
  {
   "cell_type": "code",
   "execution_count": 8,
   "id": "e7518a7d",
   "metadata": {},
   "outputs": [
    {
     "name": "stdout",
     "output_type": "stream",
     "text": [
      "84\n",
      "84\n"
     ]
    },
    {
     "name": "stderr",
     "output_type": "stream",
     "text": [
      "/var/folders/ll/8_2_l77j4yl2zjb6stl8d9b00000gn/T/ipykernel_52895/187137021.py:1: UserWarning: Boolean Series key will be reindexed to match DataFrame index.\n",
      "  df_1xs_1_2 = df_1xs_zQ2[df_1xs_zQ2['z']>z_cuts[1]][df_1xs_zQ2['z']<z_cuts[2]][df_1xs_zQ2['Q2']>Q2_cuts[0]][df_1xs_zQ2['Q2']<Q2_cuts[1]]\n"
     ]
    }
   ],
   "source": [
    "df_1xs_1_2 = df_1xs_zQ2[df_1xs_zQ2['z']>z_cuts[1]][df_1xs_zQ2['z']<z_cuts[2]][df_1xs_zQ2['Q2']>Q2_cuts[0]][df_1xs_zQ2['Q2']<Q2_cuts[1]]\n",
    "print(len(df_1xs_1_1[df_1xs_1_1['Ebeam']==11.0]))\n",
    "print(len(df_1xs_1_1[df_1xs_1_1['Ebeam']==11.0]['phih'].unique()))"
   ]
  },
  {
   "cell_type": "code",
   "execution_count": 9,
   "id": "bd45ccde",
   "metadata": {},
   "outputs": [
    {
     "name": "stdout",
     "output_type": "stream",
     "text": [
      "84\n",
      "84\n"
     ]
    },
    {
     "name": "stderr",
     "output_type": "stream",
     "text": [
      "/var/folders/ll/8_2_l77j4yl2zjb6stl8d9b00000gn/T/ipykernel_52895/660959689.py:1: UserWarning: Boolean Series key will be reindexed to match DataFrame index.\n",
      "  df_3xs_1_2 = df_3xs_zQ2[df_3xs_zQ2['z']>z_cuts[1]][df_3xs_zQ2['z']<z_cuts[2]][df_3xs_zQ2['Q2']>Q2_cuts[0]][df_3xs_zQ2['Q2']<Q2_cuts[1]]\n"
     ]
    }
   ],
   "source": [
    "df_3xs_1_2 = df_3xs_zQ2[df_3xs_zQ2['z']>z_cuts[1]][df_3xs_zQ2['z']<z_cuts[2]][df_3xs_zQ2['Q2']>Q2_cuts[0]][df_3xs_zQ2['Q2']<Q2_cuts[1]]\n",
    "print(len(df_3xs_1_1[df_3xs_1_1['Ebeam']==11.0]))\n",
    "print(len(df_3xs_1_1[df_3xs_1_1['Ebeam']==11.0]['phih'].unique()))"
   ]
  },
  {
   "cell_type": "code",
   "execution_count": 10,
   "id": "640b0d75",
   "metadata": {},
   "outputs": [
    {
     "name": "stdout",
     "output_type": "stream",
     "text": [
      "84\n",
      "84\n"
     ]
    },
    {
     "name": "stderr",
     "output_type": "stream",
     "text": [
      "/var/folders/ll/8_2_l77j4yl2zjb6stl8d9b00000gn/T/ipykernel_52895/2016405503.py:1: UserWarning: Boolean Series key will be reindexed to match DataFrame index.\n",
      "  df_1xs_1_3 = df_1xs_zQ2[df_1xs_zQ2['z']>z_cuts[2]][df_1xs_zQ2['z']<z_cuts[3]][df_1xs_zQ2['Q2']>Q2_cuts[0]][df_1xs_zQ2['Q2']<Q2_cuts[1]]\n"
     ]
    }
   ],
   "source": [
    "df_1xs_1_3 = df_1xs_zQ2[df_1xs_zQ2['z']>z_cuts[2]][df_1xs_zQ2['z']<z_cuts[3]][df_1xs_zQ2['Q2']>Q2_cuts[0]][df_1xs_zQ2['Q2']<Q2_cuts[1]]\n",
    "print(len(df_1xs_1_1[df_1xs_1_1['Ebeam']==11.0]))\n",
    "print(len(df_1xs_1_1[df_1xs_1_1['Ebeam']==11.0]['phih'].unique()))"
   ]
  },
  {
   "cell_type": "code",
   "execution_count": 11,
   "id": "63ffe9ad",
   "metadata": {},
   "outputs": [
    {
     "name": "stdout",
     "output_type": "stream",
     "text": [
      "84\n",
      "84\n"
     ]
    },
    {
     "name": "stderr",
     "output_type": "stream",
     "text": [
      "/var/folders/ll/8_2_l77j4yl2zjb6stl8d9b00000gn/T/ipykernel_52895/2130574157.py:1: UserWarning: Boolean Series key will be reindexed to match DataFrame index.\n",
      "  df_3xs_1_3 = df_3xs_zQ2[df_3xs_zQ2['z']>z_cuts[2]][df_3xs_zQ2['z']<z_cuts[3]][df_3xs_zQ2['Q2']>Q2_cuts[0]][df_3xs_zQ2['Q2']<Q2_cuts[1]]\n"
     ]
    }
   ],
   "source": [
    "df_3xs_1_3 = df_3xs_zQ2[df_3xs_zQ2['z']>z_cuts[2]][df_3xs_zQ2['z']<z_cuts[3]][df_3xs_zQ2['Q2']>Q2_cuts[0]][df_3xs_zQ2['Q2']<Q2_cuts[1]]\n",
    "print(len(df_3xs_1_1[df_3xs_1_1['Ebeam']==11.0]))\n",
    "print(len(df_3xs_1_1[df_3xs_1_1['Ebeam']==11.0]['phih'].unique()))"
   ]
  },
  {
   "cell_type": "code",
   "execution_count": 12,
   "id": "b244be00",
   "metadata": {
    "scrolled": true
   },
   "outputs": [
    {
     "name": "stdout",
     "output_type": "stream",
     "text": [
      "84\n",
      "84\n"
     ]
    },
    {
     "name": "stderr",
     "output_type": "stream",
     "text": [
      "/var/folders/ll/8_2_l77j4yl2zjb6stl8d9b00000gn/T/ipykernel_52895/4258856607.py:1: UserWarning: Boolean Series key will be reindexed to match DataFrame index.\n",
      "  df_1xs_2_1 = df_1xs_zQ2[df_1xs_zQ2['z']>z_cuts[0]][df_1xs_zQ2['z']<z_cuts[1]][df_1xs_zQ2['Q2']>Q2_cuts[1]][df_1xs_zQ2['Q2']<Q2_cuts[2]]\n"
     ]
    }
   ],
   "source": [
    "df_1xs_2_1 = df_1xs_zQ2[df_1xs_zQ2['z']>z_cuts[0]][df_1xs_zQ2['z']<z_cuts[1]][df_1xs_zQ2['Q2']>Q2_cuts[1]][df_1xs_zQ2['Q2']<Q2_cuts[2]]\n",
    "print(len(df_1xs_1_1[df_1xs_1_1['Ebeam']==11.0]))\n",
    "print(len(df_1xs_1_1[df_1xs_1_1['Ebeam']==11.0]['phih'].unique()))"
   ]
  },
  {
   "cell_type": "code",
   "execution_count": 13,
   "id": "cdb0919f",
   "metadata": {
    "scrolled": true
   },
   "outputs": [
    {
     "name": "stdout",
     "output_type": "stream",
     "text": [
      "84\n",
      "84\n"
     ]
    },
    {
     "name": "stderr",
     "output_type": "stream",
     "text": [
      "/var/folders/ll/8_2_l77j4yl2zjb6stl8d9b00000gn/T/ipykernel_52895/38913910.py:1: UserWarning: Boolean Series key will be reindexed to match DataFrame index.\n",
      "  df_3xs_2_1 = df_3xs_zQ2[df_3xs_zQ2['z']>z_cuts[0]][df_3xs_zQ2['z']<z_cuts[1]][df_3xs_zQ2['Q2']>Q2_cuts[1]][df_3xs_zQ2['Q2']<Q2_cuts[2]]\n"
     ]
    }
   ],
   "source": [
    "df_3xs_2_1 = df_3xs_zQ2[df_3xs_zQ2['z']>z_cuts[0]][df_3xs_zQ2['z']<z_cuts[1]][df_3xs_zQ2['Q2']>Q2_cuts[1]][df_3xs_zQ2['Q2']<Q2_cuts[2]]\n",
    "print(len(df_3xs_1_1[df_3xs_1_1['Ebeam']==11.0]))\n",
    "print(len(df_3xs_1_1[df_3xs_1_1['Ebeam']==11.0]['phih'].unique()))"
   ]
  },
  {
   "cell_type": "code",
   "execution_count": 14,
   "id": "1026a51c",
   "metadata": {},
   "outputs": [
    {
     "name": "stdout",
     "output_type": "stream",
     "text": [
      "84\n",
      "84\n"
     ]
    },
    {
     "name": "stderr",
     "output_type": "stream",
     "text": [
      "/var/folders/ll/8_2_l77j4yl2zjb6stl8d9b00000gn/T/ipykernel_52895/957587887.py:1: UserWarning: Boolean Series key will be reindexed to match DataFrame index.\n",
      "  df_1xs_2_2 = df_1xs_zQ2[df_1xs_zQ2['z']>z_cuts[1]][df_1xs_zQ2['z']<z_cuts[2]][df_1xs_zQ2['Q2']>Q2_cuts[1]][df_1xs_zQ2['Q2']<Q2_cuts[2]]\n"
     ]
    }
   ],
   "source": [
    "df_1xs_2_2 = df_1xs_zQ2[df_1xs_zQ2['z']>z_cuts[1]][df_1xs_zQ2['z']<z_cuts[2]][df_1xs_zQ2['Q2']>Q2_cuts[1]][df_1xs_zQ2['Q2']<Q2_cuts[2]]\n",
    "print(len(df_1xs_1_1[df_1xs_1_1['Ebeam']==11.0]))\n",
    "print(len(df_1xs_1_1[df_1xs_1_1['Ebeam']==11.0]['phih'].unique()))"
   ]
  },
  {
   "cell_type": "code",
   "execution_count": 15,
   "id": "e64dc8df",
   "metadata": {},
   "outputs": [
    {
     "name": "stdout",
     "output_type": "stream",
     "text": [
      "84\n",
      "84\n"
     ]
    },
    {
     "name": "stderr",
     "output_type": "stream",
     "text": [
      "/var/folders/ll/8_2_l77j4yl2zjb6stl8d9b00000gn/T/ipykernel_52895/1303666535.py:1: UserWarning: Boolean Series key will be reindexed to match DataFrame index.\n",
      "  df_3xs_2_2 = df_3xs_zQ2[df_3xs_zQ2['z']>z_cuts[1]][df_3xs_zQ2['z']<z_cuts[2]][df_3xs_zQ2['Q2']>Q2_cuts[1]][df_3xs_zQ2['Q2']<Q2_cuts[2]]\n"
     ]
    }
   ],
   "source": [
    "df_3xs_2_2 = df_3xs_zQ2[df_3xs_zQ2['z']>z_cuts[1]][df_3xs_zQ2['z']<z_cuts[2]][df_3xs_zQ2['Q2']>Q2_cuts[1]][df_3xs_zQ2['Q2']<Q2_cuts[2]]\n",
    "print(len(df_3xs_1_1[df_3xs_1_1['Ebeam']==11.0]))\n",
    "print(len(df_3xs_1_1[df_3xs_1_1['Ebeam']==11.0]['phih'].unique()))"
   ]
  },
  {
   "cell_type": "code",
   "execution_count": 16,
   "id": "95a56d30",
   "metadata": {},
   "outputs": [
    {
     "name": "stdout",
     "output_type": "stream",
     "text": [
      "84\n",
      "84\n"
     ]
    },
    {
     "name": "stderr",
     "output_type": "stream",
     "text": [
      "/var/folders/ll/8_2_l77j4yl2zjb6stl8d9b00000gn/T/ipykernel_52895/614530096.py:1: UserWarning: Boolean Series key will be reindexed to match DataFrame index.\n",
      "  df_1xs_2_3 = df_1xs_zQ2[df_1xs_zQ2['z']>z_cuts[2]][df_1xs_zQ2['z']<z_cuts[3]][df_1xs_zQ2['Q2']>Q2_cuts[1]][df_1xs_zQ2['Q2']<Q2_cuts[2]]\n"
     ]
    }
   ],
   "source": [
    "df_1xs_2_3 = df_1xs_zQ2[df_1xs_zQ2['z']>z_cuts[2]][df_1xs_zQ2['z']<z_cuts[3]][df_1xs_zQ2['Q2']>Q2_cuts[1]][df_1xs_zQ2['Q2']<Q2_cuts[2]]\n",
    "print(len(df_1xs_1_1[df_1xs_1_1['Ebeam']==11.0]))\n",
    "print(len(df_1xs_1_1[df_1xs_1_1['Ebeam']==11.0]['phih'].unique()))"
   ]
  },
  {
   "cell_type": "code",
   "execution_count": 17,
   "id": "b31752c2",
   "metadata": {},
   "outputs": [
    {
     "name": "stdout",
     "output_type": "stream",
     "text": [
      "84\n",
      "84\n"
     ]
    },
    {
     "name": "stderr",
     "output_type": "stream",
     "text": [
      "/var/folders/ll/8_2_l77j4yl2zjb6stl8d9b00000gn/T/ipykernel_52895/2563255446.py:1: UserWarning: Boolean Series key will be reindexed to match DataFrame index.\n",
      "  df_3xs_2_3 = df_3xs_zQ2[df_3xs_zQ2['z']>z_cuts[2]][df_3xs_zQ2['z']<z_cuts[3]][df_3xs_zQ2['Q2']>Q2_cuts[1]][df_3xs_zQ2['Q2']<Q2_cuts[2]]\n"
     ]
    }
   ],
   "source": [
    "df_3xs_2_3 = df_3xs_zQ2[df_3xs_zQ2['z']>z_cuts[2]][df_3xs_zQ2['z']<z_cuts[3]][df_3xs_zQ2['Q2']>Q2_cuts[1]][df_3xs_zQ2['Q2']<Q2_cuts[2]]\n",
    "print(len(df_3xs_1_1[df_3xs_1_1['Ebeam']==11.0]))\n",
    "print(len(df_3xs_1_1[df_3xs_1_1['Ebeam']==11.0]['phih'].unique()))"
   ]
  },
  {
   "cell_type": "code",
   "execution_count": 18,
   "id": "7909fb0a",
   "metadata": {
    "scrolled": false
   },
   "outputs": [
    {
     "name": "stdout",
     "output_type": "stream",
     "text": [
      "84\n",
      "84\n"
     ]
    },
    {
     "name": "stderr",
     "output_type": "stream",
     "text": [
      "/var/folders/ll/8_2_l77j4yl2zjb6stl8d9b00000gn/T/ipykernel_52895/2105384112.py:1: UserWarning: Boolean Series key will be reindexed to match DataFrame index.\n",
      "  df_1xs_3_1 = df_1xs_zQ2[df_1xs_zQ2['z']>z_cuts[0]][df_1xs_zQ2['z']<z_cuts[1]][df_1xs_zQ2['Q2']>Q2_cuts[2]][df_1xs_zQ2['Q2']<Q2_cuts[3]]\n"
     ]
    }
   ],
   "source": [
    "df_1xs_3_1 = df_1xs_zQ2[df_1xs_zQ2['z']>z_cuts[0]][df_1xs_zQ2['z']<z_cuts[1]][df_1xs_zQ2['Q2']>Q2_cuts[2]][df_1xs_zQ2['Q2']<Q2_cuts[3]]\n",
    "print(len(df_1xs_1_1[df_1xs_1_1['Ebeam']==11.0]))\n",
    "print(len(df_1xs_1_1[df_1xs_1_1['Ebeam']==11.0]['phih'].unique()))"
   ]
  },
  {
   "cell_type": "code",
   "execution_count": 19,
   "id": "d210765d",
   "metadata": {
    "scrolled": false
   },
   "outputs": [
    {
     "name": "stdout",
     "output_type": "stream",
     "text": [
      "84\n",
      "84\n"
     ]
    },
    {
     "name": "stderr",
     "output_type": "stream",
     "text": [
      "/var/folders/ll/8_2_l77j4yl2zjb6stl8d9b00000gn/T/ipykernel_52895/3731236058.py:1: UserWarning: Boolean Series key will be reindexed to match DataFrame index.\n",
      "  df_3xs_3_1 = df_3xs_zQ2[df_3xs_zQ2['z']>z_cuts[0]][df_3xs_zQ2['z']<z_cuts[1]][df_3xs_zQ2['Q2']>Q2_cuts[2]][df_3xs_zQ2['Q2']<Q2_cuts[3]]\n"
     ]
    }
   ],
   "source": [
    "df_3xs_3_1 = df_3xs_zQ2[df_3xs_zQ2['z']>z_cuts[0]][df_3xs_zQ2['z']<z_cuts[1]][df_3xs_zQ2['Q2']>Q2_cuts[2]][df_3xs_zQ2['Q2']<Q2_cuts[3]]\n",
    "print(len(df_3xs_1_1[df_3xs_1_1['Ebeam']==11.0]))\n",
    "print(len(df_3xs_1_1[df_3xs_1_1['Ebeam']==11.0]['phih'].unique()))"
   ]
  },
  {
   "cell_type": "code",
   "execution_count": 20,
   "id": "23a33b67",
   "metadata": {
    "scrolled": true
   },
   "outputs": [
    {
     "name": "stdout",
     "output_type": "stream",
     "text": [
      "84\n",
      "84\n"
     ]
    },
    {
     "name": "stderr",
     "output_type": "stream",
     "text": [
      "/var/folders/ll/8_2_l77j4yl2zjb6stl8d9b00000gn/T/ipykernel_52895/2875546147.py:1: UserWarning: Boolean Series key will be reindexed to match DataFrame index.\n",
      "  df_1xs_3_2 = df_1xs_zQ2[df_1xs_zQ2['z']>z_cuts[1]][df_1xs_zQ2['z']<z_cuts[2]][df_1xs_zQ2['Q2']>Q2_cuts[2]][df_1xs_zQ2['Q2']<Q2_cuts[3]]\n"
     ]
    }
   ],
   "source": [
    "df_1xs_3_2 = df_1xs_zQ2[df_1xs_zQ2['z']>z_cuts[1]][df_1xs_zQ2['z']<z_cuts[2]][df_1xs_zQ2['Q2']>Q2_cuts[2]][df_1xs_zQ2['Q2']<Q2_cuts[3]]\n",
    "print(len(df_1xs_1_1[df_1xs_1_1['Ebeam']==11.0]))\n",
    "print(len(df_1xs_1_1[df_1xs_1_1['Ebeam']==11.0]['phih'].unique()))"
   ]
  },
  {
   "cell_type": "code",
   "execution_count": 21,
   "id": "292d2e45",
   "metadata": {
    "scrolled": true
   },
   "outputs": [
    {
     "name": "stdout",
     "output_type": "stream",
     "text": [
      "84\n",
      "84\n"
     ]
    },
    {
     "name": "stderr",
     "output_type": "stream",
     "text": [
      "/var/folders/ll/8_2_l77j4yl2zjb6stl8d9b00000gn/T/ipykernel_52895/4239354454.py:1: UserWarning: Boolean Series key will be reindexed to match DataFrame index.\n",
      "  df_3xs_3_2 = df_3xs_zQ2[df_3xs_zQ2['z']>z_cuts[1]][df_3xs_zQ2['z']<z_cuts[2]][df_3xs_zQ2['Q2']>Q2_cuts[2]][df_3xs_zQ2['Q2']<Q2_cuts[3]]\n"
     ]
    }
   ],
   "source": [
    "df_3xs_3_2 = df_3xs_zQ2[df_3xs_zQ2['z']>z_cuts[1]][df_3xs_zQ2['z']<z_cuts[2]][df_3xs_zQ2['Q2']>Q2_cuts[2]][df_3xs_zQ2['Q2']<Q2_cuts[3]]\n",
    "print(len(df_3xs_1_1[df_3xs_1_1['Ebeam']==11.0]))\n",
    "print(len(df_3xs_1_1[df_3xs_1_1['Ebeam']==11.0]['phih'].unique()))"
   ]
  },
  {
   "cell_type": "code",
   "execution_count": 22,
   "id": "b02cf740",
   "metadata": {
    "scrolled": true
   },
   "outputs": [
    {
     "name": "stdout",
     "output_type": "stream",
     "text": [
      "84\n",
      "84\n"
     ]
    },
    {
     "name": "stderr",
     "output_type": "stream",
     "text": [
      "/var/folders/ll/8_2_l77j4yl2zjb6stl8d9b00000gn/T/ipykernel_52895/3204621015.py:1: UserWarning: Boolean Series key will be reindexed to match DataFrame index.\n",
      "  df_1xs_3_3 = df_1xs_zQ2[df_1xs_zQ2['z']>z_cuts[2]][df_1xs_zQ2['z']<z_cuts[3]][df_1xs_zQ2['Q2']>Q2_cuts[2]][df_1xs_zQ2['Q2']<Q2_cuts[3]]\n"
     ]
    }
   ],
   "source": [
    "df_1xs_3_3 = df_1xs_zQ2[df_1xs_zQ2['z']>z_cuts[2]][df_1xs_zQ2['z']<z_cuts[3]][df_1xs_zQ2['Q2']>Q2_cuts[2]][df_1xs_zQ2['Q2']<Q2_cuts[3]]\n",
    "print(len(df_1xs_1_1[df_1xs_1_1['Ebeam']==11.0]))\n",
    "print(len(df_1xs_1_1[df_1xs_1_1['Ebeam']==11.0]['phih'].unique()))"
   ]
  },
  {
   "cell_type": "code",
   "execution_count": 23,
   "id": "c52abfa6",
   "metadata": {
    "scrolled": true
   },
   "outputs": [
    {
     "name": "stdout",
     "output_type": "stream",
     "text": [
      "84\n",
      "84\n"
     ]
    },
    {
     "name": "stderr",
     "output_type": "stream",
     "text": [
      "/var/folders/ll/8_2_l77j4yl2zjb6stl8d9b00000gn/T/ipykernel_52895/165647900.py:1: UserWarning: Boolean Series key will be reindexed to match DataFrame index.\n",
      "  df_3xs_3_3 = df_3xs_zQ2[df_3xs_zQ2['z']>z_cuts[2]][df_3xs_zQ2['z']<z_cuts[3]][df_3xs_zQ2['Q2']>Q2_cuts[2]][df_3xs_zQ2['Q2']<Q2_cuts[3]]\n"
     ]
    }
   ],
   "source": [
    "df_3xs_3_3 = df_3xs_zQ2[df_3xs_zQ2['z']>z_cuts[2]][df_3xs_zQ2['z']<z_cuts[3]][df_3xs_zQ2['Q2']>Q2_cuts[2]][df_3xs_zQ2['Q2']<Q2_cuts[3]]\n",
    "print(len(df_3xs_1_1[df_3xs_1_1['Ebeam']==11.0]))\n",
    "print(len(df_3xs_1_1[df_3xs_1_1['Ebeam']==11.0]['phih'].unique()))"
   ]
  },
  {
   "cell_type": "code",
   "execution_count": 24,
   "id": "3f150745",
   "metadata": {
    "scrolled": true
   },
   "outputs": [
    {
     "name": "stdout",
     "output_type": "stream",
     "text": [
      "84\n",
      "84\n"
     ]
    },
    {
     "name": "stderr",
     "output_type": "stream",
     "text": [
      "/var/folders/ll/8_2_l77j4yl2zjb6stl8d9b00000gn/T/ipykernel_52895/1080734928.py:1: UserWarning: Boolean Series key will be reindexed to match DataFrame index.\n",
      "  df_1xs_4_1 = df_1xs_zQ2[df_1xs_zQ2['z']>z_cuts[0]][df_1xs_zQ2['z']<z_cuts[1]][df_1xs_zQ2['Q2']>Q2_cuts[3]][df_1xs_zQ2['Q2']<Q2_cuts[4]]\n"
     ]
    }
   ],
   "source": [
    "df_1xs_4_1 = df_1xs_zQ2[df_1xs_zQ2['z']>z_cuts[0]][df_1xs_zQ2['z']<z_cuts[1]][df_1xs_zQ2['Q2']>Q2_cuts[3]][df_1xs_zQ2['Q2']<Q2_cuts[4]]\n",
    "print(len(df_1xs_1_1[df_1xs_1_1['Ebeam']==11.0]))\n",
    "print(len(df_1xs_1_1[df_1xs_1_1['Ebeam']==11.0]['phih'].unique()))"
   ]
  },
  {
   "cell_type": "code",
   "execution_count": 25,
   "id": "179a7c9a",
   "metadata": {
    "scrolled": true
   },
   "outputs": [
    {
     "name": "stdout",
     "output_type": "stream",
     "text": [
      "84\n",
      "84\n"
     ]
    },
    {
     "name": "stderr",
     "output_type": "stream",
     "text": [
      "/var/folders/ll/8_2_l77j4yl2zjb6stl8d9b00000gn/T/ipykernel_52895/2895693434.py:1: UserWarning: Boolean Series key will be reindexed to match DataFrame index.\n",
      "  df_3xs_4_1 = df_3xs_zQ2[df_3xs_zQ2['z']>z_cuts[0]][df_3xs_zQ2['z']<z_cuts[1]][df_3xs_zQ2['Q2']>Q2_cuts[3]][df_3xs_zQ2['Q2']<Q2_cuts[4]]\n"
     ]
    }
   ],
   "source": [
    "df_3xs_4_1 = df_3xs_zQ2[df_3xs_zQ2['z']>z_cuts[0]][df_3xs_zQ2['z']<z_cuts[1]][df_3xs_zQ2['Q2']>Q2_cuts[3]][df_3xs_zQ2['Q2']<Q2_cuts[4]]\n",
    "print(len(df_3xs_1_1[df_3xs_1_1['Ebeam']==11.0]))\n",
    "print(len(df_3xs_1_1[df_3xs_1_1['Ebeam']==11.0]['phih'].unique()))"
   ]
  },
  {
   "cell_type": "code",
   "execution_count": 26,
   "id": "120e1dbb",
   "metadata": {
    "scrolled": true
   },
   "outputs": [
    {
     "name": "stdout",
     "output_type": "stream",
     "text": [
      "84\n",
      "84\n"
     ]
    },
    {
     "name": "stderr",
     "output_type": "stream",
     "text": [
      "/var/folders/ll/8_2_l77j4yl2zjb6stl8d9b00000gn/T/ipykernel_52895/1416687606.py:1: UserWarning: Boolean Series key will be reindexed to match DataFrame index.\n",
      "  df_1xs_4_2 = df_1xs_zQ2[df_1xs_zQ2['z']>z_cuts[1]][df_1xs_zQ2['z']<z_cuts[2]][df_1xs_zQ2['Q2']>Q2_cuts[3]][df_1xs_zQ2['Q2']<Q2_cuts[4]]\n"
     ]
    }
   ],
   "source": [
    "df_1xs_4_2 = df_1xs_zQ2[df_1xs_zQ2['z']>z_cuts[1]][df_1xs_zQ2['z']<z_cuts[2]][df_1xs_zQ2['Q2']>Q2_cuts[3]][df_1xs_zQ2['Q2']<Q2_cuts[4]]\n",
    "print(len(df_1xs_1_1[df_1xs_1_1['Ebeam']==11.0]))\n",
    "print(len(df_1xs_1_1[df_1xs_1_1['Ebeam']==11.0]['phih'].unique()))"
   ]
  },
  {
   "cell_type": "code",
   "execution_count": 27,
   "id": "46f02075",
   "metadata": {
    "scrolled": true
   },
   "outputs": [
    {
     "name": "stdout",
     "output_type": "stream",
     "text": [
      "84\n",
      "84\n"
     ]
    },
    {
     "name": "stderr",
     "output_type": "stream",
     "text": [
      "/var/folders/ll/8_2_l77j4yl2zjb6stl8d9b00000gn/T/ipykernel_52895/2507560876.py:1: UserWarning: Boolean Series key will be reindexed to match DataFrame index.\n",
      "  df_3xs_4_2 = df_3xs_zQ2[df_3xs_zQ2['z']>z_cuts[1]][df_3xs_zQ2['z']<z_cuts[2]][df_3xs_zQ2['Q2']>Q2_cuts[3]][df_3xs_zQ2['Q2']<Q2_cuts[4]]\n"
     ]
    }
   ],
   "source": [
    "df_3xs_4_2 = df_3xs_zQ2[df_3xs_zQ2['z']>z_cuts[1]][df_3xs_zQ2['z']<z_cuts[2]][df_3xs_zQ2['Q2']>Q2_cuts[3]][df_3xs_zQ2['Q2']<Q2_cuts[4]]\n",
    "print(len(df_3xs_1_1[df_3xs_1_1['Ebeam']==11.0]))\n",
    "print(len(df_3xs_1_1[df_3xs_1_1['Ebeam']==11.0]['phih'].unique()))"
   ]
  },
  {
   "cell_type": "code",
   "execution_count": 28,
   "id": "bef948c4",
   "metadata": {
    "scrolled": true
   },
   "outputs": [
    {
     "name": "stdout",
     "output_type": "stream",
     "text": [
      "84\n",
      "84\n"
     ]
    },
    {
     "name": "stderr",
     "output_type": "stream",
     "text": [
      "/var/folders/ll/8_2_l77j4yl2zjb6stl8d9b00000gn/T/ipykernel_52895/1020995793.py:1: UserWarning: Boolean Series key will be reindexed to match DataFrame index.\n",
      "  df_1xs_4_3 = df_1xs_zQ2[df_1xs_zQ2['z']>z_cuts[2]][df_1xs_zQ2['z']<z_cuts[3]][df_1xs_zQ2['Q2']>Q2_cuts[3]][df_1xs_zQ2['Q2']<Q2_cuts[4]]\n"
     ]
    }
   ],
   "source": [
    "df_1xs_4_3 = df_1xs_zQ2[df_1xs_zQ2['z']>z_cuts[2]][df_1xs_zQ2['z']<z_cuts[3]][df_1xs_zQ2['Q2']>Q2_cuts[3]][df_1xs_zQ2['Q2']<Q2_cuts[4]]\n",
    "print(len(df_1xs_1_1[df_1xs_1_1['Ebeam']==11.0]))\n",
    "print(len(df_1xs_1_1[df_1xs_1_1['Ebeam']==11.0]['phih'].unique()))"
   ]
  },
  {
   "cell_type": "code",
   "execution_count": 29,
   "id": "a1157c4b",
   "metadata": {
    "scrolled": true
   },
   "outputs": [
    {
     "name": "stdout",
     "output_type": "stream",
     "text": [
      "84\n",
      "84\n"
     ]
    },
    {
     "name": "stderr",
     "output_type": "stream",
     "text": [
      "/var/folders/ll/8_2_l77j4yl2zjb6stl8d9b00000gn/T/ipykernel_52895/1849816026.py:1: UserWarning: Boolean Series key will be reindexed to match DataFrame index.\n",
      "  df_3xs_4_3 = df_3xs_zQ2[df_3xs_zQ2['z']>z_cuts[2]][df_3xs_zQ2['z']<z_cuts[3]][df_3xs_zQ2['Q2']>Q2_cuts[3]][df_3xs_zQ2['Q2']<Q2_cuts[4]]\n"
     ]
    }
   ],
   "source": [
    "df_3xs_4_3 = df_3xs_zQ2[df_3xs_zQ2['z']>z_cuts[2]][df_3xs_zQ2['z']<z_cuts[3]][df_3xs_zQ2['Q2']>Q2_cuts[3]][df_3xs_zQ2['Q2']<Q2_cuts[4]]\n",
    "print(len(df_3xs_1_1[df_3xs_1_1['Ebeam']==11.0]))\n",
    "print(len(df_3xs_1_1[df_3xs_1_1['Ebeam']==11.0]['phih'].unique()))"
   ]
  },
  {
   "cell_type": "code",
   "execution_count": 30,
   "id": "52c5f85c",
   "metadata": {},
   "outputs": [
    {
     "name": "stderr",
     "output_type": "stream",
     "text": [
      "/var/folders/ll/8_2_l77j4yl2zjb6stl8d9b00000gn/T/ipykernel_52895/3813463933.py:6: UserWarning: Boolean Series key will be reindexed to match DataFrame index.\n",
      "  Fuu_value = df_1xs_1_1[df_1xs_1_1['Ebeam']==11.0][df_1xs_1_1['phih']==i_phih_1_1]['value']\n",
      "/var/folders/ll/8_2_l77j4yl2zjb6stl8d9b00000gn/T/ipykernel_52895/3813463933.py:7: UserWarning: Boolean Series key will be reindexed to match DataFrame index.\n",
      "  Fuu_stat = df_1xs_1_1[df_1xs_1_1['Ebeam']==11.0][df_1xs_1_1['phih']==i_phih_1_1]['stat']\n",
      "/var/folders/ll/8_2_l77j4yl2zjb6stl8d9b00000gn/T/ipykernel_52895/3813463933.py:18: UserWarning: Boolean Series key will be reindexed to match DataFrame index.\n",
      "  Fuu_value = df_1xs_1_1[df_1xs_1_1['Ebeam']==8.8][df_1xs_1_1['phih']==i_phih_1_1_Eb2]['value']\n",
      "/var/folders/ll/8_2_l77j4yl2zjb6stl8d9b00000gn/T/ipykernel_52895/3813463933.py:19: UserWarning: Boolean Series key will be reindexed to match DataFrame index.\n",
      "  Fuu_stat = df_1xs_1_1[df_1xs_1_1['Ebeam']==8.8][df_1xs_1_1['phih']==i_phih_1_1_Eb2]['stat']\n"
     ]
    },
    {
     "data": {
      "text/plain": [
       "(0.01, 0.2)"
      ]
     },
     "execution_count": 30,
     "metadata": {},
     "output_type": "execute_result"
    },
    {
     "data": {
      "image/png": "[encoded data removed]",
      "text/plain": [
       "<Figure size 432x288 with 1 Axes>"
      ]
     },
     "metadata": {
      "needs_background": "light"
     },
     "output_type": "display_data"
    }
   ],
   "source": [
    "fig = plt.figure()\n",
    "ax = fig.add_subplot()\n",
    "phih_1_1 = df_1xs_1_1[df_1xs_1_1['Ebeam']==11.0]['phih']\n",
    "Fuu_1_1 = df_1xs_1_1[df_1xs_1_1['Ebeam']==11.0]['value']\n",
    "for i_phih_1_1 in phih_1_1:\n",
    "    Fuu_value = df_1xs_1_1[df_1xs_1_1['Ebeam']==11.0][df_1xs_1_1['phih']==i_phih_1_1]['value']\n",
    "    Fuu_stat = df_1xs_1_1[df_1xs_1_1['Ebeam']==11.0][df_1xs_1_1['phih']==i_phih_1_1]['stat']\n",
    "    #Fuu_1_1_sys.append(df_1xs_1_1[df_1xs_1_1['Ebeam']==11.0][df_1xs_1_1['phih']==i_phih_1_1]['systabs'])\n",
    "    ax.plot([i_phih_1_1,i_phih_1_1],[Fuu_value-Fuu_stat,Fuu_value+Fuu_stat],color='blue',marker='_')\n",
    "plt.plot(phih_1_1,Fuu_1_1,'bo',label='Eb=11GeV')\n",
    "phih_1_1_sorted = df_1xs_1_1[df_1xs_1_1['Ebeam']==11.0].sort_values(by=['phih'])['phih']\n",
    "Fuu_1_1_sys = df_1xs_1_1[df_1xs_1_1['Ebeam']==11.0].sort_values(by=['phih'])['error']\n",
    "ax.fill_between(phih_1_1_sorted,np.asarray(0.01)-np.asarray(Fuu_1_1_sys),np.asarray(0.01)+np.asarray(Fuu_1_1_sys),color='blue',alpha=0.25,linewidth=0,label='sys err')\n",
    "\n",
    "phih_1_1_Eb2 = df_1xs_1_1[df_1xs_1_1['Ebeam']==8.8]['phih']\n",
    "Fuu_1_1_Eb2 = df_1xs_1_1[df_1xs_1_1['Ebeam']==8.8]['value']\n",
    "for i_phih_1_1_Eb2 in phih_1_1_Eb2:\n",
    "    Fuu_value = df_1xs_1_1[df_1xs_1_1['Ebeam']==8.8][df_1xs_1_1['phih']==i_phih_1_1_Eb2]['value']\n",
    "    Fuu_stat = df_1xs_1_1[df_1xs_1_1['Ebeam']==8.8][df_1xs_1_1['phih']==i_phih_1_1_Eb2]['stat']\n",
    "    ax.plot([i_phih_1_1_Eb2,i_phih_1_1_Eb2],[Fuu_value-Fuu_stat,Fuu_value+Fuu_stat],color='blue',marker='_')\n",
    "plt.plot(phih_1_1_Eb2,Fuu_1_1_Eb2,'bo',label='Eb=8.8GeV')\n",
    "phih_1_1_Eb2_sorted = df_1xs_1_1[df_1xs_1_1['Ebeam']==8.8].sort_values(by=['phih'])['phih']\n",
    "Fuu_1_1_Eb2_sys = df_1xs_1_1[df_1xs_1_1['Ebeam']==8.8].sort_values(by=['phih'])['error']\n",
    "ax.fill_between(phih_1_1_Eb2_sorted,np.asarray(0.01)-np.asarray(Fuu_1_1_Eb2_sys),np.asarray(0.01)+np.asarray(Fuu_1_1_Eb2_sys),color='blue',alpha=0.25,linewidth=0,label='sys err')\n",
    "\n",
    "plt.xlabel('$\\phi_h$')\n",
    "plt.ylabel('$F_{UU}$')\n",
    "plt.ylim(0.01,0.2)\n",
    "#plt.yscale('log')"
   ]
  },
  {
   "cell_type": "code",
   "execution_count": 31,
   "id": "52c8f90f",
   "metadata": {},
   "outputs": [
    {
     "name": "stdout",
     "output_type": "stream",
     "text": [
      "0 0.5\n",
      "0\n",
      "0.5 1\n",
      "24\n",
      "1 1.5\n",
      "20\n",
      "1.5 2\n",
      "28\n",
      "2 2.5\n",
      "32\n",
      "2.5 3\n",
      "29\n"
     ]
    },
    {
     "name": "stderr",
     "output_type": "stream",
     "text": [
      "/var/folders/ll/8_2_l77j4yl2zjb6stl8d9b00000gn/T/ipykernel_52895/962114098.py:10: UserWarning: Boolean Series key will be reindexed to match DataFrame index.\n",
      "  phih_1_1s = df_1xs_1_1[df_1xs_1_1['phih']>=i_phi_left][df_1xs_1_1['phih']<i_phi]['phih'].tolist()\n",
      "/var/folders/ll/8_2_l77j4yl2zjb6stl8d9b00000gn/T/ipykernel_52895/962114098.py:11: UserWarning: Boolean Series key will be reindexed to match DataFrame index.\n",
      "  Fuu_1_1s = df_1xs_1_1[df_1xs_1_1['phih']>=i_phi_left][df_1xs_1_1['phih']<i_phi]['value'].tolist()\n",
      "/var/folders/ll/8_2_l77j4yl2zjb6stl8d9b00000gn/T/ipykernel_52895/962114098.py:12: UserWarning: Boolean Series key will be reindexed to match DataFrame index.\n",
      "  Fuu_1_1_stats = df_1xs_1_1[df_1xs_1_1['phih']>=i_phi_left][df_1xs_1_1['phih']<i_phi]['stat'].tolist()\n"
     ]
    },
    {
     "data": {
      "text/plain": [
       "Text(0, 0.5, '$F_{UU}$')"
      ]
     },
     "execution_count": 31,
     "metadata": {},
     "output_type": "execute_result"
    },
    {
     "data": {
      "image/png": "[encoded data removed]",
      "text/plain": [
       "<Figure size 432x288 with 1 Axes>"
      ]
     },
     "metadata": {
      "needs_background": "light"
     },
     "output_type": "display_data"
    }
   ],
   "source": [
    "fig = plt.figure()\n",
    "ax = fig.add_subplot()\n",
    "phih_1_1=[]\n",
    "Fuu_1_1=[]\n",
    "Fuu_1_1_stat=[]\n",
    "Fuu_1_1_sys=[]\n",
    "i_phi_left = 0\n",
    "for i_phi in phih_bins:\n",
    "    print(i_phi_left,i_phi)\n",
    "    phih_1_1s = df_1xs_1_1[df_1xs_1_1['phih']>=i_phi_left][df_1xs_1_1['phih']<i_phi]['phih'].tolist()\n",
    "    Fuu_1_1s = df_1xs_1_1[df_1xs_1_1['phih']>=i_phi_left][df_1xs_1_1['phih']<i_phi]['value'].tolist()\n",
    "    Fuu_1_1_stats = df_1xs_1_1[df_1xs_1_1['phih']>=i_phi_left][df_1xs_1_1['phih']<i_phi]['stat'].tolist()\n",
    "    print(len(phih_1_1s))\n",
    "    \n",
    "    if len(phih_1_1s)>0:  \n",
    "        #print('phih',phih_1_1s)\n",
    "        #print('Fuu',Fuu_1_1s)\n",
    "        #print('Fuu_stat',Fuu_1_1_stats)\n",
    "        _Fuu_1_1 = Get_weighted_average(Fuu_1_1s,Fuu_1_1_stats)[0]\n",
    "        _Fuu_1_1_stat = Get_weighted_average(Fuu_1_1s,Fuu_1_1_stats)[1]\n",
    "        _phih_1_1= Get_weighted_average(phih_1_1s,Fuu_1_1_stats)[0]\n",
    "        #print('_Fuu_1_1',_Fuu_1_1)\n",
    "        #print('_phih',_phih_1_1)\n",
    "        #print('_Fuu_stat',_Fuu_1_1_stat)\n",
    "        Fuu_1_1.append(_Fuu_1_1)\n",
    "        phih_1_1.append(_phih_1_1)\n",
    "        Fuu_1_1_stat.append(_Fuu_1_1_stat)\n",
    "        Fuu_1_1_sys.append(0.05*_Fuu_1_1)\n",
    "        #print(Fuu_1_1,phih_1_1)\n",
    "        ax.plot([_phih_1_1,_phih_1_1],[_Fuu_1_1-_Fuu_1_1_stat,_Fuu_1_1+_Fuu_1_1_stat],color='blue',marker='_')\n",
    "    i_phi_left = i_phi\n",
    "    #print('phileft',i_phi_left)\n",
    "plt.plot(phih_1_1,Fuu_1_1,'bo')\n",
    "plt.xlabel('$\\phi_h$',fontsize=16)\n",
    "plt.ylabel('$F_{UU}$',fontsize=16)"
   ]
  },
  {
   "cell_type": "code",
   "execution_count": 32,
   "id": "5edcd85d",
   "metadata": {
    "scrolled": true
   },
   "outputs": [
    {
     "name": "stdout",
     "output_type": "stream",
     "text": [
      "0 0.5\n",
      "0\n",
      "0.5 1\n",
      "16\n",
      "1 1.5\n",
      "16\n",
      "1.5 2\n",
      "13\n",
      "2 2.5\n",
      "15\n",
      "2.5 3\n",
      "12\n"
     ]
    },
    {
     "name": "stderr",
     "output_type": "stream",
     "text": [
      "/var/folders/ll/8_2_l77j4yl2zjb6stl8d9b00000gn/T/ipykernel_52895/818695962.py:10: UserWarning: Boolean Series key will be reindexed to match DataFrame index.\n",
      "  phih_1_2s = df_1xs_1_2[df_1xs_1_2['phih']>=i_phi_left][df_1xs_1_2['phih']<i_phi]['phih'].tolist()\n",
      "/var/folders/ll/8_2_l77j4yl2zjb6stl8d9b00000gn/T/ipykernel_52895/818695962.py:11: UserWarning: Boolean Series key will be reindexed to match DataFrame index.\n",
      "  Fuu_1_2s = df_1xs_1_2[df_1xs_1_2['phih']>=i_phi_left][df_1xs_1_2['phih']<i_phi]['value'].tolist()\n",
      "/var/folders/ll/8_2_l77j4yl2zjb6stl8d9b00000gn/T/ipykernel_52895/818695962.py:12: UserWarning: Boolean Series key will be reindexed to match DataFrame index.\n",
      "  Fuu_1_2_stats = df_1xs_1_2[df_1xs_1_2['phih']>=i_phi_left][df_1xs_1_2['phih']<i_phi]['stat'].tolist()\n"
     ]
    },
    {
     "data": {
      "text/plain": [
       "[<matplotlib.lines.Line2D at 0x1442b0610>]"
      ]
     },
     "execution_count": 32,
     "metadata": {},
     "output_type": "execute_result"
    },
    {
     "data": {
      "image/png": "[encoded data removed]",
      "text/plain": [
       "<Figure size 432x288 with 1 Axes>"
      ]
     },
     "metadata": {
      "needs_background": "light"
     },
     "output_type": "display_data"
    }
   ],
   "source": [
    "fig = plt.figure()\n",
    "ax = fig.add_subplot()\n",
    "phih_1_2=[]\n",
    "Fuu_1_2=[]\n",
    "Fuu_1_2_stat=[]\n",
    "Fuu_1_2_sys=[]\n",
    "i_phi_left = 0\n",
    "for i_phi in phih_bins:\n",
    "    print(i_phi_left,i_phi)\n",
    "    phih_1_2s = df_1xs_1_2[df_1xs_1_2['phih']>=i_phi_left][df_1xs_1_2['phih']<i_phi]['phih'].tolist()\n",
    "    Fuu_1_2s = df_1xs_1_2[df_1xs_1_2['phih']>=i_phi_left][df_1xs_1_2['phih']<i_phi]['value'].tolist()\n",
    "    Fuu_1_2_stats = df_1xs_1_2[df_1xs_1_2['phih']>=i_phi_left][df_1xs_1_2['phih']<i_phi]['stat'].tolist()\n",
    "    print(len(phih_1_2s))\n",
    "    \n",
    "    if len(phih_1_2s)>0:  \n",
    "        #print('phih',phih_1_2s)\n",
    "        #print('Fuu',Fuu_1_2s)\n",
    "        #print('Fuu_stat',Fuu_1_2_stats)\n",
    "        _Fuu_1_2 = Get_weighted_average(Fuu_1_2s,Fuu_1_2_stats)[0]\n",
    "        _Fuu_1_2_stat = Get_weighted_average(Fuu_1_2s,Fuu_1_2_stats)[1]\n",
    "        _phih_1_2= Get_weighted_average(phih_1_2s,Fuu_1_2_stats)[0]\n",
    "        #print('_Fuu_1_2',_Fuu_1_2)\n",
    "        #print('_phih',_phih_1_2)\n",
    "        #print('_Fuu_stat',_Fuu_1_2_stat)\n",
    "        Fuu_1_2.append(_Fuu_1_2)\n",
    "        phih_1_2.append(_phih_1_2)\n",
    "        Fuu_1_2_stat.append(_Fuu_1_2_stat)\n",
    "        Fuu_1_2_sys.append(0.05*_Fuu_1_2)\n",
    "        #print(Fuu_1_2,phih_1_2)\n",
    "        ax.plot([_phih_1_2,_phih_1_2],[_Fuu_1_2-_Fuu_1_2_stat,_Fuu_1_2+_Fuu_1_2_stat],color='blue',marker='_')\n",
    "    i_phi_left = i_phi\n",
    "    #print('phileft',i_phi_left)\n",
    "plt.plot(phih_1_2,Fuu_1_2,'bo')"
   ]
  },
  {
   "cell_type": "code",
   "execution_count": 33,
   "id": "98d71ccb",
   "metadata": {
    "scrolled": true
   },
   "outputs": [
    {
     "name": "stdout",
     "output_type": "stream",
     "text": [
      "0 0.5\n",
      "0\n",
      "0.5 1\n",
      "10\n",
      "1 1.5\n",
      "9\n",
      "1.5 2\n",
      "7\n",
      "2 2.5\n",
      "6\n",
      "2.5 3\n",
      "5\n"
     ]
    },
    {
     "name": "stderr",
     "output_type": "stream",
     "text": [
      "/var/folders/ll/8_2_l77j4yl2zjb6stl8d9b00000gn/T/ipykernel_52895/1862588301.py:10: UserWarning: Boolean Series key will be reindexed to match DataFrame index.\n",
      "  phih_1_3s = df_1xs_1_3[df_1xs_1_3['phih']>=i_phi_left][df_1xs_1_3['phih']<i_phi]['phih'].tolist()\n",
      "/var/folders/ll/8_2_l77j4yl2zjb6stl8d9b00000gn/T/ipykernel_52895/1862588301.py:11: UserWarning: Boolean Series key will be reindexed to match DataFrame index.\n",
      "  Fuu_1_3s = df_1xs_1_3[df_1xs_1_3['phih']>=i_phi_left][df_1xs_1_3['phih']<i_phi]['value'].tolist()\n",
      "/var/folders/ll/8_2_l77j4yl2zjb6stl8d9b00000gn/T/ipykernel_52895/1862588301.py:12: UserWarning: Boolean Series key will be reindexed to match DataFrame index.\n",
      "  Fuu_1_3_stats = df_1xs_1_3[df_1xs_1_3['phih']>=i_phi_left][df_1xs_1_3['phih']<i_phi]['stat'].tolist()\n"
     ]
    },
    {
     "data": {
      "text/plain": [
       "[<matplotlib.lines.Line2D at 0x144435670>]"
      ]
     },
     "execution_count": 33,
     "metadata": {},
     "output_type": "execute_result"
    },
    {
     "data": {
      "image/png": "[encoded data removed]",
      "text/plain": [
       "<Figure size 432x288 with 1 Axes>"
      ]
     },
     "metadata": {
      "needs_background": "light"
     },
     "output_type": "display_data"
    }
   ],
   "source": [
    "fig = plt.figure()\n",
    "ax = fig.add_subplot()\n",
    "phih_1_3=[]\n",
    "Fuu_1_3=[]\n",
    "Fuu_1_3_stat=[]\n",
    "Fuu_1_3_sys=[]\n",
    "i_phi_left = 0\n",
    "for i_phi in phih_bins:\n",
    "    print(i_phi_left,i_phi)\n",
    "    phih_1_3s = df_1xs_1_3[df_1xs_1_3['phih']>=i_phi_left][df_1xs_1_3['phih']<i_phi]['phih'].tolist()\n",
    "    Fuu_1_3s = df_1xs_1_3[df_1xs_1_3['phih']>=i_phi_left][df_1xs_1_3['phih']<i_phi]['value'].tolist()\n",
    "    Fuu_1_3_stats = df_1xs_1_3[df_1xs_1_3['phih']>=i_phi_left][df_1xs_1_3['phih']<i_phi]['stat'].tolist()\n",
    "    print(len(phih_1_3s))\n",
    "    \n",
    "    if len(phih_1_3s)>0:  \n",
    "        #print('phih',phih_1_3s)\n",
    "        #print('Fuu',Fuu_1_3s)\n",
    "        #print('Fuu_stat',Fuu_1_3_stats)\n",
    "        _Fuu_1_3 = Get_weighted_average(Fuu_1_3s,Fuu_1_3_stats)[0]\n",
    "        _Fuu_1_3_stat = Get_weighted_average(Fuu_1_3s,Fuu_1_3_stats)[1]\n",
    "        _phih_1_3= Get_weighted_average(phih_1_3s,Fuu_1_3_stats)[0]\n",
    "        #print('_Fuu_1_3',_Fuu_1_3)\n",
    "        #print('_phih',_phih_1_3)\n",
    "        #print('_Fuu_stat',_Fuu_1_3_stat)\n",
    "        Fuu_1_3.append(_Fuu_1_3)\n",
    "        phih_1_3.append(_phih_1_3)\n",
    "        Fuu_1_3_stat.append(_Fuu_1_3_stat)\n",
    "        Fuu_1_3_sys.append(0.05*_Fuu_1_3)\n",
    "        #print(Fuu_1_3,phih_1_3)\n",
    "        ax.plot([_phih_1_3,_phih_1_3],[_Fuu_1_3-_Fuu_1_3_stat,_Fuu_1_3+_Fuu_1_3_stat],color='blue',marker='_')\n",
    "    i_phi_left = i_phi\n",
    "    #print('phileft',i_phi_left)\n",
    "plt.plot(phih_1_3,Fuu_1_3,'bo')"
   ]
  },
  {
   "cell_type": "code",
   "execution_count": 34,
   "id": "78c56c02",
   "metadata": {
    "scrolled": true
   },
   "outputs": [
    {
     "name": "stdout",
     "output_type": "stream",
     "text": [
      "0 0.5\n",
      "3\n",
      "0.5 1\n"
     ]
    },
    {
     "name": "stderr",
     "output_type": "stream",
     "text": [
      "/var/folders/ll/8_2_l77j4yl2zjb6stl8d9b00000gn/T/ipykernel_52895/3268939133.py:10: UserWarning: Boolean Series key will be reindexed to match DataFrame index.\n",
      "  phih_2_1s = df_1xs_2_1[df_1xs_2_1['phih']>=i_phi_left][df_1xs_2_1['phih']<i_phi]['phih'].tolist()\n",
      "/var/folders/ll/8_2_l77j4yl2zjb6stl8d9b00000gn/T/ipykernel_52895/3268939133.py:11: UserWarning: Boolean Series key will be reindexed to match DataFrame index.\n",
      "  Fuu_2_1s = df_1xs_2_1[df_1xs_2_1['phih']>=i_phi_left][df_1xs_2_1['phih']<i_phi]['value'].tolist()\n",
      "/var/folders/ll/8_2_l77j4yl2zjb6stl8d9b00000gn/T/ipykernel_52895/3268939133.py:12: UserWarning: Boolean Series key will be reindexed to match DataFrame index.\n",
      "  Fuu_2_1_stats = df_1xs_2_1[df_1xs_2_1['phih']>=i_phi_left][df_1xs_2_1['phih']<i_phi]['stat'].tolist()\n"
     ]
    },
    {
     "name": "stdout",
     "output_type": "stream",
     "text": [
      "22\n",
      "1 1.5\n",
      "11\n",
      "1.5 2\n",
      "14\n",
      "2 2.5\n",
      "14\n",
      "2.5 3\n",
      "9\n"
     ]
    },
    {
     "data": {
      "text/plain": [
       "[<matplotlib.lines.Line2D at 0x1444b6b50>]"
      ]
     },
     "execution_count": 34,
     "metadata": {},
     "output_type": "execute_result"
    },
    {
     "data": {
      "image/png": "[encoded data removed]",
      "text/plain": [
       "<Figure size 432x288 with 1 Axes>"
      ]
     },
     "metadata": {
      "needs_background": "light"
     },
     "output_type": "display_data"
    }
   ],
   "source": [
    "fig = plt.figure()\n",
    "ax = fig.add_subplot()\n",
    "phih_2_1=[]\n",
    "Fuu_2_1=[]\n",
    "Fuu_2_1_stat=[]\n",
    "Fuu_2_1_sys=[]\n",
    "i_phi_left = 0\n",
    "for i_phi in phih_bins:\n",
    "    print(i_phi_left,i_phi)\n",
    "    phih_2_1s = df_1xs_2_1[df_1xs_2_1['phih']>=i_phi_left][df_1xs_2_1['phih']<i_phi]['phih'].tolist()\n",
    "    Fuu_2_1s = df_1xs_2_1[df_1xs_2_1['phih']>=i_phi_left][df_1xs_2_1['phih']<i_phi]['value'].tolist()\n",
    "    Fuu_2_1_stats = df_1xs_2_1[df_1xs_2_1['phih']>=i_phi_left][df_1xs_2_1['phih']<i_phi]['stat'].tolist()\n",
    "    print(len(phih_2_1s))\n",
    "    \n",
    "    if len(phih_2_1s)>0:  \n",
    "        #print('phih',phih_2_1s)\n",
    "        #print('Fuu',Fuu_2_1s)\n",
    "        #print('Fuu_stat',Fuu_2_1_stats)\n",
    "        _Fuu_2_1 = Get_weighted_average(Fuu_2_1s,Fuu_2_1_stats)[0]\n",
    "        _Fuu_2_1_stat = Get_weighted_average(Fuu_2_1s,Fuu_2_1_stats)[1]\n",
    "        _phih_2_1= Get_weighted_average(phih_2_1s,Fuu_2_1_stats)[0]\n",
    "        #print('_Fuu_2_1',_Fuu_2_1)\n",
    "        #print('_phih',_phih_2_1)\n",
    "        #print('_Fuu_stat',_Fuu_2_1_stat)\n",
    "        Fuu_2_1.append(_Fuu_2_1)\n",
    "        phih_2_1.append(_phih_2_1)\n",
    "        Fuu_2_1_stat.append(_Fuu_2_1_stat)\n",
    "        Fuu_2_1_sys.append(0.05*_Fuu_2_1)\n",
    "        #print(Fuu_2_1,phih_2_1)\n",
    "        ax.plot([_phih_2_1,_phih_2_1],[_Fuu_2_1-_Fuu_2_1_stat,_Fuu_2_1+_Fuu_2_1_stat],color='blue',marker='_')\n",
    "    i_phi_left = i_phi\n",
    "    #print('phileft',i_phi_left)\n",
    "plt.plot(phih_2_1,Fuu_2_1,'bo')"
   ]
  },
  {
   "cell_type": "code",
   "execution_count": 35,
   "id": "9f764588",
   "metadata": {
    "scrolled": true
   },
   "outputs": [
    {
     "name": "stdout",
     "output_type": "stream",
     "text": [
      "0 0.5\n",
      "2\n",
      "0.5 1\n",
      "12\n",
      "1 1.5\n"
     ]
    },
    {
     "name": "stderr",
     "output_type": "stream",
     "text": [
      "/var/folders/ll/8_2_l77j4yl2zjb6stl8d9b00000gn/T/ipykernel_52895/2314895399.py:10: UserWarning: Boolean Series key will be reindexed to match DataFrame index.\n",
      "  phih_2_2s = df_1xs_2_2[df_1xs_2_2['phih']>=i_phi_left][df_1xs_2_2['phih']<i_phi]['phih'].tolist()\n",
      "/var/folders/ll/8_2_l77j4yl2zjb6stl8d9b00000gn/T/ipykernel_52895/2314895399.py:11: UserWarning: Boolean Series key will be reindexed to match DataFrame index.\n",
      "  Fuu_2_2s = df_1xs_2_2[df_1xs_2_2['phih']>=i_phi_left][df_1xs_2_2['phih']<i_phi]['value'].tolist()\n",
      "/var/folders/ll/8_2_l77j4yl2zjb6stl8d9b00000gn/T/ipykernel_52895/2314895399.py:12: UserWarning: Boolean Series key will be reindexed to match DataFrame index.\n",
      "  Fuu_2_2_stats = df_1xs_2_2[df_1xs_2_2['phih']>=i_phi_left][df_1xs_2_2['phih']<i_phi]['stat'].tolist()\n"
     ]
    },
    {
     "name": "stdout",
     "output_type": "stream",
     "text": [
      "5\n",
      "1.5 2\n",
      "10\n",
      "2 2.5\n",
      "6\n",
      "2.5 3\n",
      "2\n"
     ]
    },
    {
     "data": {
      "text/plain": [
       "[<matplotlib.lines.Line2D at 0x144528d60>]"
      ]
     },
     "execution_count": 35,
     "metadata": {},
     "output_type": "execute_result"
    },
    {
     "data": {
      "image/png": "[encoded data removed]",
      "text/plain": [
       "<Figure size 432x288 with 1 Axes>"
      ]
     },
     "metadata": {
      "needs_background": "light"
     },
     "output_type": "display_data"
    }
   ],
   "source": [
    "fig = plt.figure()\n",
    "ax = fig.add_subplot()\n",
    "phih_2_2=[]\n",
    "Fuu_2_2=[]\n",
    "Fuu_2_2_stat=[]\n",
    "Fuu_2_2_sys=[]\n",
    "i_phi_left = 0\n",
    "for i_phi in phih_bins:\n",
    "    print(i_phi_left,i_phi)\n",
    "    phih_2_2s = df_1xs_2_2[df_1xs_2_2['phih']>=i_phi_left][df_1xs_2_2['phih']<i_phi]['phih'].tolist()\n",
    "    Fuu_2_2s = df_1xs_2_2[df_1xs_2_2['phih']>=i_phi_left][df_1xs_2_2['phih']<i_phi]['value'].tolist()\n",
    "    Fuu_2_2_stats = df_1xs_2_2[df_1xs_2_2['phih']>=i_phi_left][df_1xs_2_2['phih']<i_phi]['stat'].tolist()\n",
    "    print(len(phih_2_2s))\n",
    "    \n",
    "    if len(phih_2_2s)>0:  \n",
    "        #print('phih',phih_2_2s)\n",
    "        #print('Fuu',Fuu_2_2s)\n",
    "        #print('Fuu_stat',Fuu_2_2_stats)\n",
    "        _Fuu_2_2 = Get_weighted_average(Fuu_2_2s,Fuu_2_2_stats)[0]\n",
    "        _Fuu_2_2_stat = Get_weighted_average(Fuu_2_2s,Fuu_2_2_stats)[1]\n",
    "        _phih_2_2= Get_weighted_average(phih_2_2s,Fuu_2_2_stats)[0]\n",
    "        #print('_Fuu_2_2',_Fuu_2_2)\n",
    "        #print('_phih',_phih_2_2)\n",
    "        #print('_Fuu_stat',_Fuu_2_2_stat)\n",
    "        Fuu_2_2.append(_Fuu_2_2)\n",
    "        phih_2_2.append(_phih_2_2)\n",
    "        Fuu_2_2_stat.append(_Fuu_2_2_stat)\n",
    "        Fuu_2_2_sys.append(0.05*_Fuu_2_2)\n",
    "        #print(Fuu_2_2,phih_2_2)\n",
    "        ax.plot([_phih_2_2,_phih_2_2],[_Fuu_2_2-_Fuu_2_2_stat,_Fuu_2_2+_Fuu_2_2_stat],color='blue',marker='_')\n",
    "    i_phi_left = i_phi\n",
    "    #print('phileft',i_phi_left)\n",
    "plt.plot(phih_2_2,Fuu_2_2,'bo')"
   ]
  },
  {
   "cell_type": "code",
   "execution_count": 36,
   "id": "bb9a9314",
   "metadata": {
    "scrolled": true
   },
   "outputs": [
    {
     "name": "stdout",
     "output_type": "stream",
     "text": [
      "0 0.5\n",
      "1\n",
      "0.5 1\n"
     ]
    },
    {
     "name": "stderr",
     "output_type": "stream",
     "text": [
      "/var/folders/ll/8_2_l77j4yl2zjb6stl8d9b00000gn/T/ipykernel_52895/3092720195.py:10: UserWarning: Boolean Series key will be reindexed to match DataFrame index.\n",
      "  phih_2_3s = df_1xs_2_3[df_1xs_2_3['phih']>=i_phi_left][df_1xs_2_3['phih']<i_phi]['phih'].tolist()\n",
      "/var/folders/ll/8_2_l77j4yl2zjb6stl8d9b00000gn/T/ipykernel_52895/3092720195.py:11: UserWarning: Boolean Series key will be reindexed to match DataFrame index.\n",
      "  Fuu_2_3s = df_1xs_2_3[df_1xs_2_3['phih']>=i_phi_left][df_1xs_2_3['phih']<i_phi]['value'].tolist()\n"
     ]
    },
    {
     "name": "stdout",
     "output_type": "stream",
     "text": [
      "7\n",
      "1 1.5\n",
      "7\n",
      "1.5 2\n",
      "1\n",
      "2 2.5\n",
      "2\n",
      "2.5 3\n",
      "2\n"
     ]
    },
    {
     "name": "stderr",
     "output_type": "stream",
     "text": [
      "/var/folders/ll/8_2_l77j4yl2zjb6stl8d9b00000gn/T/ipykernel_52895/3092720195.py:12: UserWarning: Boolean Series key will be reindexed to match DataFrame index.\n",
      "  Fuu_2_3_stats = df_1xs_2_3[df_1xs_2_3['phih']>=i_phi_left][df_1xs_2_3['phih']<i_phi]['stat'].tolist()\n"
     ]
    },
    {
     "data": {
      "text/plain": [
       "[<matplotlib.lines.Line2D at 0x14458e430>]"
      ]
     },
     "execution_count": 36,
     "metadata": {},
     "output_type": "execute_result"
    },
    {
     "data": {
      "image/png": "[encoded data removed]",
      "text/plain": [
       "<Figure size 432x288 with 1 Axes>"
      ]
     },
     "metadata": {
      "needs_background": "light"
     },
     "output_type": "display_data"
    }
   ],
   "source": [
    "fig = plt.figure()\n",
    "ax = fig.add_subplot()\n",
    "phih_2_3=[]\n",
    "Fuu_2_3=[]\n",
    "Fuu_2_3_stat=[]\n",
    "Fuu_2_3_sys=[]\n",
    "i_phi_left = 0\n",
    "for i_phi in phih_bins:\n",
    "    print(i_phi_left,i_phi)\n",
    "    phih_2_3s = df_1xs_2_3[df_1xs_2_3['phih']>=i_phi_left][df_1xs_2_3['phih']<i_phi]['phih'].tolist()\n",
    "    Fuu_2_3s = df_1xs_2_3[df_1xs_2_3['phih']>=i_phi_left][df_1xs_2_3['phih']<i_phi]['value'].tolist()\n",
    "    Fuu_2_3_stats = df_1xs_2_3[df_1xs_2_3['phih']>=i_phi_left][df_1xs_2_3['phih']<i_phi]['stat'].tolist()\n",
    "    print(len(phih_2_3s))\n",
    "    \n",
    "    if len(phih_2_3s)>0:  \n",
    "        #print('phih',phih_2_3s)\n",
    "        #print('Fuu',Fuu_2_3s)\n",
    "        #print('Fuu_stat',Fuu_2_3_stats)\n",
    "        _Fuu_2_3 = Get_weighted_average(Fuu_2_3s,Fuu_2_3_stats)[0]\n",
    "        _Fuu_2_3_stat = Get_weighted_average(Fuu_2_3s,Fuu_2_3_stats)[1]\n",
    "        _phih_2_3= Get_weighted_average(phih_2_3s,Fuu_2_3_stats)[0]\n",
    "        #print('_Fuu_2_3',_Fuu_2_3)\n",
    "        #print('_phih',_phih_2_3)\n",
    "        #print('_Fuu_stat',_Fuu_2_3_stat)\n",
    "        Fuu_2_3.append(_Fuu_2_3)\n",
    "        phih_2_3.append(_phih_2_3)\n",
    "        Fuu_2_3_stat.append(_Fuu_2_3_stat)\n",
    "        Fuu_2_3_sys.append(0.05*_Fuu_2_3)\n",
    "        #print(Fuu_2_3,phih_2_3)\n",
    "        ax.plot([_phih_2_3,_phih_2_3],[_Fuu_2_3-_Fuu_2_3_stat,_Fuu_2_3+_Fuu_2_3_stat],color='blue',marker='_')\n",
    "    i_phi_left = i_phi\n",
    "    #print('phileft',i_phi_left)\n",
    "plt.plot(phih_2_3,Fuu_2_3,'bo')"
   ]
  },
  {
   "cell_type": "code",
   "execution_count": 37,
   "id": "2dc860e2",
   "metadata": {
    "scrolled": true
   },
   "outputs": [
    {
     "name": "stdout",
     "output_type": "stream",
     "text": [
      "0 0.5\n",
      "4\n",
      "0.5 1\n",
      "13\n",
      "1 1.5\n",
      "7\n",
      "1.5 2\n",
      "5\n",
      "2 2.5\n",
      "5\n",
      "2.5 3\n",
      "1\n"
     ]
    },
    {
     "name": "stderr",
     "output_type": "stream",
     "text": [
      "/var/folders/ll/8_2_l77j4yl2zjb6stl8d9b00000gn/T/ipykernel_52895/3807739028.py:10: UserWarning: Boolean Series key will be reindexed to match DataFrame index.\n",
      "  phih_3_1s = df_1xs_3_1[df_1xs_3_1['phih']>=i_phi_left][df_1xs_3_1['phih']<i_phi]['phih'].tolist()\n",
      "/var/folders/ll/8_2_l77j4yl2zjb6stl8d9b00000gn/T/ipykernel_52895/3807739028.py:11: UserWarning: Boolean Series key will be reindexed to match DataFrame index.\n",
      "  Fuu_3_1s = df_1xs_3_1[df_1xs_3_1['phih']>=i_phi_left][df_1xs_3_1['phih']<i_phi]['value'].tolist()\n",
      "/var/folders/ll/8_2_l77j4yl2zjb6stl8d9b00000gn/T/ipykernel_52895/3807739028.py:12: UserWarning: Boolean Series key will be reindexed to match DataFrame index.\n",
      "  Fuu_3_1_stats = df_1xs_3_1[df_1xs_3_1['phih']>=i_phi_left][df_1xs_3_1['phih']<i_phi]['stat'].tolist()\n"
     ]
    },
    {
     "data": {
      "text/plain": [
       "[<matplotlib.lines.Line2D at 0x1377435b0>]"
      ]
     },
     "execution_count": 37,
     "metadata": {},
     "output_type": "execute_result"
    },
    {
     "data": {
      "image/png": "[encoded data removed]",
      "text/plain": [
       "<Figure size 432x288 with 1 Axes>"
      ]
     },
     "metadata": {
      "needs_background": "light"
     },
     "output_type": "display_data"
    }
   ],
   "source": [
    "fig = plt.figure()\n",
    "ax = fig.add_subplot()\n",
    "phih_3_1=[]\n",
    "Fuu_3_1=[]\n",
    "Fuu_3_1_stat=[]\n",
    "Fuu_3_1_sys=[]\n",
    "i_phi_left = 0\n",
    "for i_phi in phih_bins:\n",
    "    print(i_phi_left,i_phi)\n",
    "    phih_3_1s = df_1xs_3_1[df_1xs_3_1['phih']>=i_phi_left][df_1xs_3_1['phih']<i_phi]['phih'].tolist()\n",
    "    Fuu_3_1s = df_1xs_3_1[df_1xs_3_1['phih']>=i_phi_left][df_1xs_3_1['phih']<i_phi]['value'].tolist()\n",
    "    Fuu_3_1_stats = df_1xs_3_1[df_1xs_3_1['phih']>=i_phi_left][df_1xs_3_1['phih']<i_phi]['stat'].tolist()\n",
    "    print(len(phih_3_1s))\n",
    "    \n",
    "    if len(phih_3_1s)>0:  \n",
    "        #print('phih',phih_3_1s)\n",
    "        #print('Fuu',Fuu_3_1s)\n",
    "        #print('Fuu_stat',Fuu_3_1_stats)\n",
    "        _Fuu_3_1 = Get_weighted_average(Fuu_3_1s,Fuu_3_1_stats)[0]\n",
    "        _Fuu_3_1_stat = Get_weighted_average(Fuu_3_1s,Fuu_3_1_stats)[1]\n",
    "        _phih_3_1= Get_weighted_average(phih_3_1s,Fuu_3_1_stats)[0]\n",
    "        #print('_Fuu_3_1',_Fuu_3_1)\n",
    "        #print('_phih',_phih_3_1)\n",
    "        #print('_Fuu_stat',_Fuu_3_1_stat)\n",
    "        Fuu_3_1.append(_Fuu_3_1)\n",
    "        phih_3_1.append(_phih_3_1)\n",
    "        Fuu_3_1_stat.append(_Fuu_3_1_stat)\n",
    "        Fuu_3_1_sys.append(0.05*_Fuu_3_1)\n",
    "        #print(Fuu_3_1,phih_3_1)\n",
    "        ax.plot([_phih_3_1,_phih_3_1],[_Fuu_3_1-_Fuu_3_1_stat,_Fuu_3_1+_Fuu_3_1_stat],color='blue',marker='_')\n",
    "    i_phi_left = i_phi\n",
    "    #print('phileft',i_phi_left)\n",
    "plt.plot(phih_3_1,Fuu_3_1,'bo')"
   ]
  },
  {
   "cell_type": "code",
   "execution_count": 38,
   "id": "32e520b0",
   "metadata": {
    "scrolled": true
   },
   "outputs": [
    {
     "name": "stdout",
     "output_type": "stream",
     "text": [
      "0 0.5\n",
      "0\n",
      "0.5 1\n",
      "10\n",
      "1 1.5\n",
      "2\n",
      "1.5 2\n",
      "6\n",
      "2 2.5\n",
      "0\n",
      "2.5 3\n",
      "0\n"
     ]
    },
    {
     "name": "stderr",
     "output_type": "stream",
     "text": [
      "/var/folders/ll/8_2_l77j4yl2zjb6stl8d9b00000gn/T/ipykernel_52895/1319979940.py:10: UserWarning: Boolean Series key will be reindexed to match DataFrame index.\n",
      "  phih_3_2s = df_1xs_3_2[df_1xs_3_2['phih']>=i_phi_left][df_1xs_3_2['phih']<i_phi]['phih'].tolist()\n",
      "/var/folders/ll/8_2_l77j4yl2zjb6stl8d9b00000gn/T/ipykernel_52895/1319979940.py:11: UserWarning: Boolean Series key will be reindexed to match DataFrame index.\n",
      "  Fuu_3_2s = df_1xs_3_2[df_1xs_3_2['phih']>=i_phi_left][df_1xs_3_2['phih']<i_phi]['value'].tolist()\n",
      "/var/folders/ll/8_2_l77j4yl2zjb6stl8d9b00000gn/T/ipykernel_52895/1319979940.py:12: UserWarning: Boolean Series key will be reindexed to match DataFrame index.\n",
      "  Fuu_3_2_stats = df_1xs_3_2[df_1xs_3_2['phih']>=i_phi_left][df_1xs_3_2['phih']<i_phi]['stat'].tolist()\n"
     ]
    },
    {
     "data": {
      "text/plain": [
       "[<matplotlib.lines.Line2D at 0x13738f4f0>]"
      ]
     },
     "execution_count": 38,
     "metadata": {},
     "output_type": "execute_result"
    },
    {
     "data": {
      "image/png": "[encoded data removed]",
      "text/plain": [
       "<Figure size 432x288 with 1 Axes>"
      ]
     },
     "metadata": {
      "needs_background": "light"
     },
     "output_type": "display_data"
    }
   ],
   "source": [
    "fig = plt.figure()\n",
    "ax = fig.add_subplot()\n",
    "phih_3_2=[]\n",
    "Fuu_3_2=[]\n",
    "Fuu_3_2_stat=[]\n",
    "Fuu_3_2_sys=[]\n",
    "i_phi_left = 0\n",
    "for i_phi in phih_bins:\n",
    "    print(i_phi_left,i_phi)\n",
    "    phih_3_2s = df_1xs_3_2[df_1xs_3_2['phih']>=i_phi_left][df_1xs_3_2['phih']<i_phi]['phih'].tolist()\n",
    "    Fuu_3_2s = df_1xs_3_2[df_1xs_3_2['phih']>=i_phi_left][df_1xs_3_2['phih']<i_phi]['value'].tolist()\n",
    "    Fuu_3_2_stats = df_1xs_3_2[df_1xs_3_2['phih']>=i_phi_left][df_1xs_3_2['phih']<i_phi]['stat'].tolist()\n",
    "    print(len(phih_3_2s))\n",
    "    \n",
    "    if len(phih_3_2s)>0:  \n",
    "        #print('phih',phih_3_2s)\n",
    "        #print('Fuu',Fuu_3_2s)\n",
    "        #print('Fuu_stat',Fuu_3_2_stats)\n",
    "        _Fuu_3_2 = Get_weighted_average(Fuu_3_2s,Fuu_3_2_stats)[0]\n",
    "        _Fuu_3_2_stat = Get_weighted_average(Fuu_3_2s,Fuu_3_2_stats)[1]\n",
    "        _phih_3_2= Get_weighted_average(phih_3_2s,Fuu_3_2_stats)[0]\n",
    "        #print('_Fuu_3_2',_Fuu_3_2)\n",
    "        #print('_phih',_phih_3_2)\n",
    "        #print('_Fuu_stat',_Fuu_3_2_stat)\n",
    "        Fuu_3_2.append(_Fuu_3_2)\n",
    "        phih_3_2.append(_phih_3_2)\n",
    "        Fuu_3_2_stat.append(_Fuu_3_2_stat)\n",
    "        Fuu_3_2_sys.append(0.05*_Fuu_3_2)\n",
    "        #print(Fuu_3_2,phih_3_2)\n",
    "        ax.plot([_phih_3_2,_phih_3_2],[_Fuu_3_2-_Fuu_3_2_stat,_Fuu_3_2+_Fuu_3_2_stat],color='blue',marker='_')\n",
    "    i_phi_left = i_phi\n",
    "    #print('phileft',i_phi_left)\n",
    "plt.plot(phih_3_2,Fuu_3_2,'bo')"
   ]
  },
  {
   "cell_type": "code",
   "execution_count": 39,
   "id": "353e51d7",
   "metadata": {
    "scrolled": true
   },
   "outputs": [
    {
     "name": "stdout",
     "output_type": "stream",
     "text": [
      "0 0.5\n",
      "0\n",
      "0.5 1\n",
      "6\n",
      "1 1.5\n",
      "3\n",
      "1.5 2\n",
      "2\n",
      "2 2.5\n"
     ]
    },
    {
     "name": "stderr",
     "output_type": "stream",
     "text": [
      "/var/folders/ll/8_2_l77j4yl2zjb6stl8d9b00000gn/T/ipykernel_52895/2767300093.py:10: UserWarning: Boolean Series key will be reindexed to match DataFrame index.\n",
      "  phih_3_3s = df_1xs_3_3[df_1xs_3_3['phih']>=i_phi_left][df_1xs_3_3['phih']<i_phi]['phih'].tolist()\n",
      "/var/folders/ll/8_2_l77j4yl2zjb6stl8d9b00000gn/T/ipykernel_52895/2767300093.py:11: UserWarning: Boolean Series key will be reindexed to match DataFrame index.\n",
      "  Fuu_3_3s = df_1xs_3_3[df_1xs_3_3['phih']>=i_phi_left][df_1xs_3_3['phih']<i_phi]['value'].tolist()\n",
      "/var/folders/ll/8_2_l77j4yl2zjb6stl8d9b00000gn/T/ipykernel_52895/2767300093.py:12: UserWarning: Boolean Series key will be reindexed to match DataFrame index.\n",
      "  Fuu_3_3_stats = df_1xs_3_3[df_1xs_3_3['phih']>=i_phi_left][df_1xs_3_3['phih']<i_phi]['stat'].tolist()\n"
     ]
    },
    {
     "name": "stdout",
     "output_type": "stream",
     "text": [
      "1\n",
      "2.5 3\n",
      "0\n"
     ]
    },
    {
     "data": {
      "text/plain": [
       "[<matplotlib.lines.Line2D at 0x137779220>]"
      ]
     },
     "execution_count": 39,
     "metadata": {},
     "output_type": "execute_result"
    },
    {
     "data": {
      "image/png": "[encoded data removed]",
      "text/plain": [
       "<Figure size 432x288 with 1 Axes>"
      ]
     },
     "metadata": {
      "needs_background": "light"
     },
     "output_type": "display_data"
    }
   ],
   "source": [
    "fig = plt.figure()\n",
    "ax = fig.add_subplot()\n",
    "phih_3_3=[]\n",
    "Fuu_3_3=[]\n",
    "Fuu_3_3_stat=[]\n",
    "Fuu_3_3_sys=[]\n",
    "i_phi_left = 0\n",
    "for i_phi in phih_bins:\n",
    "    print(i_phi_left,i_phi)\n",
    "    phih_3_3s = df_1xs_3_3[df_1xs_3_3['phih']>=i_phi_left][df_1xs_3_3['phih']<i_phi]['phih'].tolist()\n",
    "    Fuu_3_3s = df_1xs_3_3[df_1xs_3_3['phih']>=i_phi_left][df_1xs_3_3['phih']<i_phi]['value'].tolist()\n",
    "    Fuu_3_3_stats = df_1xs_3_3[df_1xs_3_3['phih']>=i_phi_left][df_1xs_3_3['phih']<i_phi]['stat'].tolist()\n",
    "    print(len(phih_3_3s))\n",
    "    \n",
    "    if len(phih_3_3s)>0:  \n",
    "        #print('phih',phih_3_3s)\n",
    "        #print('Fuu',Fuu_3_3s)\n",
    "        #print('Fuu_stat',Fuu_3_3_stats)\n",
    "        _Fuu_3_3 = Get_weighted_average(Fuu_3_3s,Fuu_3_3_stats)[0]\n",
    "        _Fuu_3_3_stat = Get_weighted_average(Fuu_3_3s,Fuu_3_3_stats)[1]\n",
    "        _phih_3_3= Get_weighted_average(phih_3_3s,Fuu_3_3_stats)[0]\n",
    "        #print('_Fuu_3_3',_Fuu_3_3)\n",
    "        #print('_phih',_phih_3_3)\n",
    "        #print('_Fuu_stat',_Fuu_3_3_stat)\n",
    "        Fuu_3_3.append(_Fuu_3_3)\n",
    "        phih_3_3.append(_phih_3_3)\n",
    "        Fuu_3_3_stat.append(_Fuu_3_3_stat)\n",
    "        Fuu_3_3_sys.append(0.05*_Fuu_3_3)\n",
    "        #print(Fuu_3_3,phih_3_3)\n",
    "        ax.plot([_phih_3_3,_phih_3_3],[_Fuu_3_3-_Fuu_3_3_stat,_Fuu_3_3+_Fuu_3_3_stat],color='blue',marker='_')\n",
    "    i_phi_left = i_phi\n",
    "    #print('phileft',i_phi_left)\n",
    "plt.plot(phih_3_3,Fuu_3_3,'bo')"
   ]
  },
  {
   "cell_type": "code",
   "execution_count": 40,
   "id": "5353444d",
   "metadata": {
    "scrolled": true
   },
   "outputs": [
    {
     "name": "stdout",
     "output_type": "stream",
     "text": [
      "0 0.5\n",
      "0\n",
      "0.5 1\n",
      "7\n",
      "1 1.5\n",
      "2\n",
      "1.5 2\n"
     ]
    },
    {
     "name": "stderr",
     "output_type": "stream",
     "text": [
      "/var/folders/ll/8_2_l77j4yl2zjb6stl8d9b00000gn/T/ipykernel_52895/4178568002.py:10: UserWarning: Boolean Series key will be reindexed to match DataFrame index.\n",
      "  phih_4_1s = df_1xs_4_1[df_1xs_4_1['phih']>=i_phi_left][df_1xs_4_1['phih']<i_phi]['phih'].tolist()\n",
      "/var/folders/ll/8_2_l77j4yl2zjb6stl8d9b00000gn/T/ipykernel_52895/4178568002.py:11: UserWarning: Boolean Series key will be reindexed to match DataFrame index.\n",
      "  Fuu_4_1s = df_1xs_4_1[df_1xs_4_1['phih']>=i_phi_left][df_1xs_4_1['phih']<i_phi]['value'].tolist()\n",
      "/var/folders/ll/8_2_l77j4yl2zjb6stl8d9b00000gn/T/ipykernel_52895/4178568002.py:12: UserWarning: Boolean Series key will be reindexed to match DataFrame index.\n",
      "  Fuu_4_1_stats = df_1xs_4_1[df_1xs_4_1['phih']>=i_phi_left][df_1xs_4_1['phih']<i_phi]['stat'].tolist()\n"
     ]
    },
    {
     "name": "stdout",
     "output_type": "stream",
     "text": [
      "8\n",
      "2 2.5\n",
      "6\n",
      "2.5 3\n",
      "0\n"
     ]
    },
    {
     "data": {
      "text/plain": [
       "[<matplotlib.lines.Line2D at 0x1373d7850>]"
      ]
     },
     "execution_count": 40,
     "metadata": {},
     "output_type": "execute_result"
    },
    {
     "data": {
      "image/png": "[encoded data removed]",
      "text/plain": [
       "<Figure size 432x288 with 1 Axes>"
      ]
     },
     "metadata": {
      "needs_background": "light"
     },
     "output_type": "display_data"
    }
   ],
   "source": [
    "fig = plt.figure()\n",
    "ax = fig.add_subplot()\n",
    "phih_4_1=[]\n",
    "Fuu_4_1=[]\n",
    "Fuu_4_1_stat=[]\n",
    "Fuu_4_1_sys=[]\n",
    "i_phi_left = 0\n",
    "for i_phi in phih_bins:\n",
    "    print(i_phi_left,i_phi)\n",
    "    phih_4_1s = df_1xs_4_1[df_1xs_4_1['phih']>=i_phi_left][df_1xs_4_1['phih']<i_phi]['phih'].tolist()\n",
    "    Fuu_4_1s = df_1xs_4_1[df_1xs_4_1['phih']>=i_phi_left][df_1xs_4_1['phih']<i_phi]['value'].tolist()\n",
    "    Fuu_4_1_stats = df_1xs_4_1[df_1xs_4_1['phih']>=i_phi_left][df_1xs_4_1['phih']<i_phi]['stat'].tolist()\n",
    "    print(len(phih_4_1s))\n",
    "    \n",
    "    if len(phih_4_1s)>0:  \n",
    "        #print('phih',phih_4_1s)\n",
    "        #print('Fuu',Fuu_4_1s)\n",
    "        #print('Fuu_stat',Fuu_4_1_stats)\n",
    "        _Fuu_4_1 = Get_weighted_average(Fuu_4_1s,Fuu_4_1_stats)[0]\n",
    "        _Fuu_4_1_stat = Get_weighted_average(Fuu_4_1s,Fuu_4_1_stats)[1]\n",
    "        _phih_4_1= Get_weighted_average(phih_4_1s,Fuu_4_1_stats)[0]\n",
    "        #print('_Fuu_4_1',_Fuu_4_1)\n",
    "        #print('_phih',_phih_4_1)\n",
    "        #print('_Fuu_stat',_Fuu_4_1_stat)\n",
    "        Fuu_4_1.append(_Fuu_4_1)\n",
    "        phih_4_1.append(_phih_4_1)\n",
    "        Fuu_4_1_stat.append(_Fuu_4_1_stat)\n",
    "        Fuu_4_1_sys.append(0.05*_Fuu_4_1)\n",
    "        #print(Fuu_4_1,phih_4_1)\n",
    "        ax.plot([_phih_4_1,_phih_4_1],[_Fuu_4_1-_Fuu_4_1_stat,_Fuu_4_1+_Fuu_4_1_stat],color='blue',marker='_')\n",
    "    i_phi_left = i_phi\n",
    "    #print('phileft',i_phi_left)\n",
    "plt.plot(phih_4_1,Fuu_4_1,'bo')"
   ]
  },
  {
   "cell_type": "code",
   "execution_count": 41,
   "id": "e95fd1ad",
   "metadata": {
    "scrolled": true
   },
   "outputs": [
    {
     "name": "stdout",
     "output_type": "stream",
     "text": [
      "0 0.5\n",
      "0\n",
      "0.5 1\n",
      "6\n",
      "1 1.5\n",
      "3\n",
      "1.5 2\n",
      "3\n",
      "2 2.5\n",
      "2\n",
      "2.5 3\n",
      "0\n"
     ]
    },
    {
     "name": "stderr",
     "output_type": "stream",
     "text": [
      "/var/folders/ll/8_2_l77j4yl2zjb6stl8d9b00000gn/T/ipykernel_52895/722378643.py:10: UserWarning: Boolean Series key will be reindexed to match DataFrame index.\n",
      "  phih_4_2s = df_1xs_4_2[df_1xs_4_2['phih']>=i_phi_left][df_1xs_4_2['phih']<i_phi]['phih'].tolist()\n",
      "/var/folders/ll/8_2_l77j4yl2zjb6stl8d9b00000gn/T/ipykernel_52895/722378643.py:11: UserWarning: Boolean Series key will be reindexed to match DataFrame index.\n",
      "  Fuu_4_2s = df_1xs_4_2[df_1xs_4_2['phih']>=i_phi_left][df_1xs_4_2['phih']<i_phi]['value'].tolist()\n",
      "/var/folders/ll/8_2_l77j4yl2zjb6stl8d9b00000gn/T/ipykernel_52895/722378643.py:12: UserWarning: Boolean Series key will be reindexed to match DataFrame index.\n",
      "  Fuu_4_2_stats = df_1xs_4_2[df_1xs_4_2['phih']>=i_phi_left][df_1xs_4_2['phih']<i_phi]['stat'].tolist()\n"
     ]
    },
    {
     "data": {
      "text/plain": [
       "[<matplotlib.lines.Line2D at 0x137713940>]"
      ]
     },
     "execution_count": 41,
     "metadata": {},
     "output_type": "execute_result"
    },
    {
     "data": {
      "image/png": "[encoded data removed]",
      "text/plain": [
       "<Figure size 432x288 with 1 Axes>"
      ]
     },
     "metadata": {
      "needs_background": "light"
     },
     "output_type": "display_data"
    }
   ],
   "source": [
    "fig = plt.figure()\n",
    "ax = fig.add_subplot()\n",
    "phih_4_2=[]\n",
    "Fuu_4_2=[]\n",
    "Fuu_4_2_stat=[]\n",
    "Fuu_4_2_sys=[]\n",
    "i_phi_left = 0\n",
    "for i_phi in phih_bins:\n",
    "    print(i_phi_left,i_phi)\n",
    "    phih_4_2s = df_1xs_4_2[df_1xs_4_2['phih']>=i_phi_left][df_1xs_4_2['phih']<i_phi]['phih'].tolist()\n",
    "    Fuu_4_2s = df_1xs_4_2[df_1xs_4_2['phih']>=i_phi_left][df_1xs_4_2['phih']<i_phi]['value'].tolist()\n",
    "    Fuu_4_2_stats = df_1xs_4_2[df_1xs_4_2['phih']>=i_phi_left][df_1xs_4_2['phih']<i_phi]['stat'].tolist()\n",
    "    print(len(phih_4_2s))\n",
    "    \n",
    "    if len(phih_4_2s)>0:  \n",
    "        #print('phih',phih_4_2s)\n",
    "        #print('Fuu',Fuu_4_2s)\n",
    "        #print('Fuu_stat',Fuu_4_2_stats)\n",
    "        _Fuu_4_2 = Get_weighted_average(Fuu_4_2s,Fuu_4_2_stats)[0]\n",
    "        _Fuu_4_2_stat = Get_weighted_average(Fuu_4_2s,Fuu_4_2_stats)[1]\n",
    "        _phih_4_2= Get_weighted_average(phih_4_2s,Fuu_4_2_stats)[0]\n",
    "        #print('_Fuu_4_2',_Fuu_4_2)\n",
    "        #print('_phih',_phih_4_2)\n",
    "        #print('_Fuu_stat',_Fuu_4_2_stat)\n",
    "        Fuu_4_2.append(_Fuu_4_2)\n",
    "        phih_4_2.append(_phih_4_2)\n",
    "        Fuu_4_2_stat.append(_Fuu_4_2_stat)\n",
    "        Fuu_4_2_sys.append(0.05*_Fuu_4_2)\n",
    "        #print(Fuu_4_2,phih_4_2)\n",
    "        ax.plot([_phih_4_2,_phih_4_2],[_Fuu_4_2-_Fuu_4_2_stat,_Fuu_4_2+_Fuu_4_2_stat],color='blue',marker='_')\n",
    "    i_phi_left = i_phi\n",
    "    #print('phileft',i_phi_left)\n",
    "plt.plot(phih_4_2,Fuu_4_2,'bo')"
   ]
  },
  {
   "cell_type": "code",
   "execution_count": 42,
   "id": "2fab40b4",
   "metadata": {
    "scrolled": true
   },
   "outputs": [
    {
     "name": "stdout",
     "output_type": "stream",
     "text": [
      "0 0.5\n",
      "1\n",
      "0.5 1\n",
      "2\n",
      "1 1.5\n",
      "2\n",
      "1.5 2\n",
      "1\n",
      "2 2.5\n",
      "0\n",
      "2.5 3\n",
      "0\n"
     ]
    },
    {
     "name": "stderr",
     "output_type": "stream",
     "text": [
      "/var/folders/ll/8_2_l77j4yl2zjb6stl8d9b00000gn/T/ipykernel_52895/2136592412.py:10: UserWarning: Boolean Series key will be reindexed to match DataFrame index.\n",
      "  phih_4_3s = df_1xs_4_3[df_1xs_4_3['phih']>=i_phi_left][df_1xs_4_3['phih']<i_phi]['phih'].tolist()\n",
      "/var/folders/ll/8_2_l77j4yl2zjb6stl8d9b00000gn/T/ipykernel_52895/2136592412.py:11: UserWarning: Boolean Series key will be reindexed to match DataFrame index.\n",
      "  Fuu_4_3s = df_1xs_4_3[df_1xs_4_3['phih']>=i_phi_left][df_1xs_4_3['phih']<i_phi]['value'].tolist()\n",
      "/var/folders/ll/8_2_l77j4yl2zjb6stl8d9b00000gn/T/ipykernel_52895/2136592412.py:12: UserWarning: Boolean Series key will be reindexed to match DataFrame index.\n",
      "  Fuu_4_3_stats = df_1xs_4_3[df_1xs_4_3['phih']>=i_phi_left][df_1xs_4_3['phih']<i_phi]['stat'].tolist()\n"
     ]
    },
    {
     "data": {
      "text/plain": [
       "[<matplotlib.lines.Line2D at 0x144618040>]"
      ]
     },
     "execution_count": 42,
     "metadata": {},
     "output_type": "execute_result"
    },
    {
     "data": {
      "image/png": "[encoded data removed]",
      "text/plain": [
       "<Figure size 432x288 with 1 Axes>"
      ]
     },
     "metadata": {
      "needs_background": "light"
     },
     "output_type": "display_data"
    }
   ],
   "source": [
    "fig = plt.figure()\n",
    "ax = fig.add_subplot()\n",
    "phih_4_3=[]\n",
    "Fuu_4_3=[]\n",
    "Fuu_4_3_stat=[]\n",
    "Fuu_4_3_sys=[]\n",
    "i_phi_left = 0\n",
    "for i_phi in phih_bins:\n",
    "    print(i_phi_left,i_phi)\n",
    "    phih_4_3s = df_1xs_4_3[df_1xs_4_3['phih']>=i_phi_left][df_1xs_4_3['phih']<i_phi]['phih'].tolist()\n",
    "    Fuu_4_3s = df_1xs_4_3[df_1xs_4_3['phih']>=i_phi_left][df_1xs_4_3['phih']<i_phi]['value'].tolist()\n",
    "    Fuu_4_3_stats = df_1xs_4_3[df_1xs_4_3['phih']>=i_phi_left][df_1xs_4_3['phih']<i_phi]['stat'].tolist()\n",
    "    print(len(phih_4_3s))\n",
    "    \n",
    "    if len(phih_4_3s)>0:  \n",
    "        #print('phih',phih_4_3s)\n",
    "        #print('Fuu',Fuu_4_3s)\n",
    "        #print('Fuu_stat',Fuu_4_3_stats)\n",
    "        _Fuu_4_3 = Get_weighted_average(Fuu_4_3s,Fuu_4_3_stats)[0]\n",
    "        _Fuu_4_3_stat = Get_weighted_average(Fuu_4_3s,Fuu_4_3_stats)[1]\n",
    "        _phih_4_3= Get_weighted_average(phih_4_3s,Fuu_4_3_stats)[0]\n",
    "        #print('_Fuu_4_3',_Fuu_4_3)\n",
    "        #print('_phih',_phih_4_3)\n",
    "        #print('_Fuu_stat',_Fuu_4_3_stat)\n",
    "        Fuu_4_3.append(_Fuu_4_3)\n",
    "        phih_4_3.append(_phih_4_3)\n",
    "        Fuu_4_3_stat.append(_Fuu_4_3_stat)\n",
    "        Fuu_4_3_sys.append(0.05*_Fuu_4_3)\n",
    "        #print(Fuu_4_3,phih_4_3)\n",
    "        ax.plot([_phih_4_3,_phih_4_3],[_Fuu_4_3-_Fuu_4_3_stat,_Fuu_4_3+_Fuu_4_3_stat],color='blue',marker='_')\n",
    "    i_phi_left = i_phi\n",
    "    #print('phileft',i_phi_left)\n",
    "plt.plot(phih_4_3,Fuu_4_3,'bo')"
   ]
  },
  {
   "cell_type": "code",
   "execution_count": 43,
   "id": "ac7881b8",
   "metadata": {
    "scrolled": true
   },
   "outputs": [
    {
     "name": "stdout",
     "output_type": "stream",
     "text": [
      "0 0.5\n",
      "0\n",
      "0.5 1\n",
      "24\n",
      "1 1.5\n",
      "20\n",
      "1.5 2\n",
      "28\n",
      "2 2.5\n",
      "32\n",
      "2.5 3\n",
      "29\n"
     ]
    },
    {
     "name": "stderr",
     "output_type": "stream",
     "text": [
      "/var/folders/ll/8_2_l77j4yl2zjb6stl8d9b00000gn/T/ipykernel_52895/1648856649.py:10: UserWarning: Boolean Series key will be reindexed to match DataFrame index.\n",
      "  phih_1_1s = df_3xs_1_1[df_3xs_1_1['phih']>=i_phi_left][df_3xs_1_1['phih']<i_phi]['phih'].tolist()\n",
      "/var/folders/ll/8_2_l77j4yl2zjb6stl8d9b00000gn/T/ipykernel_52895/1648856649.py:11: UserWarning: Boolean Series key will be reindexed to match DataFrame index.\n",
      "  Fuu_1_1s = df_3xs_1_1[df_3xs_1_1['phih']>=i_phi_left][df_3xs_1_1['phih']<i_phi]['value'].tolist()\n",
      "/var/folders/ll/8_2_l77j4yl2zjb6stl8d9b00000gn/T/ipykernel_52895/1648856649.py:12: UserWarning: Boolean Series key will be reindexed to match DataFrame index.\n",
      "  Fuu_1_1_stats = df_3xs_1_1[df_3xs_1_1['phih']>=i_phi_left][df_3xs_1_1['phih']<i_phi]['stat'].tolist()\n"
     ]
    },
    {
     "data": {
      "text/plain": [
       "Text(0, 0.5, '$F_{UU}$')"
      ]
     },
     "execution_count": 43,
     "metadata": {},
     "output_type": "execute_result"
    },
    {
     "data": {
      "image/png": "[encoded data removed]",
      "text/plain": [
       "<Figure size 432x288 with 1 Axes>"
      ]
     },
     "metadata": {
      "needs_background": "light"
     },
     "output_type": "display_data"
    }
   ],
   "source": [
    "fig = plt.figure()\n",
    "ax = fig.add_subplot()\n",
    "phih_1_1_3xs=[]\n",
    "Fuu_1_1_3xs=[]\n",
    "Fuu_1_1_3xs_stat=[]\n",
    "Fuu_1_1_3xs_sys=[]\n",
    "i_phi_left = 0\n",
    "for i_phi in phih_bins:\n",
    "    print(i_phi_left,i_phi)\n",
    "    phih_1_1s = df_3xs_1_1[df_3xs_1_1['phih']>=i_phi_left][df_3xs_1_1['phih']<i_phi]['phih'].tolist()\n",
    "    Fuu_1_1s = df_3xs_1_1[df_3xs_1_1['phih']>=i_phi_left][df_3xs_1_1['phih']<i_phi]['value'].tolist()\n",
    "    Fuu_1_1_stats = df_3xs_1_1[df_3xs_1_1['phih']>=i_phi_left][df_3xs_1_1['phih']<i_phi]['stat'].tolist()\n",
    "    print(len(phih_1_1s))\n",
    "    \n",
    "    if len(phih_1_1s)>0:  \n",
    "        #print('phih',phih_1_1s)\n",
    "        #print('Fuu',Fuu_1_1s)\n",
    "        #print('Fuu_stat',Fuu_1_1_stats)\n",
    "        _Fuu_1_1 = Get_weighted_average(Fuu_1_1s,Fuu_1_1_stats)[0]\n",
    "        _Fuu_1_1_stat = Get_weighted_average(Fuu_1_1s,Fuu_1_1_stats)[1]\n",
    "        _phih_1_1= Get_weighted_average(phih_1_1s,Fuu_1_1_stats)[0]\n",
    "        #print('_Fuu_1_1',_Fuu_1_1)\n",
    "        #print('_phih',_phih_1_1)\n",
    "        #print('_Fuu_stat',_Fuu_1_1_stat)\n",
    "        Fuu_1_1_3xs.append(_Fuu_1_1)\n",
    "        phih_1_1_3xs.append(_phih_1_1)\n",
    "        Fuu_1_1_3xs_stat.append(_Fuu_1_1_stat)\n",
    "        Fuu_1_1_3xs_sys.append(0.05*_Fuu_1_1)\n",
    "        #print(Fuu_1_1,phih_1_1)\n",
    "        ax.plot([_phih_1_1,_phih_1_1],[_Fuu_1_1-_Fuu_1_1_stat,_Fuu_1_1+_Fuu_1_1_stat],color='red',marker='_')\n",
    "    i_phi_left = i_phi\n",
    "    #print('phileft',i_phi_left)\n",
    "plt.plot(phih_1_1_3xs,Fuu_1_1_3xs,'ro')\n",
    "plt.xlabel('$\\phi_h$',fontsize=16)\n",
    "plt.ylabel('$F_{UU}$',fontsize=16)"
   ]
  },
  {
   "cell_type": "code",
   "execution_count": 44,
   "id": "03051da5",
   "metadata": {
    "scrolled": true
   },
   "outputs": [
    {
     "name": "stdout",
     "output_type": "stream",
     "text": [
      "0 0.5\n",
      "0\n",
      "0.5 1\n",
      "16\n",
      "1 1.5\n",
      "16\n",
      "1.5 2\n",
      "13\n",
      "2 2.5\n",
      "15\n",
      "2.5 3\n",
      "12\n"
     ]
    },
    {
     "name": "stderr",
     "output_type": "stream",
     "text": [
      "/var/folders/ll/8_2_l77j4yl2zjb6stl8d9b00000gn/T/ipykernel_52895/2867025833.py:10: UserWarning: Boolean Series key will be reindexed to match DataFrame index.\n",
      "  phih_1_2s = df_3xs_1_2[df_3xs_1_2['phih']>=i_phi_left][df_3xs_1_2['phih']<i_phi]['phih'].tolist()\n",
      "/var/folders/ll/8_2_l77j4yl2zjb6stl8d9b00000gn/T/ipykernel_52895/2867025833.py:11: UserWarning: Boolean Series key will be reindexed to match DataFrame index.\n",
      "  Fuu_1_2s = df_3xs_1_2[df_3xs_1_2['phih']>=i_phi_left][df_3xs_1_2['phih']<i_phi]['value'].tolist()\n",
      "/var/folders/ll/8_2_l77j4yl2zjb6stl8d9b00000gn/T/ipykernel_52895/2867025833.py:12: UserWarning: Boolean Series key will be reindexed to match DataFrame index.\n",
      "  Fuu_1_2_stats = df_3xs_1_2[df_3xs_1_2['phih']>=i_phi_left][df_3xs_1_2['phih']<i_phi]['stat'].tolist()\n"
     ]
    },
    {
     "data": {
      "text/plain": [
       "Text(0, 0.5, '$F_{UU}$')"
      ]
     },
     "execution_count": 44,
     "metadata": {},
     "output_type": "execute_result"
    },
    {
     "data": {
      "image/png": "[encoded data removed]",
      "text/plain": [
       "<Figure size 432x288 with 1 Axes>"
      ]
     },
     "metadata": {
      "needs_background": "light"
     },
     "output_type": "display_data"
    }
   ],
   "source": [
    "fig = plt.figure()\n",
    "ax = fig.add_subplot()\n",
    "phih_1_2_3xs=[]\n",
    "Fuu_1_2_3xs=[]\n",
    "Fuu_1_2_3xs_stat=[]\n",
    "Fuu_1_2_3xs_sys=[]\n",
    "i_phi_left = 0\n",
    "for i_phi in phih_bins:\n",
    "    print(i_phi_left,i_phi)\n",
    "    phih_1_2s = df_3xs_1_2[df_3xs_1_2['phih']>=i_phi_left][df_3xs_1_2['phih']<i_phi]['phih'].tolist()\n",
    "    Fuu_1_2s = df_3xs_1_2[df_3xs_1_2['phih']>=i_phi_left][df_3xs_1_2['phih']<i_phi]['value'].tolist()\n",
    "    Fuu_1_2_stats = df_3xs_1_2[df_3xs_1_2['phih']>=i_phi_left][df_3xs_1_2['phih']<i_phi]['stat'].tolist()\n",
    "    print(len(phih_1_2s))\n",
    "    \n",
    "    if len(phih_1_2s)>0:  \n",
    "        #print('phih',phih_1_2s)\n",
    "        #print('Fuu',Fuu_1_2s)\n",
    "        #print('Fuu_stat',Fuu_1_2_stats)\n",
    "        _Fuu_1_2 = Get_weighted_average(Fuu_1_2s,Fuu_1_2_stats)[0]\n",
    "        _Fuu_1_2_stat = Get_weighted_average(Fuu_1_2s,Fuu_1_2_stats)[1]\n",
    "        _phih_1_2= Get_weighted_average(phih_1_2s,Fuu_1_2_stats)[0]\n",
    "        #print('_Fuu_1_2',_Fuu_1_2)\n",
    "        #print('_phih',_phih_1_2)\n",
    "        #print('_Fuu_stat',_Fuu_1_2_stat)\n",
    "        Fuu_1_2_3xs.append(_Fuu_1_2)\n",
    "        phih_1_2_3xs.append(_phih_1_2)\n",
    "        Fuu_1_2_3xs_stat.append(_Fuu_1_2_stat)\n",
    "        Fuu_1_2_3xs_sys.append(0.05*_Fuu_1_2)\n",
    "        #print(Fuu_1_2,phih_1_2)\n",
    "        ax.plot([_phih_1_2,_phih_1_2],[_Fuu_1_2-_Fuu_1_2_stat,_Fuu_1_2+_Fuu_1_2_stat],color='red',marker='_')\n",
    "    i_phi_left = i_phi\n",
    "    #print('phileft',i_phi_left)\n",
    "plt.plot(phih_1_2_3xs,Fuu_1_2_3xs,'ro')\n",
    "plt.xlabel('$\\phi_h$',fontsize=16)\n",
    "plt.ylabel('$F_{UU}$',fontsize=16)"
   ]
  },
  {
   "cell_type": "code",
   "execution_count": 45,
   "id": "e5171401",
   "metadata": {
    "scrolled": true
   },
   "outputs": [
    {
     "name": "stdout",
     "output_type": "stream",
     "text": [
      "0 0.5\n",
      "0\n",
      "0.5 1\n",
      "10\n",
      "1 1.5\n",
      "9\n",
      "1.5 2\n",
      "7\n",
      "2 2.5\n",
      "6\n",
      "2.5 3\n",
      "5\n"
     ]
    },
    {
     "name": "stderr",
     "output_type": "stream",
     "text": [
      "/var/folders/ll/8_2_l77j4yl2zjb6stl8d9b00000gn/T/ipykernel_52895/856325152.py:10: UserWarning: Boolean Series key will be reindexed to match DataFrame index.\n",
      "  phih_1_3s = df_3xs_1_3[df_3xs_1_3['phih']>=i_phi_left][df_3xs_1_3['phih']<i_phi]['phih'].tolist()\n",
      "/var/folders/ll/8_2_l77j4yl2zjb6stl8d9b00000gn/T/ipykernel_52895/856325152.py:11: UserWarning: Boolean Series key will be reindexed to match DataFrame index.\n",
      "  Fuu_1_3s = df_3xs_1_3[df_3xs_1_3['phih']>=i_phi_left][df_3xs_1_3['phih']<i_phi]['value'].tolist()\n",
      "/var/folders/ll/8_2_l77j4yl2zjb6stl8d9b00000gn/T/ipykernel_52895/856325152.py:12: UserWarning: Boolean Series key will be reindexed to match DataFrame index.\n",
      "  Fuu_1_3_stats = df_3xs_1_3[df_3xs_1_3['phih']>=i_phi_left][df_3xs_1_3['phih']<i_phi]['stat'].tolist()\n"
     ]
    },
    {
     "data": {
      "text/plain": [
       "Text(0, 0.5, '$F_{UU}$')"
      ]
     },
     "execution_count": 45,
     "metadata": {},
     "output_type": "execute_result"
    },
    {
     "data": {
      "image/png": "[encoded data removed]",
      "text/plain": [
       "<Figure size 432x288 with 1 Axes>"
      ]
     },
     "metadata": {
      "needs_background": "light"
     },
     "output_type": "display_data"
    }
   ],
   "source": [
    "fig = plt.figure()\n",
    "ax = fig.add_subplot()\n",
    "phih_1_3_3xs=[]\n",
    "Fuu_1_3_3xs=[]\n",
    "Fuu_1_3_3xs_stat=[]\n",
    "Fuu_1_3_3xs_sys=[]\n",
    "i_phi_left = 0\n",
    "for i_phi in phih_bins:\n",
    "    print(i_phi_left,i_phi)\n",
    "    phih_1_3s = df_3xs_1_3[df_3xs_1_3['phih']>=i_phi_left][df_3xs_1_3['phih']<i_phi]['phih'].tolist()\n",
    "    Fuu_1_3s = df_3xs_1_3[df_3xs_1_3['phih']>=i_phi_left][df_3xs_1_3['phih']<i_phi]['value'].tolist()\n",
    "    Fuu_1_3_stats = df_3xs_1_3[df_3xs_1_3['phih']>=i_phi_left][df_3xs_1_3['phih']<i_phi]['stat'].tolist()\n",
    "    print(len(phih_1_3s))\n",
    "    \n",
    "    if len(phih_1_3s)>0:  \n",
    "        #print('phih',phih_1_3s)\n",
    "        #print('Fuu',Fuu_1_3s)\n",
    "        #print('Fuu_stat',Fuu_1_3_stats)\n",
    "        _Fuu_1_3 = Get_weighted_average(Fuu_1_3s,Fuu_1_3_stats)[0]\n",
    "        _Fuu_1_3_stat = Get_weighted_average(Fuu_1_3s,Fuu_1_3_stats)[1]\n",
    "        _phih_1_3= Get_weighted_average(phih_1_3s,Fuu_1_3_stats)[0]\n",
    "        #print('_Fuu_1_3',_Fuu_1_3)\n",
    "        #print('_phih',_phih_1_3)\n",
    "        #print('_Fuu_stat',_Fuu_1_3_stat)\n",
    "        Fuu_1_3_3xs.append(_Fuu_1_3)\n",
    "        phih_1_3_3xs.append(_phih_1_3)\n",
    "        Fuu_1_3_3xs_stat.append(_Fuu_1_3_stat)\n",
    "        Fuu_1_3_3xs_sys.append(0.05*_Fuu_1_3)\n",
    "        #print(Fuu_1_3,phih_1_3)\n",
    "        ax.plot([_phih_1_3,_phih_1_3],[_Fuu_1_3-_Fuu_1_3_stat,_Fuu_1_3+_Fuu_1_3_stat],color='red',marker='_')\n",
    "    i_phi_left = i_phi\n",
    "    #print('phileft',i_phi_left)\n",
    "plt.plot(phih_1_3_3xs,Fuu_1_3_3xs,'ro')\n",
    "plt.xlabel('$\\phi_h$',fontsize=16)\n",
    "plt.ylabel('$F_{UU}$',fontsize=16)"
   ]
  },
  {
   "cell_type": "code",
   "execution_count": 46,
   "id": "38fbeea3",
   "metadata": {
    "scrolled": true
   },
   "outputs": [
    {
     "name": "stdout",
     "output_type": "stream",
     "text": [
      "0 0.5\n",
      "3\n",
      "0.5 1\n",
      "22\n",
      "1 1.5\n",
      "11\n",
      "1.5 2\n",
      "14\n",
      "2 2.5\n",
      "14\n",
      "2.5 3\n",
      "9\n"
     ]
    },
    {
     "name": "stderr",
     "output_type": "stream",
     "text": [
      "/var/folders/ll/8_2_l77j4yl2zjb6stl8d9b00000gn/T/ipykernel_52895/3012364488.py:10: UserWarning: Boolean Series key will be reindexed to match DataFrame index.\n",
      "  phih_2_1s = df_3xs_2_1[df_3xs_2_1['phih']>=i_phi_left][df_3xs_2_1['phih']<i_phi]['phih'].tolist()\n",
      "/var/folders/ll/8_2_l77j4yl2zjb6stl8d9b00000gn/T/ipykernel_52895/3012364488.py:11: UserWarning: Boolean Series key will be reindexed to match DataFrame index.\n",
      "  Fuu_2_1s = df_3xs_2_1[df_3xs_2_1['phih']>=i_phi_left][df_3xs_2_1['phih']<i_phi]['value'].tolist()\n",
      "/var/folders/ll/8_2_l77j4yl2zjb6stl8d9b00000gn/T/ipykernel_52895/3012364488.py:12: UserWarning: Boolean Series key will be reindexed to match DataFrame index.\n",
      "  Fuu_2_1_stats = df_3xs_2_1[df_3xs_2_1['phih']>=i_phi_left][df_3xs_2_1['phih']<i_phi]['stat'].tolist()\n"
     ]
    },
    {
     "data": {
      "text/plain": [
       "Text(0, 0.5, '$F_{UU}$')"
      ]
     },
     "execution_count": 46,
     "metadata": {},
     "output_type": "execute_result"
    },
    {
     "data": {
      "image/png": "[encoded data removed]",
      "text/plain": [
       "<Figure size 432x288 with 1 Axes>"
      ]
     },
     "metadata": {
      "needs_background": "light"
     },
     "output_type": "display_data"
    }
   ],
   "source": [
    "fig = plt.figure()\n",
    "ax = fig.add_subplot()\n",
    "phih_2_1_3xs=[]\n",
    "Fuu_2_1_3xs=[]\n",
    "Fuu_2_1_3xs_stat=[]\n",
    "Fuu_2_1_3xs_sys=[]\n",
    "i_phi_left = 0\n",
    "for i_phi in phih_bins:\n",
    "    print(i_phi_left,i_phi)\n",
    "    phih_2_1s = df_3xs_2_1[df_3xs_2_1['phih']>=i_phi_left][df_3xs_2_1['phih']<i_phi]['phih'].tolist()\n",
    "    Fuu_2_1s = df_3xs_2_1[df_3xs_2_1['phih']>=i_phi_left][df_3xs_2_1['phih']<i_phi]['value'].tolist()\n",
    "    Fuu_2_1_stats = df_3xs_2_1[df_3xs_2_1['phih']>=i_phi_left][df_3xs_2_1['phih']<i_phi]['stat'].tolist()\n",
    "    print(len(phih_2_1s))\n",
    "    \n",
    "    if len(phih_2_1s)>0:  \n",
    "        #print('phih',phih_2_1s)\n",
    "        #print('Fuu',Fuu_2_1s)\n",
    "        #print('Fuu_stat',Fuu_2_1_stats)\n",
    "        _Fuu_2_1 = Get_weighted_average(Fuu_2_1s,Fuu_2_1_stats)[0]\n",
    "        _Fuu_2_1_stat = Get_weighted_average(Fuu_2_1s,Fuu_2_1_stats)[1]\n",
    "        _phih_2_1= Get_weighted_average(phih_2_1s,Fuu_2_1_stats)[0]\n",
    "        #print('_Fuu_2_1',_Fuu_2_1)\n",
    "        #print('_phih',_phih_2_1)\n",
    "        #print('_Fuu_stat',_Fuu_2_1_stat)\n",
    "        Fuu_2_1_3xs.append(_Fuu_2_1)\n",
    "        phih_2_1_3xs.append(_phih_2_1)\n",
    "        Fuu_2_1_3xs_stat.append(_Fuu_2_1_stat)\n",
    "        Fuu_2_1_3xs_sys.append(0.05*_Fuu_2_1)\n",
    "        #print(Fuu_2_1,phih_2_1)\n",
    "        ax.plot([_phih_2_1,_phih_2_1],[_Fuu_2_1-_Fuu_2_1_stat,_Fuu_2_1+_Fuu_2_1_stat],color='red',marker='_')\n",
    "    i_phi_left = i_phi\n",
    "    #print('phileft',i_phi_left)\n",
    "plt.plot(phih_2_1_3xs,Fuu_2_1_3xs,'ro')\n",
    "plt.xlabel('$\\phi_h$',fontsize=16)\n",
    "plt.ylabel('$F_{UU}$',fontsize=16)"
   ]
  },
  {
   "cell_type": "code",
   "execution_count": 47,
   "id": "b49ea350",
   "metadata": {
    "scrolled": true
   },
   "outputs": [
    {
     "name": "stdout",
     "output_type": "stream",
     "text": [
      "0 0.5\n",
      "2\n",
      "0.5 1\n",
      "12\n",
      "1 1.5\n",
      "5\n",
      "1.5 2\n",
      "10\n",
      "2 2.5\n",
      "6\n",
      "2.5 3\n",
      "2\n"
     ]
    },
    {
     "name": "stderr",
     "output_type": "stream",
     "text": [
      "/var/folders/ll/8_2_l77j4yl2zjb6stl8d9b00000gn/T/ipykernel_52895/2058504798.py:10: UserWarning: Boolean Series key will be reindexed to match DataFrame index.\n",
      "  phih_2_2s = df_3xs_2_2[df_3xs_2_2['phih']>=i_phi_left][df_3xs_2_2['phih']<i_phi]['phih'].tolist()\n",
      "/var/folders/ll/8_2_l77j4yl2zjb6stl8d9b00000gn/T/ipykernel_52895/2058504798.py:11: UserWarning: Boolean Series key will be reindexed to match DataFrame index.\n",
      "  Fuu_2_2s = df_3xs_2_2[df_3xs_2_2['phih']>=i_phi_left][df_3xs_2_2['phih']<i_phi]['value'].tolist()\n",
      "/var/folders/ll/8_2_l77j4yl2zjb6stl8d9b00000gn/T/ipykernel_52895/2058504798.py:12: UserWarning: Boolean Series key will be reindexed to match DataFrame index.\n",
      "  Fuu_2_2_stats = df_3xs_2_2[df_3xs_2_2['phih']>=i_phi_left][df_3xs_2_2['phih']<i_phi]['stat'].tolist()\n"
     ]
    },
    {
     "data": {
      "text/plain": [
       "Text(0, 0.5, '$F_{UU}$')"
      ]
     },
     "execution_count": 47,
     "metadata": {},
     "output_type": "execute_result"
    },
    {
     "data": {
      "image/png": "[encoded data removed]",
      "text/plain": [
       "<Figure size 432x288 with 1 Axes>"
      ]
     },
     "metadata": {
      "needs_background": "light"
     },
     "output_type": "display_data"
    }
   ],
   "source": [
    "fig = plt.figure()\n",
    "ax = fig.add_subplot()\n",
    "phih_2_2_3xs=[]\n",
    "Fuu_2_2_3xs=[]\n",
    "Fuu_2_2_3xs_stat=[]\n",
    "Fuu_2_2_3xs_sys=[]\n",
    "i_phi_left = 0\n",
    "for i_phi in phih_bins:\n",
    "    print(i_phi_left,i_phi)\n",
    "    phih_2_2s = df_3xs_2_2[df_3xs_2_2['phih']>=i_phi_left][df_3xs_2_2['phih']<i_phi]['phih'].tolist()\n",
    "    Fuu_2_2s = df_3xs_2_2[df_3xs_2_2['phih']>=i_phi_left][df_3xs_2_2['phih']<i_phi]['value'].tolist()\n",
    "    Fuu_2_2_stats = df_3xs_2_2[df_3xs_2_2['phih']>=i_phi_left][df_3xs_2_2['phih']<i_phi]['stat'].tolist()\n",
    "    print(len(phih_2_2s))\n",
    "    \n",
    "    if len(phih_2_2s)>0:  \n",
    "        #print('phih',phih_2_2s)\n",
    "        #print('Fuu',Fuu_2_2s)\n",
    "        #print('Fuu_stat',Fuu_2_2_stats)\n",
    "        _Fuu_2_2 = Get_weighted_average(Fuu_2_2s,Fuu_2_2_stats)[0]\n",
    "        _Fuu_2_2_stat = Get_weighted_average(Fuu_2_2s,Fuu_2_2_stats)[1]\n",
    "        _phih_2_2= Get_weighted_average(phih_2_2s,Fuu_2_2_stats)[0]\n",
    "        #print('_Fuu_2_2',_Fuu_2_2)\n",
    "        #print('_phih',_phih_2_2)\n",
    "        #print('_Fuu_stat',_Fuu_2_2_stat)\n",
    "        Fuu_2_2_3xs.append(_Fuu_2_2)\n",
    "        phih_2_2_3xs.append(_phih_2_2)\n",
    "        Fuu_2_2_3xs_stat.append(_Fuu_2_2_stat)\n",
    "        Fuu_2_2_3xs_sys.append(0.05*_Fuu_2_2)\n",
    "        #print(Fuu_2_2,phih_2_2)\n",
    "        ax.plot([_phih_2_2,_phih_2_2],[_Fuu_2_2-_Fuu_2_2_stat,_Fuu_2_2+_Fuu_2_2_stat],color='red',marker='_')\n",
    "    i_phi_left = i_phi\n",
    "    #print('phileft',i_phi_left)\n",
    "plt.plot(phih_2_2_3xs,Fuu_2_2_3xs,'ro')\n",
    "plt.xlabel('$\\phi_h$',fontsize=16)\n",
    "plt.ylabel('$F_{UU}$',fontsize=16)"
   ]
  },
  {
   "cell_type": "code",
   "execution_count": 48,
   "id": "2b5acef4",
   "metadata": {
    "scrolled": true
   },
   "outputs": [
    {
     "name": "stdout",
     "output_type": "stream",
     "text": [
      "0 0.5\n",
      "1\n",
      "0.5 1\n",
      "7\n",
      "1 1.5\n",
      "7\n",
      "1.5 2\n",
      "1\n",
      "2 2.5\n",
      "2\n",
      "2.5 3\n",
      "2\n"
     ]
    },
    {
     "name": "stderr",
     "output_type": "stream",
     "text": [
      "/var/folders/ll/8_2_l77j4yl2zjb6stl8d9b00000gn/T/ipykernel_52895/3464761661.py:10: UserWarning: Boolean Series key will be reindexed to match DataFrame index.\n",
      "  phih_2_3s = df_3xs_2_3[df_3xs_2_3['phih']>=i_phi_left][df_3xs_2_3['phih']<i_phi]['phih'].tolist()\n",
      "/var/folders/ll/8_2_l77j4yl2zjb6stl8d9b00000gn/T/ipykernel_52895/3464761661.py:11: UserWarning: Boolean Series key will be reindexed to match DataFrame index.\n",
      "  Fuu_2_3s = df_3xs_2_3[df_3xs_2_3['phih']>=i_phi_left][df_3xs_2_3['phih']<i_phi]['value'].tolist()\n",
      "/var/folders/ll/8_2_l77j4yl2zjb6stl8d9b00000gn/T/ipykernel_52895/3464761661.py:12: UserWarning: Boolean Series key will be reindexed to match DataFrame index.\n",
      "  Fuu_2_3_stats = df_3xs_2_3[df_3xs_2_3['phih']>=i_phi_left][df_3xs_2_3['phih']<i_phi]['stat'].tolist()\n"
     ]
    },
    {
     "data": {
      "text/plain": [
       "Text(0, 0.5, '$F_{UU}$')"
      ]
     },
     "execution_count": 48,
     "metadata": {},
     "output_type": "execute_result"
    },
    {
     "data": {
      "image/png": "[encoded data removed]",
      "text/plain": [
       "<Figure size 432x288 with 1 Axes>"
      ]
     },
     "metadata": {
      "needs_background": "light"
     },
     "output_type": "display_data"
    }
   ],
   "source": [
    "fig = plt.figure()\n",
    "ax = fig.add_subplot()\n",
    "phih_2_3_3xs=[]\n",
    "Fuu_2_3_3xs=[]\n",
    "Fuu_2_3_3xs_stat=[]\n",
    "Fuu_2_3_3xs_sys=[]\n",
    "i_phi_left = 0\n",
    "for i_phi in phih_bins:\n",
    "    print(i_phi_left,i_phi)\n",
    "    phih_2_3s = df_3xs_2_3[df_3xs_2_3['phih']>=i_phi_left][df_3xs_2_3['phih']<i_phi]['phih'].tolist()\n",
    "    Fuu_2_3s = df_3xs_2_3[df_3xs_2_3['phih']>=i_phi_left][df_3xs_2_3['phih']<i_phi]['value'].tolist()\n",
    "    Fuu_2_3_stats = df_3xs_2_3[df_3xs_2_3['phih']>=i_phi_left][df_3xs_2_3['phih']<i_phi]['stat'].tolist()\n",
    "    print(len(phih_2_3s))\n",
    "    \n",
    "    if len(phih_2_3s)>0:  \n",
    "        #print('phih',phih_2_3s)\n",
    "        #print('Fuu',Fuu_2_3s)\n",
    "        #print('Fuu_stat',Fuu_2_3_stats)\n",
    "        _Fuu_2_3 = Get_weighted_average(Fuu_2_3s,Fuu_2_3_stats)[0]\n",
    "        _Fuu_2_3_stat = Get_weighted_average(Fuu_2_3s,Fuu_2_3_stats)[1]\n",
    "        _phih_2_3= Get_weighted_average(phih_2_3s,Fuu_2_3_stats)[0]\n",
    "        #print('_Fuu_2_3',_Fuu_2_3)\n",
    "        #print('_phih',_phih_2_3)\n",
    "        #print('_Fuu_stat',_Fuu_2_3_stat)\n",
    "        Fuu_2_3_3xs.append(_Fuu_2_3)\n",
    "        phih_2_3_3xs.append(_phih_2_3)\n",
    "        Fuu_2_3_3xs_stat.append(_Fuu_2_3_stat)\n",
    "        Fuu_2_3_3xs_sys.append(0.05*_Fuu_2_3)\n",
    "        #print(Fuu_2_3,phih_2_3)\n",
    "        ax.plot([_phih_2_3,_phih_2_3],[_Fuu_2_3-_Fuu_2_3_stat,_Fuu_2_3+_Fuu_2_3_stat],color='red',marker='_')\n",
    "    i_phi_left = i_phi\n",
    "    #print('phileft',i_phi_left)\n",
    "plt.plot(phih_2_3_3xs,Fuu_2_3_3xs,'ro')\n",
    "plt.xlabel('$\\phi_h$',fontsize=16)\n",
    "plt.ylabel('$F_{UU}$',fontsize=16)"
   ]
  },
  {
   "cell_type": "code",
   "execution_count": 49,
   "id": "9a9e8d59",
   "metadata": {
    "scrolled": true
   },
   "outputs": [
    {
     "name": "stdout",
     "output_type": "stream",
     "text": [
      "0 0.5\n",
      "4\n",
      "0.5 1\n",
      "13\n",
      "1 1.5\n",
      "7\n",
      "1.5 2\n",
      "5\n",
      "2 2.5\n",
      "5\n",
      "2.5 3\n",
      "1\n"
     ]
    },
    {
     "name": "stderr",
     "output_type": "stream",
     "text": [
      "/var/folders/ll/8_2_l77j4yl2zjb6stl8d9b00000gn/T/ipykernel_52895/3920670995.py:10: UserWarning: Boolean Series key will be reindexed to match DataFrame index.\n",
      "  phih_3_1s = df_3xs_3_1[df_3xs_3_1['phih']>=i_phi_left][df_3xs_3_1['phih']<i_phi]['phih'].tolist()\n",
      "/var/folders/ll/8_2_l77j4yl2zjb6stl8d9b00000gn/T/ipykernel_52895/3920670995.py:11: UserWarning: Boolean Series key will be reindexed to match DataFrame index.\n",
      "  Fuu_3_1s = df_3xs_3_1[df_3xs_3_1['phih']>=i_phi_left][df_3xs_3_1['phih']<i_phi]['value'].tolist()\n",
      "/var/folders/ll/8_2_l77j4yl2zjb6stl8d9b00000gn/T/ipykernel_52895/3920670995.py:12: UserWarning: Boolean Series key will be reindexed to match DataFrame index.\n",
      "  Fuu_3_1_stats = df_3xs_3_1[df_3xs_3_1['phih']>=i_phi_left][df_3xs_3_1['phih']<i_phi]['stat'].tolist()\n"
     ]
    },
    {
     "data": {
      "text/plain": [
       "Text(0, 0.5, '$F_{UU}$')"
      ]
     },
     "execution_count": 49,
     "metadata": {},
     "output_type": "execute_result"
    },
    {
     "data": {
      "image/png": "[encoded data removed]",
      "text/plain": [
       "<Figure size 432x288 with 1 Axes>"
      ]
     },
     "metadata": {
      "needs_background": "light"
     },
     "output_type": "display_data"
    }
   ],
   "source": [
    "fig = plt.figure()\n",
    "ax = fig.add_subplot()\n",
    "phih_3_1_3xs=[]\n",
    "Fuu_3_1_3xs=[]\n",
    "Fuu_3_1_3xs_stat=[]\n",
    "Fuu_3_1_3xs_sys=[]\n",
    "i_phi_left = 0\n",
    "for i_phi in phih_bins:\n",
    "    print(i_phi_left,i_phi)\n",
    "    phih_3_1s = df_3xs_3_1[df_3xs_3_1['phih']>=i_phi_left][df_3xs_3_1['phih']<i_phi]['phih'].tolist()\n",
    "    Fuu_3_1s = df_3xs_3_1[df_3xs_3_1['phih']>=i_phi_left][df_3xs_3_1['phih']<i_phi]['value'].tolist()\n",
    "    Fuu_3_1_stats = df_3xs_3_1[df_3xs_3_1['phih']>=i_phi_left][df_3xs_3_1['phih']<i_phi]['stat'].tolist()\n",
    "    print(len(phih_3_1s))\n",
    "    \n",
    "    if len(phih_3_1s)>0:  \n",
    "        #print('phih',phih_3_1s)\n",
    "        #print('Fuu',Fuu_3_1s)\n",
    "        #print('Fuu_stat',Fuu_3_1_stats)\n",
    "        _Fuu_3_1 = Get_weighted_average(Fuu_3_1s,Fuu_3_1_stats)[0]\n",
    "        _Fuu_3_1_stat = Get_weighted_average(Fuu_3_1s,Fuu_3_1_stats)[1]\n",
    "        _phih_3_1= Get_weighted_average(phih_3_1s,Fuu_3_1_stats)[0]\n",
    "        #print('_Fuu_3_1',_Fuu_3_1)\n",
    "        #print('_phih',_phih_3_1)\n",
    "        #print('_Fuu_stat',_Fuu_3_1_stat)\n",
    "        Fuu_3_1_3xs.append(_Fuu_3_1)\n",
    "        phih_3_1_3xs.append(_phih_3_1)\n",
    "        Fuu_3_1_3xs_stat.append(_Fuu_3_1_stat)\n",
    "        Fuu_3_1_3xs_sys.append(0.05*_Fuu_3_1)\n",
    "        #print(Fuu_3_1,phih_3_1)\n",
    "        ax.plot([_phih_3_1,_phih_3_1],[_Fuu_3_1-_Fuu_3_1_stat,_Fuu_3_1+_Fuu_3_1_stat],color='red',marker='_')\n",
    "    i_phi_left = i_phi\n",
    "    #print('phileft',i_phi_left)\n",
    "plt.plot(phih_3_1_3xs,Fuu_3_1_3xs,'ro')\n",
    "plt.xlabel('$\\phi_h$',fontsize=16)\n",
    "plt.ylabel('$F_{UU}$',fontsize=16)"
   ]
  },
  {
   "cell_type": "code",
   "execution_count": 50,
   "id": "c9d33e86",
   "metadata": {
    "scrolled": true
   },
   "outputs": [
    {
     "name": "stdout",
     "output_type": "stream",
     "text": [
      "0 0.5\n",
      "0\n",
      "0.5 1\n",
      "10\n",
      "1 1.5\n",
      "2\n",
      "1.5 2\n",
      "6\n",
      "2 2.5\n",
      "0\n",
      "2.5 3\n",
      "0\n"
     ]
    },
    {
     "name": "stderr",
     "output_type": "stream",
     "text": [
      "/var/folders/ll/8_2_l77j4yl2zjb6stl8d9b00000gn/T/ipykernel_52895/4007572381.py:10: UserWarning: Boolean Series key will be reindexed to match DataFrame index.\n",
      "  phih_3_2s = df_3xs_3_2[df_3xs_3_2['phih']>=i_phi_left][df_3xs_3_2['phih']<i_phi]['phih'].tolist()\n",
      "/var/folders/ll/8_2_l77j4yl2zjb6stl8d9b00000gn/T/ipykernel_52895/4007572381.py:11: UserWarning: Boolean Series key will be reindexed to match DataFrame index.\n",
      "  Fuu_3_2s = df_3xs_3_2[df_3xs_3_2['phih']>=i_phi_left][df_3xs_3_2['phih']<i_phi]['value'].tolist()\n",
      "/var/folders/ll/8_2_l77j4yl2zjb6stl8d9b00000gn/T/ipykernel_52895/4007572381.py:12: UserWarning: Boolean Series key will be reindexed to match DataFrame index.\n",
      "  Fuu_3_2_stats = df_3xs_3_2[df_3xs_3_2['phih']>=i_phi_left][df_3xs_3_2['phih']<i_phi]['stat'].tolist()\n"
     ]
    },
    {
     "data": {
      "text/plain": [
       "Text(0, 0.5, '$F_{UU}$')"
      ]
     },
     "execution_count": 50,
     "metadata": {},
     "output_type": "execute_result"
    },
    {
     "data": {
      "image/png": "[encoded data removed]",
      "text/plain": [
       "<Figure size 432x288 with 1 Axes>"
      ]
     },
     "metadata": {
      "needs_background": "light"
     },
     "output_type": "display_data"
    }
   ],
   "source": [
    "fig = plt.figure()\n",
    "ax = fig.add_subplot()\n",
    "phih_3_2_3xs=[]\n",
    "Fuu_3_2_3xs=[]\n",
    "Fuu_3_2_3xs_stat=[]\n",
    "Fuu_3_2_3xs_sys=[]\n",
    "i_phi_left = 0\n",
    "for i_phi in phih_bins:\n",
    "    print(i_phi_left,i_phi)\n",
    "    phih_3_2s = df_3xs_3_2[df_3xs_3_2['phih']>=i_phi_left][df_3xs_3_2['phih']<i_phi]['phih'].tolist()\n",
    "    Fuu_3_2s = df_3xs_3_2[df_3xs_3_2['phih']>=i_phi_left][df_3xs_3_2['phih']<i_phi]['value'].tolist()\n",
    "    Fuu_3_2_stats = df_3xs_3_2[df_3xs_3_2['phih']>=i_phi_left][df_3xs_3_2['phih']<i_phi]['stat'].tolist()\n",
    "    print(len(phih_3_2s))\n",
    "    \n",
    "    if len(phih_3_2s)>0:  \n",
    "        #print('phih',phih_3_2s)\n",
    "        #print('Fuu',Fuu_3_2s)\n",
    "        #print('Fuu_stat',Fuu_3_2_stats)\n",
    "        _Fuu_3_2 = Get_weighted_average(Fuu_3_2s,Fuu_3_2_stats)[0]\n",
    "        _Fuu_3_2_stat = Get_weighted_average(Fuu_3_2s,Fuu_3_2_stats)[1]\n",
    "        _phih_3_2= Get_weighted_average(phih_3_2s,Fuu_3_2_stats)[0]\n",
    "        #print('_Fuu_3_2',_Fuu_3_2)\n",
    "        #print('_phih',_phih_3_2)\n",
    "        #print('_Fuu_stat',_Fuu_3_2_stat)\n",
    "        Fuu_3_2_3xs.append(_Fuu_3_2)\n",
    "        phih_3_2_3xs.append(_phih_3_2)\n",
    "        Fuu_3_2_3xs_stat.append(_Fuu_3_2_stat)\n",
    "        Fuu_3_2_3xs_sys.append(0.05*_Fuu_3_2)\n",
    "        #print(Fuu_3_2,phih_3_2)\n",
    "        ax.plot([_phih_3_2,_phih_3_2],[_Fuu_3_2-_Fuu_3_2_stat,_Fuu_3_2+_Fuu_3_2_stat],color='red',marker='_')\n",
    "    i_phi_left = i_phi\n",
    "    #print('phileft',i_phi_left)\n",
    "plt.plot(phih_3_2_3xs,Fuu_3_2_3xs,'ro')\n",
    "plt.xlabel('$\\phi_h$',fontsize=16)\n",
    "plt.ylabel('$F_{UU}$',fontsize=16)"
   ]
  },
  {
   "cell_type": "code",
   "execution_count": 51,
   "id": "efaa599c",
   "metadata": {
    "scrolled": true
   },
   "outputs": [
    {
     "name": "stdout",
     "output_type": "stream",
     "text": [
      "0 0.5\n",
      "0\n",
      "0.5 1\n",
      "6\n",
      "1 1.5\n",
      "3\n",
      "1.5 2\n",
      "2\n",
      "2 2.5\n",
      "1\n",
      "2.5 3\n",
      "0\n"
     ]
    },
    {
     "name": "stderr",
     "output_type": "stream",
     "text": [
      "/var/folders/ll/8_2_l77j4yl2zjb6stl8d9b00000gn/T/ipykernel_52895/366123712.py:10: UserWarning: Boolean Series key will be reindexed to match DataFrame index.\n",
      "  phih_3_3s = df_3xs_3_3[df_3xs_3_3['phih']>=i_phi_left][df_3xs_3_3['phih']<i_phi]['phih'].tolist()\n",
      "/var/folders/ll/8_2_l77j4yl2zjb6stl8d9b00000gn/T/ipykernel_52895/366123712.py:11: UserWarning: Boolean Series key will be reindexed to match DataFrame index.\n",
      "  Fuu_3_3s = df_3xs_3_3[df_3xs_3_3['phih']>=i_phi_left][df_3xs_3_3['phih']<i_phi]['value'].tolist()\n",
      "/var/folders/ll/8_2_l77j4yl2zjb6stl8d9b00000gn/T/ipykernel_52895/366123712.py:12: UserWarning: Boolean Series key will be reindexed to match DataFrame index.\n",
      "  Fuu_3_3_stats = df_3xs_3_3[df_3xs_3_3['phih']>=i_phi_left][df_3xs_3_3['phih']<i_phi]['stat'].tolist()\n"
     ]
    },
    {
     "data": {
      "text/plain": [
       "Text(0, 0.5, '$F_{UU}$')"
      ]
     },
     "execution_count": 51,
     "metadata": {},
     "output_type": "execute_result"
    },
    {
     "data": {
      "image/png": "[encoded data removed]",
      "text/plain": [
       "<Figure size 432x288 with 1 Axes>"
      ]
     },
     "metadata": {
      "needs_background": "light"
     },
     "output_type": "display_data"
    }
   ],
   "source": [
    "fig = plt.figure()\n",
    "ax = fig.add_subplot()\n",
    "phih_3_3_3xs=[]\n",
    "Fuu_3_3_3xs=[]\n",
    "Fuu_3_3_3xs_stat=[]\n",
    "Fuu_3_3_3xs_sys=[]\n",
    "i_phi_left = 0\n",
    "for i_phi in phih_bins:\n",
    "    print(i_phi_left,i_phi)\n",
    "    phih_3_3s = df_3xs_3_3[df_3xs_3_3['phih']>=i_phi_left][df_3xs_3_3['phih']<i_phi]['phih'].tolist()\n",
    "    Fuu_3_3s = df_3xs_3_3[df_3xs_3_3['phih']>=i_phi_left][df_3xs_3_3['phih']<i_phi]['value'].tolist()\n",
    "    Fuu_3_3_stats = df_3xs_3_3[df_3xs_3_3['phih']>=i_phi_left][df_3xs_3_3['phih']<i_phi]['stat'].tolist()\n",
    "    print(len(phih_3_3s))\n",
    "    \n",
    "    if len(phih_3_3s)>0:  \n",
    "        #print('phih',phih_3_3s)\n",
    "        #print('Fuu',Fuu_3_3s)\n",
    "        #print('Fuu_stat',Fuu_3_3_stats)\n",
    "        _Fuu_3_3 = Get_weighted_average(Fuu_3_3s,Fuu_3_3_stats)[0]\n",
    "        _Fuu_3_3_stat = Get_weighted_average(Fuu_3_3s,Fuu_3_3_stats)[1]\n",
    "        _phih_3_3= Get_weighted_average(phih_3_3s,Fuu_3_3_stats)[0]\n",
    "        #print('_Fuu_3_3',_Fuu_3_3)\n",
    "        #print('_phih',_phih_3_3)\n",
    "        #print('_Fuu_stat',_Fuu_3_3_stat)\n",
    "        Fuu_3_3_3xs.append(_Fuu_3_3)\n",
    "        phih_3_3_3xs.append(_phih_3_3)\n",
    "        Fuu_3_3_3xs_stat.append(_Fuu_3_3_stat)\n",
    "        Fuu_3_3_3xs_sys.append(0.05*_Fuu_3_3)\n",
    "        #print(Fuu_3_3,phih_3_3)\n",
    "        ax.plot([_phih_3_3,_phih_3_3],[_Fuu_3_3-_Fuu_3_3_stat,_Fuu_3_3+_Fuu_3_3_stat],color='red',marker='_')\n",
    "    i_phi_left = i_phi\n",
    "    #print('phileft',i_phi_left)\n",
    "plt.plot(phih_3_3_3xs,Fuu_3_3_3xs,'ro')\n",
    "plt.xlabel('$\\phi_h$',fontsize=16)\n",
    "plt.ylabel('$F_{UU}$',fontsize=16)"
   ]
  },
  {
   "cell_type": "code",
   "execution_count": 52,
   "id": "2f076b37",
   "metadata": {
    "scrolled": true
   },
   "outputs": [
    {
     "name": "stdout",
     "output_type": "stream",
     "text": [
      "0 0.5\n",
      "0\n",
      "0.5 1\n",
      "7\n",
      "1 1.5\n"
     ]
    },
    {
     "name": "stderr",
     "output_type": "stream",
     "text": [
      "/var/folders/ll/8_2_l77j4yl2zjb6stl8d9b00000gn/T/ipykernel_52895/3621593332.py:10: UserWarning: Boolean Series key will be reindexed to match DataFrame index.\n",
      "  phih_4_1s = df_3xs_4_1[df_3xs_4_1['phih']>=i_phi_left][df_3xs_4_1['phih']<i_phi]['phih'].tolist()\n",
      "/var/folders/ll/8_2_l77j4yl2zjb6stl8d9b00000gn/T/ipykernel_52895/3621593332.py:11: UserWarning: Boolean Series key will be reindexed to match DataFrame index.\n",
      "  Fuu_4_1s = df_3xs_4_1[df_3xs_4_1['phih']>=i_phi_left][df_3xs_4_1['phih']<i_phi]['value'].tolist()\n"
     ]
    },
    {
     "name": "stdout",
     "output_type": "stream",
     "text": [
      "2\n",
      "1.5 2\n",
      "8\n",
      "2 2.5\n",
      "6\n",
      "2.5 3\n",
      "0\n"
     ]
    },
    {
     "name": "stderr",
     "output_type": "stream",
     "text": [
      "/var/folders/ll/8_2_l77j4yl2zjb6stl8d9b00000gn/T/ipykernel_52895/3621593332.py:12: UserWarning: Boolean Series key will be reindexed to match DataFrame index.\n",
      "  Fuu_4_1_stats = df_3xs_4_1[df_3xs_4_1['phih']>=i_phi_left][df_3xs_4_1['phih']<i_phi]['stat'].tolist()\n"
     ]
    },
    {
     "data": {
      "text/plain": [
       "Text(0, 0.5, '$F_{UU}$')"
      ]
     },
     "execution_count": 52,
     "metadata": {},
     "output_type": "execute_result"
    },
    {
     "data": {
      "image/png": "[encoded data removed]",
      "text/plain": [
       "<Figure size 432x288 with 1 Axes>"
      ]
     },
     "metadata": {
      "needs_background": "light"
     },
     "output_type": "display_data"
    }
   ],
   "source": [
    "fig = plt.figure()\n",
    "ax = fig.add_subplot()\n",
    "phih_4_1_3xs=[]\n",
    "Fuu_4_1_3xs=[]\n",
    "Fuu_4_1_3xs_stat=[]\n",
    "Fuu_4_1_3xs_sys=[]\n",
    "i_phi_left = 0\n",
    "for i_phi in phih_bins:\n",
    "    print(i_phi_left,i_phi)\n",
    "    phih_4_1s = df_3xs_4_1[df_3xs_4_1['phih']>=i_phi_left][df_3xs_4_1['phih']<i_phi]['phih'].tolist()\n",
    "    Fuu_4_1s = df_3xs_4_1[df_3xs_4_1['phih']>=i_phi_left][df_3xs_4_1['phih']<i_phi]['value'].tolist()\n",
    "    Fuu_4_1_stats = df_3xs_4_1[df_3xs_4_1['phih']>=i_phi_left][df_3xs_4_1['phih']<i_phi]['stat'].tolist()\n",
    "    print(len(phih_4_1s))\n",
    "    \n",
    "    if len(phih_4_1s)>0:  \n",
    "        #print('phih',phih_4_1s)\n",
    "        #print('Fuu',Fuu_4_1s)\n",
    "        #print('Fuu_stat',Fuu_4_1_stats)\n",
    "        _Fuu_4_1 = Get_weighted_average(Fuu_4_1s,Fuu_4_1_stats)[0]\n",
    "        _Fuu_4_1_stat = Get_weighted_average(Fuu_4_1s,Fuu_4_1_stats)[1]\n",
    "        _phih_4_1= Get_weighted_average(phih_4_1s,Fuu_4_1_stats)[0]\n",
    "        #print('_Fuu_4_1',_Fuu_4_1)\n",
    "        #print('_phih',_phih_4_1)\n",
    "        #print('_Fuu_stat',_Fuu_4_1_stat)\n",
    "        Fuu_4_1_3xs.append(_Fuu_4_1)\n",
    "        phih_4_1_3xs.append(_phih_4_1)\n",
    "        Fuu_4_1_3xs_stat.append(_Fuu_4_1_stat)\n",
    "        Fuu_4_1_3xs_sys.append(0.05*_Fuu_4_1)\n",
    "        #print(Fuu_4_1,phih_4_1)\n",
    "        ax.plot([_phih_4_1,_phih_4_1],[_Fuu_4_1-_Fuu_4_1_stat,_Fuu_4_1+_Fuu_4_1_stat],color='red',marker='_')\n",
    "    i_phi_left = i_phi\n",
    "    #print('phileft',i_phi_left)\n",
    "plt.plot(phih_4_1_3xs,Fuu_4_1_3xs,'ro')\n",
    "plt.xlabel('$\\phi_h$',fontsize=16)\n",
    "plt.ylabel('$F_{UU}$',fontsize=16)"
   ]
  },
  {
   "cell_type": "code",
   "execution_count": 53,
   "id": "f7840b73",
   "metadata": {},
   "outputs": [
    {
     "name": "stdout",
     "output_type": "stream",
     "text": [
      "0 0.5\n",
      "0\n",
      "0.5 1\n",
      "6\n",
      "1 1.5\n",
      "3\n",
      "1.5 2\n",
      "3\n",
      "2 2.5\n",
      "2\n",
      "2.5 3\n",
      "0\n"
     ]
    },
    {
     "name": "stderr",
     "output_type": "stream",
     "text": [
      "/var/folders/ll/8_2_l77j4yl2zjb6stl8d9b00000gn/T/ipykernel_52895/3276777462.py:10: UserWarning: Boolean Series key will be reindexed to match DataFrame index.\n",
      "  phih_4_2s = df_3xs_4_2[df_3xs_4_2['phih']>=i_phi_left][df_3xs_4_2['phih']<i_phi]['phih'].tolist()\n",
      "/var/folders/ll/8_2_l77j4yl2zjb6stl8d9b00000gn/T/ipykernel_52895/3276777462.py:11: UserWarning: Boolean Series key will be reindexed to match DataFrame index.\n",
      "  Fuu_4_2s = df_3xs_4_2[df_3xs_4_2['phih']>=i_phi_left][df_3xs_4_2['phih']<i_phi]['value'].tolist()\n",
      "/var/folders/ll/8_2_l77j4yl2zjb6stl8d9b00000gn/T/ipykernel_52895/3276777462.py:12: UserWarning: Boolean Series key will be reindexed to match DataFrame index.\n",
      "  Fuu_4_2_stats = df_3xs_4_2[df_3xs_4_2['phih']>=i_phi_left][df_3xs_4_2['phih']<i_phi]['stat'].tolist()\n"
     ]
    },
    {
     "data": {
      "text/plain": [
       "Text(0, 0.5, '$F_{UU}$')"
      ]
     },
     "execution_count": 53,
     "metadata": {},
     "output_type": "execute_result"
    },
    {
     "data": {
      "image/png": "[encoded data removed]",
      "text/plain": [
       "<Figure size 432x288 with 1 Axes>"
      ]
     },
     "metadata": {
      "needs_background": "light"
     },
     "output_type": "display_data"
    }
   ],
   "source": [
    "fig = plt.figure()\n",
    "ax = fig.add_subplot()\n",
    "phih_4_2_3xs=[]\n",
    "Fuu_4_2_3xs=[]\n",
    "Fuu_4_2_3xs_stat=[]\n",
    "Fuu_4_2_3xs_sys=[]\n",
    "i_phi_left = 0\n",
    "for i_phi in phih_bins:\n",
    "    print(i_phi_left,i_phi)\n",
    "    phih_4_2s = df_3xs_4_2[df_3xs_4_2['phih']>=i_phi_left][df_3xs_4_2['phih']<i_phi]['phih'].tolist()\n",
    "    Fuu_4_2s = df_3xs_4_2[df_3xs_4_2['phih']>=i_phi_left][df_3xs_4_2['phih']<i_phi]['value'].tolist()\n",
    "    Fuu_4_2_stats = df_3xs_4_2[df_3xs_4_2['phih']>=i_phi_left][df_3xs_4_2['phih']<i_phi]['stat'].tolist()\n",
    "    print(len(phih_4_2s))\n",
    "    \n",
    "    if len(phih_4_2s)>0:  \n",
    "        #print('phih',phih_4_2s)\n",
    "        #print('Fuu',Fuu_4_2s)\n",
    "        #print('Fuu_stat',Fuu_4_2_stats)\n",
    "        _Fuu_4_2 = Get_weighted_average(Fuu_4_2s,Fuu_4_2_stats)[0]\n",
    "        _Fuu_4_2_stat = Get_weighted_average(Fuu_4_2s,Fuu_4_2_stats)[1]\n",
    "        _phih_4_2= Get_weighted_average(phih_4_2s,Fuu_4_2_stats)[0]\n",
    "        #print('_Fuu_4_2',_Fuu_4_2)\n",
    "        #print('_phih',_phih_4_2)\n",
    "        #print('_Fuu_stat',_Fuu_4_2_stat)\n",
    "        Fuu_4_2_3xs.append(_Fuu_4_2)\n",
    "        phih_4_2_3xs.append(_phih_4_2)\n",
    "        Fuu_4_2_3xs_stat.append(_Fuu_4_2_stat)\n",
    "        Fuu_4_2_3xs_sys.append(0.05*_Fuu_4_2)\n",
    "        #print(Fuu_4_2,phih_4_2)\n",
    "        ax.plot([_phih_4_2,_phih_4_2],[_Fuu_4_2-_Fuu_4_2_stat,_Fuu_4_2+_Fuu_4_2_stat],color='red',marker='_')\n",
    "    i_phi_left = i_phi\n",
    "    #print('phileft',i_phi_left)\n",
    "plt.plot(phih_4_2_3xs,Fuu_4_2_3xs,'ro')\n",
    "plt.xlabel('$\\phi_h$',fontsize=16)\n",
    "plt.ylabel('$F_{UU}$',fontsize=16)"
   ]
  },
  {
   "cell_type": "code",
   "execution_count": 54,
   "id": "6f492a96",
   "metadata": {
    "scrolled": true
   },
   "outputs": [
    {
     "name": "stdout",
     "output_type": "stream",
     "text": [
      "0 0.5\n",
      "1\n",
      "0.5 1\n",
      "2\n",
      "1 1.5\n",
      "2\n",
      "1.5 2\n",
      "1\n",
      "2 2.5\n",
      "0\n",
      "2.5 3\n",
      "0\n"
     ]
    },
    {
     "name": "stderr",
     "output_type": "stream",
     "text": [
      "/var/folders/ll/8_2_l77j4yl2zjb6stl8d9b00000gn/T/ipykernel_52895/3622806454.py:10: UserWarning: Boolean Series key will be reindexed to match DataFrame index.\n",
      "  phih_4_3s = df_3xs_4_3[df_3xs_4_3['phih']>=i_phi_left][df_3xs_4_3['phih']<i_phi]['phih'].tolist()\n",
      "/var/folders/ll/8_2_l77j4yl2zjb6stl8d9b00000gn/T/ipykernel_52895/3622806454.py:11: UserWarning: Boolean Series key will be reindexed to match DataFrame index.\n",
      "  Fuu_4_3s = df_3xs_4_3[df_3xs_4_3['phih']>=i_phi_left][df_3xs_4_3['phih']<i_phi]['value'].tolist()\n",
      "/var/folders/ll/8_2_l77j4yl2zjb6stl8d9b00000gn/T/ipykernel_52895/3622806454.py:12: UserWarning: Boolean Series key will be reindexed to match DataFrame index.\n",
      "  Fuu_4_3_stats = df_3xs_4_3[df_3xs_4_3['phih']>=i_phi_left][df_3xs_4_3['phih']<i_phi]['stat'].tolist()\n"
     ]
    },
    {
     "data": {
      "text/plain": [
       "Text(0, 0.5, '$F_{UU}$')"
      ]
     },
     "execution_count": 54,
     "metadata": {},
     "output_type": "execute_result"
    },
    {
     "data": {
      "image/png": "[encoded data removed]",
      "text/plain": [
       "<Figure size 432x288 with 1 Axes>"
      ]
     },
     "metadata": {
      "needs_background": "light"
     },
     "output_type": "display_data"
    }
   ],
   "source": [
    "fig = plt.figure()\n",
    "ax = fig.add_subplot()\n",
    "phih_4_3_3xs=[]\n",
    "Fuu_4_3_3xs=[]\n",
    "Fuu_4_3_3xs_stat=[]\n",
    "Fuu_4_3_3xs_sys=[]\n",
    "i_phi_left = 0\n",
    "for i_phi in phih_bins:\n",
    "    print(i_phi_left,i_phi)\n",
    "    phih_4_3s = df_3xs_4_3[df_3xs_4_3['phih']>=i_phi_left][df_3xs_4_3['phih']<i_phi]['phih'].tolist()\n",
    "    Fuu_4_3s = df_3xs_4_3[df_3xs_4_3['phih']>=i_phi_left][df_3xs_4_3['phih']<i_phi]['value'].tolist()\n",
    "    Fuu_4_3_stats = df_3xs_4_3[df_3xs_4_3['phih']>=i_phi_left][df_3xs_4_3['phih']<i_phi]['stat'].tolist()\n",
    "    print(len(phih_4_3s))\n",
    "    \n",
    "    if len(phih_4_3s)>0:  \n",
    "        #print('phih',phih_4_3s)\n",
    "        #print('Fuu',Fuu_4_3s)\n",
    "        #print('Fuu_stat',Fuu_4_3_stats)\n",
    "        _Fuu_4_3 = Get_weighted_average(Fuu_4_3s,Fuu_4_3_stats)[0]\n",
    "        _Fuu_4_3_stat = Get_weighted_average(Fuu_4_3s,Fuu_4_3_stats)[1]\n",
    "        _phih_4_3= Get_weighted_average(phih_4_3s,Fuu_4_3_stats)[0]\n",
    "        #print('_Fuu_4_3',_Fuu_4_3)\n",
    "        #print('_phih',_phih_4_3)\n",
    "        #print('_Fuu_stat',_Fuu_4_3_stat)\n",
    "        Fuu_4_3_3xs.append(_Fuu_4_3)\n",
    "        phih_4_3_3xs.append(_phih_4_3)\n",
    "        Fuu_4_3_3xs_stat.append(_Fuu_4_3_stat)\n",
    "        Fuu_4_3_3xs_sys.append(0.05*_Fuu_4_3)\n",
    "        #print(Fuu_4_3,phih_4_3)\n",
    "        ax.plot([_phih_4_3,_phih_4_3],[_Fuu_4_3-_Fuu_4_3_stat,_Fuu_4_3+_Fuu_4_3_stat],color='red',marker='_')\n",
    "    i_phi_left = i_phi\n",
    "    #print('phileft',i_phi_left)\n",
    "plt.plot(phih_4_3_3xs,Fuu_4_3_3xs,'ro')\n",
    "plt.xlabel('$\\phi_h$',fontsize=16)\n",
    "plt.ylabel('$F_{UU}$',fontsize=16)"
   ]
  },
  {
   "cell_type": "code",
   "execution_count": 55,
   "id": "8f9bc060",
   "metadata": {
    "scrolled": true
   },
   "outputs": [
    {
     "data": {
      "image/png": "[encoded data removed]",
      "text/plain": [
       "<Figure size 720x576 with 12 Axes>"
      ]
     },
     "metadata": {
      "needs_background": "light"
     },
     "output_type": "display_data"
    }
   ],
   "source": [
    "fig, axs = plt.subplots(4,3,figsize=(10,8),sharey=True)\n",
    "fig.subplots_adjust(hspace=0)\n",
    "fig.subplots_adjust(wspace=0)\n",
    "plt.ylim(0.0002,0.99)\n",
    "plt.yscale('log')\n",
    "plt.xlabel('$\\phi_h(rad)$',fontsize=16)\n",
    "\n",
    "for i_1_1 in range(0,len(phih_1_1)):\n",
    "    _phih_1_1 = phih_1_1[i_1_1]\n",
    "    _Fuu_1_1 = Fuu_1_1[i_1_1]\n",
    "    _Fuu_1_1_stat = Fuu_1_1_stat[i_1_1]\n",
    "    axs[0][0].plot([_phih_1_1,_phih_1_1],[_Fuu_1_1-_Fuu_1_1_stat,_Fuu_1_1+_Fuu_1_1_stat],color='blue',marker='_')\n",
    "axs[0][0].plot(phih_1_1,Fuu_1_1,'bo')\n",
    "axs[0][0].fill_between(phih_1_1,np.asarray(0),np.asarray(0)+np.asarray(Fuu_1_1_sys),color='blue',hatch='\\\\\\\\\\\\\\\\',alpha=0.25,linewidth=0)\n",
    "axs[0][0].set_ylabel('$F_{UU}$',fontsize=16)\n",
    "for i_1_1_3xs in range(0,len(phih_1_1_3xs)):\n",
    "    _phih_1_1 = phih_1_1_3xs[i_1_1_3xs]\n",
    "    _Fuu_1_1 = Fuu_1_1_3xs[i_1_1_3xs]\n",
    "    _Fuu_1_1_stat = Fuu_1_1_3xs_stat[i_1_1_3xs]\n",
    "    axs[0][0].plot([_phih_1_1,_phih_1_1],[_Fuu_1_1-_Fuu_1_1_stat,_Fuu_1_1+_Fuu_1_1_stat],color='red',marker='_')\n",
    "axs[0][0].plot(phih_1_1_3xs,Fuu_1_1_3xs,'ro')\n",
    "axs[0][0].fill_between(phih_1_1_3xs,np.asarray(0),np.asarray(0)+np.asarray(Fuu_1_1_3xs_sys),color='red',hatch='\\\\\\\\\\\\\\\\',alpha=0.25,linewidth=0)\n",
    "for i_1_2 in range(0,len(phih_1_2)):\n",
    "    _phih_1_2 = phih_1_2[i_1_2]\n",
    "    _Fuu_1_2 = Fuu_1_2[i_1_2]\n",
    "    _Fuu_1_2_stat = Fuu_1_2_stat[i_1_2]\n",
    "    axs[0][1].plot([_phih_1_2,_phih_1_2],[_Fuu_1_2-_Fuu_1_2_stat,_Fuu_1_2+_Fuu_1_2_stat],color='blue',marker='_')\n",
    "axs[0][1].plot(phih_1_2,Fuu_1_2,'bo')\n",
    "axs[0][1].fill_between(phih_1_2,np.asarray(0),np.asarray(0)+np.asarray(Fuu_1_2_sys),color='blue',hatch='\\\\\\\\\\\\\\\\',alpha=0.25,linewidth=0)\n",
    "for i_1_2_3xs in range(0,len(phih_1_2_3xs)):\n",
    "    _phih_1_2 = phih_1_2_3xs[i_1_2_3xs]\n",
    "    _Fuu_1_2 = Fuu_1_2_3xs[i_1_2_3xs]\n",
    "    _Fuu_1_2_stat = Fuu_1_2_3xs_stat[i_1_2_3xs]\n",
    "    axs[0][1].plot([_phih_1_2,_phih_1_2],[_Fuu_1_2-_Fuu_1_2_stat,_Fuu_1_2+_Fuu_1_2_stat],color='red',marker='_')\n",
    "axs[0][1].plot(phih_1_2_3xs,Fuu_1_2_3xs,'ro')\n",
    "axs[0][1].fill_between(phih_1_2_3xs,np.asarray(0),np.asarray(0)+np.asarray(Fuu_1_2_3xs_sys),color='red',hatch='\\\\\\\\\\\\\\\\',alpha=0.25,linewidth=0)\n",
    "for i_1_3 in range(0,len(phih_1_3)):\n",
    "    _phih_1_3 = phih_1_3[i_1_3]\n",
    "    _Fuu_1_3 = Fuu_1_3[i_1_3]\n",
    "    _Fuu_1_3_stat = Fuu_1_3_stat[i_1_3]\n",
    "    axs[0][2].plot([_phih_1_3,_phih_1_3],[_Fuu_1_3-_Fuu_1_3_stat,_Fuu_1_3+_Fuu_1_3_stat],color='blue',marker='_')\n",
    "axs[0][2].plot(phih_1_3,Fuu_1_3,'bo')\n",
    "axs[0][2].fill_between(phih_1_3,np.asarray(0),np.asarray(0)+np.asarray(Fuu_1_3_sys),color='blue',hatch='\\\\\\\\\\\\\\\\',alpha=0.25,linewidth=0)\n",
    "for i_1_3_3xs in range(0,len(phih_1_3_3xs)):\n",
    "    _phih_1_3 = phih_1_3_3xs[i_1_3_3xs]\n",
    "    _Fuu_1_3 = Fuu_1_3_3xs[i_1_3_3xs]\n",
    "    _Fuu_1_3_stat = Fuu_1_3_3xs_stat[i_1_3_3xs]\n",
    "    axs[0][2].plot([_phih_1_3,_phih_1_3],[_Fuu_1_3-_Fuu_1_3_stat,_Fuu_1_3+_Fuu_1_3_stat],color='red',marker='_')\n",
    "axs[0][2].plot(phih_1_3_3xs,Fuu_1_3_3xs,'ro')\n",
    "axs[0][2].fill_between(phih_1_3_3xs,np.asarray(0),np.asarray(0)+np.asarray(Fuu_1_3_3xs_sys),color='red',hatch='\\\\\\\\\\\\\\\\',alpha=0.25,linewidth=0)\n",
    "for i_2_1 in range(0,len(phih_2_1)):\n",
    "    _phih_2_1 = phih_2_1[i_2_1]\n",
    "    _Fuu_2_1 = Fuu_2_1[i_2_1]\n",
    "    _Fuu_2_1_stat = Fuu_2_1_stat[i_2_1]\n",
    "    axs[1][0].plot([_phih_2_1,_phih_2_1],[_Fuu_2_1-_Fuu_2_1_stat,_Fuu_2_1+_Fuu_2_1_stat],color='blue',marker='_')\n",
    "axs[1][0].plot(phih_2_1,Fuu_2_1,'bo')\n",
    "axs[1][0].fill_between(phih_2_1,np.asarray(0),np.asarray(0)+np.asarray(Fuu_2_1_sys),color='blue',hatch='\\\\\\\\\\\\\\\\',alpha=0.25,linewidth=0)\n",
    "for i_2_1_3xs in range(0,len(phih_2_1_3xs)):\n",
    "    _phih_2_1 = phih_2_1_3xs[i_2_1_3xs]\n",
    "    _Fuu_2_1 = Fuu_2_1_3xs[i_2_1_3xs]\n",
    "    _Fuu_2_1_stat = Fuu_2_1_3xs_stat[i_2_1_3xs]\n",
    "    axs[1][0].plot([_phih_2_1,_phih_2_1],[_Fuu_2_1-_Fuu_2_1_stat,_Fuu_2_1+_Fuu_2_1_stat],color='red',marker='_')\n",
    "axs[1][0].plot(phih_2_1_3xs,Fuu_2_1_3xs,'ro')\n",
    "axs[1][0].fill_between(phih_2_1_3xs,np.asarray(0),np.asarray(0)+np.asarray(Fuu_2_1_3xs_sys),color='red',hatch='\\\\\\\\\\\\\\\\',alpha=0.25,linewidth=0)\n",
    "for i_2_2 in range(0,len(phih_2_2)):\n",
    "    _phih_2_2 = phih_2_2[i_2_2]\n",
    "    _Fuu_2_2 = Fuu_2_2[i_2_2]\n",
    "    _Fuu_2_2_stat = Fuu_2_2_stat[i_2_2]\n",
    "    axs[1][1].plot([_phih_2_2,_phih_2_2],[_Fuu_2_2-_Fuu_2_2_stat,_Fuu_2_2+_Fuu_2_2_stat],color='blue',marker='_')\n",
    "axs[1][1].plot(phih_2_2,Fuu_2_2,'bo')\n",
    "axs[1][1].fill_between(phih_2_2,np.asarray(0),np.asarray(0)+np.asarray(Fuu_2_2_sys),color='blue',hatch='\\\\\\\\\\\\\\\\',alpha=0.25,linewidth=0)\n",
    "for i_2_2_3xs in range(0,len(phih_2_2_3xs)):\n",
    "    _phih_2_2 = phih_2_2_3xs[i_2_2_3xs]\n",
    "    _Fuu_2_2 = Fuu_2_2_3xs[i_2_2_3xs]\n",
    "    _Fuu_2_2_stat = Fuu_2_2_3xs_stat[i_2_2_3xs]\n",
    "    axs[1][1].plot([_phih_2_2,_phih_2_2],[_Fuu_2_2-_Fuu_2_2_stat,_Fuu_2_2+_Fuu_2_2_stat],color='red',marker='_')\n",
    "axs[1][1].plot(phih_2_2_3xs,Fuu_2_2_3xs,'ro')\n",
    "axs[1][1].fill_between(phih_2_2_3xs,np.asarray(0),np.asarray(0)+np.asarray(Fuu_2_2_3xs_sys),color='red',hatch='\\\\\\\\\\\\\\\\',alpha=0.25,linewidth=0)\n",
    "for i_2_3 in range(0,len(phih_2_3)):\n",
    "    _phih_2_3 = phih_2_3[i_2_3]\n",
    "    _Fuu_2_3 = Fuu_2_3[i_2_3]\n",
    "    _Fuu_2_3_stat = Fuu_2_3_stat[i_2_3]\n",
    "    axs[1][2].plot([_phih_2_3,_phih_2_3],[_Fuu_2_3-_Fuu_2_3_stat,_Fuu_2_3+_Fuu_2_3_stat],color='blue',marker='_')\n",
    "axs[1][2].plot(phih_2_3,Fuu_2_3,'bo')\n",
    "axs[1][2].fill_between(phih_2_3,np.asarray(0),np.asarray(0)+np.asarray(Fuu_2_3_sys),color='blue',hatch='\\\\\\\\\\\\\\\\',alpha=0.25,linewidth=0)\n",
    "for i_2_3_3xs in range(0,len(phih_2_3_3xs)):\n",
    "    _phih_2_3 = phih_2_3_3xs[i_2_3_3xs]\n",
    "    _Fuu_2_3 = Fuu_2_3_3xs[i_2_3_3xs]\n",
    "    _Fuu_2_3_stat = Fuu_2_3_3xs_stat[i_2_3_3xs]\n",
    "    axs[1][2].plot([_phih_2_3,_phih_2_3],[_Fuu_2_3-_Fuu_2_3_stat,_Fuu_2_3+_Fuu_2_3_stat],color='red',marker='_')\n",
    "axs[1][2].plot(phih_2_3_3xs,Fuu_2_3_3xs,'ro')\n",
    "axs[1][2].fill_between(phih_2_3_3xs,np.asarray(0),np.asarray(0)+np.asarray(Fuu_2_3_3xs_sys),color='red',hatch='\\\\\\\\\\\\\\\\',alpha=0.25,linewidth=0)\n",
    "for i_3_1 in range(0,len(phih_3_1)):\n",
    "    _phih_3_1 = phih_3_1[i_3_1]\n",
    "    _Fuu_3_1 = Fuu_3_1[i_3_1]\n",
    "    _Fuu_3_1_stat = Fuu_3_1_stat[i_3_1]\n",
    "    axs[2][0].plot([_phih_3_1,_phih_3_1],[_Fuu_3_1-_Fuu_3_1_stat,_Fuu_3_1+_Fuu_3_1_stat],color='blue',marker='_')\n",
    "axs[2][0].plot(phih_3_1,Fuu_3_1,'bo')\n",
    "axs[2][0].fill_between(phih_3_1,np.asarray(0),np.asarray(0)+np.asarray(Fuu_3_1_sys),color='blue',hatch='\\\\\\\\\\\\\\\\',alpha=0.25,linewidth=0)\n",
    "for i_3_1_3xs in range(0,len(phih_3_1_3xs)):\n",
    "    _phih_3_1 = phih_3_1_3xs[i_3_1_3xs]\n",
    "    _Fuu_3_1 = Fuu_3_1_3xs[i_3_1_3xs]\n",
    "    _Fuu_3_1_stat = Fuu_3_1_3xs_stat[i_3_1_3xs]\n",
    "    axs[2][0].plot([_phih_3_1,_phih_3_1],[_Fuu_3_1-_Fuu_3_1_stat,_Fuu_3_1+_Fuu_3_1_stat],color='red',marker='_')\n",
    "axs[2][0].plot(phih_3_1_3xs,Fuu_3_1_3xs,'ro')\n",
    "axs[2][0].fill_between(phih_3_1_3xs,np.asarray(0),np.asarray(0)+np.asarray(Fuu_3_1_3xs_sys),color='red',hatch='\\\\\\\\\\\\\\\\',alpha=0.25,linewidth=0)\n",
    "for i_3_2 in range(0,len(phih_3_2)):\n",
    "    _phih_3_2 = phih_3_2[i_3_2]\n",
    "    _Fuu_3_2 = Fuu_3_2[i_3_2]\n",
    "    _Fuu_3_2_stat = Fuu_3_2_stat[i_3_2]\n",
    "    axs[2][1].plot([_phih_3_2,_phih_3_2],[_Fuu_3_2-_Fuu_3_2_stat,_Fuu_3_2+_Fuu_3_2_stat],color='blue',marker='_')\n",
    "axs[2][1].plot(phih_3_2,Fuu_3_2,'bo')\n",
    "axs[2][1].fill_between(phih_3_2,np.asarray(0),np.asarray(0)+np.asarray(Fuu_3_2_sys),color='blue',hatch='\\\\\\\\\\\\\\\\',alpha=0.25,linewidth=0)\n",
    "for i_3_2_3xs in range(0,len(phih_3_2_3xs)):\n",
    "    _phih_3_2 = phih_3_2_3xs[i_3_2_3xs]\n",
    "    _Fuu_3_2 = Fuu_3_2_3xs[i_3_2_3xs]\n",
    "    _Fuu_3_2_stat = Fuu_3_2_3xs_stat[i_3_2_3xs]\n",
    "    axs[2][1].plot([_phih_3_2,_phih_3_2],[_Fuu_3_2-_Fuu_3_2_stat,_Fuu_3_2+_Fuu_3_2_stat],color='red',marker='_')\n",
    "axs[2][1].plot(phih_3_2_3xs,Fuu_3_2_3xs,'ro')\n",
    "axs[2][1].fill_between(phih_3_2_3xs,np.asarray(0),np.asarray(0)+np.asarray(Fuu_3_2_3xs_sys),color='red',hatch='\\\\\\\\\\\\\\\\',alpha=0.25,linewidth=0)\n",
    "for i_3_3 in range(0,len(phih_3_3)):\n",
    "    _phih_3_3 = phih_3_3[i_3_3]\n",
    "    _Fuu_3_3 = Fuu_3_3[i_3_3]\n",
    "    _Fuu_3_3_stat = Fuu_3_3_stat[i_3_3]\n",
    "    axs[2][2].plot([_phih_3_3,_phih_3_3],[_Fuu_3_3-_Fuu_3_3_stat,_Fuu_3_3+_Fuu_3_3_stat],color='blue',marker='_')\n",
    "axs[2][2].plot(phih_3_3,Fuu_3_3,'bo')\n",
    "axs[2][2].fill_between(phih_3_3,np.asarray(0),np.asarray(0)+np.asarray(Fuu_3_3_sys),color='blue',hatch='\\\\\\\\\\\\\\\\',alpha=0.25,linewidth=0)\n",
    "for i_3_3_3xs in range(0,len(phih_3_3_3xs)):\n",
    "    _phih_3_3 = phih_3_3_3xs[i_3_3_3xs]\n",
    "    _Fuu_3_3 = Fuu_3_3_3xs[i_3_3_3xs]\n",
    "    _Fuu_3_3_stat = Fuu_3_3_3xs_stat[i_3_3_3xs]\n",
    "    axs[2][2].plot([_phih_3_3,_phih_3_3],[_Fuu_3_3-_Fuu_3_3_stat,_Fuu_3_3+_Fuu_3_3_stat],color='red',marker='_')\n",
    "axs[2][2].plot(phih_3_3_3xs,Fuu_3_3_3xs,'ro')\n",
    "axs[2][2].fill_between(phih_3_3_3xs,np.asarray(0),np.asarray(0)+np.asarray(Fuu_3_3_3xs_sys),color='red',hatch='\\\\\\\\\\\\\\\\',alpha=0.25,linewidth=0)\n",
    "for i_4_1 in range(0,len(phih_4_1)):\n",
    "    _phih_4_1 = phih_4_1[i_4_1]\n",
    "    _Fuu_4_1 = Fuu_4_1[i_4_1]\n",
    "    _Fuu_4_1_stat = Fuu_4_1_stat[i_4_1]\n",
    "    axs[3][0].plot([_phih_4_1,_phih_4_1],[_Fuu_4_1-_Fuu_4_1_stat,_Fuu_4_1+_Fuu_4_1_stat],color='blue',marker='_')\n",
    "axs[3][0].plot(phih_4_1,Fuu_4_1,'bo')\n",
    "axs[3][0].fill_between(phih_4_1,np.asarray(0),np.asarray(0)+np.asarray(Fuu_4_1_sys),color='blue',hatch='\\\\\\\\\\\\\\\\',alpha=0.25,linewidth=0)\n",
    "for i_4_1_3xs in range(0,len(phih_4_1_3xs)):\n",
    "    _phih_4_1 = phih_4_1_3xs[i_4_1_3xs]\n",
    "    _Fuu_4_1 = Fuu_4_1_3xs[i_4_1_3xs]\n",
    "    _Fuu_4_1_stat = Fuu_4_1_3xs_stat[i_4_1_3xs]\n",
    "    axs[3][0].plot([_phih_4_1,_phih_4_1],[_Fuu_4_1-_Fuu_4_1_stat,_Fuu_4_1+_Fuu_4_1_stat],color='red',marker='_')\n",
    "axs[3][0].plot(phih_4_1_3xs,Fuu_4_1_3xs,'ro')\n",
    "axs[3][0].fill_between(phih_4_1_3xs,np.asarray(0),np.asarray(0)+np.asarray(Fuu_4_1_3xs_sys),color='red',hatch='\\\\\\\\\\\\\\\\',alpha=0.25,linewidth=0)\n",
    "for i_4_2 in range(0,len(phih_4_2)):\n",
    "    _phih_4_2 = phih_4_2[i_4_2]\n",
    "    _Fuu_4_2 = Fuu_4_2[i_4_2]\n",
    "    _Fuu_4_2_stat = Fuu_4_2_stat[i_4_2]\n",
    "    axs[3][1].plot([_phih_4_2,_phih_4_2],[_Fuu_4_2-_Fuu_4_2_stat,_Fuu_4_2+_Fuu_4_2_stat],color='blue',marker='_')\n",
    "axs[3][1].plot(phih_4_2,Fuu_4_2,'bo')\n",
    "axs[3][1].fill_between(phih_4_2,np.asarray(0),np.asarray(0)+np.asarray(Fuu_4_2_sys),color='blue',hatch='\\\\\\\\\\\\\\\\',alpha=0.25,linewidth=0)\n",
    "for i_4_2_3xs in range(0,len(phih_4_2_3xs)):\n",
    "    _phih_4_2 = phih_4_2_3xs[i_4_2_3xs]\n",
    "    _Fuu_4_2 = Fuu_4_2_3xs[i_4_2_3xs]\n",
    "    _Fuu_4_2_stat = Fuu_4_2_3xs_stat[i_4_2_3xs]\n",
    "    axs[3][1].plot([_phih_4_2,_phih_4_2],[_Fuu_4_2-_Fuu_4_2_stat,_Fuu_4_2+_Fuu_4_2_stat],color='red',marker='_')\n",
    "axs[3][1].plot(phih_4_2_3xs,Fuu_4_2_3xs,'ro')\n",
    "axs[3][1].fill_between(phih_4_2_3xs,np.asarray(0),np.asarray(0)+np.asarray(Fuu_4_2_3xs_sys),color='red',hatch='\\\\\\\\\\\\\\\\',alpha=0.25,linewidth=0)\n",
    "for i_4_3 in range(0,len(phih_4_3)):\n",
    "    _phih_4_3 = phih_4_3[i_4_3]\n",
    "    _Fuu_4_3 = Fuu_4_3[i_4_3]\n",
    "    _Fuu_4_3_stat = Fuu_4_3_stat[i_4_3]\n",
    "    axs[3][2].plot([_phih_4_3,_phih_4_3],[_Fuu_4_3-_Fuu_4_3_stat,_Fuu_4_3+_Fuu_4_3_stat],color='blue',marker='_')\n",
    "axs[3][2].plot(phih_4_3,Fuu_4_3,'bo')\n",
    "axs[3][2].fill_between(phih_4_3,np.asarray(0),np.asarray(0)+np.asarray(Fuu_4_3_sys),color='blue',hatch='\\\\\\\\\\\\\\\\',alpha=0.25,linewidth=0)\n",
    "for i_4_3_3xs in range(0,len(phih_4_3_3xs)):\n",
    "    _phih_4_3 = phih_4_3_3xs[i_4_3_3xs]\n",
    "    _Fuu_4_3 = Fuu_4_3_3xs[i_4_3_3xs]\n",
    "    _Fuu_4_3_stat = Fuu_4_3_3xs_stat[i_4_3_3xs]\n",
    "    axs[3][2].plot([_phih_4_3,_phih_4_3],[_Fuu_4_3-_Fuu_4_3_stat,_Fuu_4_3+_Fuu_4_3_stat],color='red',marker='_')\n",
    "axs[3][2].plot(phih_4_3_3xs,Fuu_4_3_3xs,'ro')\n",
    "axs[3][2].fill_between(phih_4_3_3xs,np.asarray(0),np.asarray(0)+np.asarray(Fuu_4_3_3xs_sys),color='red',hatch='\\\\\\\\\\\\\\\\',alpha=0.25,linewidth=0)\n",
    "\n",
    "plt.savefig('../Unpol_proposal/Materials/Fuu_log.pdf')"
   ]
  },
  {
   "cell_type": "code",
   "execution_count": 87,
   "id": "4ddb4751",
   "metadata": {
    "scrolled": true
   },
   "outputs": [
    {
     "data": {
      "image/png": "[encoded data removed]",
      "text/plain": [
       "<Figure size 720x576 with 12 Axes>"
      ]
     },
     "metadata": {
      "needs_background": "light"
     },
     "output_type": "display_data"
    }
   ],
   "source": [
    "fig, axs = plt.subplots(4,3,figsize=(10,8))\n",
    "fig.subplots_adjust(hspace=0)\n",
    "fig.subplots_adjust(wspace=0)\n",
    "\n",
    "plt.xlabel('$\\phi_h(rad)$',fontsize=16)\n",
    "\n",
    "for i_1_1 in range(0,len(phih_1_1)):\n",
    "    _phih_1_1 = phih_1_1[i_1_1]\n",
    "    _Fuu_1_1 = Fuu_1_1[i_1_1]\n",
    "    _Fuu_1_1_stat = Fuu_1_1_stat[i_1_1]\n",
    "    axs[0][0].plot([_phih_1_1,_phih_1_1],[_Fuu_1_1-_Fuu_1_1_stat,_Fuu_1_1+_Fuu_1_1_stat],color='blue',marker='_')\n",
    "axs[0][0].plot(phih_1_1,Fuu_1_1,'bo')\n",
    "axs[0][0].fill_between(phih_1_1,np.asarray(0),np.asarray(0)+np.asarray(Fuu_1_1_sys),color='blue',hatch='\\\\\\\\\\\\\\\\',alpha=0.25,linewidth=0)\n",
    "axs[0][0].set_ylabel('$F_{UU}$',fontsize=16)\n",
    "for i_1_1_3xs in range(0,len(phih_1_1_3xs)):\n",
    "    _phih_1_1 = phih_1_1_3xs[i_1_1_3xs]\n",
    "    _Fuu_1_1 = Fuu_1_1_3xs[i_1_1_3xs]\n",
    "    _Fuu_1_1_stat = Fuu_1_1_3xs_stat[i_1_1_3xs]\n",
    "    axs[0][0].plot([_phih_1_1,_phih_1_1],[_Fuu_1_1-_Fuu_1_1_stat,_Fuu_1_1+_Fuu_1_1_stat],color='red',marker='_')\n",
    "axs[0][0].plot(phih_1_1_3xs,Fuu_1_1_3xs,'ro')\n",
    "axs[0][0].fill_between(phih_1_1_3xs,np.asarray(0),np.asarray(0)+np.asarray(Fuu_1_1_3xs_sys),color='red',hatch='\\\\\\\\\\\\\\\\',alpha=0.25,linewidth=0)\n",
    "axs[0][0].set_ylim(0.0002,0.17)\n",
    "#axs[0][0].tick_params(direction='in',labelbottom=False,labelleft=False)\n",
    "axs[0][0].text(0.5,0.9,r'${}<z_h<{}\\ \\  {}<Q^2<{}$'.format(z_cuts[0],z_cuts[1],Q2_cuts[0],Q2_cuts[1]), horizontalalignment='center', verticalalignment='center', transform=axs[0][0].transAxes)\n",
    "axs[0][0].text(0.5,0.8,r'${}<x_{{b}}<{}\\ \\  {}<P_{{hT}}<{}$'.format(xbj_cuts[0],xbj_cuts[1],PhT_cuts[0],PhT_cuts[1]), horizontalalignment='center', verticalalignment='center', transform=axs[0][0].transAxes)\n",
    "for i_1_2 in range(0,len(phih_1_2)):\n",
    "    _phih_1_2 = phih_1_2[i_1_2]\n",
    "    _Fuu_1_2 = Fuu_1_2[i_1_2]\n",
    "    _Fuu_1_2_stat = Fuu_1_2_stat[i_1_2]\n",
    "    axs[0][1].plot([_phih_1_2,_phih_1_2],[_Fuu_1_2-_Fuu_1_2_stat,_Fuu_1_2+_Fuu_1_2_stat],color='blue',marker='_')\n",
    "axs[0][1].plot(phih_1_2,Fuu_1_2,'bo')\n",
    "axs[0][1].fill_between(phih_1_2,np.asarray(0),np.asarray(0)+np.asarray(Fuu_1_2_sys),color='blue',hatch='\\\\\\\\\\\\\\\\',alpha=0.25,linewidth=0)\n",
    "for i_1_2_3xs in range(0,len(phih_1_2_3xs)):\n",
    "    _phih_1_2 = phih_1_2_3xs[i_1_2_3xs]\n",
    "    _Fuu_1_2 = Fuu_1_2_3xs[i_1_2_3xs]\n",
    "    _Fuu_1_2_stat = Fuu_1_2_3xs_stat[i_1_2_3xs]\n",
    "    axs[0][1].plot([_phih_1_2,_phih_1_2],[_Fuu_1_2-_Fuu_1_2_stat,_Fuu_1_2+_Fuu_1_2_stat],color='red',marker='_')\n",
    "axs[0][1].plot(phih_1_2_3xs,Fuu_1_2_3xs,'ro')\n",
    "axs[0][1].fill_between(phih_1_2_3xs,np.asarray(0),np.asarray(0)+np.asarray(Fuu_1_2_3xs_sys),color='red',hatch='\\\\\\\\\\\\\\\\',alpha=0.25,linewidth=0)\n",
    "axs[0][1].set_ylim(0.0002,0.17)\n",
    "axs[0][1].tick_params(direction='in',labelbottom=False,labelleft=False)\n",
    "axs[0][1].text(0.5,0.9,r'${}<z_h<{}\\ \\ {}<Q^2<{}$'.format(z_cuts[1],z_cuts[2],Q2_cuts[0],Q2_cuts[1]), horizontalalignment='center', verticalalignment='center', transform=axs[0][1].transAxes)\n",
    "axs[0][1].text(0.5,0.8,r'${}<x_{{b}}<{}\\ \\ {}<P_{{hT}}<{}$'.format(xbj_cuts[0],xbj_cuts[1],PhT_cuts[0],PhT_cuts[1]), horizontalalignment='center', verticalalignment='center', transform=axs[0][1].transAxes)\n",
    "for i_1_3 in range(0,len(phih_1_3)):\n",
    "    _phih_1_3 = phih_1_3[i_1_3]\n",
    "    _Fuu_1_3 = Fuu_1_3[i_1_3]\n",
    "    _Fuu_1_3_stat = Fuu_1_3_stat[i_1_3]\n",
    "    axs[0][2].plot([_phih_1_3,_phih_1_3],[_Fuu_1_3-_Fuu_1_3_stat,_Fuu_1_3+_Fuu_1_3_stat],color='blue',marker='_')\n",
    "axs[0][2].plot(phih_1_3,Fuu_1_3,'bo')\n",
    "axs[0][2].fill_between(phih_1_3,np.asarray(0),np.asarray(0)+np.asarray(Fuu_1_3_sys),color='blue',hatch='\\\\\\\\\\\\\\\\',alpha=0.25,linewidth=0)\n",
    "for i_1_3_3xs in range(0,len(phih_1_3_3xs)):\n",
    "    _phih_1_3 = phih_1_3_3xs[i_1_3_3xs]\n",
    "    _Fuu_1_3 = Fuu_1_3_3xs[i_1_3_3xs]\n",
    "    _Fuu_1_3_stat = Fuu_1_3_3xs_stat[i_1_3_3xs]\n",
    "    axs[0][2].plot([_phih_1_3,_phih_1_3],[_Fuu_1_3-_Fuu_1_3_stat,_Fuu_1_3+_Fuu_1_3_stat],color='red',marker='_')\n",
    "axs[0][2].plot(phih_1_3_3xs,Fuu_1_3_3xs,'ro')\n",
    "axs[0][2].fill_between(phih_1_3_3xs,np.asarray(0),np.asarray(0)+np.asarray(Fuu_1_3_3xs_sys),color='red',hatch='\\\\\\\\\\\\\\\\',alpha=0.25,linewidth=0)\n",
    "axs[0][2].set_ylim(0.0002,0.17)\n",
    "axs[0][2].tick_params(direction='in',labelbottom=False,labelleft=False)\n",
    "axs[0][2].text(0.5,0.9,r'${}<z_h<{}\\ \\   {}<Q^2<{}$'.format(z_cuts[2],z_cuts[3],Q2_cuts[0],Q2_cuts[1]), horizontalalignment='center', verticalalignment='center', transform=axs[0][2].transAxes)\n",
    "axs[0][2].text(0.5,0.8,r'${}<x_{{b}}<{}\\ \\  {}<P_{{hT}}<{}$'.format(xbj_cuts[0],xbj_cuts[1],PhT_cuts[0],PhT_cuts[1]), horizontalalignment='center', verticalalignment='center', transform=axs[0][2].transAxes)\n",
    "for i_2_1 in range(0,len(phih_2_1)):\n",
    "    _phih_2_1 = phih_2_1[i_2_1]\n",
    "    _Fuu_2_1 = Fuu_2_1[i_2_1]\n",
    "    _Fuu_2_1_stat = Fuu_2_1_stat[i_2_1]\n",
    "    axs[1][0].plot([_phih_2_1,_phih_2_1],[_Fuu_2_1-_Fuu_2_1_stat,_Fuu_2_1+_Fuu_2_1_stat],color='blue',marker='_')\n",
    "axs[1][0].plot(phih_2_1,Fuu_2_1,'bo')\n",
    "axs[1][0].fill_between(phih_2_1,np.asarray(0),np.asarray(0)+np.asarray(Fuu_2_1_sys),color='blue',hatch='\\\\\\\\\\\\\\\\',alpha=0.25,linewidth=0)\n",
    "for i_2_1_3xs in range(0,len(phih_2_1_3xs)):\n",
    "    _phih_2_1 = phih_2_1_3xs[i_2_1_3xs]\n",
    "    _Fuu_2_1 = Fuu_2_1_3xs[i_2_1_3xs]\n",
    "    _Fuu_2_1_stat = Fuu_2_1_3xs_stat[i_2_1_3xs]\n",
    "    axs[1][0].plot([_phih_2_1,_phih_2_1],[_Fuu_2_1-_Fuu_2_1_stat,_Fuu_2_1+_Fuu_2_1_stat],color='red',marker='_')\n",
    "axs[1][0].plot(phih_2_1_3xs,Fuu_2_1_3xs,'ro')\n",
    "axs[1][0].fill_between(phih_2_1_3xs,np.asarray(0),np.asarray(0)+np.asarray(Fuu_2_1_3xs_sys),color='red',hatch='\\\\\\\\\\\\\\\\',alpha=0.25,linewidth=0)\n",
    "axs[1][0].set_ylim(0.0002,0.08)\n",
    "#axs[1][0].tick_params(direction='in',labelbottom=False,labelleft=False)\n",
    "axs[1][0].text(0.5,0.9,r'${}<z_h<{}\\ \\  {}<Q^2<{}$'.format(z_cuts[0],z_cuts[1],Q2_cuts[1],Q2_cuts[2]), horizontalalignment='center', verticalalignment='center', transform=axs[1][0].transAxes)\n",
    "axs[1][0].text(0.5,0.8,r'${}<x_{{b}}<{}\\ \\  {}<P_{{hT}}<{}$'.format(xbj_cuts[0],xbj_cuts[1],PhT_cuts[0],PhT_cuts[1]), horizontalalignment='center', verticalalignment='center', transform=axs[1][0].transAxes)\n",
    "for i_2_2 in range(0,len(phih_2_2)):\n",
    "    _phih_2_2 = phih_2_2[i_2_2]\n",
    "    _Fuu_2_2 = Fuu_2_2[i_2_2]\n",
    "    _Fuu_2_2_stat = Fuu_2_2_stat[i_2_2]\n",
    "    axs[1][1].plot([_phih_2_2,_phih_2_2],[_Fuu_2_2-_Fuu_2_2_stat,_Fuu_2_2+_Fuu_2_2_stat],color='blue',marker='_')\n",
    "axs[1][1].plot(phih_2_2,Fuu_2_2,'bo')\n",
    "axs[1][1].fill_between(phih_2_2,np.asarray(0),np.asarray(0)+np.asarray(Fuu_2_2_sys),color='blue',hatch='\\\\\\\\\\\\\\\\',alpha=0.25,linewidth=0)\n",
    "axs[1][1].set_ylim(0.0002,0.08)\n",
    "for i_2_2_3xs in range(0,len(phih_2_2_3xs)):\n",
    "    _phih_2_2 = phih_2_2_3xs[i_2_2_3xs]\n",
    "    _Fuu_2_2 = Fuu_2_2_3xs[i_2_2_3xs]\n",
    "    _Fuu_2_2_stat = Fuu_2_2_3xs_stat[i_2_2_3xs]\n",
    "    axs[1][1].plot([_phih_2_2,_phih_2_2],[_Fuu_2_2-_Fuu_2_2_stat,_Fuu_2_2+_Fuu_2_2_stat],color='red',marker='_')\n",
    "axs[1][1].plot(phih_2_2_3xs,Fuu_2_2_3xs,'ro')\n",
    "axs[1][1].fill_between(phih_2_2_3xs,np.asarray(0),np.asarray(0)+np.asarray(Fuu_2_2_3xs_sys),color='red',hatch='\\\\\\\\\\\\\\\\',alpha=0.25,linewidth=0)\n",
    "axs[1][1].set_ylim(0.0002,0.08)\n",
    "axs[1][1].tick_params(direction='in',labelbottom=False,labelleft=False)\n",
    "axs[1][1].text(0.5,0.9,r'${}<z_h<{}\\ \\ {}<Q^2<{}$'.format(z_cuts[1],z_cuts[2],Q2_cuts[1],Q2_cuts[2]), horizontalalignment='center', verticalalignment='center', transform=axs[1][1].transAxes)\n",
    "axs[1][1].text(0.5,0.8,r'${}<x_{{b}}<{}\\ \\ {}<P_{{hT}}<{}$'.format(xbj_cuts[0],xbj_cuts[1],PhT_cuts[0],PhT_cuts[1]), horizontalalignment='center', verticalalignment='center', transform=axs[1][1].transAxes)\n",
    "for i_2_3 in range(0,len(phih_2_3)):\n",
    "    _phih_2_3 = phih_2_3[i_2_3]\n",
    "    _Fuu_2_3 = Fuu_2_3[i_2_3]\n",
    "    _Fuu_2_3_stat = Fuu_2_3_stat[i_2_3]\n",
    "    axs[1][2].plot([_phih_2_3,_phih_2_3],[_Fuu_2_3-_Fuu_2_3_stat,_Fuu_2_3+_Fuu_2_3_stat],color='blue',marker='_')\n",
    "axs[1][2].plot(phih_2_3,Fuu_2_3,'bo')\n",
    "axs[1][2].fill_between(phih_2_3,np.asarray(0),np.asarray(0)+np.asarray(Fuu_2_3_sys),color='blue',hatch='\\\\\\\\\\\\\\\\',alpha=0.25,linewidth=0)\n",
    "for i_2_3_3xs in range(0,len(phih_2_3_3xs)):\n",
    "    _phih_2_3 = phih_2_3_3xs[i_2_3_3xs]\n",
    "    _Fuu_2_3 = Fuu_2_3_3xs[i_2_3_3xs]\n",
    "    _Fuu_2_3_stat = Fuu_2_3_3xs_stat[i_2_3_3xs]\n",
    "    axs[1][2].plot([_phih_2_3,_phih_2_3],[_Fuu_2_3-_Fuu_2_3_stat,_Fuu_2_3+_Fuu_2_3_stat],color='red',marker='_')\n",
    "axs[1][2].plot(phih_2_3_3xs,Fuu_2_3_3xs,'ro')\n",
    "axs[1][2].fill_between(phih_2_3_3xs,np.asarray(0),np.asarray(0)+np.asarray(Fuu_2_3_3xs_sys),color='red',hatch='\\\\\\\\\\\\\\\\',alpha=0.25,linewidth=0)\n",
    "axs[1][2].set_ylim(0.0002,0.08)\n",
    "axs[1][2].tick_params(direction='in',labelbottom=False,labelleft=False)\n",
    "axs[1][2].text(0.5,0.9,r'${}<z_h<{}\\ \\   {}<Q^2<{}$'.format(z_cuts[2],z_cuts[3],Q2_cuts[1],Q2_cuts[2]), horizontalalignment='center', verticalalignment='center', transform=axs[1][2].transAxes)\n",
    "axs[1][2].text(0.5,0.8,r'${}<x_{{b}}<{}\\ \\  {}<P_{{hT}}<{}$'.format(xbj_cuts[0],xbj_cuts[1],PhT_cuts[0],PhT_cuts[1]), horizontalalignment='center', verticalalignment='center', transform=axs[1][2].transAxes)\n",
    "for i_3_1 in range(0,len(phih_3_1)):\n",
    "    _phih_3_1 = phih_3_1[i_3_1]\n",
    "    _Fuu_3_1 = Fuu_3_1[i_3_1]\n",
    "    _Fuu_3_1_stat = Fuu_3_1_stat[i_3_1]\n",
    "    axs[2][0].plot([_phih_3_1,_phih_3_1],[_Fuu_3_1-_Fuu_3_1_stat,_Fuu_3_1+_Fuu_3_1_stat],color='blue',marker='_')\n",
    "axs[2][0].plot(phih_3_1,Fuu_3_1,'bo')\n",
    "axs[2][0].fill_between(phih_3_1,np.asarray(0),np.asarray(0)+np.asarray(Fuu_3_1_sys),color='blue',hatch='\\\\\\\\\\\\\\\\',alpha=0.25,linewidth=0)\n",
    "for i_3_1_3xs in range(0,len(phih_3_1_3xs)):\n",
    "    _phih_3_1 = phih_3_1_3xs[i_3_1_3xs]\n",
    "    _Fuu_3_1 = Fuu_3_1_3xs[i_3_1_3xs]\n",
    "    _Fuu_3_1_stat = Fuu_3_1_3xs_stat[i_3_1_3xs]\n",
    "    axs[2][0].plot([_phih_3_1,_phih_3_1],[_Fuu_3_1-_Fuu_3_1_stat,_Fuu_3_1+_Fuu_3_1_stat],color='red',marker='_')\n",
    "axs[2][0].plot(phih_3_1_3xs,Fuu_3_1_3xs,'ro')\n",
    "axs[2][0].fill_between(phih_3_1_3xs,np.asarray(0),np.asarray(0)+np.asarray(Fuu_3_1_3xs_sys),color='red',hatch='\\\\\\\\\\\\\\\\',alpha=0.25,linewidth=0)\n",
    "axs[2][0].set_ylim(0.0002,0.019)\n",
    "#axs[1][0].tick_params(direction='in',labelbottom=False,labelleft=False)\n",
    "axs[2][0].text(0.5,0.9,r'${}<z_h<{}\\ \\  {}<Q^2<{}$'.format(z_cuts[0],z_cuts[1],Q2_cuts[2],Q2_cuts[3]), horizontalalignment='center', verticalalignment='center', transform=axs[2][0].transAxes)\n",
    "axs[2][0].text(0.5,0.8,r'${}<x_{{b}}<{}\\ \\  {}<P_{{hT}}<{}$'.format(xbj_cuts[0],xbj_cuts[1],PhT_cuts[0],PhT_cuts[1]), horizontalalignment='center', verticalalignment='center', transform=axs[2][0].transAxes)\n",
    "for i_3_2 in range(0,len(phih_3_2)):\n",
    "    _phih_3_2 = phih_3_2[i_3_2]\n",
    "    _Fuu_3_2 = Fuu_3_2[i_3_2]\n",
    "    _Fuu_3_2_stat = Fuu_3_2_stat[i_3_2]\n",
    "    axs[2][1].plot([_phih_3_2,_phih_3_2],[_Fuu_3_2-_Fuu_3_2_stat,_Fuu_3_2+_Fuu_3_2_stat],color='blue',marker='_')\n",
    "axs[2][1].plot(phih_3_2,Fuu_3_2,'bo')\n",
    "axs[2][1].fill_between(phih_3_2,np.asarray(0),np.asarray(0)+np.asarray(Fuu_3_2_sys),color='blue',hatch='\\\\\\\\\\\\\\\\',alpha=0.25,linewidth=0)\n",
    "for i_3_2_3xs in range(0,len(phih_3_2_3xs)):\n",
    "    _phih_3_2 = phih_3_2_3xs[i_3_2_3xs]\n",
    "    _Fuu_3_2 = Fuu_3_2_3xs[i_3_2_3xs]\n",
    "    _Fuu_3_2_stat = Fuu_3_2_3xs_stat[i_3_2_3xs]\n",
    "    axs[2][1].plot([_phih_3_2,_phih_3_2],[_Fuu_3_2-_Fuu_3_2_stat,_Fuu_3_2+_Fuu_3_2_stat],color='red',marker='_')\n",
    "axs[2][1].plot(phih_3_2_3xs,Fuu_3_2_3xs,'ro')\n",
    "axs[2][1].fill_between(phih_3_2_3xs,np.asarray(0),np.asarray(0)+np.asarray(Fuu_3_2_3xs_sys),color='red',hatch='\\\\\\\\\\\\\\\\',alpha=0.25,linewidth=0)\n",
    "axs[2][1].set_ylim(0.0002,0.019)\n",
    "axs[2][1].tick_params(direction='in',labelbottom=False,labelleft=False)\n",
    "axs[2][1].text(0.5,0.9,r'${}<z_h<{}\\ \\ {}<Q^2<{}$'.format(z_cuts[1],z_cuts[2],Q2_cuts[2],Q2_cuts[3]), horizontalalignment='center', verticalalignment='center', transform=axs[2][1].transAxes)\n",
    "axs[2][1].text(0.5,0.8,r'${}<x_{{b}}<{}\\ \\ {}<P_{{hT}}<{}$'.format(xbj_cuts[0],xbj_cuts[1],PhT_cuts[0],PhT_cuts[1]), horizontalalignment='center', verticalalignment='center', transform=axs[2][1].transAxes)\n",
    "for i_3_3 in range(0,len(phih_3_3)):\n",
    "    _phih_3_3 = phih_3_3[i_3_3]\n",
    "    _Fuu_3_3 = Fuu_3_3[i_3_3]\n",
    "    _Fuu_3_3_stat = Fuu_3_3_stat[i_3_3]\n",
    "    axs[2][2].plot([_phih_3_3,_phih_3_3],[_Fuu_3_3-_Fuu_3_3_stat,_Fuu_3_3+_Fuu_3_3_stat],color='blue',marker='_')\n",
    "axs[2][2].plot(phih_3_3,Fuu_3_3,'bo')\n",
    "axs[2][2].fill_between(phih_3_3,np.asarray(0),np.asarray(0)+np.asarray(Fuu_3_3_sys),color='blue',hatch='\\\\\\\\\\\\\\\\',alpha=0.25,linewidth=0)\n",
    "for i_3_3_3xs in range(0,len(phih_3_3_3xs)):\n",
    "    _phih_3_3 = phih_3_3_3xs[i_3_3_3xs]\n",
    "    _Fuu_3_3 = Fuu_3_3_3xs[i_3_3_3xs]\n",
    "    _Fuu_3_3_stat = Fuu_3_3_3xs_stat[i_3_3_3xs]\n",
    "    axs[2][2].plot([_phih_3_3,_phih_3_3],[_Fuu_3_3-_Fuu_3_3_stat,_Fuu_3_3+_Fuu_3_3_stat],color='red',marker='_')\n",
    "axs[2][2].plot(phih_3_3_3xs,Fuu_3_3_3xs,'ro')\n",
    "axs[2][2].fill_between(phih_3_3_3xs,np.asarray(0),np.asarray(0)+np.asarray(Fuu_3_3_3xs_sys),color='red',hatch='\\\\\\\\\\\\\\\\',alpha=0.25,linewidth=0)\n",
    "axs[2][2].set_ylim(0.0002,0.019)\n",
    "axs[2][2].tick_params(direction='in',labelbottom=False,labelleft=False)\n",
    "axs[2][2].text(0.5,0.9,r'${}<z_h<{}\\ \\   {}<Q^2<{}$'.format(z_cuts[2],z_cuts[3],Q2_cuts[2],Q2_cuts[3]), horizontalalignment='center', verticalalignment='center', transform=axs[2][2].transAxes)\n",
    "axs[2][2].text(0.5,0.8,r'${}<x_{{b}}<{}\\ \\  {}<P_{{hT}}<{}$'.format(xbj_cuts[0],xbj_cuts[1],PhT_cuts[0],PhT_cuts[1]), horizontalalignment='center', verticalalignment='center', transform=axs[2][2].transAxes)\n",
    "for i_4_1 in range(0,len(phih_4_1)):\n",
    "    _phih_4_1 = phih_4_1[i_4_1]\n",
    "    _Fuu_4_1 = Fuu_4_1[i_4_1]\n",
    "    _Fuu_4_1_stat = Fuu_4_1_stat[i_4_1]\n",
    "    axs[3][0].plot([_phih_4_1,_phih_4_1],[_Fuu_4_1-_Fuu_4_1_stat,_Fuu_4_1+_Fuu_4_1_stat],color='blue',marker='_')\n",
    "axs[3][0].plot(phih_4_1,Fuu_4_1,'bo')\n",
    "axs[3][0].fill_between(phih_4_1,np.asarray(0),np.asarray(0)+np.asarray(Fuu_4_1_sys),color='blue',hatch='\\\\\\\\\\\\\\\\',alpha=0.25,linewidth=0)\n",
    "for i_4_1_3xs in range(0,len(phih_4_1_3xs)):\n",
    "    _phih_4_1 = phih_4_1_3xs[i_4_1_3xs]\n",
    "    _Fuu_4_1 = Fuu_4_1_3xs[i_4_1_3xs]\n",
    "    _Fuu_4_1_stat = Fuu_4_1_3xs_stat[i_4_1_3xs]\n",
    "    axs[3][0].plot([_phih_4_1,_phih_4_1],[_Fuu_4_1-_Fuu_4_1_stat,_Fuu_4_1+_Fuu_4_1_stat],color='red',marker='_')\n",
    "axs[3][0].plot(phih_4_1_3xs,Fuu_4_1_3xs,'ro')\n",
    "axs[3][0].fill_between(phih_4_1_3xs,np.asarray(0),np.asarray(0)+np.asarray(Fuu_4_1_3xs_sys),color='red',hatch='\\\\\\\\\\\\\\\\',alpha=0.25,linewidth=0)\n",
    "axs[3][0].set_ylim(0.0002,0.011)\n",
    "#axs[3][0].tick_params(direction='in',labelbottom=False,labelleft=False)\n",
    "axs[3][0].text(0.5,0.9,r'${}<z_h<{}\\ \\  {}<Q^2<{}$'.format(z_cuts[0],z_cuts[1],Q2_cuts[3],Q2_cuts[4]), horizontalalignment='center', verticalalignment='center', transform=axs[3][0].transAxes)\n",
    "axs[3][0].text(0.5,0.8,r'${}<x_{{b}}<{}\\ \\  {}<P_{{hT}}<{}$'.format(xbj_cuts[0],xbj_cuts[1],PhT_cuts[0],PhT_cuts[1]), horizontalalignment='center', verticalalignment='center', transform=axs[3][0].transAxes)\n",
    "for i_4_2 in range(0,len(phih_4_2)):\n",
    "    _phih_4_2 = phih_4_2[i_4_2]\n",
    "    _Fuu_4_2 = Fuu_4_2[i_4_2]\n",
    "    _Fuu_4_2_stat = Fuu_4_2_stat[i_4_2]\n",
    "    axs[3][1].plot([_phih_4_2,_phih_4_2],[_Fuu_4_2-_Fuu_4_2_stat,_Fuu_4_2+_Fuu_4_2_stat],color='blue',marker='_')\n",
    "axs[3][1].plot(phih_4_2,Fuu_4_2,'bo')\n",
    "axs[3][1].fill_between(phih_4_2,np.asarray(0),np.asarray(0)+np.asarray(Fuu_4_2_sys),color='blue',hatch='\\\\\\\\\\\\\\\\',alpha=0.25,linewidth=0)\n",
    "for i_4_2_3xs in range(0,len(phih_4_2_3xs)):\n",
    "    _phih_4_2 = phih_4_2_3xs[i_4_2_3xs]\n",
    "    _Fuu_4_2 = Fuu_4_2_3xs[i_4_2_3xs]\n",
    "    _Fuu_4_2_stat = Fuu_4_2_3xs_stat[i_4_2_3xs]\n",
    "    axs[3][1].plot([_phih_4_2,_phih_4_2],[_Fuu_4_2-_Fuu_4_2_stat,_Fuu_4_2+_Fuu_4_2_stat],color='red',marker='_')\n",
    "axs[3][1].plot(phih_4_2_3xs,Fuu_4_2_3xs,'ro')\n",
    "axs[3][1].fill_between(phih_4_2_3xs,np.asarray(0),np.asarray(0)+np.asarray(Fuu_4_2_3xs_sys),color='red',hatch='\\\\\\\\\\\\\\\\',alpha=0.25,linewidth=0)\n",
    "axs[3][1].set_ylim(0.0002,0.011)\n",
    "axs[3][1].tick_params(direction='in',labelleft=False)\n",
    "axs[3][1].text(0.5,0.9,r'${}<z_h<{}\\ \\ {}<Q^2<{}$'.format(z_cuts[1],z_cuts[2],Q2_cuts[3],Q2_cuts[4]), horizontalalignment='center', verticalalignment='center', transform=axs[3][1].transAxes)\n",
    "axs[3][1].text(0.5,0.8,r'${}<x_{{b}}<{}\\ \\ {}<P_{{hT}}<{}$'.format(xbj_cuts[0],xbj_cuts[1],PhT_cuts[0],PhT_cuts[1]), horizontalalignment='center', verticalalignment='center', transform=axs[3][1].transAxes)\n",
    "for i_4_3 in range(0,len(phih_4_3)):\n",
    "    _phih_4_3 = phih_4_3[i_4_3]\n",
    "    _Fuu_4_3 = Fuu_4_3[i_4_3]\n",
    "    _Fuu_4_3_stat = Fuu_4_3_stat[i_4_3]\n",
    "    axs[3][2].plot([_phih_4_3,_phih_4_3],[_Fuu_4_3-_Fuu_4_3_stat,_Fuu_4_3+_Fuu_4_3_stat],color='blue',marker='_')\n",
    "axs[3][2].plot(phih_4_3,Fuu_4_3,'bo')\n",
    "axs[3][2].fill_between(phih_4_3,np.asarray(0),np.asarray(0)+np.asarray(Fuu_4_3_sys),color='blue',hatch='\\\\\\\\\\\\\\\\',alpha=0.25,linewidth=0)\n",
    "\n",
    "for i_4_3_3xs in range(0,len(phih_4_3_3xs)):\n",
    "    _phih_4_3 = phih_4_3_3xs[i_4_3_3xs]\n",
    "    _Fuu_4_3 = Fuu_4_3_3xs[i_4_3_3xs]\n",
    "    _Fuu_4_3_stat = Fuu_4_3_3xs_stat[i_4_3_3xs]\n",
    "    axs[3][2].plot([_phih_4_3,_phih_4_3],[_Fuu_4_3-_Fuu_4_3_stat,_Fuu_4_3+_Fuu_4_3_stat],color='red',marker='_')\n",
    "axs[3][2].plot(phih_4_3_3xs,Fuu_4_3_3xs,'ro')\n",
    "axs[3][2].fill_between(phih_4_3_3xs,np.asarray(0),np.asarray(0)+np.asarray(Fuu_4_3_3xs_sys),color='red',hatch='\\\\\\\\\\\\\\\\',alpha=0.25,linewidth=0)\n",
    "axs[3][2].set_ylim(0.0002,0.011)\n",
    "axs[3][2].tick_params(direction='in',labelleft=False)\n",
    "axs[3][2].text(0.5,0.9,r'${}<z_h<{}\\ \\   {}<Q^2<{}$'.format(z_cuts[2],z_cuts[3],Q2_cuts[3],Q2_cuts[4]), horizontalalignment='center', verticalalignment='center', transform=axs[3][2].transAxes)\n",
    "axs[3][2].text(0.5,0.8,r'${}<x_{{b}}<{}\\ \\  {}<P_{{hT}}<{}$'.format(xbj_cuts[0],xbj_cuts[1],PhT_cuts[0],PhT_cuts[1]), horizontalalignment='center', verticalalignment='center', transform=axs[3][2].transAxes)\n",
    "\n",
    "#plt.show()\n",
    "plt.savefig('../Unpol_proposal/Materials/Fuu.pdf')"
   ]
  },
  {
   "cell_type": "code",
   "execution_count": 112,
   "id": "12888d7f",
   "metadata": {},
   "outputs": [
    {
     "data": {
      "image/png": "[encoded data removed]",
      "text/plain": [
       "<Figure size 720x576 with 4 Axes>"
      ]
     },
     "metadata": {
      "needs_background": "light"
     },
     "output_type": "display_data"
    }
   ],
   "source": []
  },
  {
   "cell_type": "code",
   "execution_count": null,
   "id": "1e3ce6c9",
   "metadata": {},
   "outputs": [],
   "source": []
  }
 ],
 "metadata": {
  "kernelspec": {
   "display_name": "Python 3 (ipykernel)",
   "language": "python",
   "name": "python3"
  },
  "language_info": {
   "codemirror_mode": {
    "name": "ipython",
    "version": 3
   },
   "file_extension": ".py",
   "mimetype": "text/x-python",
   "name": "python",
   "nbconvert_exporter": "python",
   "pygments_lexer": "ipython3",
   "version": "3.9.6"
  }
 },
 "nbformat": 4,
 "nbformat_minor": 5
}
