{
 "cells": [
  {
   "cell_type": "code",
   "execution_count": 1,
   "id": "42afd11b-cbcc-41bb-8e0f-5e7ca5bbc014",
   "metadata": {},
   "outputs": [],
   "source": [
    "import pandas as pd\n",
    "import numpy as np\n",
    "import matplotlib.pyplot as plt\n",
    "import math"
   ]
  },
  {
   "cell_type": "code",
   "execution_count": 2,
   "id": "4c11c440-8db5-4c26-b4d2-85ed242f35f4",
   "metadata": {
    "tags": []
   },
   "outputs": [],
   "source": [
    "def Get_xbj_cuts_from_Q2(Q2l,Q2r):\n",
    "    #from Q2vs. x phase plots\n",
    "    if Q2l==1 and Q2r==1.5:\n",
    "        return [0,0.125,0.25]\n",
    "    elif Q2l==1.5 and Q2r==2:\n",
    "        return [0,0.125,0.25,0.375]\n",
    "    elif Q2l==2 and Q2r==2.5:\n",
    "        return [0,0.125,0.25,0.375,0.5]\n",
    "    elif Q2l==2.5 and Q2r==3:\n",
    "        return [0.125,0.25,0.375,0.5]\n",
    "    elif Q2l==3 and Q2r==4:\n",
    "        return [0.125,0.25,0.375,0.5]\n",
    "    elif Q2l==4 and Q2r==6:\n",
    "        return [0.25,0.375,0.5]\n",
    "    elif Q2l==6:\n",
    "        return [0.375,0.5,0.7]"
   ]
  },
  {
   "cell_type": "code",
   "execution_count": 3,
   "id": "67f3c96c-c21d-423d-b2bb-c94dda4b4988",
   "metadata": {
    "tags": []
   },
   "outputs": [
    {
     "name": "stdout",
     "output_type": "stream",
     "text": [
      "3.141592653589793\n"
     ]
    }
   ],
   "source": [
    "PI = math.pi\n",
    "print(PI)\n",
    "z_cuts=[0.3,0.4,0.5,0.6]\n",
    "#z_cuts=[0.3,0.35,0.4,0.45]\n",
    "#Q2_cuts=[1,2,3,4,5]\n",
    "#Q2_cuts=[1,1.5,2,2.5,3]\n",
    "Q2_cuts=[3,4,6,8]\n",
    "#xbj_cuts=[0,0.125,0.25,0.375,0.5,0.7]\n",
    "#PhT_cuts = [0,0.2]\n",
    "#PhT_cuts = [0,0.2]\n",
    "PhT_cuts = [0,0.1,0.2,0.3,0.4,0.5]\n",
    "#PhT_cuts=[0.2,0.6]\n",
    "#PhT_cuts=[0.2,0.4]\n",
    "#phih_bins = [-3.14,-2.5,-2,-1.5,-1,-0.5,0,0.5,1,1.5,2,2.5,3.14]\n",
    "#phih_bins =[-PI,-3*PI/5,-2*PI/5,-PI/5,PI/5,2*PI/5,3*PI/5,4*PI/5,PI]\n",
    "phih_bins =[-PI,-0.8*PI,-0.6*PI,-0.4*PI,-0.2*PI,0,0.2*PI,0.4*PI,0.6*PI,0.8*PI,PI]"
   ]
  },
  {
   "cell_type": "code",
   "execution_count": 4,
   "id": "5a97909e-e3cf-418c-982e-51b65f703b04",
   "metadata": {
    "tags": []
   },
   "outputs": [
    {
     "name": "stdout",
     "output_type": "stream",
     "text": [
      "3 4 [0.125, 0.25, 0.375, 0.5]\n",
      "4 6 [0.25, 0.375, 0.5]\n",
      "6 8 [0.375, 0.5, 0.7]\n"
     ]
    }
   ],
   "source": [
    "file=open('../Unpol_proposal/Materials/kin_grids.csv','w')\n",
    "file.write('Q2l   Q2u    zl   zu   Ptl    Ptu     phihl     phihu     xl     xu  \\n')\n",
    "i_lines=0\n",
    "for i_Q2 in range(0,len(Q2_cuts)-1):\n",
    "    Q2l = Q2_cuts[i_Q2]\n",
    "    Q2r = Q2_cuts[i_Q2+1]\n",
    "    xbj_cuts = Get_xbj_cuts_from_Q2(Q2l,Q2r)\n",
    "    print(Q2l,Q2r,xbj_cuts)\n",
    "    \n",
    "    for i_z in range(0,len(z_cuts)-1):\n",
    "        zl = z_cuts[i_z]\n",
    "        zr = z_cuts[i_z+1]\n",
    "        for i_pt in range(0,len(PhT_cuts)-1):\n",
    "            PhTl = round(PhT_cuts[i_pt],5)\n",
    "            PhTr = round(PhT_cuts[i_pt+1],5)\n",
    "            for i_phi in range(0,len(phih_bins)-1):\n",
    "                phihl = round(phih_bins[i_phi],4)\n",
    "                phihr = round(phih_bins[i_phi+1],4)\n",
    "                for i_xbj in range(0,len(xbj_cuts)-1):\n",
    "                    xbl = xbj_cuts[i_xbj]\n",
    "                    xbr = xbj_cuts[i_xbj+1]\n",
    "                    #i_lines +=1\n",
    "                    #print(i_lines)\n",
    "                    file.write(\"{}    {}    {}   {}   {}   {}     {}    {}     {}    {}\\n\".format(Q2l,Q2r,zl,zr,PhTl,PhTr,phihl,phihr,xbl,xbr))\n",
    "file.close()  "
   ]
  },
  {
   "cell_type": "code",
   "execution_count": null,
   "id": "c46856fe-176d-4215-b078-134035ef3b1b",
   "metadata": {
    "tags": []
   },
   "outputs": [],
   "source": []
  },
  {
   "cell_type": "code",
   "execution_count": null,
   "id": "302c79b7-553a-4fe0-8bfc-01c41c79b12f",
   "metadata": {
    "tags": []
   },
   "outputs": [],
   "source": []
  },
  {
   "cell_type": "code",
   "execution_count": null,
   "id": "e673623d-0582-4668-8aee-843055a30ab1",
   "metadata": {},
   "outputs": [],
   "source": []
  }
 ],
 "metadata": {
  "kernelspec": {
   "display_name": "Python 3 (ipykernel)",
   "language": "python",
   "name": "python3"
  },
  "language_info": {
   "codemirror_mode": {
    "name": "ipython",
    "version": 3
   },
   "file_extension": ".py",
   "mimetype": "text/x-python",
   "name": "python",
   "nbconvert_exporter": "python",
   "pygments_lexer": "ipython3",
   "version": "3.10.10"
  }
 },
 "nbformat": 4,
 "nbformat_minor": 5
}
