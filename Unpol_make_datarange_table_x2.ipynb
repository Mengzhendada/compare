{
 "cells": [
  {
   "cell_type": "code",
   "execution_count": 1,
   "id": "42afd11b-cbcc-41bb-8e0f-5e7ca5bbc014",
   "metadata": {},
   "outputs": [],
   "source": [
    "import pandas as pd\n",
    "import numpy as np\n",
    "import matplotlib.pyplot as plt\n",
    "import math"
   ]
  },
  {
   "cell_type": "code",
   "execution_count": 2,
   "id": "4c11c440-8db5-4c26-b4d2-85ed242f35f4",
   "metadata": {
    "tags": []
   },
   "outputs": [],
   "source": [
    "#df_xs = pd.read_csv('../Unpol_proposal/Materials/Shuo_Vlad_unpol_cs_results/default/CS_default_x2_stat0/CS_default_x2_stat0_pip.dat',delim_whitespace=True)#new small x bins,for default\n",
    "#df_xs = pd.read_csv('../Unpol_proposal/Materials/Shuo_Vlad_unpol_cs_results/kaons/CS_kaon_x2_stat0/CS_kaon_x2_stat0_kp.dat',delim_whitespace=True)#new small x bins, for kaon\n",
    "#df_xs = pd.read_csv('../Unpol_proposal/Materials/Shuo_Vlad_unpol_cs_results/default/CS_default_x2_stat0/CS_default_x2_stat0_pip.dat',delim_whitespace=True)\n",
    "#df_xs = pd.read_csv('../Unpol_proposal/Materials/Shuo_Vlad_unpol_cs_results/default/CS_default_x2_stat0/CS_default_x2_stat0_pim.dat',delim_whitespace=True)\n",
    "#df_xs = pd.read_csv('../Unpol_proposal/Materials/Shuo_Vlad_unpol_cs_results/default_3xs/CS_default_x1_stat0/CS3xs_default_x1_stat0_pip.dat',delim_whitespace=True)\n",
    "df_xs = pd.read_csv('../Unpol_proposal/Materials/Shuo_Vlad_unpol_cs_results/default_3xs/CS_default_x1_stat0/CS3xs_default_x1_stat0_pim.dat',delim_whitespace=True)\n"
   ]
  },
  {
   "cell_type": "code",
   "execution_count": 3,
   "id": "67f3c96c-c21d-423d-b2bb-c94dda4b4988",
   "metadata": {
    "tags": []
   },
   "outputs": [
    {
     "name": "stdout",
     "output_type": "stream",
     "text": [
      "3.141592653589793\n"
     ]
    }
   ],
   "source": [
    "PI = math.pi\n",
    "print(PI)\n",
    "z_cuts=[0.3,0.4,0.5,0.6]\n",
    "#z_cuts=[0.3,0.35,0.4,0.45]\n",
    "#Q2_cuts=[1,2,3,4,5]\n",
    "Q2_cuts=[1,1.5,2,2.5,3]\n",
    "xbj_cuts=[0,0.7]\n",
    "#PhT_cuts = [0,0.2]\n",
    "#PhT_cuts = [0,0.2]\n",
    "PhT_cuts = [0,0.2,0.4,0.6,0.8]\n",
    "#PhT_cuts=[0.2,0.6]\n",
    "#PhT_cuts=[0.2,0.4]\n",
    "#phih_bins = [-3.14,-2.5,-2,-1.5,-1,-0.5,0,0.5,1,1.5,2,2.5,3.14]\n",
    "#phih_bins =[-PI,-3*PI/5,-2*PI/5,-PI/5,PI/5,2*PI/5,3*PI/5,4*PI/5,PI]\n",
    "phih_bins =[-PI,-0.8*PI,-0.6*PI,-0.4*PI,-0.15*PI,0,0.15*PI,0.4*PI,0.6*PI,0.8*PI,PI]"
   ]
  },
  {
   "cell_type": "code",
   "execution_count": 4,
   "id": "eac1a8c5-acb8-432e-ac74-815514aee29a",
   "metadata": {
    "tags": []
   },
   "outputs": [],
   "source": [
    "#not used\n",
    "def Get_x_cuts_from_Q2(Q2_ave,Q2_cuts):\n",
    "    i_right=0\n",
    "    for i in range(0,len(Q2_cuts)):\n",
    "        if Q2_ave>Q2_cuts[i]:\n",
    "            i=i+1\n",
    "        else:\n",
    "            i_right = i\n",
    "            break\n",
    "    Q2l=Q2_cuts[i_right-1]\n",
    "    Q2r=Q2_cuts[i_right]\n",
    "    #from Q2vs. x phase plots\n",
    "    if Q2l==1 and Q2r==1.5:\n",
    "        return [0,0.25]\n",
    "    elif Q2l==1.5 and Q2r==2:\n",
    "        return [0.08,0.25,0.32]\n",
    "    elif Q2l==2 and Q2r==2.5:\n",
    "        return [0.1,0.25,0.35]\n",
    "    elif Q2l==2.5 and Q2r==3:\n",
    "        return [0.15,0.25,0.4]\n",
    "    elif Q2l==3 and Q2r==4:\n",
    "        return [0.2,0.4,0.5]\n",
    "    elif Q2l==4 and Q2r==5:\n",
    "        return [0.25,0.4,0.55]\n",
    "    elif Q2l==5 and Q2r==6:\n",
    "        return [0.375,0.4,0.6]\n",
    "    elif Q2l==6:\n",
    "        return [0.4,0.7]"
   ]
  },
  {
   "cell_type": "code",
   "execution_count": 5,
   "id": "8c2b35ae-2c26-4c01-94e6-e9515b1b256a",
   "metadata": {
    "tags": []
   },
   "outputs": [],
   "source": [
    "#for x2 bin, low Q2\n",
    "def Get_x_from_Q2(Q2_ave,Q2_cuts):\n",
    "    if Q2_ave==0:\n",
    "        return 0\n",
    "    i_right=0\n",
    "    for i in range(0,len(Q2_cuts)):\n",
    "        if Q2_ave>Q2_cuts[i]:\n",
    "            i=i+1\n",
    "        else:\n",
    "            i_right = i\n",
    "            break\n",
    "    Q2l=Q2_cuts[i_right-1]\n",
    "    Q2r=Q2_cuts[i_right]\n",
    "    #from Q2vs. x phase plots\n",
    "    if Q2l==1 and Q2r==1.5:\n",
    "        return 0.125\n",
    "    elif Q2l==1.5 and Q2r==2:\n",
    "        return 0.275\n",
    "    elif Q2l==2 and Q2r==2.5:\n",
    "        return 0.3\n",
    "    elif Q2l==2.5 and Q2r==3:\n",
    "        return 0.325\n",
    "    "
   ]
  },
  {
   "cell_type": "code",
   "execution_count": 6,
   "id": "32be9cf2-7ccf-45e6-910d-44f6aace653d",
   "metadata": {
    "tags": []
   },
   "outputs": [],
   "source": [
    "#print(Get_x_cuts_from_Q2(2.7,Q2_cuts))"
   ]
  },
  {
   "cell_type": "code",
   "execution_count": 7,
   "id": "5a97909e-e3cf-418c-982e-51b65f703b04",
   "metadata": {
    "tags": []
   },
   "outputs": [],
   "source": [
    "def Get_center(value,values):\n",
    "    if value==0:\n",
    "        return 0\n",
    "    i_right = 0\n",
    "    for i in range(0,len(values)):\n",
    "        if value>values[i]:\n",
    "            i=i+1\n",
    "        else:\n",
    "            i_right = i\n",
    "            break\n",
    "    return round((values[i_right-1]+values[i_right])/2,6)\n",
    "\n",
    "        "
   ]
  },
  {
   "cell_type": "code",
   "execution_count": 8,
   "id": "c46856fe-176d-4215-b078-134035ef3b1b",
   "metadata": {
    "tags": []
   },
   "outputs": [],
   "source": [
    "#print(Get_center(0.23,PhT_cuts))"
   ]
  },
  {
   "cell_type": "code",
   "execution_count": 9,
   "id": "302c79b7-553a-4fe0-8bfc-01c41c79b12f",
   "metadata": {
    "tags": []
   },
   "outputs": [],
   "source": [
    "#MP = 0.938272088\n",
    "#file = open('../Unpol_proposal/Materials/input.csv','w')\n",
    "#file.write('i,Ebeam,x,phih,y,z,Q2,pT,obs,value,stat,systrel,systabs,target,hadron,Experiment\\n')\n",
    "#for i,row in df_xs.iterrows():\n",
    "    #print(i,row['phih'])\n",
    "#    Ebeam = row['Ebeam']\n",
    "#    xb_ave = row['x']\n",
    "#    xb_center = Get_center(xb_ave,xbj_cuts)\n",
    "#    phih_ave=row['phih']\n",
    "#    phih_center = Get_center(phih_ave,phih_bins)\n",
    "#    z_ave = row['z']\n",
    "#    z_center = Get_center(z_ave,z_cuts)\n",
    "#    Q2_ave = row['Q2']\n",
    "#    Q2_center = Get_center(Q2_ave,Q2_cuts)\n",
    "#    pT_ave = row['pT']\n",
    "#    pT_center = Get_center(pT_ave,PhT_cuts)\n",
    "#    y_ave = 0\n",
    "#    y_center = 0\n",
    "#    if xb_ave>0:\n",
    "#        y_ave = Q2_ave/(xb_ave*2*Ebeam*MP)\n",
    "#        y_center = Q2_center/(xb_center*2*Ebeam*MP)\n",
    "#    stat = row['stat']\n",
    "#    file.write('%i,%f,%f,%f,%f,%f,%f,%f,FUUT,0.00,%f,0.00,0.00,neutron,pi+,solid\\n'%(i,Ebeam,xb_center,phih_ave,y_center,z_center,Q2_center,pT_center,stat))"
   ]
  },
  {
   "cell_type": "code",
   "execution_count": 10,
   "id": "8d7da87f-732b-499f-aaed-7e29bf11503a",
   "metadata": {
    "tags": []
   },
   "outputs": [],
   "source": [
    "MP = 0.938272088\n",
    "file = open('../Unpol_proposal/Materials/input.csv','w')\n",
    "file.write('i,Ebeam,x,phih,y,z,Q2,pT,obs,value,stat,systrel,systabs,target,hadron,Experiment\\n')\n",
    "for i,row in df_xs.iterrows():\n",
    "    #print(i,row['phih'])\n",
    "    Ebeam = row['Ebeam']\n",
    "    \n",
    "    phih_ave=row['phih']\n",
    "    phih_center = Get_center(phih_ave,phih_bins)\n",
    "    z_ave = row['z']\n",
    "    z_center = Get_center(z_ave,z_cuts)\n",
    "    Q2_ave = row['Q2']\n",
    "    Q2_center = Get_center(Q2_ave,Q2_cuts)\n",
    "    xb_ave = row['x']\n",
    "    xb_center = Get_x_from_Q2(Q2_ave,Q2_cuts)\n",
    "    #print(Q2_ave,xb_center)\n",
    "    pT_ave = row['pT']\n",
    "    pT_center = Get_center(pT_ave,PhT_cuts)\n",
    "    y_ave = 0\n",
    "    y_center = 0\n",
    "    if xb_ave>0:\n",
    "        y_ave = Q2_ave/(xb_ave*2*Ebeam*MP)\n",
    "        y_center = Q2_center/(xb_center*2*Ebeam*MP)\n",
    "    stat = row['stat']\n",
    "    file.write('%i,%f,%f,%f,%f,%f,%f,%f,FUUT,0.00,%f,0.00,0.00,neutron,pi+,solid\\n'%(i,Ebeam,xb_center,phih_ave,y_center,z_center,Q2_center,pT_center,stat))\n",
    "file.close()"
   ]
  },
  {
   "cell_type": "code",
   "execution_count": null,
   "id": "e673623d-0582-4668-8aee-843055a30ab1",
   "metadata": {},
   "outputs": [],
   "source": []
  }
 ],
 "metadata": {
  "kernelspec": {
   "display_name": "Python 3 (ipykernel)",
   "language": "python",
   "name": "python3"
  },
  "language_info": {
   "codemirror_mode": {
    "name": "ipython",
    "version": 3
   },
   "file_extension": ".py",
   "mimetype": "text/x-python",
   "name": "python",
   "nbconvert_exporter": "python",
   "pygments_lexer": "ipython3",
   "version": "3.10.10"
  }
 },
 "nbformat": 4,
 "nbformat_minor": 5
}
