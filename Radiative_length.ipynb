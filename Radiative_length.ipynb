{
 "cells": [
  {
   "cell_type": "code",
   "execution_count": 1,
   "id": "b7b4af75",
   "metadata": {},
   "outputs": [],
   "source": [
    "import numpy as np"
   ]
  },
  {
   "cell_type": "code",
   "execution_count": 7,
   "id": "9342559c",
   "metadata": {},
   "outputs": [],
   "source": [
    "hbar = 1.054*e-34#J*s\n",
    "me = 9.109e-31 #kg\n",
    "c = 299792458#m/s\n",
    "alpha = 0.007297\n",
    "#n_alpha is volume number density, N/V\n",
    "def Get_X(A,Z):\n",
    "    if Z<4:\n",
    "        return 1433*A/(Z*(Z+1)*(11.319-np.log(Z)))\n",
    "    else:\n",
    "        print(\"not right\")\n",
    "        return -1\n",
    "def Get_X_largeZ(A,Z,n_alpha):\n",
    "    return X_reverse = 4*(hbar/me/c)**2*Z*(Z+1)*alpha**3*nalpha*np.log10(183/(Z**(1/3)))"
   ]
  },
  {
   "cell_type": "code",
   "execution_count": 11,
   "id": "afd753ad",
   "metadata": {},
   "outputs": [
    {
     "name": "stdout",
     "output_type": "stream",
     "text": [
      "67.42988183397001\n",
      "89.90650911196\n"
     ]
    }
   ],
   "source": [
    "X_3He = Get_X(3,2)\n",
    "print(X_3He)\n",
    "X_4He = Get_X(4,2)\n",
    "print(X_4He)"
   ]
  },
  {
   "cell_type": "code",
   "execution_count": 12,
   "id": "09779abe",
   "metadata": {},
   "outputs": [
    {
     "name": "stdout",
     "output_type": "stream",
     "text": [
      "63.30064493329799\n",
      "126.60128986659598\n"
     ]
    }
   ],
   "source": [
    "X_1H = Get_X(1,1)\n",
    "print(X_1H)\n",
    "X_2H = Get_X(2,1)\n",
    "print(X_2H)"
   ]
  },
  {
   "cell_type": "code",
   "execution_count": 16,
   "id": "ef0c9d4c",
   "metadata": {},
   "outputs": [
    {
     "name": "stdout",
     "output_type": "stream",
     "text": [
      "0.0004494788\n",
      "0.00028349340901923683\n"
     ]
    }
   ],
   "source": [
    "H2_density=10*44.6e-6*1.0078\n",
    "print(H2_density)\n",
    "X=40/(63.42/H2_density)\n",
    "print(X)"
   ]
  },
  {
   "cell_type": "code",
   "execution_count": null,
   "id": "d1f7335b",
   "metadata": {},
   "outputs": [],
   "source": []
  }
 ],
 "metadata": {
  "kernelspec": {
   "display_name": "Python 3 (ipykernel)",
   "language": "python",
   "name": "python3"
  },
  "language_info": {
   "codemirror_mode": {
    "name": "ipython",
    "version": 3
   },
   "file_extension": ".py",
   "mimetype": "text/x-python",
   "name": "python",
   "nbconvert_exporter": "python",
   "pygments_lexer": "ipython3",
   "version": "3.10.10"
  }
 },
 "nbformat": 4,
 "nbformat_minor": 5
}
